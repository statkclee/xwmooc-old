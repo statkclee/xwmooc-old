{
 "metadata": {
  "name": "01-getdata.ipynb",
  "signature": "sha256:f0cc30e19426c715b4a92d18755cca19e36db896b10f7f86444a5a720f8e6856"
 },
 "nbformat": 3,
 "nbformat_minor": 0,
 "worksheets": [
  {
   "cells": [
    {
     "cell_type": "heading",
     "level": 2,
     "metadata": {
      "cell_tags": []
     },
     "source": [
      "\uae30\ud6c4 \ub370\uc774\ud130 \uc791\uc5c5"
     ]
    },
    {
     "cell_type": "markdown",
     "metadata": {
      "cell_tags": [
       "objectives"
      ]
     },
     "source": [
      "#### \ubaa9\ud45c\n",
      "\n",
      "*   \uac04\ub2e8\ud55c REST API\ub97c \ud65c\uc6a9\ud574\uc11c \ub370\uc774\ud130\uc14b\uc744 \ub2e4\uc6b4\ub85c\ub4dc\ud558\ub294 \ud30c\uc774\uc36c \ud504\ub85c\uadf8\ub7a8\uc744 \uc791\uc131\ud55c\ub2e4.\n",
      "*   CSV\uac00 \ubb34\uc5c7\uc778\uc9c0 \uc124\uba85\ud558\uace0 CSV \ub370\uc774\ud130\uc14b\uc744 \uc77d\ub294\ub2e4."
     ]
    },
    {
     "cell_type": "heading",
     "level": 3,
     "metadata": {
      "cell_tags": []
     },
     "source": [
      "1 \ub2e8\uacc4: \ub370\uc774\ud130 \ucc3e\uae30"
     ]
    },
    {
     "cell_type": "markdown",
     "metadata": {
      "cell_tags": []
     },
     "source": [
      "\uc810\uc810 \ub354 \ub9ce\uc740 \uc870\uc9c1\uc5d0\uc11c [REST](../../gloss.html#rest)(REpresentational State Transfer)\ub85c \ubd88\ub9ac\ub294 \ud615\uc2dd\uc73c\ub85c \uc6f9\uc0c1\uc5d0 \ub370\uc774\ud130\uc14b\uc744 \uacf5\uac1c\ud55c\ub2e4. REST\uc758 \uc0c1\uc138\ud55c \uc0ac\ud56d(\uadf8\ub9ac\uace0 \uc0ac\ud56d)\uc774 \uc911\uc694\ud55c \uac83\uc740 \uc544\ub2c8\ub2e4; \uc911\uc694\ud558\ub294 \uac83\uc740 REST\uac00 \uc5b8\uc81c \uc0ac\uc6a9\ub418\uace0, \ubaa8\ub4e0 \ub370\uc774\ud130\uc14b\uc774 URL\ub85c \uc2dd\ubcc4\ub41c\ub2e4\ub294 \uac83\uc774\ub2e4.\n",
      "\n",
      "\uc608\uc81c\ub85c \uc138\uacc4\uc740\ud589 [\uae30\ud6c4 \ub370\uc774\ud130 API(Climate Data API)](http://data.worldbank.org/developers/climate-data-api)\ub85c \uc81c\uacf5\ub418\ub294 15\uac1c \uc9c0\uad6c\uc21c\ud658\ubaa8\ub378\ub85c \uc0dd\uc131\ub418\ub294 \ub370\uc774\ud130\ub97c \uc0ac\uc6a9\ud55c\ub2e4. API \ud648\ud398\uc774\uc9c0\uc5d0 \ub530\ub974\uba74, \ub2e4\uc591\ud55c \uac12\uc5d0 \ub300\ud55c \uc5f0\ud3c9\uade0\uce58\ub97c \ub2f4\uace0 \uc788\ub294 \ub370\uc774\ud130\uc14b\uc740 URL \ud615\ud0dc\ub85c \uc2dd\ubcc4\ub41c\ub2e4.\n",
      "\n",
      "<pre>\n",
      "http://climatedataapi.worldbank.org/climateweb/rest/v1/country/cru/<em><strong>var</strong></em>/year/<em><strong>iso3</strong></em>.<em><strong>ext</strong></em>\n",
      "</pre>\n",
      "\n",
      "\uac01 \uc694\uc18c\ub294 \ub2e4\uc74c\uacfc \uac19\ub2e4.:\n",
      "\n",
      "*   <em><strong>var</strong></em>\ub294 `pr` (\uac15\uc218\ub7c9) \ud639\uc740 `tas` (\"\uc9c0\ud45c\uba74 \uc628\ub3c4\")\ub2e4;\n",
      "*   <em><strong>iso3</strong></em> \uad6d\uc81c\ud45c\uc900\uae30\uad6c(International Standards Organization, ISO)\uac00 \uc815\ud55c [\uad6d\uac00\ubcc4 3-\ubb38\uc790 \ucf54\ub4dc](http://en.wikipedia.org/wiki/ISO_3166-1_alpha-3)\ub2e4. \uc608\ub97c \ub4e4\uc5b4 \"CAN\"\uc740 \uce90\ub098\ub2e4, \"BRA\"\ub294 \ube0c\ub77c\uc9c8\uc774\ub2e4.\n",
      "*   <em><strong>ext</strong></em> (\ud655\uc7a5 \"extension\" \uc904\uc784\ub9d0)\uc740 \ub2e4\uc6b4\ub85c\ub4dc\ubc1b\uc744 \ub370\uc774\ud130 \ud615\uc2dd\uc744 \uc9c0\uc815\ud55c\ub2e4. \ud615\uc2dd\uc5d0 \ub300\ud55c \uba87\uac00\uc9c0 \uc120\ud0dd\uc9c0\uac00 \uc788\uc9c0\ub9cc, \n",
      "    \uac00\uc7a5 \uac04\ub2e8\ud55c \uac83\uc774 [CSV(comma-separated values,\ucf64\ub9c8\uad6c\ubd84\uac12)](../../gloss.html#csv)\ub85c, \uac01 \ub808\ucf54\ub4dc\ub294 \ud589\uc774\uace0, \uac01 \ud589 \uac12\uc740 \ucf64\ub9c8\ub85c \uad6c\ubd84\ub41c\ub2e4.\n",
      "    (CSV\ub294 \uc2a4\ud504\ub808\ub4dc\uc26c\ud2b8 \ub370\uc774\ud130\uc5d0 \uc790\uc8fc \uc0ac\uc6a9\ub41c\ub2e4.)\n",
      "\n",
      "\uc608\ub97c \ub4e4\uc5b4, \uce90\ub098\ub2e4 \uc5f0\ud3c9\uade0\uae30\uc628\uc744 CSV \ud30c\uc77c\ud615\uc2dd\uc73c\ub85c \uc6d0\ud55c\ub2e4\uba74, URL\uc740 \ub2e4\uc74c\uacfc \uac19\ub2e4:\n",
      "\n",
      "<pre>\n",
      "http://climatedataapi.worldbank.org/climateweb/rest/v1/country/cru/tas/year/CAN.csv\n",
      "</pre>\n",
      "\n",
      "\uc0c1\uae30 URL\uc744 \uc6f9\ube0c\ub77c\uc6b0\uc838\uc5d0 \ubd99\uc5ec\ub123\uace0 \uc5d4\ud130\ub97c \uce58\uba74, \ub2e4\uc74c\uc774 \ud654\uba74\uc5d0 \ucd9c\ub825\ub41c\ub2e4.\n",
      "\n",
      "~~~\n",
      "year,data\n",
      "1901,-7.67241907119751\n",
      "1902,-7.862711429595947\n",
      "1903,-7.910782814025879\n",
      "...\n",
      "2007,-6.819293975830078\n",
      "2008,-7.2008957862854\n",
      "2009,-6.997011661529541\n",
      "~~~\n",
      "\n",
      "> #### \ubb34\ub300 \ub4a4\uc5d0\uc11c(Behind the Scenes)\n",
      ">\n",
      "> \uc0c1\uae30 \ud2b9\uc815 \ub370\uc774\ud130\uc14b\uc740 \uc11c\ubc84\uc5d0 \ud30c\uc77c\ud615\ud0dc\ub85c \uc800\uc7a5\ub420 \uc218\ub3c4 \uc788\uace0, \uc11c\ubc84\uac00 \ub2e4\uc74c\uc744 \uc218\ud589\ud560 \uc218\ub3c4 \uc788\ub2e4:\n",
      ">\n",
      "> 1.  \uc0ac\uc6a9\uc790\uac00 \uc785\ub825\ud55c URL\uc744 \ubc1b\ub294\ub2e4.\n",
      "> 2.  URL\uc744 \uc870\uac01\uc73c\ub85c \ub098\ub208\ub2e4.\n",
      "> 3.  3\uac1c \ud575\uc2ec \ud544\ub4dc\ub97c \ucd94\ucd9c\ud55c\ub2e4.(\ubcc0\uc218(var), iso3(\uad6d\uac00\ucf54\ub4dc), ext(\ud30c\uc77c\ud615\uc2dd)).\n",
      "> 4.  \ub370\uc774\ud130\ubca0\uc774\uc2a4\uc5d0\uc11c \uc694\uccad \ub370\uc774\ud130\ub97c \uac00\uc838\uc628\ub2e4.\n",
      "> 5.  \ub370\uc774\ud130\ub97c CSV \ud615\uc2dd\uc73c\ub85c \uc800\uc7a5\ud55c\ub2e4.\n",
      "> 6.  \uc791\uc5c5\uacb0\uacfc\ub97c \uc6f9\ube0c\ub77c\uc6b0\uc838\uc5d0 \uc804\uc1a1\ud55c\ub2e4.\n",
      "> \n",
      "> \uc138\uacc4\uc740\ud589(World Bank)\uc774 URL\uc744 \ubcc0\uacbd\ud558\uc9c0 \uc54a\ub294\ub2e4\uba74, \ud504\ub85c\uadf8\ub7a8\uc744 \ubcc0\uacbd\ud558\uc9c0 \uc54a\uace0 \uc6d0\ud558\ub294 \ub370\uc774\ud130\ub97c \uc870\uac74\ub9cc \ubcc0\uacbd\ud558\uc5ec \ub2e4\uc6b4\ub85c\ub4dc\ud560 \uc218 \uc788\ub2e4."
     ]
    },
    {
     "cell_type": "markdown",
     "metadata": {
      "cell_tags": [
       "challenges"
      ]
     },
     "source": [
      "#### \ub3c4\uc804 \uacfc\uc81c\n",
      "\n",
      "1.  \uae30\ud6c4\uc790\ub8ccAPI(Climate Data API)\uc5d0 \ub300\ud55c [\ubb38\uc11c(documentation)](http://data.worldbank.org/developers/climate-data-api)\ub97c \uc77d\uace0\ub098\uc11c, \n",
      "    1980\ub144\uc5d0\uc11c 1999\ub144\uae4c\uc9c0 \uc544\ud504\uce74\ub2c8\uc2a4\ud0c4(Afghanistan) \ud3c9\uade0\uc628\ub3c4\ub97c \uac80\uc0c9\ud558\ub294 URL\uc744 \uc791\uc131\ud558\uc138\uc694."
     ]
    },
    {
     "cell_type": "heading",
     "level": 3,
     "metadata": {},
     "source": [
      "2 \ub2e8\uacc4: \ub370\uc774\ud130 \uac00\uc838\uc624\uae30"
     ]
    },
    {
     "cell_type": "markdown",
     "metadata": {},
     "source": [
      "\ub9cc\uc57d 2\uac1c \ud639\uc740 3\uac1c \uad6d\uac00\uc5d0 \ub300\ud55c \ub370\uc774\ud130\ub9cc \uc0b4\ud3b4\ubcf8\ub2e4\uba74, \ud558\ub098\uc529 \ud30c\uc77c\uc744 \ub2e4\uc6b4\ub85c\ub4dc\ud558\uae30\ub9cc \ud558\uba74 \ub41c\ub2e4. \ud558\uc9c0\ub9cc, \ub2e4\ub978 \ub9ce\uc740 \ub098\ub77c\uc5d0 \ub370\uc774\ud130\ub97c \ube44\uad50\ud558\uace0\uc790 \ud55c\ub2e4\uba74 \ud504\ub85c\uadf8\ub7a8\uc744 \uc791\uc131\ud574\uc57c \ud55c\ub2e4.\n",
      "\n",
      "\ud30c\uc774\uc36c\uc5d0\ub294 URL \uc791\uc5c5\uc744 \uc704\ud55c `urllib2` \ub77c\uc774\ube0c\ub7ec\ub9ac\uac00 \uc788\uc9c0\ub9cc, \uc0ac\uc6a9\ud558\uae30\uac00 \uc880 \ud22c\ubc15\ud558\ub2e4. \n",
      "\uadf8\ub798\uc11c \ub9ce\uc740 \uc0ac\ub78c\ub4e4\uc740 [Requests](http://docs.python-requests.org/en/latest/)\ub77c\ub294 \uc368\ub4dc\ud30c\ud2f0 \ub77c\uc774\ube0c\ub7ec\ub9ac\ub97c \uc120\ud638\ud55c\ub2e4.\n",
      "\uc124\uce58\ud558\uae30 \uc704\ud574\uc11c \ub2e4\uc74c \uba85\ub839\uc5b4\ub97c \uc2e4\ud589\ud55c\ub2e4."
     ]
    },
    {
     "cell_type": "code",
     "collapsed": false,
     "input": [
      "!pip install requests"
     ],
     "language": "python",
     "metadata": {},
     "outputs": [
      {
       "output_type": "stream",
       "stream": "stdout",
       "text": [
        "Requirement already satisfied (use --upgrade to upgrade): requests in c:\\python\\user\\lib\\site-packages\n",
        "Cleaning up...\n"
       ]
      }
     ],
     "prompt_number": 1
    },
    {
     "cell_type": "markdown",
     "metadata": {},
     "source": [
      "(\uc774\ubbf8 \uc124\uce58\ub97c \ud588\uae30 \ub54c\ubb38\uc5d0 \uc0c1\uae30 \uba54\uc2dc\uc9c0\uac00 \ub098\uc628\ub2e4; \ub9cc\uc57d \uc124\uce58\ud558\uc9c0 \uc54a\uc558\ub2e4\uba74, \ub2e4\ub978 \uba54\uc2dc\uc9c0\uac00 \ub098\uc62c \uac83\uc774\ub2e4.) \n",
      "\uc774\uc81c \ub2e4\uc74c\uacfc \uac19\uc774 \ub370\uc774\ud130\ub97c \ubd88\ub7ec\uc62c \uc218 \uc788\ub2e4."
     ]
    },
    {
     "cell_type": "code",
     "collapsed": false,
     "input": [
      "import requests\n",
      "url = 'http://climatedataapi.worldbank.org/climateweb/rest/v1/country/cru/tas/year/CAN.csv'\n",
      "response = requests.get(url)\n",
      "if response.status_code != 200:\n",
      "    print 'Failed to get data:', response.status_code\n",
      "else:\n",
      "    print 'First 100 characters of data are'\n",
      "    print response.text[:100]"
     ],
     "language": "python",
     "metadata": {},
     "outputs": [
      {
       "output_type": "stream",
       "stream": "stdout",
       "text": [
        "First 100 characters of data are\n",
        "year,data\n",
        "1901,-7.67241907119751\n",
        "1902,-7.862711429595947\n",
        "1903,-7.910782814025879\n",
        "1904,-8.15572929382\n"
       ]
      }
     ],
     "prompt_number": 2
    },
    {
     "cell_type": "markdown",
     "metadata": {},
     "source": [
      "\ud504\ub85c\uadf8\ub7a8 \uccab\ubc88\uc9f8 \ud589\uc740 `requests` \ub77c\uc774\ube0c\ub7ec\ub9ac\ub97c \uac00\uc838\uc628\ub2e4. \n",
      "\ub450\ubc88\uc9f8 \ud589\uc740 \uac00\uc838\uc62c \ub370\uc774\ud130 URL\uc744 \uc815\uc758\ud55c\ub2e4; \n",
      "\uc138\ubc88\uc9f8 \ud589\uc5d0 `requests.get` \ud638\ucd9c\uc5d0 \uc778\uc790\ub85c URL\uc744 \ub118\uae38 \uc218\ub3c4 \uc788\uc9c0\ub9cc, \ubcc0\uc218\ub85c \ub300\uc785\ud558\ub294 \uac83\uc774 \ucc3e\uae30\uac00 \ub354 \uc27d\ub2e4.\n",
      "\n",
      "\uc0ac\uc2e4 `requests.get`\uc774 \ub370\uc774\ud130\ub97c \uac00\uc838\uc628\ub2e4. \uc880\ub354 \uad6c\uccb4\uc801\uc73c\ub85c \uc0b4\ud3b4\ubcf4\uba74:\n",
      "\n",
      "1.  `climatedataapi.worldbank.org` \uc11c\ubc84\uc5d0 \uc5f0\uacb0\uc744 \uc0dd\uc131\ud55c\ub2e4;\n",
      "2.  \uc11c\ubc84\uc5d0 URL\ub85c `/climateweb/rest/v1/country/cru/tas/year/CAN.csv`\uc744 \uc804\uc1a1\ud55c\ub2e4;\n",
      "3.  \uc11c\ubc84 \uc751\ub2f5\uacb0\uacfc\ub97c \ub2f4\uae30 \uc704\ud574\uc11c \uc0ac\uc6a9\uc790 \ucef4\ud4e8\ud130 \uba54\ubaa8\ub9ac\uc5d0 \uac1d\uccb4\ub97c \uc0dd\uc131\ud55c\ub2e4;\n",
      "4.  \uc694\uccad\uacb0\uacfc\uac00 \uc131\uacf5\ud588\ub294\uc9c0 \uc544\ub2cc\uc9c0\ub97c \uc2dd\ubcc4\ud558\uae30 \uc704\ud574\uc11c \uac1d\uccb4\uc758 `status_code` \uba64\ubc84 \ubcc0\uc218\uc5d0 \uc22b\uc790\ub97c \ud560\ub2f9\ud55c\ub2e4.\n",
      "5.  \uc6f9\uc11c\ubc84\uc5d0\uc11c \uc804\uc1a1\ubc1b\uc740 \ub370\uc774\ud130\ub97c \uac1d\uccb4 `text` \uba64\ubc84 \ubcc0\uc218\uc5d0 \ud560\ub2f9\ud55c\ub2e4.\n",
      "\n",
      "\uc11c\ubc84\ub294 \ub2e4\ub978 \ub9ce\uc740 [\uc0c1\ud0dc \ucf54\ub4dc(status codes)](../../gloss.html#http-status-code)\ub97c \ubc18\ud658\ud560 \uc218 \uc788\ub2e4;\n",
      "\uac00\uc7a5 \uc77c\ubc18\uc801\uc778 \uac83\uc740 \ub2e4\uc74c\uacfc \uac19\ub2e4:\n",
      "\n",
      "<table>\n",
      "  <tr><td>200</td><td>\uc131\uacf5(OK)</td><td>\uc694\uccad \uc131\uacf5.</td></tr>\n",
      "  <tr><td>204</td><td>\ucf58\ud150\uce20 \uc5c6\uc74c(No Content)</td><td>\uc11c\ubc84\uac00 \uc694\uccad\uc744 \uc218\ud589\ud588\uc9c0\ub9cc, \uc5b4\ub5a4 \ub370\uc774\ud130\ub3c4 \ubc18\ud658\ud560 \ud544\uc694\uac00 \uc5c6\ub2e4.</td></tr>\n",
      "  <tr><td>400</td><td>\uc798\ubabb\ub41c \uc694\uccad(Bad Request)</td><td>\uc11c\ubc84\uac00 \uc694\uccad\uc758 \uad6c\ubb38\uc744 \uc778\uc2dd\ud558\uc9c0 \ubabb\ud588\ub2e4.</td></tr>\n",
      "  <tr><td>401</td><td>\uad8c\ud55c\uc5c6\uc74c(Unauthorized)</td><td>\uc774 \uc694\uccad\uc740 \uc778\uc99d\uc774 \ud544\uc694\ud558\ub2e4.</td></tr>\n",
      "  <tr><td>404</td><td>\ucc3e\uc744 \uc218 \uc5c6\uc74c(Not Found)</td><td>\uc11c\ubc84\uac00 \uc694\uccad\ud55c \ud398\uc774\uc9c0\ub97c \ucc3e\uc744 \uc218 \uc5c6\ub2e4.</td></tr>\n",
      "  <tr><td>408</td><td>\uc694\uccad \uc2dc\uac04\ucd08\uacfc(Timeout)</td><td>\uc11c\ubc84\uc758 \uc694\uccad \ub300\uae30\uac00 \uc2dc\uac04\uc744 \ucd08\uacfc\ud558\uc600\ub2e4.</td></tr>\n",
      "  <tr><td>418</td><td>I'm a teapot</td><td>No, really...</td></tr>\n",
      "  <tr><td>500</td><td>\ub0b4\ubd80 \uc11c\ubc84 \uc624\ub958(Internal Server Error)</td><td>\uc11c\ubc84\uc5d0 \uc624\ub958\uac00 \ubc1c\uc0dd\ud558\uc5ec \uc694\uccad\uc744 \uc218\ud589\ud560 \uc218 \uc5c6\ub2e4.</td></tr>\n",
      "</table>\n",
      "\n",
      "\uc0c1\uae30 \uc0c1\ud0dc\ucf54\ub4dc \uc911\uc5d0\uc11c \uc815\ub9d0 \uc2e0\uacbd\uc4f8 \uac83\uc740 \ub2e8\ud558\ub098 200\ub2e4; \ub9cc\uc57d \ub2e4\ub978 \uac83\uc744 \ubcf4\uac8c \ub41c\ub2e4\uba74, \uc751\ub2f5\uc740 \uc544\ub9c8\ub3c4 \uc2e4\uc81c \ub370\uc774\ud130\ub97c \ud3ec\ud568\ud558\uace0 \uc788\uc9c0 \uc54a\ub294\ub2e4.\n",
      "(\uc624\ub958 \uba54\uc2dc\uc9c0\ub97c \ud3ec\ud568\ud560 \uc218\ub3c4 \uc788\uc9c0\ub9cc)\n",
      "\n",
      "> #### \uba87\uba87 \uc0ac\ub78c\ub4e4\uc740 \uaddc\uce59\uc744 \uc9c0\ud0a4\uc9c0 \uc54a\ub294\ub2e4.\n",
      ">\n",
      "> \ubd88\ud589\ud558\uac8c\ub3c4, \uba87\uba87 \uc0ac\uc774\ud2b8\ub294 \uc720\uc758\ubbf8\ud55c \uc0c1\ud0dc\ucf54\ub4dc\ub97c \ubc18\ud658\ud558\uc9c0 \uc54a\ub294\ub2e4. \ub300\uc2e0\uc5d0 *\ubaa8\ub450* 200\ub97c \ubc18\ud658\ud558\uace0, \uc751\ub2f5 \ud14d\uc2a4\ud2b8\uc5d0 \uc624\ub958 \uba54\uc2dc\uc9c0\ub97c \ub123\ub294\ub2e4.\n",
      "> \uacb0\uacfc\uac00 \uc0ac\ub78c\uc5d0\uac8c \ubcf4\uc5ec\uc9c4\ub2e4\uba74 \uc758\ubbf8\uac00 \uc788\uc9c0\ub9cc, \uc2e4\uc9c8\uc801\uc73c\ub85c \uc77d\uc744 \uc218 \uc5c6\ub294 \ud504\ub85c\uadf8\ub7a8\uc774 \"\uc77d\uac8c\"\ub41c\ub2e4\uba74 \ud504\ub85c\uadf8\ub7a8\uc774 \uc911\ub2e8\ub41c\ub2e4."
     ]
    },
    {
     "cell_type": "markdown",
     "metadata": {
      "cell_tags": [
       "challenges"
      ]
     },
     "source": [
      "#### \ub3c4\uc804 \uacfc\uc81c\n",
      "\n",
      "1.  \uc0c1\uae30 \ud504\ub85c\uadf8\ub7a8 URL\uc744 \ubcc0\uacbd\ud574\uc11c, \uc874\uc7ac\ud558\uc9c0 \uc54a\ub294 \uad6d\uac00\ucf54\ub4dc\ub97c \ub370\uc774\ud130\ub85c \uc804\ub2ec\ud574\uc11c \uc0c1\ud0dc\ucf54\ub4dc\uac00 \uc5b4\ub5bb\uac8c \ub418\ub294\uc9c0 \uc0b4\ud3b4\ubcf4\uc138\uc694."
     ]
    },
    {
     "cell_type": "heading",
     "level": 3,
     "metadata": {},
     "source": [
      "3 \ub2e8\uacc4: \ub370\uc774\ud130 \ud30c\uc2f1"
     ]
    },
    {
     "cell_type": "markdown",
     "metadata": {},
     "source": [
      "\uc55e\uc5d0\uc11c \uc791\uc131\ud55c \uc791\uc740 \ud504\ub85c\uadf8\ub7a8\uc774 \uc6d0\ud558\ub294 \ub370\uc774\ud130\ub97c \ubb3c\uc5b4\ub2e4\uc900\ub2e4. \ud558\uc9c0\ub9cc, \uc22b\uc790 \ub9ac\uc2a4\ud2b8\ubcf4\ub2e4\ub294 \ud55c\uc904 \uae34 \ubb38\uc790\uc5f4\ub85c \ubc18\ud658\ud55c\ub2e4.\n",
      "\uae34 \ubb38\uc790\uc5f4\uc744 \uc22b\uc790 \ub9ac\uc2a4\ud2b8\ub85c \ubcc0\ud658\ud558\ub294 \ubc29\ubc95\uc774 \ub450\uac00\uc9c0 \uc788\ub2e4.\n",
      "\n",
      "1.  \ud568\uc218\ub97c \uc791\uc131\ud574\uc11c \uac1c\ud589\ubb38\uc790\ub85c \ubb38\uc790\uc5f4\uc744 \ucabc\uac1c\uc11c \ud589\uc744 \uc0dd\uc131\ud558\uace0 \ub098\uc11c, \ucf64\ub9c8\ub85c \ud589\uc744 \ub2e4\uc2dc \ucabc\uac1c\uace0 \ub098\uc11c, \ub9c8\uc9c0\ub9c9\uc73c\ub85c \n",
      "    \ucf64\ub9c8\ub85c \uad6c\ubd84\ub41c \uac01 \ubd80\ubd84\uc744 \uc22b\uc790\ub85c \ubcc0\ud658\ud55c\ub2e4.\n",
      "2.  \uc0ac\uc6a9\uc790\ub97c \uc704\ud574\uc11c \uc0c1\uae30 \uc791\uc5c5\uc744 \ud574\uc8fc\ub294 \ud30c\uc774\uc36c \ub77c\uc774\ube0c\ub7ec\ub9ac\ub97c \uc0ac\uc6a9\ud55c\ub2e4.\n",
      "\n",
      "\ub300\ubd80\ubd84 \uacbd\ud5d8 \ub9ce\uc740 \ud504\ub85c\uadf8\ub798\uba38\ub294 \ub450\ubc88\uc9f8 \uc811\uadfc\ubc95\uc774 \ub354 \uc27d\ub2e4\uace0 \ub9d0\ud558\uc9c0\ub9cc, \"\uc27d\ub2e4\"\ub294 \uac83\uc740 \uc0c1\ub300\uc801\uc774\ub2e4: \n",
      "\ub9cc\uc57d \ub77c\uc774\ube0c\ub7ec\ub9ac\uac00 \uc874\uc7ac\ud55c\ub2e4\ub294 \uac83\uc744 \uc778\uc9c0\ud558\uace0, \ucda9\ubd84\ud788 \uc54c\uace0 \uc788\uc5b4\uc11c, \ub77c\uc774\ube0c\ub7ec\ub9ac\uac00 \uc218\ud589\ud558\ub294 \uac83\uc73c\ub85c \ubb38\uc81c\ub97c \ud574\uacb0\ud558\ub294 \n",
      "\ubc29\uc2dd\uc744 \uc54c\uace0 \uc788\ub2e4\uba74, \ud45c\uc900 \ub77c\uc774\ube0c\ub7ec\ub9ac\ub97c \uc0ac\uc6a9\ud558\ub294 \uac83\uc774 \uc2e4\ubb34\uc5d0\uc11c \uc880\ub354 \ud6a8\uacfc\uc801\uc774 \ub41c\ub2e4.\n",
      "\n",
      "\ub450\uac00\uc9c0 \ubc29\uc2dd\uc744 \ud568\uaed8 \uc2dc\ub3c4\ud574 \ubcf4\uc790. \uccab\ubc88\uc9f8 \ubc29\uc2dd\uc73c\ub85c \uc791\uc131\ud558\ub294 \uc791\uc740 \ud504\ub85c\uadf8\ub7a8\uc774 \ub2e4\uc74c\uc5d0 \uc788\ub2e4."
     ]
    },
    {
     "cell_type": "code",
     "collapsed": false,
     "input": [
      "input_data = '''1901,12.3\n",
      "1902,45.6\n",
      "1903,78.9'''\n",
      "\n",
      "as_lines = input_data.split('\\n')\n",
      "print 'input data as lines:'\n",
      "print as_lines\n",
      "\n",
      "for line in as_lines:\n",
      "    fields = line.split(',') # turn '1901,12.3' into ['1901', '12.3']\n",
      "    year = int(fields[0])    # turn the text '1901' into the integer 1901\n",
      "    value = float(fields[1]) # turn the text '12.3' into the number 12.3\n",
      "    print year, ':', value"
     ],
     "language": "python",
     "metadata": {},
     "outputs": [
      {
       "output_type": "stream",
       "stream": "stdout",
       "text": [
        "input data as lines:\n",
        "['1901,12.3', '1902,45.6', '1903,78.9']\n",
        "1901 : 12.3\n",
        "1902 : 45.6\n",
        "1903 : 78.9\n"
       ]
      }
     ],
     "prompt_number": 3
    },
    {
     "cell_type": "markdown",
     "metadata": {},
     "source": [
      "\uc785\ub825 \ub370\uc774\ud130\ub85c \uc0ac\uc6a9\ub420 \ubb38\uc790\uc5f4\uc744 \uc815\uc758\ud558\uba74\uc11c \ud504\ub85c\uadf8\ub7a8\uc744 \uc2dc\uc791\ud55c\ub2e4. \uadf8\ub807\uac8c \ud568\uc73c\ub85c\uc11c \ucd9c\ub825\uacb0\uacfc\uc758 \uc815\ud569\uc131\uc744 \ub2f4\ubcf4\ud560 \uc218 \uc788\ub2e4.\n",
      "\uccab 3\uc904 \ucf54\ub4dc\ub294 \uac1c\ud589\ubb38\uc790(\ud504\ub85c\uadf8\ub7a8\uc5d0\uc11c `\\n`\uc744 \uc0ac\uc6a9)\ub85c \ucabc\uac1c\uc11c \ud55c \ub2e4\uc911\ud589 \ubb38\uc790\uc5f4\uc744 \ubb38\uc790\uc5f4 \ub9ac\uc2a4\ud2b8\ub85c \ubcc0\ud658\ud55c\ub2e4.\n",
      "\uadf8\ub9ac\uace0 \ub098\uc11c, `for` \ub8e8\ud504\uac00 \ucf64\ub9c8\ub85c \ud589\uc744 \ucabc\uac1c\uace0 \uc22b\uc790\ub85c \ubcc0\ud658\ud574\uc11c \uac01 \ud589\uc5d0\uc11c \uc5f0\ub3c4(year)\uc640 \uac12(value)\uc744 \ucd94\ucd9c\ud55c\ub2e4.\n",
      "\n",
      "> #### \uc774\uc2a4\ucf00\uc774\ud504 \uc2dc\ud000\uc2a4(Escape Sequences)\n",
      ">\n",
      "> \ubb38\uc790\uc5f4\uc5d0 \uc778\uc6a9\ubd80\ud638, \uc774\uc911 \uc778\uc6a9\ubd80\ud638, \uadf8\ub9ac\uace0 \ub2e4\ub978 \ud2b9\uc218 \ubb38\uc790\ub97c \ud45c\ud604\ud560 \ubc29\ubc95\uc774 \ud544\uc694\ud558\ub2e4.\n",
      "> \uc774\ub97c \uc704\ud574\uc11c [\uc774\uc2a4\ucf00\uc774\ud504 \uc2dc\ud000\uc2a4(escape sequences)](../../gloss.html#escape-sequence)\ub97c \uc0ac\uc6a9\ud55c\ub2e4.\n",
      "> `\\'`\ub294 \ub2e8\uc77c \uc778\uc6a9\ubd80\ud638,\n",
      "> `\\\"`\ub294 \uc774\uc911 \uc778\uc6a9\ubd80\ud638,\n",
      "> `\\n`\ub294 \uac1c\ud589\ubb38\uc790. \ub4f1\ub4f1\n",
      ">\n",
      "> ~~~\n",
      "> 'This can\\'t be\\nwritten without\\n\\\"escape sequences\\\".' \uc774 \uc758\ubbf8\ud558\ub294 \ubc14\ub294 \ub2e4\uc74c\uacfc \uac19\ub2e4.\n",
      "> ~~~\n",
      "> \ucd9c\ub825\uc740 \ub2e4\uc74c\uacfc \uac19\ub2e4.\n",
      "> ~~~\n",
      "> This can't be\n",
      "> written without\n",
      "> \"escape sequences\".\n",
      "> ~~~\n",
      "\n",
      "\uc774\uc81c \uba87\uba87 \ud45c\uc900 \ud30c\uc774\uc36c \ub77c\uc774\ube0c\ub7ec\ub9ac\ub97c \ud1b5\ud574\uc11c \ub370\uc774\ud130\ub97c \ud30c\uc2f1\ud558\ub294 \ubc29\ubc95\uc744 \uc0b4\ud3b4\ubcf4\uc790. \uccab\ubc88\uc9f8 \ub77c\uc774\ube0c\ub7ec\ub9ac(`cStringIO`)\ub294 \n",
      "\ubb38\uc790\uc5f4\uc744 \ub9c8\uce58 \uc785\ub825\ud30c\uc77c\ucc98\ub7fc \ucc98\ub9ac\ud55c\ub2e4."
     ]
    },
    {
     "cell_type": "code",
     "collapsed": false,
     "input": [
      "import cStringIO\n",
      "\n",
      "data = '''first\n",
      "second\n",
      "third'''\n",
      "\n",
      "reader = cStringIO.StringIO(data)\n",
      "for line in reader:\n",
      "    print line"
     ],
     "language": "python",
     "metadata": {},
     "outputs": [
      {
       "output_type": "stream",
       "stream": "stdout",
       "text": [
        "first\n",
        "\n",
        "second\n",
        "\n",
        "third\n"
       ]
      }
     ],
     "prompt_number": 4
    },
    {
     "cell_type": "markdown",
     "metadata": {},
     "source": [
      "`reader`\uc5d0 \ub300\uc785\ud558\ub294 `cStringIO.StringIO` \uac1d\uccb4\ub294 \ud30c\uc77c\ucc98\ub7fc \ub3d9\uc791\ud558\ub294 \uac1d\uccb4\ub2e4. \ud558\uc9c0\ub9cc \ud558\ub4dc \ub4dc\ub77c\uc774\ube0c\uc5d0\uc11c \ubb34\uc5b8\uac00\ub97c \uc77d\ub294 \ub300\uc2e0\uc5d0 \n",
      "\ubb38\uc790\uc5f4\ub85c\ubd80\ud130 \ubb38\uc790\ub97c \uc77d\uc5b4\uc628\ub2e4.\n",
      "\uc5f0\uc2b5\ubb38\uc81c\uc5d0\uc11c \ubcf4\ub4ef\uc774, `StringIO` \uac1d\uccb4\uc5d0 \uc4f8 \uc218\ub3c4 \uc788\uc5b4\uc11c, \ud504\ub85c\uadf8\ub7a8\uc744 \ud14c\uc2a4\ud2b8\ud560 \ub54c \ub9e4\uc6b0 \uc720\uc6a9\ud558\ub2e4.\n",
      "\n",
      "> ### \uc65c 'c' \uc77c\uae4c?\n",
      ">\n",
      "> `cStringIO` \ub9e8\ucc98\uc74c\uc758 'c'\ub294 C\uc5b8\uc5b4\ub85c \uc791\uc131\ub41c \ub2e4\uc18c \uc624\ub798\ub418\uace0 \uc18d\ub3c4\uac00 \ub2a6\uc740 `StringIO` \ub77c\uc774\ube0c\ub7ec\ub9ac\ub97c \n",
      "> \ub2e4\uc2dc \uc791\uc131\ud55c \uac83\uc5d0 \uae30\uc778\ud55c\ub2e4.\n",
      "\n",
      "\ub450\ubc88\uc7ac \ub77c\uc774\ube0c\ub7ec\ub9ac\ub85c `csv`\uc744 \uc0ac\uc6a9\ud55c\ub2e4.\n",
      "`csv` \ub77c\uc774\ube0c\ub7ec\ub9ac\ub294 \uadf8 \uc790\uccb4\ub85c \ub370\uc774\ud130\ub97c \uc77d\uc5b4\ub4e4\uc774\uc9c0 \uc54a\ub294\ub2e4: \ub300\uc2e0\uc5d0, \ubb34\uc5b8\uac00\ub85c \uc77d\uc5b4\uc628 \ud589\uc744 \ubc1b\uace0\uc11c,\n",
      "\ucf64\ub9c8\ub85c \ucabc\uac1c\uace0 \ub9ac\uc2a4\ud2b8 \uac12\uc73c\ub85c \ubcc0\ud658\ud55c\ub2e4."
     ]
    },
    {
     "cell_type": "code",
     "collapsed": false,
     "input": [
      "import csv\n",
      "\n",
      "data = '''first,FIRST\n",
      "second,SECOND\n",
      "third,THIRD'''\n",
      "reader = cStringIO.StringIO(data)\n",
      "wrapper = csv.reader(reader)\n",
      "for record in wrapper:\n",
      "    print record"
     ],
     "language": "python",
     "metadata": {},
     "outputs": [
      {
       "output_type": "stream",
       "stream": "stdout",
       "text": [
        "['first', 'FIRST']\n",
        "['second', 'SECOND']\n",
        "['third', 'THIRD']\n"
       ]
      }
     ],
     "prompt_number": 5
    },
    {
     "cell_type": "markdown",
     "metadata": {},
     "source": [
      "\uc9c0\uae08\uae4c\uc9c0 \uc791\uc5c5\ud55c \uac83\uc744 \uc870\ud569\ud558\uba74, \ub2e4\uc74c\uacfc \uac19\uc774 Canada\uc5d0 \ub300\ud55c \ub370\uc774\ud130\ub97c \uc5bb\uc744 \uc218 \uc788\ub2e4."
     ]
    },
    {
     "cell_type": "code",
     "collapsed": false,
     "input": [
      "url = 'http://climatedataapi.worldbank.org/climateweb/rest/v1/country/cru/tas/year/CAN.csv'\n",
      "response = requests.get(url)\n",
      "if response.status_code != 200:\n",
      "    print 'Failed to get data:', response.status_code\n",
      "else:\n",
      "    reader = cStringIO.StringIO(response.text)\n",
      "    wrapper = csv.reader(reader)\n",
      "    for record in wrapper:\n",
      "        year = int(record[0])\n",
      "        value = float(record[1])\n",
      "        print year, ':', value"
     ],
     "language": "python",
     "metadata": {},
     "outputs": [
      {
       "ename": "ValueError",
       "evalue": "invalid literal for int() with base 10: 'year'",
       "output_type": "pyerr",
       "traceback": [
        "\u001b[0;31m---------------------------------------------------------------------------\u001b[0m\n\u001b[0;31mValueError\u001b[0m                                Traceback (most recent call last)",
        "\u001b[0;32m<ipython-input-6-da21db395042>\u001b[0m in \u001b[0;36m<module>\u001b[0;34m()\u001b[0m\n\u001b[1;32m      7\u001b[0m     \u001b[0mwrapper\u001b[0m \u001b[0;34m=\u001b[0m \u001b[0mcsv\u001b[0m\u001b[0;34m.\u001b[0m\u001b[0mreader\u001b[0m\u001b[0;34m(\u001b[0m\u001b[0mreader\u001b[0m\u001b[0;34m)\u001b[0m\u001b[0;34m\u001b[0m\u001b[0m\n\u001b[1;32m      8\u001b[0m     \u001b[0;32mfor\u001b[0m \u001b[0mrecord\u001b[0m \u001b[0;32min\u001b[0m \u001b[0mwrapper\u001b[0m\u001b[0;34m:\u001b[0m\u001b[0;34m\u001b[0m\u001b[0m\n\u001b[0;32m----> 9\u001b[0;31m         \u001b[0myear\u001b[0m \u001b[0;34m=\u001b[0m \u001b[0mint\u001b[0m\u001b[0;34m(\u001b[0m\u001b[0mrecord\u001b[0m\u001b[0;34m[\u001b[0m\u001b[0;36m0\u001b[0m\u001b[0;34m]\u001b[0m\u001b[0;34m)\u001b[0m\u001b[0;34m\u001b[0m\u001b[0m\n\u001b[0m\u001b[1;32m     10\u001b[0m         \u001b[0mvalue\u001b[0m \u001b[0;34m=\u001b[0m \u001b[0mfloat\u001b[0m\u001b[0;34m(\u001b[0m\u001b[0mrecord\u001b[0m\u001b[0;34m[\u001b[0m\u001b[0;36m1\u001b[0m\u001b[0;34m]\u001b[0m\u001b[0;34m)\u001b[0m\u001b[0;34m\u001b[0m\u001b[0m\n\u001b[1;32m     11\u001b[0m         \u001b[0;32mprint\u001b[0m \u001b[0myear\u001b[0m\u001b[0;34m,\u001b[0m \u001b[0;34m':'\u001b[0m\u001b[0;34m,\u001b[0m \u001b[0mvalue\u001b[0m\u001b[0;34m\u001b[0m\u001b[0m\n",
        "\u001b[0;31mValueError\u001b[0m: invalid literal for int() with base 10: 'year'"
       ]
      }
     ],
     "prompt_number": 6
    },
    {
     "cell_type": "markdown",
     "metadata": {},
     "source": [
      "\ub370\uc774\ud130\uc758 \uccab\ubc88\uc9f8 \uc904 \ub54c\ubb38\uc5d0 \uc624\ub958\uac00 \ubc1c\uc0dd\ud588\ub2e4:\n",
      "\n",
      "~~~\n",
      "year,data\n",
      "~~~\n",
      "\n",
      "\ubb38\uc790\uc5f4 `'year'`\uc744 \uc815\uc218\ud615\uc73c\ub85c \ubcc0\ud658\ud560 \ub54c, \ud30c\uc774\uc36c\uc774 \ubc14\ub85c \ud56d\uc758\ud55c\ub2e4. \uc624\ub958\uc218\uc815\uc740 \ubcf5\uc7a1\ud558\uc9c0 \uc54a\ub2e4:\n",
      "\ub2e8\uc5b4 `year`\ub85c \uc2dc\uc791\ud558\ub294 \ud589\uc744 \ubb34\uc2dc\ud558\uace0 \ub118\uc5b4\uac04\ub2e4. \uadf8\ub9ac\uace0, \uacb0\uacfc\ub97c \uc5bb\uc5c8\uc744 \ub54c, \ud654\uba74\uc5d0 \ucd9c\ub825\ud558\ub294 \ub300\uc2e0\uc5d0\n",
      "\ub9ac\uc2a4\ud2b8\uc5d0 \uacb0\uacfc\ub97c \ub123\ub294\ub2e4."
     ]
    },
    {
     "cell_type": "code",
     "collapsed": false,
     "input": [
      "import requests\n",
      "import cStringIO\n",
      "import csv\n",
      "url = 'http://climatedataapi.worldbank.org/climateweb/rest/v1/country/cru/tas/year/CAN.csv'\n",
      "response = requests.get(url)\n",
      "if response.status_code != 200:\n",
      "    print 'Failed to get data:', response.status_code\n",
      "else:\n",
      "    reader = cStringIO.StringIO(response.text)\n",
      "    wrapper = csv.reader(reader)\n",
      "    results = []\n",
      "    for record in wrapper:\n",
      "        if record[0] != 'year':\n",
      "            year = int(record[0])\n",
      "            value = float(record[1])\n",
      "            results.append([year, value])\n",
      "    print 'first five results'\n",
      "    print results[:5]"
     ],
     "language": "python",
     "metadata": {},
     "outputs": [
      {
       "output_type": "stream",
       "stream": "stdout",
       "text": [
        "first five results\n",
        "[[1901, -7.67241907119751], [1902, -7.862711429595947], [1903, -7.910782814025879], [1904, -8.155729293823242], [1905, -7.547311305999756]]\n"
       ]
      }
     ],
     "prompt_number": 4
    },
    {
     "cell_type": "markdown",
     "metadata": {
      "cell_tags": [
       "challenges"
      ]
     },
     "source": [
      "#### \ub3c4\uc804\uacfc\uc81c\n",
      "\n",
      "1.  `StringIO`\ub97c \ucd9c\ub825\uc5d0\ub3c4 \uc0ac\uc6a9\ud560 \uc218 \uc788\ub2e4.\n",
      "    \uc774\uac83\uc744 \uc0ac\uc6a9\ud574\uc11c `print_count` \ud568\uc218\uac00 \uc62c\ubc14\ub85c \uc791\ub3d9\ud558\ub294 \ud14c\uc2a4\ud2b8 \ud568\uc218\ub97c \uc791\uc131\ud558\uc138\uc694.\n",
      "    ~~~\n",
      "    def print_count(output, num):\n",
      "        for i in range(num):\n",
      "            print >> output, num\n",
      "    ~~~"
     ]
    },
    {
     "cell_type": "heading",
     "level": 3,
     "metadata": {},
     "source": [
      "4 \ub2e8\uacc4: \uc7ac\uc0ac\uc6a9\uac00\ub2a5\ud55c \ud568\uc218 \uc791\uc131\ud558\uae30"
     ]
    },
    {
     "cell_type": "markdown",
     "metadata": {},
     "source": [
      "\uce90\ub098\ub2e4\uc5d0 \ub300\ud55c \ub370\uc774\ud130\ub97c \uc5bb\ub294 \ubc29\ubc95\uc744 \uc774\uc81c \uc54c\uac8c\ub418\uc5c8\uc73c\ub2c8, \uc784\uc758 \ub098\ub77c\uc5d0 \ub300\ud574\uc11c \ub3d9\uc77c\ud55c \uc791\uc5c5\uc744 \uc218\ud589\ud558\ub294 \ud568\uc218\ub97c \uc791\uc131\ud558\uc790.\n",
      "\ub2e8\uacc4\ub294 \ub2e8\uc21c\ud558\ub2e4: \uc791\uc131\ud55c \ucf54\ub4dc\ub97c \ubcf5\uc0ac\ud574\uc11c \ub9e4\uac1c\ubcc0\uc218\ub85c 3-\ubb38\uc790 \uad6d\uac00\ucf54\ub4dc\ub97c \ubc1b\uc544\uc11c \uc801\ub2f9\ud55c \uacf3\uc5d0 URL\uc5d0 \uad6d\uac00\ucf54\ub4dc\ub97c \uc0bd\uc785\ud558\ub294 \ud568\uc218\ub97c \uc791\uc131\ud55c\ub2e4."
     ]
    },
    {
     "cell_type": "code",
     "collapsed": false,
     "input": [
      "def get_annual_mean_temp_by_country(country):\n",
      "    '''Get the annual mean temperature for a country given its 3-letter ISO code (such as \"CAN\").'''\n",
      "    url = 'http://climatedataapi.worldbank.org/climateweb/rest/v1/country/cru/tas/year/' + country + '.csv'\n",
      "    response = requests.get(url)\n",
      "    if response.status_code != 200:\n",
      "        print 'Failed to get data:', response.status_code\n",
      "    else:\n",
      "        reader = cStringIO.StringIO(response.text)\n",
      "        wrapper = csv.reader(reader)\n",
      "        results = []\n",
      "        for record in wrapper:\n",
      "            if record[0] != 'year':\n",
      "                year = int(record[0])\n",
      "                value = float(record[1])\n",
      "                results.append([year, value])\n",
      "        return results"
     ],
     "language": "python",
     "metadata": {},
     "outputs": [],
     "prompt_number": 5
    },
    {
     "cell_type": "markdown",
     "metadata": {},
     "source": [
      "\ub2e4\uc74c\uacfc \uac19\uc774 \ub3d9\uc791\ud55c\ub2e4."
     ]
    },
    {
     "cell_type": "code",
     "collapsed": false,
     "input": [
      "canada = get_annual_mean_temp_by_country('CAN')\n",
      "print 'first five entries for Canada:', canada[:5]"
     ],
     "language": "python",
     "metadata": {},
     "outputs": [
      {
       "output_type": "stream",
       "stream": "stdout",
       "text": [
        "first five entries for Canada: [[1901, -7.67241907119751], [1902, -7.862711429595947], [1903, -7.910782814025879], [1904, -8.155729293823242], [1905, -7.547311305999756]]\n"
       ]
      }
     ],
     "prompt_number": 6
    },
    {
     "cell_type": "markdown",
     "metadata": {},
     "source": [
      "\ud558\uc9c0\ub9cc \ubb38\uc81c\uac00 \uc788\ub2e4. \n",
      "\uc720\ud6a8\ud558\uc9c0 \uc54a\ub294 \uad6d\uac00 \uc2dd\ubcc4\uc790\ub97c \ub9e4\uac1c\ubcc0\uc218\ub85c \uc804\ub2ec\ud560 \ub54c \ubb34\uc2a8\uc77c\uc774 \ubc1c\uc0dd\ud558\ub294\uc9c0 \uc0b4\ud3b4\ubcf4\uc790."
     ]
    },
    {
     "cell_type": "code",
     "collapsed": false,
     "input": [
      "latveria = get_annual_mean_temp_by_country('LTV')\n",
      "print 'first five entries for Latveria:', latveria[:5]"
     ],
     "language": "python",
     "metadata": {},
     "outputs": [
      {
       "output_type": "stream",
       "stream": "stdout",
       "text": [
        "first five entries for Latveria: []\n"
       ]
      }
     ],
     "prompt_number": 10
    },
    {
     "cell_type": "markdown",
     "metadata": {},
     "source": [
      "Latveria\ub294 \uc874\uc7ac\ud558\uc9c0 \uc54a\ub294\ub2e4. \uadf8\ub798\uc11c \uc65c \uc791\uc131\ud55c \ud568\uc218\ub294 \uc624\ub958 \uba54\uc2dc\uc9c0\ub97c \ucd9c\ub825\ud558\ub294 \ub300\uc2e0\uc5d0 \ube48 \ub9ac\uc2a4\ud2b8\ub97c \ubc18\ud658\ud560\uae4c?\n",
      "\uc624\ub958 \uba54\uc2dc\uc9c0\uac00 \uc5c6\ub2e4\ub294 \uc758\ubbf8\ub294 \uc751\ub2f5\ucf54\ub4dc\uac00 200\uc744 \uc758\ubbf8\ud55c\ub2e4: \ub9cc\uc57d \uadf8\ub807\ub2e4\uba74, `else` \ube0c\ub79c\uce58\ub85c \uac00\uc11c `result`\uc5d0\n",
      "\ube48 \ub9ac\uc2a4\ud2b8\ub97c \ub300\uc785\ud558\uace0 \uadf8\ub9ac\uace0... \ud760... \uc88b\uc544... \ub9cc\uc57d \uc751\ub2f5\ucf54\ub4dc\uac00 200 \uc774\uace0 \ub370\uc774\ud130\uac00 \uc5c6\ub2e4\uba74,\n",
      "\uadf8 \uc790\uccb4\uac00 \uc0ac\uc6a9\uc790\uac00 \ubcf4\ub294 \uac83\uc744 \uc124\uba85\ud55c\ub2e4.\n",
      "\n",
      "\n",
      "> #### \ud3b8\uc9d1(Editing) vs. \ubcf5\uc0ac(Copying)\n",
      ">\n",
      "> \uc2e4\uc81c \uc790\ub8cc\ubd84\uc11d\uc5d0\uc11c \uc0ac\uc6a9\ud558\ub824\uace0 \ud568\uc218\ub97c \uc791\uc131\ud558\uace0 \uc788\ub2e4\uba74, \n",
      "> \ub2e4\uc2dc \ub3cc\uc544\uac00\uc11c \uadf8 \uc704\uce58\uc5d0\uc11c \ubcc0\uacbd\ud55c\ub2e4. \n",
      "> \uc624\ub958 \ubc84\uc83c\uacfc \uc218\uc815\ubc84\uc83c\uc744 \ud568\uaed8 \ubcf4\uc5ec\uc8fc\uae30 \uc704\ud574\uc11c \ub300\uc2e0\uc5d0 \ud568\uc218\ub97c \ubcf5\uc0ac\ud588\ub2e4."
     ]
    },
    {
     "cell_type": "code",
     "collapsed": false,
     "input": [
      "def get_annual_mean_temp_by_country(country):\n",
      "    '''Get the annual mean temperature for a country given its 3-letter ISO code (such as \"CAN\").'''\n",
      "    url = 'http://climatedataapi.worldbank.org/climateweb/rest/v1/country/cru/tas/year/' + country + '.csv'\n",
      "    print 'url used is', url\n",
      "    response = requests.get(url)\n",
      "    print 'response code:', response.status_code\n",
      "    print 'length of data:', len(response.text)\n",
      "    if response.status_code != 200:\n",
      "        print 'Failed to get data:', response.status_code\n",
      "    else:\n",
      "        reader = cStringIO.StringIO(response.text)\n",
      "        wrapper = csv.reader(reader)\n",
      "        results = []\n",
      "        for record in wrapper:\n",
      "            if record[0] != 'year':\n",
      "                year = int(record[0])\n",
      "                value = float(record[1])\n",
      "                results.append([year, value])\n",
      "        return results\n",
      "\n",
      "latveria = get_annual_mean_temp_by_country('LTV')\n",
      "print 'number of records for Latveria:', len(latveria)"
     ],
     "language": "python",
     "metadata": {},
     "outputs": [
      {
       "output_type": "stream",
       "stream": "stdout",
       "text": [
        "url used is http://climatedataapi.worldbank.org/climateweb/rest/v1/country/cru/tas/year/LTV.csv\n",
        "response code:"
       ]
      },
      {
       "output_type": "stream",
       "stream": "stdout",
       "text": [
        " 200\n",
        "length of data: 0\n",
        "number of records for Latveria: 0\n"
       ]
      }
     ],
     "prompt_number": 7
    },
    {
     "cell_type": "markdown",
     "metadata": {},
     "source": [
      "\ud6cc\ub96d\ud574: \uc57d\uac04 \ub354 \uc2e4\ud5d8\ud55c \ud6c4\uc5d0, \uc138\uacc4\uc740\ud589 \uc0ac\uc774\ud2b8\ub294 *\ud56d\uc0c1* 200 \uc0c1\ud0dc \ucf54\ub4dc\ub97c \ubc18\ud658\ud558\ub294 \uac83\uc744 \ubc1c\uacac\ud588\ub2e4.\n",
      "\uc2e4\uc81c \ub370\uc774\ud130\uac00 \uc788\ub294\uc9c0 \uc5c6\ub294\uc9c0\ub97c \uc54c \uc218 \uc788\ub294 \uc720\uc77c\ud55c \ubc29\uc2dd\uc740 `response.text`\uac00 \ube44\uc5c8\ub294\uc9c0(empty) \uc810\uac80\ud558\ub294 \uac83\uc774\ub2e4.\n",
      "\ub2e4\uc74c\uc5d0 \uac31\uc2e0\ub41c \ud568\uc218\uac00 \uc788\ub2e4."
     ]
    },
    {
     "cell_type": "code",
     "collapsed": false,
     "input": [
      "def get_annual_mean_temp_by_country(country):\n",
      "    '''\n",
      "    Get the annual mean temperature for a country given its 3-letter ISO code (such as \"CAN\").\n",
      "    Returns an empty list if the country code is invalid.\n",
      "    '''\n",
      "    url = 'http://climatedataapi.worldbank.org/climateweb/rest/v1/country/cru/tas/year/' + country + '.csv'\n",
      "    response = requests.get(url)\n",
      "    results = []\n",
      "    if len(response.text) > 0:\n",
      "        reader = cStringIO.StringIO(response.text)\n",
      "        wrapper = csv.reader(reader)\n",
      "        for record in wrapper:\n",
      "            if record[0] != 'year':\n",
      "                year = int(record[0])\n",
      "                value = float(record[1])\n",
      "                results.append([year, value])\n",
      "    return results\n",
      "\n",
      "print 'number of records for Canada:', len(get_annual_mean_temp_by_country('CAN'))\n",
      "print 'number of records for Latveria:', len(get_annual_mean_temp_by_country('LTV'))"
     ],
     "language": "python",
     "metadata": {},
     "outputs": [
      {
       "output_type": "stream",
       "stream": "stdout",
       "text": [
        "number of records for Canada: "
       ]
      },
      {
       "output_type": "stream",
       "stream": "stdout",
       "text": [
        "112\n",
        "number of records for Latveria: "
       ]
      },
      {
       "output_type": "stream",
       "stream": "stdout",
       "text": [
        "0\n"
       ]
      }
     ],
     "prompt_number": 8
    },
    {
     "cell_type": "markdown",
     "metadata": {
      "cell_tags": [
       "challenges"
      ]
     },
     "source": [
      "#### \ub3c4\uc804 \uacfc\uc81c\n",
      "\n",
      "1.  \ub2e4\uc6b4\ub85c\ub4dc \ubc1b\uc744 \ub370\uc774\ud130\uac00 \uc5c6\uc744 \ub54c, \ud568\uc218\ub294 \uc624\ub958 \uba54\uc2dc\uc9c0\ub97c \ucd9c\ub825\ud574\uc57c\ud560\uae4c\uc694? \uc65c \ud639\uc740 \uc65c \uadf8\ub807\uc9c0 \uc54a\uc744\uae4c\uc694?"
     ]
    },
    {
     "cell_type": "heading",
     "level": 3,
     "metadata": {},
     "source": [
      "5 \ub2e8\uacc4: \uad6d\uac00 \ube44\uad50\ud558\uae30"
     ]
    },
    {
     "cell_type": "markdown",
     "metadata": {},
     "source": [
      "\ub2e4\ub978 \uad6d\uac00\uc5d0 \ub300\ud55c \uc9c0\uc0c1 \uae30\uc628\uc744 \uc5bb\uc744 \uc218 \uc788\uae30 \ub54c\ubb38\uc5d0, \uad6d\uac00 \uc628\ub3c4\ub97c \ube44\uad50\ud558\ub294 \ud568\uc218\ub97c \uc791\uc131\ud560 \uc218 \uc788\ub2e4.\n",
      "(\uc774\uc81c \uad81\uadf9\uc801\uc73c\ub85c \uc791\uc5c5\ud558\ub824\ub294 \uac83\uc5d0 \ub300\ud574 \uba85\ud655\ud574\uc84c\uae30 \ub54c\ubb38\uc5d0, \ubc14\ub85c \ud568\uc218\ub97c \uc791\uc131\ud55c\ub2e4.) \n",
      "\ub2e4\uc74c\uc5d0 \uc791\uc131\ud55c \uccab\ubc88\uc9f8 \ud568\uc218\uac00 \uc788\ub2e4."
     ]
    },
    {
     "cell_type": "code",
     "collapsed": false,
     "input": [
      "def diff_records(left, right):\n",
      "    '''Given lists of [year, value] pairs, return list of [year, difference] pairs.'''\n",
      "    num_years = len(left)\n",
      "    results = []\n",
      "    for i in range(num_years):\n",
      "        left_year, left_value = left[i]\n",
      "        right_year, right_value = right[i]\n",
      "        difference = left_value - right_value\n",
      "        results.append([left_year, difference])\n",
      "    return results"
     ],
     "language": "python",
     "metadata": {},
     "outputs": [],
     "prompt_number": 9
    },
    {
     "cell_type": "markdown",
     "metadata": {},
     "source": [
      "\uc5ec\uae30\uc11c \ub8e8\ud504 \uc81c\uc5b4\ub97c \uc704\ud574\uc11c `left`\uc5d0 \ud56d\ubaa9 \uc22b\uc790\ub97c \uc0ac\uc6a9\ud55c\ub2e4. (\ud56d\ubaa9\uc22b\uc790\ub294 `len(left)`\ub85c \uc54c \uc218 \uc788\ub2e4.)\n",
      "\n",
      "\ub2e4\uc74c \ud45c\ud604\uc2dd\n",
      "\n",
      "~~~\n",
      "for i in range(num_years):\n",
      "~~~\n",
      "\n",
      "0\ubd80\ud130 `num_years-1`\uae4c\uc9c0 `i`\ub97c \uc2e4\ud589\ud55c\ub2e4. \uc815\ud655\ud558\uac8c `left` \uc778\ub371\uc2a4\uc640 \uc0c1\uc751\ud55c\ub2e4. \ub8e8\ud504 \ub0b4\ubd80\uc5d0\uc11c\n",
      "\ub9ac\uc2a4\ud2b8 \ud56d\ubaa9\uc5d0\uc11c \uc67c\ucabd, \uc624\ub978\ucabd \ub144\ub3c4\uc640 \uac12\uc744 \ud480\uc5b4\uc11c \ub144\ub3c4\uc640 \ucc28\uc774\uac12\uc744 `results`\uc5d0 \ucd94\uac00\ud55c\ub2e4.\n",
      "\uadf8\ub9ac\uace0 \ub9c8\uc9c0\ub9c9\uc5d0 \uacb0\uacfc\ub97c \ubc18\ud658\ud55c\ub2e4.\n",
      "\n",
      "\uc791\uc131\ud55c \ud568\uc218\uac00 \ub3d9\uc791\ud558\ub294\uc9c0 \uc0b4\ud3b4\ubcf4\uae30 \uc704\ud574\uc11c, \uba87\uac1c \ud14c\uc2a4\ud2b8 \ub370\uc774\ud130\ub97c \uc791\uc131\ud574\uc11c \uc2e4\ud589\ud55c\ub2e4."
     ]
    },
    {
     "cell_type": "code",
     "collapsed": false,
     "input": [
      "print 'one record:', diff_records([[1900, 1.0]],\n",
      "                                  [[1900, 2.0]])\n",
      "print 'two records:', diff_records([[1900, 1.0], [1901, 10.0]],\n",
      "                                   [[1900, 2.0], [1901, 20.0]])"
     ],
     "language": "python",
     "metadata": {},
     "outputs": [
      {
       "output_type": "stream",
       "stream": "stdout",
       "text": [
        "one record: [[1900, -1.0]]\n",
        "two records: [[1900, -1.0], [1901, -10.0]]\n"
       ]
      }
     ],
     "prompt_number": 14
    },
    {
     "cell_type": "markdown",
     "metadata": {},
     "source": [
      "\ub9e4\uc6b0 \uc88b\uc544 \ubcf4\uc778\ub2e4&mdash; \ud558\uc9c0\ub9cc, \ub2e4\uc74c \ud14c\uc2a4\ud2b8 \ucf00\uc774\uc2a4\ub294 \uc5b4\ub5a8\uae4c?"
     ]
    },
    {
     "cell_type": "code",
     "collapsed": false,
     "input": [
      "print 'mis-matched years:', diff_records([[1900, 1.0]],\n",
      "                                         [[1999, 2.0]])\n",
      "print 'left is shorter', diff_records([[1900, 1.0]],\n",
      "                                      [[1900, 10.0], [1901, 20.0]])\n",
      "print 'right is shorter', diff_records([[1900, 1.0], [1901, 2.0]],\n",
      "                                       [[1900, 10.0]])"
     ],
     "language": "python",
     "metadata": {},
     "outputs": [
      {
       "ename": "IndexError",
       "evalue": "list index out of range",
       "output_type": "pyerr",
       "traceback": [
        "\u001b[0;31m---------------------------------------------------------------------------\u001b[0m\n\u001b[0;31mIndexError\u001b[0m                                Traceback (most recent call last)",
        "\u001b[0;32m<ipython-input-15-7582f56db8bf>\u001b[0m in \u001b[0;36m<module>\u001b[0;34m()\u001b[0m\n\u001b[1;32m      4\u001b[0m                                       [[1900, 10.0], [1901, 20.0]])\n\u001b[1;32m      5\u001b[0m print 'right is shorter', diff_records([[1900, 1.0], [1901, 2.0]],\n\u001b[0;32m----> 6\u001b[0;31m                                        [[1900, 10.0]])\n\u001b[0m",
        "\u001b[0;32m<ipython-input-13-67464343fd99>\u001b[0m in \u001b[0;36mdiff_records\u001b[0;34m(left, right)\u001b[0m\n\u001b[1;32m      5\u001b[0m     \u001b[0;32mfor\u001b[0m \u001b[0mi\u001b[0m \u001b[0;32min\u001b[0m \u001b[0mrange\u001b[0m\u001b[0;34m(\u001b[0m\u001b[0mnum_years\u001b[0m\u001b[0;34m)\u001b[0m\u001b[0;34m:\u001b[0m\u001b[0;34m\u001b[0m\u001b[0m\n\u001b[1;32m      6\u001b[0m         \u001b[0mleft_year\u001b[0m\u001b[0;34m,\u001b[0m \u001b[0mleft_value\u001b[0m \u001b[0;34m=\u001b[0m \u001b[0mleft\u001b[0m\u001b[0;34m[\u001b[0m\u001b[0mi\u001b[0m\u001b[0;34m]\u001b[0m\u001b[0;34m\u001b[0m\u001b[0m\n\u001b[0;32m----> 7\u001b[0;31m         \u001b[0mright_year\u001b[0m\u001b[0;34m,\u001b[0m \u001b[0mright_value\u001b[0m \u001b[0;34m=\u001b[0m \u001b[0mright\u001b[0m\u001b[0;34m[\u001b[0m\u001b[0mi\u001b[0m\u001b[0;34m]\u001b[0m\u001b[0;34m\u001b[0m\u001b[0m\n\u001b[0m\u001b[1;32m      8\u001b[0m         \u001b[0mdifference\u001b[0m \u001b[0;34m=\u001b[0m \u001b[0mleft_value\u001b[0m \u001b[0;34m-\u001b[0m \u001b[0mright_value\u001b[0m\u001b[0;34m\u001b[0m\u001b[0m\n\u001b[1;32m      9\u001b[0m         \u001b[0mresults\u001b[0m\u001b[0;34m.\u001b[0m\u001b[0mappend\u001b[0m\u001b[0;34m(\u001b[0m\u001b[0;34m[\u001b[0m\u001b[0mleft_year\u001b[0m\u001b[0;34m,\u001b[0m \u001b[0mdifference\u001b[0m\u001b[0;34m]\u001b[0m\u001b[0;34m)\u001b[0m\u001b[0;34m\u001b[0m\u001b[0m\n",
        "\u001b[0;31mIndexError\u001b[0m: list index out of range"
       ]
      },
      {
       "output_type": "stream",
       "stream": "stdout",
       "text": [
        "mis-matched years: [[1900, -1.0]]\n",
        "left is shorter [[1900, -9.0]]\n",
        "right is shorter"
       ]
      }
     ],
     "prompt_number": 15
    },
    {
     "cell_type": "markdown",
     "metadata": {},
     "source": [
      "\uc124\uc0ac \ub144\ub3c4\uac00 \ub9e4\uce6d\ub418\uc9c0 \uc54a\uc9c0\ub9cc, \uccab\ubc88\uc9f8 \ud14c\uc2a4\ud2b8\ub294 \ub2f5\uc744 \uc81c\uc2dc\ud55c\ub2e4: \uacb0\uacfc\uac12\uc744 \uc5bb\uc5c8\uc9c0\ub9cc, \ubb34\uc758\ubbf8\ud558\ub2e4. \n",
      "\ub450\ubc88\uc9f8 \ud14c\uc2a4\ud2b8 \ucf00\uc774\uc2a4\ub294 \ubd80\ubd84\uc801\uc778 \uacb0\uacfc\ub97c \uc81c\uc2dc\ud55c\ub2e4. \uc774\ubc88\uc5d0\ub3c4 \ubb38\uc81c\uac00 \uc788\ub2e4\uace0 \ubcf4\uace0\ud558\uc9c0\ub294 \uc54a\ub294\ub2e4.\n",
      "\ud558\uc9c0\ub9cc, \uc138\ubc88\uc9f8\ub294 \ud504\ub85c\uadf8\ub7a8\uc774 \uc911\ub2e8\ub41c\ub2e4. \uc65c\ub0d0\ud558\uba74 \ub808\ucf54\ub4dc \uc22b\uc790\ub97c \uacb0\uc815\ud558\ub294\ub370 `left`\ub97c \uc0ac\uc6a9\ud558\uc9c0\ub9cc,\n",
      "`right`\ub294 \uadf8\ub9cc\ud07c\uc758 \uc22b\uc790\ub97c \uac00\uc9c0\uace0 \uc788\uc9c0 \uc54a\uae30 \ub54c\ubb38\uc774\ub2e4.\n",
      "\n",
      "\uccab \ub450 \ubb38\uc81c\ub294 \uc138\ubc88\uc9f8 \uac83\ubcf4\ub2e4 \uc0ac\uc2e4 \ub354 \ub098\uc058\ub2e4. \uc65c\ub0d0\ud558\uba74 \uccab \ub450 \ubb38\uc81c\uac00 \n",
      "[\uce68\ubb35\ud558\ub294 \uc2e4\ud328(silent failures)](../../gloss.html#silent-failure)\uc774\uae30 \ub54c\ubb38\uc774\ub2e4: \ud568\uc218\uac00\n",
      "\uc798\ubabb\ub41c \uac83\uc744 \uc218\ud589\ud558\uc9c0\ub9cc, \uc5b4\ub5a4 \ubc29\uc2dd\uc73c\ub85c\ub3c4 \ub098\ud0c0\ub0b4\uc9c0 \uc54a\ub294\ub2e4. \ubc84\uadf8\ub97c \uc218\uc815\ud574\ubcf4\uc790:"
     ]
    },
    {
     "cell_type": "code",
     "collapsed": false,
     "input": [
      "def diff_records(left, right):\n",
      "    '''\n",
      "    Given lists of [year, value] pairs, return list of [year, difference] pairs.\n",
      "    Fails if the inputs are not for exactly corresponding years.\n",
      "    '''\n",
      "    assert len(left) == len(right), \\\n",
      "           'Inputs have different lengths.'\n",
      "    num_years = len(left)\n",
      "    results = []\n",
      "    for i in range(num_years):\n",
      "        left_year, left_value = left[i]\n",
      "        right_year, right_value = right[i]\n",
      "        assert left_year == right_year, \\\n",
      "               'Record {0} is for different years: {1} vs {2}'.format(i, left_year, right_year)\n",
      "        difference = left_value - right_value\n",
      "        results.append([left_year, difference])\n",
      "    return results"
     ],
     "language": "python",
     "metadata": {},
     "outputs": [],
     "prompt_number": 10
    },
    {
     "cell_type": "markdown",
     "metadata": {},
     "source": [
      "\"\ucc29\ud55c\" \ud14c\uc2a4\ud2b8 \ucf00\uc774\uc2a4\ub294 \ud1b5\uacfc\ud588\ub098\uc694?"
     ]
    },
    {
     "cell_type": "code",
     "collapsed": false,
     "input": [
      "print 'one record:', diff_records([[1900, 1.0]],\n",
      "                                  [[1900, 2.0]])\n",
      "print 'two records:', diff_records([[1900, 1.0], [1901, 10.0]],\n",
      "                                   [[1900, 2.0], [1901, 20.0]])"
     ],
     "language": "python",
     "metadata": {},
     "outputs": [
      {
       "output_type": "stream",
       "stream": "stdout",
       "text": [
        "one record: [[1900, -1.0]]\n",
        "two records: [[1900, -1.0], [1901, -10.0]]\n"
       ]
      }
     ],
     "prompt_number": 17
    },
    {
     "cell_type": "markdown",
     "metadata": {},
     "source": [
      "\uc774\uc81c \uc2e4\ud328\uac00 \uc608\uc0c1\ub418\ub294 \uc138\uac00\uc9c0 \ud14c\uc2a4\ud2b8 \ucf00\uc774\uc2a4\ub294 \uc5b4\ub5a4\uac00\uc694?"
     ]
    },
    {
     "cell_type": "code",
     "collapsed": false,
     "input": [
      "print 'mis-matched years:', diff_records([[1900, 1.0]],\n",
      "                                         [[1999, 2.0]])"
     ],
     "language": "python",
     "metadata": {},
     "outputs": [
      {
       "ename": "AssertionError",
       "evalue": "Record 0 is for different years: 1900 vs 1999",
       "output_type": "pyerr",
       "traceback": [
        "\u001b[0;31m---------------------------------------------------------------------------\u001b[0m\n\u001b[0;31mAssertionError\u001b[0m                            Traceback (most recent call last)",
        "\u001b[0;32m<ipython-input-18-c101917a748e>\u001b[0m in \u001b[0;36m<module>\u001b[0;34m()\u001b[0m\n\u001b[1;32m      1\u001b[0m print 'mis-matched years:', diff_records([[1900, 1.0]],\n\u001b[0;32m----> 2\u001b[0;31m                                          [[1999, 2.0]])\n\u001b[0m",
        "\u001b[0;32m<ipython-input-16-d41327791c15>\u001b[0m in \u001b[0;36mdiff_records\u001b[0;34m(left, right)\u001b[0m\n\u001b[1;32m     10\u001b[0m         \u001b[0mleft_year\u001b[0m\u001b[0;34m,\u001b[0m \u001b[0mleft_value\u001b[0m \u001b[0;34m=\u001b[0m \u001b[0mleft\u001b[0m\u001b[0;34m[\u001b[0m\u001b[0mi\u001b[0m\u001b[0;34m]\u001b[0m\u001b[0;34m\u001b[0m\u001b[0m\n\u001b[1;32m     11\u001b[0m         \u001b[0mright_year\u001b[0m\u001b[0;34m,\u001b[0m \u001b[0mright_value\u001b[0m \u001b[0;34m=\u001b[0m \u001b[0mright\u001b[0m\u001b[0;34m[\u001b[0m\u001b[0mi\u001b[0m\u001b[0;34m]\u001b[0m\u001b[0;34m\u001b[0m\u001b[0m\n\u001b[0;32m---> 12\u001b[0;31m         \u001b[0;32massert\u001b[0m \u001b[0mleft_year\u001b[0m \u001b[0;34m==\u001b[0m \u001b[0mright_year\u001b[0m\u001b[0;34m,\u001b[0m                \u001b[0;34m'Record {0} is for different years: {1} vs {2}'\u001b[0m\u001b[0;34m.\u001b[0m\u001b[0mformat\u001b[0m\u001b[0;34m(\u001b[0m\u001b[0mi\u001b[0m\u001b[0;34m,\u001b[0m \u001b[0mleft_year\u001b[0m\u001b[0;34m,\u001b[0m \u001b[0mright_year\u001b[0m\u001b[0;34m)\u001b[0m\u001b[0;34m\u001b[0m\u001b[0m\n\u001b[0m\u001b[1;32m     13\u001b[0m         \u001b[0mdifference\u001b[0m \u001b[0;34m=\u001b[0m \u001b[0mleft_value\u001b[0m \u001b[0;34m-\u001b[0m \u001b[0mright_value\u001b[0m\u001b[0;34m\u001b[0m\u001b[0m\n\u001b[1;32m     14\u001b[0m         \u001b[0mresults\u001b[0m\u001b[0;34m.\u001b[0m\u001b[0mappend\u001b[0m\u001b[0;34m(\u001b[0m\u001b[0;34m[\u001b[0m\u001b[0mleft_year\u001b[0m\u001b[0;34m,\u001b[0m \u001b[0mdifference\u001b[0m\u001b[0;34m]\u001b[0m\u001b[0;34m)\u001b[0m\u001b[0;34m\u001b[0m\u001b[0m\n",
        "\u001b[0;31mAssertionError\u001b[0m: Record 0 is for different years: 1900 vs 1999"
       ]
      },
      {
       "output_type": "stream",
       "stream": "stdout",
       "text": [
        "mis-matched years:"
       ]
      }
     ],
     "prompt_number": 18
    },
    {
     "cell_type": "code",
     "collapsed": false,
     "input": [
      "print 'left is shorter', diff_records([[1900, 1.0]],\n",
      "                                      [[1900, 10.0], [1901, 20.0]])"
     ],
     "language": "python",
     "metadata": {},
     "outputs": [
      {
       "ename": "AssertionError",
       "evalue": "Inputs have different lengths.",
       "output_type": "pyerr",
       "traceback": [
        "\u001b[0;31m---------------------------------------------------------------------------\u001b[0m\n\u001b[0;31mAssertionError\u001b[0m                            Traceback (most recent call last)",
        "\u001b[0;32m<ipython-input-19-682d448d921e>\u001b[0m in \u001b[0;36m<module>\u001b[0;34m()\u001b[0m\n\u001b[1;32m      1\u001b[0m print 'left is shorter', diff_records([[1900, 1.0]],\n\u001b[0;32m----> 2\u001b[0;31m                                       [[1900, 10.0], [1901, 20.0]])\n\u001b[0m",
        "\u001b[0;32m<ipython-input-16-d41327791c15>\u001b[0m in \u001b[0;36mdiff_records\u001b[0;34m(left, right)\u001b[0m\n\u001b[1;32m      4\u001b[0m     \u001b[0mFails\u001b[0m \u001b[0;32mif\u001b[0m \u001b[0mthe\u001b[0m \u001b[0minputs\u001b[0m \u001b[0mare\u001b[0m \u001b[0;32mnot\u001b[0m \u001b[0;32mfor\u001b[0m \u001b[0mexactly\u001b[0m \u001b[0mcorresponding\u001b[0m \u001b[0myears\u001b[0m\u001b[0;34m.\u001b[0m\u001b[0;34m\u001b[0m\u001b[0m\n\u001b[1;32m      5\u001b[0m     '''\n\u001b[0;32m----> 6\u001b[0;31m     \u001b[0;32massert\u001b[0m \u001b[0mlen\u001b[0m\u001b[0;34m(\u001b[0m\u001b[0mleft\u001b[0m\u001b[0;34m)\u001b[0m \u001b[0;34m==\u001b[0m \u001b[0mlen\u001b[0m\u001b[0;34m(\u001b[0m\u001b[0mright\u001b[0m\u001b[0;34m)\u001b[0m\u001b[0;34m,\u001b[0m            \u001b[0;34m'Inputs have different lengths.'\u001b[0m\u001b[0;34m\u001b[0m\u001b[0m\n\u001b[0m\u001b[1;32m      7\u001b[0m     \u001b[0mnum_years\u001b[0m \u001b[0;34m=\u001b[0m \u001b[0mlen\u001b[0m\u001b[0;34m(\u001b[0m\u001b[0mleft\u001b[0m\u001b[0;34m)\u001b[0m\u001b[0;34m\u001b[0m\u001b[0m\n\u001b[1;32m      8\u001b[0m     \u001b[0mresults\u001b[0m \u001b[0;34m=\u001b[0m \u001b[0;34m[\u001b[0m\u001b[0;34m]\u001b[0m\u001b[0;34m\u001b[0m\u001b[0m\n",
        "\u001b[0;31mAssertionError\u001b[0m: Inputs have different lengths."
       ]
      },
      {
       "output_type": "stream",
       "stream": "stdout",
       "text": [
        " left is shorter"
       ]
      }
     ],
     "prompt_number": 19
    },
    {
     "cell_type": "code",
     "collapsed": false,
     "input": [
      "print 'right is shorter', diff_records([[1900, 1.0], [1901, 2.0]],\n",
      "                                       [[1900, 10.0]])"
     ],
     "language": "python",
     "metadata": {},
     "outputs": [
      {
       "ename": "AssertionError",
       "evalue": "Inputs have different lengths.",
       "output_type": "pyerr",
       "traceback": [
        "\u001b[0;31m---------------------------------------------------------------------------\u001b[0m\n\u001b[0;31mAssertionError\u001b[0m                            Traceback (most recent call last)",
        "\u001b[0;32m<ipython-input-20-a475e608dd70>\u001b[0m in \u001b[0;36m<module>\u001b[0;34m()\u001b[0m\n\u001b[1;32m      1\u001b[0m print 'right is shorter', diff_records([[1900, 1.0], [1901, 2.0]],\n\u001b[0;32m----> 2\u001b[0;31m                                        [[1900, 10.0]])\n\u001b[0m",
        "\u001b[0;32m<ipython-input-16-d41327791c15>\u001b[0m in \u001b[0;36mdiff_records\u001b[0;34m(left, right)\u001b[0m\n\u001b[1;32m      4\u001b[0m     \u001b[0mFails\u001b[0m \u001b[0;32mif\u001b[0m \u001b[0mthe\u001b[0m \u001b[0minputs\u001b[0m \u001b[0mare\u001b[0m \u001b[0;32mnot\u001b[0m \u001b[0;32mfor\u001b[0m \u001b[0mexactly\u001b[0m \u001b[0mcorresponding\u001b[0m \u001b[0myears\u001b[0m\u001b[0;34m.\u001b[0m\u001b[0;34m\u001b[0m\u001b[0m\n\u001b[1;32m      5\u001b[0m     '''\n\u001b[0;32m----> 6\u001b[0;31m     \u001b[0;32massert\u001b[0m \u001b[0mlen\u001b[0m\u001b[0;34m(\u001b[0m\u001b[0mleft\u001b[0m\u001b[0;34m)\u001b[0m \u001b[0;34m==\u001b[0m \u001b[0mlen\u001b[0m\u001b[0;34m(\u001b[0m\u001b[0mright\u001b[0m\u001b[0;34m)\u001b[0m\u001b[0;34m,\u001b[0m            \u001b[0;34m'Inputs have different lengths.'\u001b[0m\u001b[0;34m\u001b[0m\u001b[0m\n\u001b[0m\u001b[1;32m      7\u001b[0m     \u001b[0mnum_years\u001b[0m \u001b[0;34m=\u001b[0m \u001b[0mlen\u001b[0m\u001b[0;34m(\u001b[0m\u001b[0mleft\u001b[0m\u001b[0;34m)\u001b[0m\u001b[0;34m\u001b[0m\u001b[0m\n\u001b[1;32m      8\u001b[0m     \u001b[0mresults\u001b[0m \u001b[0;34m=\u001b[0m \u001b[0;34m[\u001b[0m\u001b[0;34m]\u001b[0m\u001b[0;34m\u001b[0m\u001b[0m\n",
        "\u001b[0;31mAssertionError\u001b[0m: Inputs have different lengths."
       ]
      },
      {
       "output_type": "stream",
       "stream": "stdout",
       "text": [
        " right is shorter"
       ]
      }
     ],
     "prompt_number": 20
    },
    {
     "cell_type": "markdown",
     "metadata": {},
     "source": [
      "\uc815\ub9d0 \ud6cc\ub96d\ud574\uc694: \ub9cc\uc57d \ud615\uc2dd\uc774 \uc62c\ubc14\ub974\uc9c0 \uc54a\uac70\ub098 \ubd80\ud569\ud558\uc9c0 \uc54a\ub294 \ub370\uc774\ud130\ub97c \ucc98\ub9ac\ud558\ub824\uace0 \ud55c\ub2e4\uba74, \ucd94\uac00\ud55c \uac00\uc815\ub300\uc785\ubb38\uc774 \uc774\uc81c \uacbd\uace0\ub97c \ubcf4\ub0b8\ub2e4.\n",
      "\n",
      "> #### \ub354 \uc88b\uc740 \ubc29\ubc95\uc774 \uc788\ub2e4.\n",
      ">\n",
      "> \ud504\ub85c\uadf8\ub7a8 \uc140 \ub0b4\ubd80\uc5d0\uc11c \uac01 \ud14c\uc2a4\ud2b8\ub97c \uc2e4\ud589\ud574\uc57c\ub9cc \ud55c\ub2e4. \uc65c\ub0d0\ud558\uba74, \uac00\uc815\ub300\uc785\ubb38\uc774 \uc2e4\ud328\ud558\uc790\ub9c8\uc790 \ucf54\ub4dc \uc2e4\ud589\uc744 \ud30c\uc774\uc36c\uc774 \uba48\ucd94\uae30 \ub54c\ubb38\uc774\uace0, \n",
      "> \ud14c\uc2a4\ud2b8 3\uac1c\uac00 \ubaa8\ub450 \uc2e4\uc9c8\uc801\uc73c\ub85c \uc2e4\ud589\ub418\ub3c4\ub85d \ud655\uc2e4\ud788 \ud558\uace0\uc790 \ud55c\ub2e4. \n",
      "> [\ub2e8\uc704 \ud14c\uc2a4\ud2b8 (unit testing)](../../gloss.html#unit-testing) \ub77c\uc774\ube0c\ub7ec\ub9ac\uac00 \uc0ac\uc6a9\uc790\ub97c \ub300\uc2e0\ud574\uc11c \ucc98\ub9ac\ud558\uace0,\n",
      "> \ub610\ud55c \uadf8\ubc16\uc758 \ub354 \ub9ce\uc740 \uac83\ub3c4 \uc218\ud589\ud55c\ub2e4; \ud30c\uc774\uc36c \uc911\uae09\uacfc\uc815\uc5d0\uc11c \ub2e8\uc704 \ud14c\uc2a4\ud2b8 \ub77c\uc774\ube0c\ub7ec\ub9ac\ub97c \ub2e4\ub8ec\ub2e4."
     ]
    },
    {
     "cell_type": "markdown",
     "metadata": {
      "cell_tags": [
       "challenges"
      ]
     },
     "source": [
      "#### \ub3c4\uc804 \uacfc\uc81c\n",
      "\n",
      "1.  \ub370\uc774\ud130\ub97c \ub2e4\uc6b4\ub85c\ub4dc \ubc1b\uc9c0 \ubabb\ud560 \uacbd\uc6b0, `get_annual_mean_temp_by_country` \ud568\uc218\ub294 \uac00\uc815\ub300\uc785\ubb38\uc744 \uc0ac\uc6a9\ud574\uc57c \ud560\uae4c? \uc65c \ud639\uc740 \uc65c \uadf8\ub807\uc9c0 \uc54a\uc744\uae4c?\n",
      "\n",
      "2.  `for`\uc5d0\uc11c \uc885\uc885 \uc0ac\uc6a9\ub418\ub294 `enumerate`\ub77c\ub294 \ud568\uc218\uac00 \ud30c\uc774\uc36c\uc5d0 \ud3ec\ud568\ub418\uc5b4 \uc788\ub2e4. \n",
      "    \ub2e4\uc74c \ub8e8\ud504\ub294\n",
      "    ~~~\n",
      "    for (i, c) in enumerate('abc'):\n",
      "        print i, '=', c\n",
      "    ~~~\n",
      "    \uc544\ub798\uc640 \uac19\uc774 \ucd9c\ub825\ud55c\ub2e4.    \n",
      "    ~~~\n",
      "    0 = a\n",
      "    1 = b\n",
      "    2 = c\n",
      "    ~~~\n",
      "    `enumerate`\ub97c \uc0ac\uc6a9\ud574\uc11c `diff_records`\ub97c \uc7ac\uc791\uc131\ud558\uc138\uc694."
     ]
    },
    {
     "cell_type": "heading",
     "level": 3,
     "metadata": {},
     "source": [
      "6 \ub2e8\uacc4: \ubaa8\ub450 \ud568\uaed8 \ub193\uc544\ubcf4\uc790"
     ]
    },
    {
     "cell_type": "markdown",
     "metadata": {},
     "source": [
      "\uc774\uc81c \uad6d\uac00\ubcc4\ub85c \uae30\uc628\ucc28\uc774\ub97c \uc2dc\uac01\ud654\ud558\ub294\ub370 \ud544\uc694\ud55c \ubaa8\ub4e0 \ub3c4\uad6c\ub97c \uac16\uac8c \ub418\uc5c8\ub2e4."
     ]
    },
    {
     "cell_type": "code",
     "collapsed": false,
     "input": [
      "%matplotlib inline\n",
      "\n",
      "from matplotlib import pyplot as plt\n",
      "\n",
      "australia = get_annual_mean_temp_by_country('AUS')\n",
      "canada = get_annual_mean_temp_by_country('CAN')\n",
      "diff = diff_records(australia, canada)\n",
      "plt.plot(diff)\n",
      "plt.show()"
     ],
     "language": "python",
     "metadata": {},
     "outputs": [
      {
       "metadata": {},
       "output_type": "display_data",
       "png": "[encoded data removed]",
       "text": [
        "<matplotlib.figure.Figure at 0x39d2a30>"
       ]
      }
     ],
     "prompt_number": 11
    },
    {
     "cell_type": "markdown",
     "metadata": {},
     "source": [
      "\uc774\uac83\uc740 \uc6d0\ud558\ub294 \ubc14\uac00 \uc544\ub2c8\ub2e4: \ub77c\uc774\ube0c\ub7ec\ub9ac\uac00 \ub9ac\uc2a4\ud2b8 \uc9dd\uc744 \ud558\ub098\uc758 \uace1\uc120\uc5d0 \ub300\ud55c (x,y) \uc88c\ud45c\ub77c\uae30 \ubcf4\ub2e4\ub294 \ub450\uac1c \uc0c1\uc751\ud558\ub294 \uace1\uc120\uc73c\ub85c \ud574\uc11d\ud588\ub2e4.\n",
      "(year, difference) \ub9ac\uc2a4\ud2b8 \uc9dd\uc744 NumPy \ubc30\uc5f4\ub85c \ubcc0\ud658\ud558\uc790."
     ]
    },
    {
     "cell_type": "code",
     "collapsed": false,
     "input": [
      "import numpy as np\n",
      "d = np.array(diff)"
     ],
     "language": "python",
     "metadata": {},
     "outputs": [],
     "prompt_number": 12
    },
    {
     "cell_type": "markdown",
     "metadata": {},
     "source": [
      "\uadf8\ub9ac\uace0 \ub098\uc11c, \ub450\ubc88\uc9f8 \uce7c\ub7fc\uc5d0 \uccab\ubc88\uc9f8 \uce7c\ub7fc\uc744 \ud50c\ub86f(plot)\ud55c\ub2e4."
     ]
    },
    {
     "cell_type": "code",
     "collapsed": false,
     "input": [
      "plt.plot(d[:, 0], d[:, 1])\n",
      "plt.show()"
     ],
     "language": "python",
     "metadata": {},
     "outputs": [
      {
       "metadata": {},
       "output_type": "display_data",
       "png": "[encoded data removed]",
       "text": [
        "<matplotlib.figure.Figure at 0x428c2b0>"
       ]
      }
     ],
     "prompt_number": 13
    },
    {
     "cell_type": "markdown",
     "metadata": {},
     "source": [
      "\ucc28\uc774(difference)\uac00 \ucc9c\ucc9c\ud788 \uc904\uc5b4\ub4dc\ub294 \uac83\ucc98\ub7fc \ubcf4\uc774\uc9c0\ub9cc, \uc2e0\ud638(signal)\uc5d0 \uc7a1\uc74c(noise)\uc774 \ub9ce\ub2e4. \uc774 \uc9c0\uc810\uc5d0\uc11c, \ub9cc\uc57d \uc2e4\uc9c8\uc801 \ud574\ub2f5\uc744 \uad6c\ud55c\ub2e4\uba74,\n",
      "\uace1\uc120\ub9de\ucda4(curve-fitting) \ub77c\uc774\ube0c\ub7ec\ub9ac\ub97c \uc5f4\uc5b4\ubcfc \uc2dc\uc810\uc774\ub2e4."
     ]
    },
    {
     "cell_type": "markdown",
     "metadata": {
      "cell_tags": [
       "challenges"
      ]
     },
     "source": [
      "#### \ub3c4\uc804 \uacfc\uc81c\n",
      "\n",
      "1.  \ud50c\ub86f(plot) \uba85\ub839\uc5b4\ub97c \ubcc0\uacbd\ud574\uc11c Y\ucd95 \uc2a4\ucf00\uc77c\uc744 0\uc5d0\uc11c 32\ub85c \ubc14\uafbc\ub2e4. \n",
      "    \uc774\ub807\uac8c \uc2a4\ucf00\uc77c\uc744 \ubcc0\uacbd\ud558\ub294 \uac83\uc774 \ub370\uc774\ud130\uc5d0 \ub300\ud55c \uc880\ub354 \uc815\ud655\ud55c \ud639\uc740 \ub35c \uc815\ud655\ud55c \uc2dc\uc810\uc744 \uc900\ub2e4\uace0 \uc0dd\uac01\ud569\ub2c8\uae4c?"
     ]
    },
    {
     "cell_type": "markdown",
     "metadata": {
      "cell_tags": [
       "keypoints"
      ]
     },
     "source": [
      "#### \uc8fc\uc694\uc810\n",
      "\n",
      "*   \ub9ce\uc740 \uc778\ud130\ub137 \uc0ac\uc774\ud2b8\ub294 \ud2b9\uc815 \ubc29\uc2dd\uc73c\ub85c \ub370\uc774\ud130\ub97c \uac00\uacf5\ud574\uc11c URL\uc744 \ud1b5\ud574\uc11c \ub2e4\uc6b4\ub85c\ub4dc\ud560 \uc218 \uc788\ub3c4\ub85d \ub370\uc774\ud130\ub97c \uacf5\uac1c\ud55c\ub2e4.\n",
      "*   `requests` \ub77c\uc774\ube0c\ub7ec\ub9ac\ub97c \uc0ac\uc6a9\ud574\uc11c \ud30c\uc774\uc36c \ud504\ub85c\uadf8\ub7a8\uc5d0\uc11c \ub370\uc774\ud130\ub97c \ub2e4\uc6b4\ub85c\ub4dc\ud55c\ub2e4.\n",
      "*   `cStringIO` \ub77c\uc774\ube0c\ub7ec\ub9ac\ub97c \uc0ac\uc6a9\ud574\uc11c \ud14d\uc2a4\ud2b8\ub97c \uc785\ub825 \ud639\uc740 \ucd9c\ub825 \ud30c\uc77c\ub85c \ub2e4\ub8f0 \uc218 \uc788\ub2e4.\n",
      "*   `csv` \ub77c\uc774\ube0c\ub7ec\ub9ac\ub97c \uc0ac\uc6a9\ud574\uc11c \ucf64\ub9c8 \uad6c\ubd84 \uac12(comma-separated values)\uc744 \uc77d\uc5b4\uc628\ub2e4.\n",
      "*   \ud14c\uc2a4\ud2b8\ub97c \uc791\uc131\ud55c\ub2e4."
     ]
    },
    {
     "cell_type": "code",
     "collapsed": false,
     "input": [],
     "language": "python",
     "metadata": {},
     "outputs": []
    }
   ],
   "metadata": {}
  }
 ]
}