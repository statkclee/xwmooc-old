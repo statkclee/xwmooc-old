{
 "metadata": {
  "name": "02-func.ipynb",
  "signature": "sha256:2f81f3414a0b7db89be2606011c0a2a9487f2dfe3aa826af1cc11570e41ffc69"
 },
 "nbformat": 3,
 "nbformat_minor": 0,
 "worksheets": [
  {
   "cells": [
    {
     "cell_type": "heading",
     "level": 2,
     "metadata": {
      "cell_tags": []
     },
     "source": [
      "\ud568\uc218 \uc0dd\uc131"
     ]
    },
    {
     "cell_type": "markdown",
     "metadata": {
      "cell_tags": []
     },
     "source": [
      "\ub9cc\uc57d \ubd84\uc11d\ud560 \ub370\uc774\ud130\uc14b\uc774 \ud558\ub098\ub77c\uba74, \ud30c\uc77c\uc744 \uc2a4\ud504\ub808\ub4dc\uc26c\ud2b8\uc5d0 \uc62c\ub824\uc11c \uac04\ub2e8\ud55c \ud1b5\uacc4\uce58\ub97c \uad6c\ud558\uace0 \uadf8\ub798\ud504\ub97c \uadf8\ub9ac\ub294 \uac83\uc774 \uc544\ub9c8\ub3c4 \ud720\uc52c \ube60\ub974\ub2e4. \ud558\uc9c0\ub9cc, \ud655\uc778\ud560 \ud30c\uc77c\uc774 12\uac1c\uc774\uace0 \uc55e\uc73c\ub85c \ub354 \ub298\uc5b4\ub09c\ub2e4\uba74 \uc598\uae30\ub294 \ub2ec\ub77c\uc9c4\ub2e4. \uc774\ubc88 \ud559\uc2b5\uc5d0\uc11c \ud568\uc218\ub97c \uc5b4\ub5bb\uac8c \uc791\uc131\ud558\ub294\uc9c0 \ubc30\uc6cc\uc11c \ud558\ub098\uc758 \uba85\ub839\uc5b4\ub85c \uba87\uac1c \uc791\uc5c5\uc744 \ubc18\ubcf5\ud560 \uc218 \uc788\ub2e4."
     ]
    },
    {
     "cell_type": "markdown",
     "metadata": {
      "cell_tags": [
       "objectives"
      ]
     },
     "source": [
      "#### \ubaa9\ud45c\n",
      "\n",
      "*   \ub9e4\uac1c\ubcc0\uc218(parameter)\ub97c \ubc1b\ub294 \ud568\uc218\ub97c \uc791\uc131\ud55c\ub2e4.\n",
      "*   \ud568\uc218\uc5d0\uc11c \uac12\uc744 \ubc18\ud658\ud55c\ub2e4.\n",
      "*   \ud568\uc218\ub97c \ub514\ubc84\uae45\ud558\uace0 \ud14c\uc2a4\ud2b8\ud55c\ub2e4.\n",
      "*   \ucf5c \uc2a4\ud0dd(call stack)\uc774 \ubb34\uc5c7\uc778\uc9c0 \uc124\uba85\ud558\uace0 \ud568\uc218\uac00 \ud638\ucd9c\ub420\ub54c \ucf5c \uc2a4\ud0dd\uc5d0 \ubcc0\uacbd\uc0ac\ud56d\uc744 \ucd94\uc801\ud55c\ub2e4.\n",
      "*   \ud568\uc218 \uc778\uc790\ub85c \ub514\ud3f4\ud2b8 \uac12\uc744 \uc124\uc815\ud55c\ub2e4.\n",
      "*   \uc65c \ud504\ub85c\uadf8\ub7a8\uc744 \uc791\uac8c \ub2e8\uc77c \ubaa9\uc801 \ud568\uc218\ub85c \uc798\uac8c \ucabc\uac1c\ub294\uc9c0 \uc124\uba85\ud55c\ub2e4."
     ]
    },
    {
     "cell_type": "heading",
     "level": 3,
     "metadata": {
      "cell_tags": []
     },
     "source": [
      "\ud568\uc218 \uc815\uc758\ud558\uae30"
     ]
    },
    {
     "cell_type": "markdown",
     "metadata": {
      "cell_tags": []
     },
     "source": [
      "\ud654\uc528(Fahrenheit)\uc5d0\uc11c \uc808\ub300\uc628\ub3c4(Kelvin)\ub85c \uc628\ub3c4\ub97c \ubcc0\ud658\ud558\ub294 `fahr_to_kelvin` \ud568\uc218\ub97c \uc815\uc758\ud558\ub294 \uac83\ubd80\ud130 \uc2dc\uc791\ud558\uc790."
     ]
    },
    {
     "cell_type": "markdown",
     "metadata": {
      "cell_tags": []
     },
     "source": [
      "\ud568\uc218\uc815\uc758\ub294 `def`\ub85c \uc2dc\uc791\ud558\uace0 \ud568\uc218\uc774\ub984\uacfc \ub9e4\uac1c\ubcc0\uc218\uc758 \uc774\ub984\uc774 \uad04\ud638 \ub9ac\uc2a4\ud2b8\ub85c \ub2e4\uc74c\uc5d0 \uc704\uce58\ud55c\ub2e4.\n",
      "\ud568\uc218 [\ubab8\ud1b5\ubd80\ubb38(body)](../../gloss.html#function-body)\uc740 \uc815\uc758 \uc544\ub798\uc5d0 \ud1b5\uc0c1 \uacf5\ubc31 4\uac1c\ub85c \ub4e4\uc5ec\uc4f0\uae30 \ud558\ub294\ub370 \ud568\uc218\uac00 \uc2e4\ud589\ud558\ub294 \ubb38\uc7a5\uc774\ub2e4.\n",
      "\n",
      "\ud568\uc218\ub97c \ud638\ucd9c\ud560 \ub54c, \ud568\uc218\uc5d0 \uc804\ub2ec\ud558\ub294 \uac12\uc740 \ubcc0\uc218\uc5d0 \ud560\ub2f9\ub418\uc5b4\uc11c \ud568\uc218 \ub0b4\ubd80\uc5d0\uc11c \uc0ac\uc6a9\ud560 \uc218 \uc788\ub2e4. \ud568\uc218 \ub0b4\ubd80\uc5d0 [\ub9ac\ud134 \ubb38\uc7a5(return statement)](../../gloss.html#return-statement))\uc744 \uc0ac\uc6a9\ud574\uc11c \uc694\uccad\ud558\ub294 \uacf3\uc5d0 \uacb0\uacfc\ub97c \ub418\ub3cc\ub9b0\ub2e4.\n",
      "\n",
      "\uc791\uc131\ud55c \ud568\uc218\ub97c \uc2e4\ud589\ud558\uc790. \ubcf8\uc778\uc774 \uc791\uc131\ud55c \ud568\uc218\ub97c \ud638\ucd9c\ud558\ub294 \uac83\uc740 \ub2e4\ub978 \ud568\uc218\ub97c \ud638\ucd9c\ud558\ub294 \uac83\uacfc \ucc28\uc774\uac00 \uc5c6\ub2e4."
     ]
    },
    {
     "cell_type": "code",
     "collapsed": false,
     "input": [
      "def fahr_to_kelvin(temp):\n",
      "    return ((temp - 32) * (5/9)) + 273.15"
     ],
     "language": "python",
     "metadata": {
      "cell_tags": []
     },
     "outputs": [],
     "prompt_number": 1
    },
    {
     "cell_type": "code",
     "collapsed": false,
     "input": [
      "print 'freezing point of water:', fahr_to_kelvin(32)\n",
      "print 'boiling point of water:', fahr_to_kelvin(212)"
     ],
     "language": "python",
     "metadata": {
      "cell_tags": []
     },
     "outputs": [
      {
       "output_type": "stream",
       "stream": "stdout",
       "text": [
        "freezing point of water: 273.15\n",
        "boiling point of water: 273.15\n"
       ]
      }
     ],
     "prompt_number": 2
    },
    {
     "cell_type": "markdown",
     "metadata": {},
     "source": [
      "\uc815\uc758\ud55c \ud568\uc218\ub97c \uc131\uacf5\uc801\uc73c\ub85c \ud638\ucd9c\ud574\uc11c \ubc18\ud658\ud55c \uac12\uc5d0 \uc811\uadfc\ud560 \uc218 \uc788\ub2e4. \ubd88\ud589\ud558\uac8c\ub3c4 \ubc18\ud658\ub41c \uac12\uc774 \uc62c\ubc14\ub978 \uac83 \uac19\uc9c0 \uc54a\ub2e4. \ubb34\uc5c7\uc774 \uc798\ubabb\ub41c\uac78\uae4c?"
     ]
    },
    {
     "cell_type": "heading",
     "level": 3,
     "metadata": {},
     "source": [
      "\ud568\uc218 \ub514\ubc84\uae45"
     ]
    },
    {
     "cell_type": "markdown",
     "metadata": {},
     "source": [
      "*\ub514\ubc84\uae45*\uc740 \uc62c\ubc14\ub974\uac8c \ub3d9\uc791\ud558\uc9c0 \uc54a\ub294 \ucf54\ub4dc\uc758 \uc77c\ubd80\ub97c \uc218\uc815\ud558\ub294 \uac83\uc774\ub2e4. \uc0c1\uae30\uc758 \uacbd\uc6b0 `fahr_to_kelvin`\uac00 \uc798\ubabb\ub41c \ub2f5\uc744 \uc8fc\ub294 \uac83\uc744 \uc54c\uae30 \ub54c\ubb38\uc5d0 \uc65c \uadf8\ub7f0\uc9c0 \uc774\uc720\ub97c \ud30c\uc545\ud574 \ubcf4\uc790.\n",
      "\n",
      "\ucf54\ub4dc\uac00 \ub9e4\uc6b0 \ud070 \uacbd\uc6b0\uc5d0 \ub514\ubc84\uae45 \uacfc\uc815\uc744 \ub3c4\uc640\uc8fc\ub294 *\ub514\ubc84\uac70(debugger)*\ub85c \ubd88\ub9ac\ub294 \ub3c4\uad6c\uac00 \ubcc4\ub3c4\ub85c \uc788\ub2e4.\n",
      "\n",
      "\uac04\ub2e8\ud558\uace0 \uc9e7\uc740 \ud568\uc218\uc5ec\uc11c \ub9e4\uac1c \ubcc0\uc218\ub97c \uace8\ub77c, \ud568\uc218\ub97c \uc791\uc740 \ubd80\ubd84\uc73c\ub85c \ucabc\uac1c\uc11c \uac01 \ubd80\ubd84\uc5d0 \uac12\uc744 \ucd9c\ub825\ud574\uc11c \ub514\ubc84\uadf8\ud55c\ub2e4."
     ]
    },
    {
     "cell_type": "code",
     "collapsed": false,
     "input": [
      "# We'll use temp = 212, the boiling point of water, which was incorrect\n",
      "print \"212 - 32:\", 212 - 32"
     ],
     "language": "python",
     "metadata": {},
     "outputs": [
      {
       "output_type": "stream",
       "stream": "stdout",
       "text": [
        "212 - 32: 180\n"
       ]
      }
     ],
     "prompt_number": 3
    },
    {
     "cell_type": "code",
     "collapsed": false,
     "input": [
      "print \"(212 - 32) * (5/9):\", (212 - 32) * (5/9)"
     ],
     "language": "python",
     "metadata": {},
     "outputs": [
      {
       "output_type": "stream",
       "stream": "stdout",
       "text": [
        "(212 - 32) * (5/9): 0\n"
       ]
      }
     ],
     "prompt_number": 4
    },
    {
     "cell_type": "markdown",
     "metadata": {},
     "source": [
      "\ubb38\uc81c\uac00 `5/9`\uc744 \uacf1\ud560 \ub54c \ubc1c\uc0dd\ud55c\ub2e4. `5/9`\uc758 \uac12\uc774 0 \uc774\uae30 \ub54c\ubb38\uc774\ub2e4."
     ]
    },
    {
     "cell_type": "code",
     "collapsed": false,
     "input": [
      "5/9"
     ],
     "language": "python",
     "metadata": {},
     "outputs": [
      {
       "metadata": {},
       "output_type": "pyout",
       "prompt_number": 5,
       "text": [
        "0"
       ]
      }
     ],
     "prompt_number": 5
    },
    {
     "cell_type": "markdown",
     "metadata": {
      "cell_tags": []
     },
     "source": [
      "\ucef4\ud4e8\ud130\ub294 \uc22b\uc790\ub97c \ub450\uac00\uc9c0 \uc911 \ud55c\uac00\uc9c0\ub85c \uc800\uc7a5\ud55c\ub2e4. [\uc815\uc218(integers)](../../gloss.html#integer) \ud639\uc740 [\ubd80\ub3d9 \uc18c\uc218\uc810(floating-point numbers)](../../gloss.html#float-point-number). \uc815\uc218\ub294 \uc77c\ubc18\uc801\uc73c\ub85c \uc22b\uc790\ub97c \uc138\ub294 \uc22b\uc790\uc774\uace0, \ubd80\ub3d9 \uc18c\uc218\uc810\uc740 \uc2e4\uc218\uc640 \uc2e4\uc218\uc758 \uc18c\uc218\ubd80\uac00 \uc788\ub2e4.\n",
      "\ub367\uc148, \ube84\uc148, \uacf1\uc148\uc740 \uc815\uc218\ub098 \ubd80\ub3d9 \uc18c\uc218\uc810\uc774\ub098 \uc6b0\ub9ac\uac00 \ud1b5\uc0c1 \uc608\uce21\ud558\ub294 \ubc29\uc2dd\uc73c\ub85c \ub3d9\uc791\ud558\uc9c0\ub9cc, \ub098\ub217\uc148\uc740 \ub2e4\ub974\uac8c \ub3d9\uc791\ud55c\ub2e4.\n",
      "\uc815\uc218\ub97c \ub2e4\ub978 \uc815\uc218\ub85c \ub098\ub204\uac8c \ub41c\ub2e4\uba74, \ub098\uba38\uc9c0 \uc5c6\ub294 \ubaab\ub9cc \uc5bb\ub294\ub2e4."
     ]
    },
    {
     "cell_type": "code",
     "collapsed": false,
     "input": [
      "print '10/3 is:', 10/3"
     ],
     "language": "python",
     "metadata": {
      "cell_tags": []
     },
     "outputs": [
      {
       "output_type": "stream",
       "stream": "stdout",
       "text": [
        "10/3 is: 3\n"
       ]
      }
     ],
     "prompt_number": 6
    },
    {
     "cell_type": "markdown",
     "metadata": {
      "cell_tags": []
     },
     "source": [
      "\ub2e4\ub978 \ud55c\ud3b8\uc73c\ub85c, \ubd84\ubaa8\uc640 \ubd84\uc790 \ub458\uc911\uc758 \ud558\ub098\uac00 \ubd80\ub3d9 \uc18c\uc218\uc810\uc774\ub77c\uba74, \ucef4\ud4e8\ud130\ub294 \ubd80\ub3d9 \uc18c\uc218\uc810 \uacb0\uacfc\ub97c \uc0dd\uc131\ud55c\ub2e4."
     ]
    },
    {
     "cell_type": "code",
     "collapsed": false,
     "input": [
      "print '10.0/3 is:', 10.0/3"
     ],
     "language": "python",
     "metadata": {
      "cell_tags": []
     },
     "outputs": [
      {
       "output_type": "stream",
       "stream": "stdout",
       "text": [
        "10.0/3 is: 3.33333333333\n"
       ]
      }
     ],
     "prompt_number": 7
    },
    {
     "cell_type": "markdown",
     "metadata": {
      "cell_tags": []
     },
     "source": [
      "\ucef4\ud4e8\ud130\ub294 \uc5ed\uc0ac\uc801\uc778 \uc774\uc720\ub85c \uc774\uc640 \uac19\uc774 \ub3d9\uc791\ud55c\ub2e4. \uc815\uc218 \uc5f0\uc0b0\uc740 \ucd08\uae30 \ucef4\ud4e8\ud130\uc5d0\uc11c \ud6e8\uc52c \ube68\ub790\uace0, \ub9ce\uc740 \uc0c1\ud669\uc5d0\uc11c \uc720\uc6a9\ud588\ub2e4. \ud558\uc9c0\ub9cc, \uc5ec\uc804\ud788 \ud63c\ub780\uc2a4\ub7fd\ub2e4. \uadf8\ub798\uc11c \ud30c\uc774\uc36c 3\ub294 \uc815\uc218\ub85c \ub098\ub217\uc148\uc744 \ud560 \ub54c \ubd80\ub3d9 \uc18c\uc218\uc810 \uacb0\uacfc\ub97c \ubc18\ud658\ud55c\ub2e4.\n",
      "\ud30c\uc774\uc36c 2.7 \ubc84\uc83c\uc744 \uc0ac\uc6a9\ud558\ub294 \uacbd\uc6b0, \ub9cc\uc57d `5/9` \uc5f0\uc0b0\uc758 \uc62c\ubc14\ub978 \uacb0\uacfc\ub97c \uc5bb\uc73c\ub824\uba74, `5.0/9`, `5/9.0` \ud639\uc740 \ub2e4\ub978 \ubc29\uc2dd\uc73c\ub85c \uc5f0\uc0b0\uc744 \uc791\uc131\ud574\uc57c \ud55c\ub2e4.\n",
      "\n",
      "\ubd80\ub3d9 \uc18c\uc218\uc810 \uacb0\uacfc\ub97c \uc5bb\ub294 \ub2e4\ub978 \ubc29\uc2dd\uc740 \uba85\uc2dc\uc801\uc73c\ub85c \uc0b0\ucd9c\ud574\uc57c\ud558\ub294 \uacb0\uacfc\ub97c \ucef4\ud4e8\ud130\uc5d0 \uc9c0\uc2dc\ud55c\ub2e4. \uc22b\uc790 \uc911\uc5d0 \ud558\ub098\ub97c \ud615\ubcc0\ud658(cast)\ud55c\ub2e4."
     ]
    },
    {
     "cell_type": "code",
     "collapsed": false,
     "input": [
      "print 'float(10)/3 is:', float(10)/3"
     ],
     "language": "python",
     "metadata": {},
     "outputs": [
      {
       "output_type": "stream",
       "stream": "stdout",
       "text": [
        "float(10)/3 is: 3.33333333333\n"
       ]
      }
     ],
     "prompt_number": 1
    },
    {
     "cell_type": "markdown",
     "metadata": {},
     "source": [
      "\uc0c1\uae30 \ubc29\uc2dd\uc758 \uc7a5\uc810\uc740 \ubcc0\uc218\uc640 \ud568\uaed8 \uc0ac\uc6a9\ub420 \uc218 \uc788\ub2e4\ub294 \uac83\uc774\ub2e4. \uc9c1\uc811 \uc0b4\ud3b4\ubcf4\uc790."
     ]
    },
    {
     "cell_type": "code",
     "collapsed": false,
     "input": [
      "a = 10\n",
      "b = 3\n",
      "print 'a/b is:', a/b\n",
      "print 'float(a)/b is:', float(a)/b"
     ],
     "language": "python",
     "metadata": {},
     "outputs": [
      {
       "output_type": "stream",
       "stream": "stdout",
       "text": [
        "a/b is: 3\n",
        "float(a)/b is: 3.33333333333\n"
       ]
      }
     ],
     "prompt_number": 2
    },
    {
     "cell_type": "markdown",
     "metadata": {},
     "source": [
      "`a` \ud639\uc740 `b`\ub97c \ub2e4\uc2dc \uc815\uc758\ud558\ub294 \uac83\ubcf4\ub2e4 \ub354 \uc27d\ub2e4\ub294 \uac83\uc744 \ubcfc \uc218 \uc788\ub2e4.\n",
      "\n",
      "\uc9c0\uae08\uae4c\uc9c0 \ud559\uc2b5\ud55c \uc9c0\uc2dd\uc73c\ub85c `fahr_to_kelvin` \ud568\uc218\ub97c \uace0\uccd0\ubcf4\uc790."
     ]
    },
    {
     "cell_type": "code",
     "collapsed": false,
     "input": [
      "def fahr_to_kelvin(temp):\n",
      "    return ((temp - 32) * (5.0/9.0)) + 273.15\n",
      "\n",
      "print 'freezing point of water:', fahr_to_kelvin(32)\n",
      "print 'boiling point of water:', fahr_to_kelvin(212)"
     ],
     "language": "python",
     "metadata": {},
     "outputs": [
      {
       "output_type": "stream",
       "stream": "stdout",
       "text": [
        "freezing point of water: 273.15\n",
        "boiling point of water: 373.15\n"
       ]
      }
     ],
     "prompt_number": 8
    },
    {
     "cell_type": "markdown",
     "metadata": {
      "cell_tags": []
     },
     "source": [
      "\uc798 \ub3d9\uc791\ud55c\ub2e4!"
     ]
    },
    {
     "cell_type": "heading",
     "level": 3,
     "metadata": {},
     "source": [
      "\ud568\uc218 \uc870\ud569\ud558\uae30"
     ]
    },
    {
     "cell_type": "markdown",
     "metadata": {},
     "source": [
      "\ud654\uc528\uc628\ub3c4\ub97c \uc808\ub300\uc628\ub3c4\ub85c \uc5b4\ub5bb\uac8c \ubcc0\ud658\ud558\ub294\uc9c0 \ubd24\uae30 \ub54c\ubb38\uc5d0 \uc808\ub300\uc628\ub3c4\ub97c \uc12d\uc528\uc628\ub3c4\ub85c \ubc14\uafb8\ub294 \uac83\uc740 \uc27d\ub2e4."
     ]
    },
    {
     "cell_type": "code",
     "collapsed": false,
     "input": [
      "def kelvin_to_celsius(temp):\n",
      "    return temp - 273.15\n",
      "\n",
      "print 'absolute zero in Celsius:', kelvin_to_celsius(0.0)"
     ],
     "language": "python",
     "metadata": {
      "cell_tags": []
     },
     "outputs": [
      {
       "output_type": "stream",
       "stream": "stdout",
       "text": [
        "absolute zero in Celsius: -273.15\n"
       ]
      }
     ],
     "prompt_number": 9
    },
    {
     "cell_type": "markdown",
     "metadata": {
      "cell_tags": []
     },
     "source": [
      "\ud654\uc528\uc628\ub3c4\uc5d0\uc11c \uc12d\uc528\uc628\ub3c4\ub85c \ubcc0\ud658\ud558\ub294 \uac83\uc740 \uc5b4\ub5a4\uac00\uc694? \n",
      "\uacf5\uc2dd\uc744 \uc801\uc744 \uc218\ub3c4 \uc788\uc9c0\ub9cc, \uadf8\ub7f4 \ud544\uc694\uac00 \uc5c6\ub2e4. \n",
      "\uc774\ubbf8 \uc791\uc131\ud55c \ub450\uac1c\uc758 \ud568\uc218\ub97c [\uc870\ud569(compose)](../../gloss.html#function-composition)\ud560 \uc218 \uc788\ub2e4."
     ]
    },
    {
     "cell_type": "code",
     "collapsed": false,
     "input": [
      "def fahr_to_celsius(temp):\n",
      "    temp_k = fahr_to_kelvin(temp)\n",
      "    result = kelvin_to_celsius(temp_k)\n",
      "    return result\n",
      "\n",
      "print 'freezing point of water in Celsius:', fahr_to_celsius(32.0)"
     ],
     "language": "python",
     "metadata": {
      "cell_tags": []
     },
     "outputs": [
      {
       "output_type": "stream",
       "stream": "stdout",
       "text": [
        "freezing point of water in Celsius: 0.0\n"
       ]
      }
     ],
     "prompt_number": 10
    },
    {
     "cell_type": "markdown",
     "metadata": {
      "cell_tags": []
     },
     "source": [
      "\uc5b4\ub5bb\uac8c \uc880\ub354 \ucee4\ub2e4\ub780 \ud504\ub85c\uadf8\ub7a8\uc774 \ub9cc\ub4e4\uc5b4\uc9c0\ub294\uc9c0 \uccab\ubc88\uc9f8 \ub9db\uc744 \ubd24\ub2e4. \uae30\ubcf8 \uc5f0\uc0b0\uc744 \uc815\uc758\ud558\uace0 \uc6d0\ud558\ub294 \ud6a8\uacfc\ub97c \uc5bb\uae30 \uc704\ud574\uc11c \uc774\ub97c \uc870\ud569\ud55c\ub2e4. \uc2e4\uc81c \ud568\uc218\ub294 \uc0c1\uae30 \ubcf4\uc5ec\uc9c4 \uac83\ubcf4\ub2e4 \ub354 \ud06c\ub2e4. \uc77c\ubc18\uc801\uc73c\ub85c \ub300\ub7b5 6\uc904\uc5d0\uc11c 20~30\uc904 \uc815\ub3c4 \ud55c\ub2e4. \ud558\uc9c0\ub9cc \uc774\ubcf4\ub2e4 \ud568\uc218\uac00 \ub354 \uae38\uac70\ub098 \ud568\uc218\ub97c \uc77d\ub294 \uc0ac\ub78c\uc774 \uc5b4\ub5bb\uac8c \ub3d9\uc791\ud558\ub294\uc9c0 \uc774\ud574\ud560\uc218 \uc5c6\ub294 \uac83\uc740 \uace4\ub780\ud558\ub2e4."
     ]
    },
    {
     "cell_type": "markdown",
     "metadata": {
      "cell_tags": [
       "challenges"
      ]
     },
     "source": [
      "#### \ub3c4\uc804 \uacfc\uc81c\n",
      "\n",
      "1.  \ub450 \uac1c\uc758 \ubb38\uc790\uc5f4\uc744 \"\ub354\ud558\ub294 \uac83\"\uc740 \uc0ac\uc2ac\ucc98\ub7fc \uc787\uac8c \ud55c\ub2e4(concatenate). \uc989, \n",
      "    `'a' + 'b'`\ub294 `'ab'`\uc774 \ub41c\ub2e4.\n",
      "    \ub450 \uac1c\uc758 \ub9e4\uac1c\ubcc0\uc218 `original`\uacfc `wrapper`\ub97c \ubc1b\uc544 `original`\uc758 \ucc98\uc74c\uacfc \ub05d\uc5d0 `wrapper`\ub97c \uc50c\uc6cc \uc0c8\ub85c\uc6b4 \ubb38\uc790\uc5f4\uc744 \ubc18\ud658\ud558\ub294 \ud568\uc218 `fence`\ub97c \uc791\uc131\ud558\uc138\uc694.\n",
      "    \n",
      "    ~~~python\n",
      "    print fence('name', '*')\n",
      "    *name*\n",
      "    ~~~\n",
      "\n",
      "1.  \ub9cc\uc57d \ubcc0\uc218 `s`\uac00 \ubb38\uc790\uc5f4\uc774\uba74, `s[0]`\ub294 \uccab\ubc88\uc9f8 \ubb38\uc790\uc774\uace0, `s[-1]`\uc740 \ub9c8\uc9c0\ub9c9 \ubb38\uc790\uac00 \ub41c\ub2e4.\n",
      "    \uc785\ub825\ubb38\uc790\uc5f4\uc758 \ucc98\uc74c\uacfc \ub05d \ubb38\uc790\ub85c\ub9cc \uad6c\uc131\ub41c \ubb38\uc790\uc5f4\uc744 \ubc18\ud658\ud558\ub294 \ud568\uc218 `outer`\ub97c \uc791\uc131\ud558\uc138\uc694.\n",
      "\n",
      "    ~~~python\n",
      "    print outer('helium')\n",
      "    hm\n",
      "    ~~~"
     ]
    },
    {
     "cell_type": "heading",
     "level": 3,
     "metadata": {
      "cell_tags": []
     },
     "source": [
      "\ucf5c \uc2a4\ud0dd(Call Stack)"
     ]
    },
    {
     "cell_type": "markdown",
     "metadata": {
      "cell_tags": []
     },
     "source": [
      "`fahr_to_celsius(32.0)`\uc744 \ud638\ucd9c\ud560 \ub54c \ubb34\uc5c7\uc774 \uc0dd\uae30\ub294\uc9c0 \uc880\ub354 \uc790\uc138\ud788 \uc0b4\ud3b4\ubcf4\uc790. \uc880\ub354 \uba85\ud655\ud558\uae30 \ud558\uae30 \uc704\ud574\uc11c, \ubcc0\uc218\uc5d0 \ucd08\uae30\uac12\uc744 32.0\uc73c\ub85c \uc124\uc815\ud558\uace0 \uacb0\uacfc\ub97c `final`\uc5d0 \uc800\uc7a5\ud574\uc11c \ucd9c\ubc1c\ud574\ubd05\uc2dc\ub2e4."
     ]
    },
    {
     "cell_type": "code",
     "collapsed": false,
     "input": [
      "original = 32.0\n",
      "final = fahr_to_celsius(original)"
     ],
     "language": "python",
     "metadata": {
      "cell_tags": []
     },
     "outputs": [],
     "prompt_number": 11
    },
    {
     "cell_type": "markdown",
     "metadata": {
      "cell_tags": []
     },
     "source": [
      "\ub2e4\uc74c \ub2e4\uc774\uc5b4\uadf8\ub7a8\uc740 \uccab\ubc88\uc9f8 \ud589\uc774 \uc2e4\ud589\ub41c \ub2e4\uc74c\uc5d0 \uba54\ubaa8\ub9ac\uac00 \uc5b4\ub5bb\uac8c \ub418\uc9c0\ub294 \ubcf4\uc5ec\uc900\ub2e4."
     ]
    },
    {
     "cell_type": "markdown",
     "metadata": {
      "cell_tags": []
     },
     "source": [
      "<img src=\"files/img/python-call-stack-01.svg\" alt=\"Call Stack (Initial State)\" />"
     ]
    },
    {
     "cell_type": "markdown",
     "metadata": {
      "cell_tags": []
     },
     "source": [
      "\ud568\uc218 `fahr_to_celsius`\uc744 \ud638\ucd9c\ud560 \ub54c, R\uc740 \ubcc0\uc218 `temp`\ub97c \ubc14\ub85c \uc0dd\uc131\ud558\uc9c0\ub294 *\uc54a\ub294\ub2e4*. \ub300\uc2e0\uc5d0 [\uc2a4\ud0dd \ud504\ub808\uc784(stack frame)](../../gloss.html#stack-frame)\uc744\n",
      "\uc0dd\uc131\ud574\uc11c `fahr_to_kelvin`\ud568\uc218\uac00 \uc815\uc758\ud55c \ubcc0\uc218\ub97c \ucd94\uc801\ud55c\ub2e4. \ucd08\uae30\uc5d0 \uc2a4\ud0dd\uc740 `temp` \uac12\ub9cc\uc744 \uac00\uc9c0\uace0 \uc788\ub2e4."
     ]
    },
    {
     "cell_type": "markdown",
     "metadata": {
      "cell_tags": []
     },
     "source": [
      "<img src=\"files/img/python-call-stack-02.svg\" alt=\"Call Stack Immediately After First Function Call\" />"
     ]
    },
    {
     "cell_type": "markdown",
     "metadata": {
      "cell_tags": []
     },
     "source": [
      "`fahr_to_celsius` \ud568\uc218 \ub0b4\ubd80\uc5d0 `fahr_to_kelvin` \ud568\uc218\ub97c \ud638\ucd9c\ud560 \ub54c, \ud30c\uc774\uc36c\uc740 \ub610 \ub2e4\ub978 \uc2a4\ud0dd \ud504\ub808\uc784\uc744 \uc0dd\uc131\ud574\uc11c `fahr_to_kelvin`\uc758 \ubcc0\uc218\ub97c \uc800\uc7a5\ud55c\ub2e4."
     ]
    },
    {
     "cell_type": "markdown",
     "metadata": {
      "cell_tags": []
     },
     "source": [
      "<img src=\"files/img/python-call-stack-03.svg\" alt=\"Call Stack During First Nested Function Call\" />"
     ]
    },
    {
     "cell_type": "markdown",
     "metadata": {
      "cell_tags": []
     },
     "source": [
      "\uc774\uc81c temp\ub85c \ubd88\ub9ac\ub294 \ub3d9\uc791\ud558\ub294 \ub450\uac1c\uc758 \ubcc0\uc218\uac00 \uc788\ub2e4. \ud558\ub098\ub294 `fahr_to_celsius` \ud568\uc218\uc758 \ub9e4\uac1c\ubcc0\uc218\uc774\uace0, \ub2e4\ub978 \ud558\ub098\ub294 `fahr_to_kelvin` \ud568\uc218\uc758 \ub9e4\uac1c\ubcc0\uc218\ub2e4. \ud504\ub85c\uadf8\ub7a8\uc758 \uac19\uc740 \ubd80\ubd84\uc5d0 \ub3d9\uc77c\ud55c \uc774\ub984\uc744 \uac00\uc9c4 \ubcc0\uc218 \ub450\uac1c\uac00 \uc788\ub294 \uac83\uc774 \uc560\ub9e4\ubaa8\ud638\ud574\uc11c, \ud30c\uc774\uc36c(\uadf8\ub9ac\uace0 \ub2e4\ub978 \ucd5c\uc2e0 \ud504\ub85c\uadf8\ub798\ubc0d \uc5b8\uc5b4)\uc740 \uac01 \ud568\uc218 \ud638\ucd9c\uc5d0 \ub300\ud574\uc11c \uc0c8\ub85c\uc6b4 \uc2a4\ud0dd \ud504\ub808\uc784\uc744 \uc0dd\uc131\ud574\uc11c \ub2e4\ub978 \ud568\uc218\uc5d0\uc11c \uc815\uc758\ub41c \ubcc0\uc218\uc640 \uad6c\ubcc4\ub418\uac8c \ud568\uc218\uc758 \ubcc0\uc218\ub97c \ubcf4\uad00\ud55c\ub2e4. \n",
      "\n",
      "`fahr_to_kelvin` \ud568\uc218 \ud638\ucd9c\uc774 \uac12\uc744 \ubc18\ud658\ud560 \ub54c, \ud30c\uc774\uc36c\uc740 `fahr_to_kelvin` \ud568\uc218\uc758 \uc2a4\ud0dd \ud504\ub808\uc784\uc744 \uc0ac\uc6a9\ud55c \ud6c4 \ubc84\ub9ac\uace0 \uc808\ub300 \uc628\ub3c4 \uc815\ubcf4\ub97c \ubcf4\uad00\ud558\uae30 \uc704\ud574\uc11c `fahr_to_celsius`\uc5d0 \ub300\ud55c \uc2a4\ud0dd \ud504\ub808\uc784\uc5d0 \uc0c8\ub85c\uc6b4 \ubcc0\uc218\ub97c \uc0dd\uc131\ud55c\ub2e4."
     ]
    },
    {
     "cell_type": "markdown",
     "metadata": {
      "cell_tags": []
     },
     "source": [
      "<img src=\"files/img/python-call-stack-04.svg\" alt=\"Call Stack After Return From First Nested Function Call\" />"
     ]
    },
    {
     "cell_type": "markdown",
     "metadata": {
      "cell_tags": []
     },
     "source": [
      "\uadf8\ub9ac\uace0 \ub098\uc11c `kelvin_to_celsius`\uc744 \ud638\ucd9c\ud558\ub294\ub370 \ud568\uc218\uc758 \ubcc0\uc218\ub97c \uc800\uc7a5\ud560 \uc2a4\ud0dd \ud504\ub808\uc784\uc744 \uc0dd\uc131\ud55c\ub2e4\ub294 \uc758\ubbf8\ub2e4."
     ]
    },
    {
     "cell_type": "markdown",
     "metadata": {
      "cell_tags": []
     },
     "source": [
      "<img src=\"files/img/python-call-stack-05.svg\" alt=\"Call Stack During Call to Second Nested Function\" />"
     ]
    },
    {
     "cell_type": "markdown",
     "metadata": {
      "cell_tags": []
     },
     "source": [
      "\ub2e4\uc2dc \ud55c\ubc88, \ud30c\uc774\uc36c\uc740 `kelvin_to_celsius` \ud568\uc218\uac00 \uc218\ud589\uc644\ub8cc\ub420 \ub54c \uc2a4\ud0dd \ud504\ub808\uc784\uc744 \ud3d0\uae30\ud55c\ub2e4. \uadf8\ub9ac\uace0 `fahr_to_celsius` \ud568\uc218\ub97c \uc704\ud574 \uc2a4\ud0dd \ud504\ub808\uc784\uc5d0 `result` \ubcc0\uc218\ub97c \uc0dd\uc131\ud55c\ub2e4."
     ]
    },
    {
     "cell_type": "markdown",
     "metadata": {
      "cell_tags": []
     },
     "source": [
      "<img src=\"files/img/python-call-stack-06.svg\" alt=\"Call Stack After Second Nested Function Returns\" />"
     ]
    },
    {
     "cell_type": "markdown",
     "metadata": {
      "cell_tags": []
     },
     "source": [
      "\ub9c8\uc9c0\ub9c9\uc73c\ub85c, `fahr_to_celsius` \ud568\uc218 \uc218\ud589\uc774 \uc644\ub8cc\ub420 \ub54c, \ud30c\uc774\uc36c\uc740 *\uc790\uc2e0\uc758* \uc2a4\ud0dd \ud504\ub808\uc784\uc744 \ud3d0\uae30\ud558\uace0 \ucd08\uae30 \uc2dc\uc791\ud55c \uc2a4\ud0dd \ud504\ub808\uc784\uc5d0 \uc788\ub294 \uc2e0\uaddc \ubcc0\uc218 `final`\uc5d0 \uacb0\uacfc\uac12\uc744 \ub123\ub294\ub2e4."
     ]
    },
    {
     "cell_type": "markdown",
     "metadata": {
      "cell_tags": []
     },
     "source": [
      "<img src=\"files/img/python-call-stack-07.svg\" alt=\"Call Stack After All Functions Have Finished\" />"
     ]
    },
    {
     "cell_type": "markdown",
     "metadata": {
      "cell_tags": []
     },
     "source": [
      "\uc774 \ub9c8\uc9c0\ub9c9 \uc2a4\ud0dd \ud504\ub808\uc784\uc740 \ud56d\uc0c1 \uc874\uc7ac\ud574\uc11c \uc791\uc131\ud55c \ucf54\ub4dc \uc911\uc5d0 \ud568\uc218 \uc678\ubd80\uc5d0\uc11c \uc815\uc758\ud55c \ubcc0\uc218\ub97c \uac04\uc9c1\ud55c\ub2e4. \uac04\uc9c1\ud558\uc9c0 *\uc54a\ub294* \uac83\uc740 \ub2e4\uc591\ud55c \uc2a4\ud0dd \ud504\ub808\uc784\uc5d0 \uc788\uc5c8\ub358 \ubcc0\uc218\ub2e4. \ub9cc\uc57d \ud568\uc218\uac00 \uc218\ud589 \uc885\ub8cc\ub41c \ud6c4\uc5d0 `temp` \uac12\uc744 \uc5bb\uace0\uc790 \ud55c\ub2e4\uba74, \ud30c\uc774\uc36c\uc740 \uadf8\ub7f0 \uac83\uc740 \uc5c6\ub2e4\uace0 \ud68c\ub2f5\ud55c\ub2e4."
     ]
    },
    {
     "cell_type": "code",
     "collapsed": false,
     "input": [
      "print 'final value of temp after all function calls:', temp"
     ],
     "language": "python",
     "metadata": {
      "cell_tags": []
     },
     "outputs": [
      {
       "ename": "NameError",
       "evalue": "name 'temp' is not defined",
       "output_type": "pyerr",
       "traceback": [
        "\u001b[0;31m---------------------------------------------------------------------------\u001b[0m\n\u001b[0;31mNameError\u001b[0m                                 Traceback (most recent call last)",
        "\u001b[0;32m<ipython-input-12-ffd9b4dbd5f1>\u001b[0m in \u001b[0;36m<module>\u001b[0;34m()\u001b[0m\n\u001b[0;32m----> 1\u001b[0;31m \u001b[0;32mprint\u001b[0m \u001b[0;34m'final value of temp after all function calls:'\u001b[0m\u001b[0;34m,\u001b[0m \u001b[0mtemp\u001b[0m\u001b[0;34m\u001b[0m\u001b[0m\n\u001b[0m",
        "\u001b[0;31mNameError\u001b[0m: name 'temp' is not defined"
       ]
      },
      {
       "output_type": "stream",
       "stream": "stdout",
       "text": [
        "final value of temp after all function calls:"
       ]
      }
     ],
     "prompt_number": 12
    },
    {
     "cell_type": "markdown",
     "metadata": {
      "cell_tags": []
     },
     "source": [
      "\uc65c \uc774 \ubaa8\ub4e0 \uc5b4\ub824\uc6c0\uc73c\ub85c \uac08\uac00\uc694? \ubc30\uc5f4\uc758 \ucd5c\ub300\uac12\uacfc \ucd5c\uc18c\uac12\uc758 \ucc28\uc774\ub97c \uacc4\uc0b0\ud558\ub294 `span`\uc774\ub77c\ub294 \ud568\uc218\uac00 \ub2e4\uc74c\uc5d0 \uc788\ub2e4."
     ]
    },
    {
     "cell_type": "code",
     "collapsed": false,
     "input": [
      "import numpy\n",
      "\n",
      "def span(a):\n",
      "    diff = a.max() - a.min()\n",
      "    return diff\n",
      "\n",
      "data = numpy.loadtxt(fname='inflammation-01.csv', delimiter=',')\n",
      "print 'span of data', span(data)"
     ],
     "language": "python",
     "metadata": {
      "cell_tags": []
     },
     "outputs": [
      {
       "output_type": "stream",
       "stream": "stdout",
       "text": [
        " span of data 20.0\n"
       ]
      }
     ],
     "prompt_number": 13
    },
    {
     "cell_type": "markdown",
     "metadata": {
      "cell_tags": []
     },
     "source": [
      "`span` \ud568\uc218\ub294 \uac12\uc744 `diff` \ubcc0\uc218\uc5d0 \ud560\ub2f9\ud568\uc744 \uc8fc\ubaa9\ud558\uc138\uc694. \uc5fc\uc99d \ub370\uc774\ud130 \uc815\ubcf4\ub97c \ub2f4\uace0 \uc788\ub294 \ub3d9\uc77c\ud55c \uc774\ub984\uc758 \ubcc0\uc218(`diff`)\ub97c \ub9e4\uc6b0 \uc0ac\uc6a9\ud560 \uc218\ub3c4 \uc788\ub2e4."
     ]
    },
    {
     "cell_type": "code",
     "collapsed": false,
     "input": [
      "diff = numpy.loadtxt(fname='inflammation-01.csv', delimiter=',')\n",
      "print 'span of data:', span(diff)"
     ],
     "language": "python",
     "metadata": {
      "cell_tags": []
     },
     "outputs": [
      {
       "output_type": "stream",
       "stream": "stdout",
       "text": [
        "span of data: 20.0\n"
       ]
      }
     ],
     "prompt_number": 14
    },
    {
     "cell_type": "markdown",
     "metadata": {
      "cell_tags": []
     },
     "source": [
      "\ud568\uc218 \ud638\ucd9c \ub4a4\uc5d0 \ubcc0\uc218 `diff`\uac00 \uac12 20.0\uc744 \uac16\uac8c \ub418\ub294 \uac83\uc744 \uae30\ub300\ud558\uc9c0 \uc54a\ub294\ub2e4. \n",
      "\uadf8\ub798\uc11c `diff` \uc774\ub984\uc740 \ud504\ub85c\uadf8\ub7a8 \uba54\uc778 \ubab8\uccb4\ubd80\ubb38\uc5d0\uc11c \ud558\ub294 \uac83\ucc98\ub7fc `span` \ub0b4\ubd80\uc5d0 \uc815\uc758\ub41c \ub3d9\uc77c\ud55c \ubcc0\uc218\ub97c \ucc38\uc870\ud560 \uc218 \uc5c6\ub2e4. \uc774 \uacbd\uc6b0\uc5d0 \uba54\uc778 \ud504\ub85c\uadf8\ub7a8\uc5d0 `diff`\uc640 \ub2e4\ub978 \uc774\ub984\uc744 \uc544\ub9c8\ub3c4 \uc120\ud0dd\ud560 \uc218 \uc788\uc9c0\ub9cc, \ubcc0\uc218\uc758 \uac12\uc774 \ubcc0\uacbd\ub418\ub294 \uacbd\uc6b0\ub9c8\ub2e4 \ubb34\uc2a8 \ubcc0\uc218\uba85\uc774 \uc0ac\uc6a9\ub418\uc5c8\ub294\uc9c0\ub97c \uc0b4\ud3b4\ubcf4\uae30 \uc704\ud574 \ud638\ucd9c\ud558\ub294 NumPy\uc758 \ubaa8\ub4e0 \ucf54\ub4dc \ud589\uc744 \uc77d\uace0 \uc2f6\uc9c0\ub294 \uc54a\ub2e4."
     ]
    },
    {
     "cell_type": "markdown",
     "metadata": {
      "cell_tags": []
     },
     "source": [
      "\uc5ec\uae30\uc11c \uae30\ubcf8\uc801\uc778 \uc544\uc774\ub514\uc5b4\ub294 [\ucea1\uc290\ud654(encapsulation)](../../gloss.html#encapsulation)\uc774\uace0, \uc815\ud655\ud558\uace0 \uc774\ud574\ud558\uae30 \uc26c\uc6b4 \ud504\ub85c\uadf8\ub7a8\uc744 \uc791\uc131\ud558\ub294 \uc5f4\uc1e0\ub2e4. \ud568\uc218\uac00 \ud558\ub294 \uc77c\uc740 \uba87\uac1c\uc758 \uc791\uc5c5\uc744 \ud558\ub098\ub85c \ubcc0\ud658\ud558\ub294 \uac83\uc774\uc5b4\uc11c \ubb34\uc5b8\uac00\ub97c \ud558\uace0\uc790 \ud560 \ub54c\ub9c8\ub2e4 \uc218\uc2ed\uac1c\uc5d0\uc11c \uc218\ubc31\uac1c\uc758 \ubb38\uc7a5\uc744 \uc218\ud589\ud558\ub294 \ub300\uc2e0\uc5d0 \ub2e8 \ud558\ub098\uc758 \ud568\uc218 \ud638\ucd9c\uc744 \uc0dd\uac01\ud560 \uc218 \uc788\ub2e4. \ud568\uc218\uac00 \uc11c\ub85c\uc5d0\uac8c \uac04\uc12d\ud558\uc9c0 \uc54a\ub294\ub2e4\uba74 \uc774 \ubc29\uc2dd\uc740 \ub3d9\uc791\ud55c\ub2e4. \ub9cc\uc57d \uc11c\ub85c \uac04\uc12d\ud558\uac8c \ub418\uba74 \ub2e4\uc2dc \ud55c\ubc88 \uc138\ubd80\uc0ac\ud56d\uc5d0 \uc8fc\uc758\ub97c \uae30\uc6b8\uc5ec\uc57c \ud558\uace0 \uae09\uaca9\ud558\uac8c \ub2e8\uae30 \uae30\uc5b5\uc5d0 \uacfc\ubd80\ud558\ub97c \uc8fc\uac8c\ub41c"
     ]
    },
    {
     "cell_type": "markdown",
     "metadata": {
      "cell_tags": [
       "challenges"
      ]
     },
     "source": [
      "#### \ub3c4\uc804 \uacfc\uc81c\n",
      "\n",
      "1.  \uc774\uc804\uc5d0 `fence`\uc640 `outer` \ud568\uc218\ub97c \uc791\uc131\ud588\ub2e4. \ub2e4\uc74c\uc744 \uc2e4\ud589\ud560 \ub54c \ucf5c \uc2a4\ud0dd(call stack)\uc774 \uc5b4\ub5bb\uac8c \ubcc0\ud558\ub294\uc9c0 \ub2e4\uc774\uc5b4\uadf8\ub7a8\uc744 \uadf8\ub824\ubcf4\uc138\uc694.\n",
      "    \n",
      "    ~~~python\n",
      "    print outer(fence('carbon', '+'))\n",
      "    ~~~"
     ]
    },
    {
     "cell_type": "heading",
     "level": 3,
     "metadata": {
      "cell_tags": []
     },
     "source": [
      "\ud14c\uc2a4\ud305\uacfc \ubb38\uc11c\ud654"
     ]
    },
    {
     "cell_type": "markdown",
     "metadata": {
      "cell_tags": []
     },
     "source": [
      "\ud568\uc218\uc5d0 \uba85\ub839\uc5b4\ub4e4\uc744 \ub123\uc5b4\uc11c \uc7ac\uc0ac\uc6a9\ud560 \uc218 \uc788\uc790\ub9c8\uc790, \uc791\uc131\ud55c \ud568\uc218\uac00 \uc81c\ub300\ub85c \ub3d9\uc791\ud558\ub294\uc9c0\ub97c \ud14c\uc2a4\ud2b8\ud560 \ud544\uc694\uac00 \uc788\ub2e4. \uc5b4\ub5bb\uac8c \uc218\ud589\ud558\ub294\uc9c0 \uc54c\uc544\ubcf4\uae30 \uc704\ud574\uc11c, \ud2b9\uc815\ud55c \uac12 \uc8fc\uc704\uc5d0 \ub370\uc774\ud130\ub97c \uc911\uc559\uc5d0 \uc704\uce58\ud558\uac8c \ud558\ub294 \ud568\uc218\ub97c \uc791\uc131\ud558\uc790."
     ]
    },
    {
     "cell_type": "code",
     "collapsed": false,
     "input": [
      "def center(data, desired):\n",
      "    return (data - data.mean()) + desired"
     ],
     "language": "python",
     "metadata": {
      "cell_tags": []
     },
     "outputs": [],
     "prompt_number": 15
    },
    {
     "cell_type": "markdown",
     "metadata": {
      "cell_tags": []
     },
     "source": [
      "\uc791\uc131\ud55c \ud568\uc218\ub97c \uc2e4\uc81c \ub370\uc774\ud130\uc5d0 \ud14c\uc2a4\ud2b8\ud560 \uc218\ub3c4 \uc788\uc73c\ub098, \uac12\uc774 \ubb34\uc5c7\uc774 \ub418\uc5b4\uc57c\ud558\ub294\uc9c0 \ubaa8\ub974\uae30 \ub54c\ubb38\uc5d0 \uacb0\uacfc\uac00 \ub9de\ub294\uc9c0 \uad6c\ubd84\ud558\uae30\uac00 \uc5b4\ub835\ub2e4. \ub300\uc2e0\uc5d0, NumPy\ub97c \uc0ac\uc6a9\ud574\uc11c 0\uc73c\ub85c \uad6c\uc131\ub41c \ud589\ub82c\uc744 \uc0dd\uc131\ud558\uace0 3 \uc8fc\uc704\uac00 \uc911\uc2ec\uc774 \ub418\uac8c \ud558\uc790."
     ]
    },
    {
     "cell_type": "code",
     "collapsed": false,
     "input": [
      "z = numpy.zeros((2,2))\n",
      "print center(z, 3)"
     ],
     "language": "python",
     "metadata": {
      "cell_tags": []
     },
     "outputs": [
      {
       "output_type": "stream",
       "stream": "stdout",
       "text": [
        "[[ 3.  3.]\n",
        " [ 3.  3.]]\n"
       ]
      }
     ],
     "prompt_number": 16
    },
    {
     "cell_type": "markdown",
     "metadata": {
      "cell_tags": []
     },
     "source": [
      "\ub9de\ub294 \uac83\ucc98\ub7fc \ubcf4\uc5ec\uc11c \uc2e4\uc81c \ub370\uc774\ud130\uc5d0 \uc911\uc2ec(`center`)\uc744 \uc7a1\ub3c4\ub85d \ud558\uc790"
     ]
    },
    {
     "cell_type": "code",
     "collapsed": false,
     "input": [
      "data = numpy.loadtxt(fname='inflammation-01.csv', delimiter=',')\n",
      "print center(data, 0)"
     ],
     "language": "python",
     "metadata": {
      "cell_tags": []
     },
     "outputs": [
      {
       "output_type": "stream",
       "stream": "stdout",
       "text": [
        "[[-6.14875 -6.14875 -5.14875 ..., -3.14875 -6.14875 -6.14875]\n",
        " [-6.14875 -5.14875 -4.14875 ..., -5.14875 -6.14875 -5.14875]\n",
        " [-6.14875 -5.14875 -5.14875 ..., -4.14875 -5.14875 -5.14875]\n",
        " ..., \n",
        " [-6.14875 -5.14875 -5.14875 ..., -5.14875 -5.14875 -5.14875]\n",
        " [-6.14875 -6.14875 -6.14875 ..., -6.14875 -4.14875 -6.14875]\n",
        " [-6.14875 -6.14875 -5.14875 ..., -5.14875 -5.14875 -6.14875]]\n"
       ]
      }
     ],
     "prompt_number": 17
    },
    {
     "cell_type": "markdown",
     "metadata": {
      "cell_tags": []
     },
     "source": [
      "\uc0c1\uae30 \ucd9c\ub825\uc73c\ub85c\ubd80\ud130 \uacb0\uacfc\uac00 \ub9de\ub294\uc9c0 \uad6c\ubd84\ud558\uae30 \uc5b4\ub835\ub2e4. \ud558\uc9c0\ub9cc, \ud655\uc778\uc744 \ud560 \uc218 \uc788\ub294 \uba87\uac00\uc9c0 \ud14c\uc2a4\ud2b8\uac00 \uc788\ub2e4."
     ]
    },
    {
     "cell_type": "code",
     "collapsed": false,
     "input": [
      "print 'original min, mean, and max are:', data.min(), data.mean(), data.max()\n",
      "centered = center(data, 0)\n",
      "print 'min, mean, and and max of centered data are:', centered.min(), centered.mean(), centered.max()"
     ],
     "language": "python",
     "metadata": {
      "cell_tags": []
     },
     "outputs": [
      {
       "output_type": "stream",
       "stream": "stdout",
       "text": [
        "original min, mean, and max are: 0.0 6.14875 20.0\n",
        "min, mean, and and max of centered data are: -6.14875 -3.49054118942e-15 13.85125\n"
       ]
      }
     ],
     "prompt_number": 18
    },
    {
     "cell_type": "markdown",
     "metadata": {
      "cell_tags": []
     },
     "source": [
      "\uac70\uc758 \ub9de\ub294 \uac83\ucc98\ub7fc \ubcf4\uc778\ub2e4. \n",
      "\uc6d0 \ud3c9\uade0\uc740 \uc57d 6.1\uc774\uc600\ub2e4. \uadf8\ub798\uc11c 0 \uc5d0\uc11c \ud558\ud55c\uc740 \uc57d -6.1\uc774\ub2e4. \n",
      "\uc911\uc559\uc73c\ub85c \uc704\uce58\ud55c \ub370\uc774\ud130\uc758 \ud3c9\uade0\uc740 0 \uc740 \uc544\ub2c8\uc9c0\ub9cc, \ubb34\ucc99 \uac00\uae5d\ub2e4. \ub3c4\uc804 \uacfc\uc81c\uc5d0\uc11c \uc65c \uadf8\ub807\uac8c \ub418\uc5c8\ub294\uc9c0 \ud0d0\uc0c9\ud560 \uac83\uc774\ub2e4.\uc880\ub354 \ub098\uc544\uac00 \ud45c\uc900\ud3b8\ucc28\uac00 \ubc14\ub00c\uc5c8\ub294\uc9c0 \ud655\uc778\ud558\uc790."
     ]
    },
    {
     "cell_type": "code",
     "collapsed": false,
     "input": [
      "print 'std dev before and after:', data.std(), centered.std()"
     ],
     "language": "python",
     "metadata": {
      "cell_tags": []
     },
     "outputs": [
      {
       "output_type": "stream",
       "stream": "stdout",
       "text": [
        "std dev before and after: 4.61383319712 4.61383319712\n"
       ]
      }
     ],
     "prompt_number": 19
    },
    {
     "cell_type": "markdown",
     "metadata": {
      "cell_tags": []
     },
     "source": [
      "\ub450 \uac12\uc774 \ub3d9\uc77c\ud558\ub2e4. \ud558\uc9c0\ub9cc 6\ubc88\uc9f8 \uc18c\uc218\uc810\uc5d0\uc11c \ucc28\uc774\uac00 \uc788\ub2e4\uba74 \uc54c\uc544\ucc44\uc9c0 \ubabb\ud560 \uac83\uc774\ub2e4. \ub300\uc2e0\uc5d0 \ub2e4\uc74c\uc744 \uc218\ud589\ud558\uc790."
     ]
    },
    {
     "cell_type": "code",
     "collapsed": false,
     "input": [
      "print 'difference in standard deviations before and after:', data.std() - centered.std()"
     ],
     "language": "python",
     "metadata": {
      "cell_tags": []
     },
     "outputs": [
      {
       "output_type": "stream",
       "stream": "stdout",
       "text": [
        "difference in standard deviations before and after: -3.5527136788e-15\n"
       ]
      }
     ],
     "prompt_number": 20
    },
    {
     "cell_type": "markdown",
     "metadata": {
      "cell_tags": []
     },
     "source": [
      "\ub2e4\uc2dc \ucc28\uc774\uac00 \ub9e4\uc6b0 \uc791\ub2e4. \uc5ec\uc804\ud788 \ud568\uc218\uac00 \uc798\ubabb\ub420 \uac00\ub2a5\uc131\uc740 \uc5ec\uc804\ud788 \uc788\ub2e4. \ud558\uc9c0\ub9cc, \ubd84\uc11d\uc73c\ub85c \ub418\ub3cc\ub9b4 \uc815\ub3c4\ub294 \uc544\ub2d0 \ub4ef \ud558\ub2e4. \ud558\uc9c0\ub9cc, \ud55c \uac00\uc9c0 \ub354 \uc791\uc5c5\uc774 \uc788\ub2e4. \ud6c4\uc5d0 \uc791\uc131\ud55c \ud568\uc218\uac00 \ubb34\uc5c7\uc744 \uc704\ud55c \uac83\uc774\uace0 \uc5b4\ub5bb\uac8c \uc0ac\uc6a9\ud558\ub294\uc9c0\uc5d0 \ub300\ud574\uc11c \uc6b0\ub9ac \uc790\uc2e0\uc5d0\uac8c \ub418\uc0c8\uae40\ub418\ub3c4\ub85d \ud568\uc218\uc758 [\ubb38\uc11c\ud654(documentation)](../../gloss.html#documentation)\ub97c \uc704\ud574\uc11c \ubb38\uc11c\ub97c \uc791\uc131\ud574\uc57c \ud55c\ub2e4.\n",
      "\n",
      "\uc18c\ud504\ud2b8\uc6e8\uc5b4\uc5d0 \ubb38\uc11c\ub97c \ub123\ub294 \uc77c\ubc18\uc801\uc778 \ubc29\ubc95\uc740 \ub2e4\uc74c\uacfc \uac19\uc740 [\uc8fc\uc11d(comments)](../../gloss.html#comment)\uc744 \ucd94\uac00\ud558\ub294 \uac83\uc774\ub2e4."
     ]
    },
    {
     "cell_type": "code",
     "collapsed": false,
     "input": [
      "# center(data, desired): return a new array containing the original data centered around the desired value.\n",
      "def center(data, desired):\n",
      "    return (data - data.mean()) + desired"
     ],
     "language": "python",
     "metadata": {
      "cell_tags": []
     },
     "outputs": [],
     "prompt_number": 21
    },
    {
     "cell_type": "markdown",
     "metadata": {
      "cell_tags": []
     },
     "source": [
      "\ud558\uc9c0\ub9cc, \ub354 \ub098\uc740 \ubc29\ubc95\uc774 \uc788\ub2e4. \ub9cc\uc57d \ud568\uc218\uc758 \uccab\ubc88\uc9f8 \uac83\uc774 \ubcc0\uc218\uc5d0 \ud560\ub2f9\ub418\uc9c0 \uc54a\uc740 \ubb38\uc790\uc5f4\uc774\ub77c\uba74, \n",
      "\uadf8 \ubb38\uc790\uc5f4\uc740 \ubb38\uc11c\ub85c\uc11c \ud568\uc218\uc5d0 \ub367\ubd99\uc5ec\uc9c4\ub2e4."
     ]
    },
    {
     "cell_type": "code",
     "collapsed": false,
     "input": [
      "def center(data, desired):\n",
      "    '''Return a new array containing the original data centered around the desired value.'''\n",
      "    return (data - data.mean()) + desired"
     ],
     "language": "python",
     "metadata": {
      "cell_tags": []
     },
     "outputs": [],
     "prompt_number": 1
    },
    {
     "cell_type": "markdown",
     "metadata": {
      "cell_tags": []
     },
     "source": [
      "\uc0c1\uae30 \uac83\uc774 \ub354 \uc88b\uc740\ub370, \ud30c\uc774\uc36c\uc758 \ub0b4\uc7a5 \ub3c4\uc6c0\ub9d0 \uc2dc\uc2a4\ud15c\uc5d0 \ud568\uc218\uc758 \ubb38\uc11c\ub97c \ubcf4\uc5ec\uc904 \uc218 \uc788\ub2e4."
     ]
    },
    {
     "cell_type": "code",
     "collapsed": false,
     "input": [
      "help(center)"
     ],
     "language": "python",
     "metadata": {
      "cell_tags": []
     },
     "outputs": [
      {
       "output_type": "stream",
       "stream": "stdout",
       "text": [
        "Help on function center in module __main__:\n",
        "\n",
        "center(data, desired)\n",
        "    Return a new array containing the original data centered around the desired value.\n",
        "\n"
       ]
      }
     ],
     "prompt_number": 23
    },
    {
     "cell_type": "markdown",
     "metadata": {
      "cell_tags": []
     },
     "source": [
      "\uc774\uc640 \uac19\uc740 \ubb38\uc790\uc5f4\uc744 [docstring](../../gloss.html#docstring)\uc774\ub77c\uace0 \ud55c\ub2e4.\n",
      "\uc8fc\uc11d\uc744 \uc791\uc131\ud560 \ub54c \uc778\uc6a9\ubd80\ud638\ub97c 3\ubc88 \uc0ac\uc6a9\ud560 \ud544\uc694\ub294 \uc5c6\ub2e4. \ud558\uc9c0\ub9cc, \ub9cc\uc57d \uc778\uc6a9\ubd80\ud638\ub97c 3\ubc88 \uc0ac\uc6a9\ud55c\ub2e4\uba74, \uc5ec\ub7ec\uc904\uc5d0 \uac78\uccd0\uc11c \ub3c4\uc6c0\ub9d0\uc744 \ucabc\uac1c \uc791\uc131\ud560 \uc218 \uc788\ub2e4."
     ]
    },
    {
     "cell_type": "code",
     "collapsed": false,
     "input": [
      "def center(data, desired):\n",
      "    '''Return a new array containing the original data centered around the desired value.\n",
      "    Example: center([1, 2, 3], 0) => [-1, 0, 1]'''\n",
      "    return (data - data.mean()) + desired\n",
      "\n",
      "help(center)"
     ],
     "language": "python",
     "metadata": {
      "cell_tags": []
     },
     "outputs": [
      {
       "output_type": "stream",
       "stream": "stdout",
       "text": [
        "Help on function center in module __main__:\n",
        "\n",
        "center(data, desired)\n",
        "    Return a new array containing the original data centered around the desired value.\n",
        "    Example: center([1, 2, 3], 0) => [-1, 0, 1]\n",
        "\n"
       ]
      }
     ],
     "prompt_number": 24
    },
    {
     "cell_type": "markdown",
     "metadata": {
      "cell_tags": [
       "challenges"
      ]
     },
     "source": [
      "#### \ub3c4\uc804 \uacfc\uc81c\n",
      "\n",
      "1.  `analyze` \ud568\uc218\ub97c \uc791\uc131\ud574\uc11c \ub9e4\uac1c\ubcc0\uc218\ub85c \ud30c\uc77c \uc774\ub984\uc744 \ubc1b\uc544\uc11c [\uc55e\uc120 \ud559\uc2b5](01-numpy.ipynb) \n",
      "    \uacb0\uacfc(\uc2dc\uac04\uc5d0 \ub530\ub978 \uc5fc\uc99d\uc758 \ud3c9\uade0\uac12, \ucd5c\uc18c\uac12, \ucd5c\ub300\uac12)\ub97c \uadf8\ub798\ud504\ub85c \ud654\uba74\uc5d0 \ucd9c\ub825\ud558\ub3c4\ub85d \ud558\uc138\uc694.`analyze(\"inflammation-01.csv`\") \uacb0\uacfc\ub294 \n",
      "    \uc774\ubbf8 \ubcf4\uc5ec\uc9c4 \uadf8\ub798\ud504\ub97c \uc0dd\uc131\ud574\uc57c \ud558\uc9c0\ub9cc, `analyze(\"inflammation-02.csv\")` \uacb0\uacfc\ub294 \ub450\ubc88\uc9f8 \ub370\uc774\ud130\uc14b\uc5d0 \uc0c1\uc751\ud558\ub294 \uadf8\ub798\ud504\ub97c \uc0dd\uc131\ud574\uc57c \ud55c\ub2e4. \n",
      "    `docstring`\uc73c\ub85c \ud568\uc218\ub97c \ubb38\uc11c\ud654\ud558\ub3c4\ub85d \ud655\uc778\ud558\uc138\uc694.    \n",
      "\n",
      "2.  `rescale`\ud568\uc218\ub97c \uc791\uc131\ud574\uc11c \uc785\ub825\uac12\uc73c\ub85c \ubca1\ud130\ub97c \ubc1b\uace0, 0.0\uc5d0\uc11c 1.0\uc0ac\uc774\uc758 \ubc94\uc704\ub85c \uc870\uc815\ub418\uac8c \ud574\ub2f9 \ubca1\ud130\ub97c \ubc18\ud658\ud558\uac8c \ud558\uc138\uc694. \n",
      "    \ub9cc\uc57d $L$\uacfc $H$\uc774 \uc6d0 \ubca1\ud130\uc774 \ud558\ud55c\uacfc \uc0c1\ud55c\uc774\ub77c\uba74, $v$\uc758 \uce58\ud658\uac12\uc740 $(v-L) / (H-L)$\uc774 \ub418\uc5b4\uc57c \ud55c\ub2e4. \n",
      "    `docstring`\uc73c\ub85c \ud568\uc218\ub97c \ubb38\uc11c\ud654\ud558\ub3c4\ub85d \ud655\uc778\ud558\uc138\uc694.\n",
      "\n",
      "3.  `help(numpy.arange)`\uacfc `help(numpy.linspace)` \ub3c4\uc6c0\ub9d0 \uba85\ub839\uc5b4\ub97c \uc2e4\ud589\ud574\uc11c \uc5b4\ub5bb\uac8c \ud568\uc218\ub97c \uc0ac\uc6a9\ud558\uc5ec \uade0\ub4f1\ud55c \uac04\uaca9\uc744 \uac00\uc9c4 \uac12\uc744 \uc0dd\uc131\ud558\ub294\uc9c0 \uc0b4\ud3b4\ubcf4\uc138\uc694.\n",
      "    \uadf8\ub9ac\uace0 \ub098\uc11c \uc774\ub4e4 \uac12\uc744 \uc0ac\uc6a9\ud558\uc5ec rescale \ud568\uc218\uac00 \uc815\uc0c1\uc801\uc73c\ub85c \ub3d9\uc791\ud558\ub294\uc9c0 \uc2dc\ud5d8\ud558\uc138\uc694."
     ]
    },
    {
     "cell_type": "heading",
     "level": 3,
     "metadata": {
      "cell_tags": []
     },
     "source": [
      "\ucd08\uae30 \uc124\uc815(Default) \uc815\uc758"
     ]
    },
    {
     "cell_type": "markdown",
     "metadata": {
      "cell_tags": []
     },
     "source": [
      "\ub450 \uac00\uc9c0 \ubc29\uc2dd\uc73c\ub85c \ud568\uc218\uc5d0 \ub9e4\uac1c\ubcc0\uc218\ub97c \ub118\uaca8\uc92c\ub2e4. `span(data)`\ucc98\ub7fc \uc9c1\uc811\uc801\uc73c\ub85c, \n",
      "`numpy.loadtxt(fname='something.csv', delimiter=',')`\uacfc \uac19\uc774 \uc774\ub984\uc73c\ub85c \ub118\uaca8\uc92c\ub2e4. \uc0ac\uc2e4 \ub9e4\uac1c\ubcc0\uc218\ub97c `fname=` \uc5c6\uc774 `loadtxt` \ud568\uc218\uc5d0 \ud30c\uc77c\uc774\ub984\uc744 \ub118\uae38 \uc218 \uc788\ub2e4."
     ]
    },
    {
     "cell_type": "code",
     "collapsed": false,
     "input": [
      "numpy.loadtxt('inflammation-01.csv', delimiter=',')"
     ],
     "language": "python",
     "metadata": {
      "cell_tags": []
     },
     "outputs": [
      {
       "metadata": {},
       "output_type": "pyout",
       "prompt_number": 25,
       "text": [
        "array([[ 0.,  0.,  1., ...,  3.,  0.,  0.],\n",
        "       [ 0.,  1.,  2., ...,  1.,  0.,  1.],\n",
        "       [ 0.,  1.,  1., ...,  2.,  1.,  1.],\n",
        "       ..., \n",
        "       [ 0.,  1.,  1., ...,  1.,  1.,  1.],\n",
        "       [ 0.,  0.,  0., ...,  0.,  2.,  0.],\n",
        "       [ 0.,  0.,  1., ...,  1.,  1.,  0.]])"
       ]
      }
     ],
     "prompt_number": 25
    },
    {
     "cell_type": "markdown",
     "metadata": {
      "cell_tags": []
     },
     "source": [
      "\ud558\uc9c0\ub9cc, \uc5ec\uc804\ud788 `delimiter=`\uc744 \uc5b8\uae09\ud560 \ud544\uc694\uac00 \uc788\ub2e4."
     ]
    },
    {
     "cell_type": "code",
     "collapsed": false,
     "input": [
      "numpy.loadtxt('inflammation-01.csv', ',')"
     ],
     "language": "python",
     "metadata": {
      "cell_tags": []
     },
     "outputs": [
      {
       "ename": "TypeError",
       "evalue": "data type \",\" not understood",
       "output_type": "pyerr",
       "traceback": [
        "\u001b[0;31m---------------------------------------------------------------------------\u001b[0m\n\u001b[0;31mTypeError\u001b[0m                                 Traceback (most recent call last)",
        "\u001b[0;32m<ipython-input-26-e3bc6cf4fd6a>\u001b[0m in \u001b[0;36m<module>\u001b[0;34m()\u001b[0m\n\u001b[0;32m----> 1\u001b[0;31m \u001b[0mnumpy\u001b[0m\u001b[0;34m.\u001b[0m\u001b[0mloadtxt\u001b[0m\u001b[0;34m(\u001b[0m\u001b[0;34m'inflammation-01.csv'\u001b[0m\u001b[0;34m,\u001b[0m \u001b[0;34m','\u001b[0m\u001b[0;34m)\u001b[0m\u001b[0;34m\u001b[0m\u001b[0m\n\u001b[0m",
        "\u001b[0;32m/Users/gwilson/anaconda/lib/python2.7/site-packages/numpy/lib/npyio.pyc\u001b[0m in \u001b[0;36mloadtxt\u001b[0;34m(fname, dtype, comments, delimiter, converters, skiprows, usecols, unpack, ndmin)\u001b[0m\n\u001b[1;32m    775\u001b[0m     \u001b[0;32mtry\u001b[0m\u001b[0;34m:\u001b[0m\u001b[0;34m\u001b[0m\u001b[0m\n\u001b[1;32m    776\u001b[0m         \u001b[0;31m# Make sure we're dealing with a proper dtype\u001b[0m\u001b[0;34m\u001b[0m\u001b[0;34m\u001b[0m\u001b[0m\n\u001b[0;32m--> 777\u001b[0;31m         \u001b[0mdtype\u001b[0m \u001b[0;34m=\u001b[0m \u001b[0mnp\u001b[0m\u001b[0;34m.\u001b[0m\u001b[0mdtype\u001b[0m\u001b[0;34m(\u001b[0m\u001b[0mdtype\u001b[0m\u001b[0;34m)\u001b[0m\u001b[0;34m\u001b[0m\u001b[0m\n\u001b[0m\u001b[1;32m    778\u001b[0m         \u001b[0mdefconv\u001b[0m \u001b[0;34m=\u001b[0m \u001b[0m_getconv\u001b[0m\u001b[0;34m(\u001b[0m\u001b[0mdtype\u001b[0m\u001b[0;34m)\u001b[0m\u001b[0;34m\u001b[0m\u001b[0m\n\u001b[1;32m    779\u001b[0m \u001b[0;34m\u001b[0m\u001b[0m\n",
        "\u001b[0;31mTypeError\u001b[0m: data type \",\" not understood"
       ]
      }
     ],
     "prompt_number": 26
    },
    {
     "cell_type": "markdown",
     "metadata": {
      "cell_tags": []
     },
     "source": [
      "\ubb34\uc5c7\uc774 \uc9c4\ud589\ub418\ub294\uc9c0 \uc774\ud574\ud558\uace0 \uc791\uc131\ud55c \ud568\uc218\ub97c \uc0ac\uc6a9\ud558\uae30 \uc880\ub354 \uc27d\uac8c \ud558\uae30 \uc704\ud574\uc11c, \ub2e4\uc74c\uacfc \uac19\uc774 `center` \ud568\uc218\ub97c \ub2e4\uc2dc \uc815\uc758\ud558\uc790."
     ]
    },
    {
     "cell_type": "code",
     "collapsed": false,
     "input": [
      "def center(data, desired=0.0):\n",
      "    '''Return a new array containing the original data centered around the desired value (0 by default).\n",
      "    Example: center([1, 2, 3], 0) => [-1, 0, 1]'''\n",
      "    return (data - data.mean()) + desired"
     ],
     "language": "python",
     "metadata": {
      "cell_tags": []
     },
     "outputs": [],
     "prompt_number": 27
    },
    {
     "cell_type": "markdown",
     "metadata": {
      "cell_tags": []
     },
     "source": [
      "\uc911\uc694 \ubcc0\uacbd\uc0ac\ud56d\uc740 \ub450\ubc88\uc9f8 \uc778\uc790\uac00 \uc774\uc81c `desired` \ub300\uc2e0\uc5d0 `desired = 0.0`\uc774 \ub418\uc5c8\ub2e4. \uc778\uc790 \ub450\uac1c\ub85c \uac00\uc9c4 \ud568\uc218\ub97c \ud638\ucd9c\ud558\uba74, \uc804\uacfc \ub3d9\uc77c\ud55c \ubc29\uc2dd\uc73c\ub85c \ub3d9\uc791\ud55c\ub2e4."
     ]
    },
    {
     "cell_type": "code",
     "collapsed": false,
     "input": [
      "test_data = numpy.zeros((2, 2))\n",
      "print center(test_data, 3)"
     ],
     "language": "python",
     "metadata": {
      "cell_tags": []
     },
     "outputs": [
      {
       "output_type": "stream",
       "stream": "stdout",
       "text": [
        "[[ 3.  3.]\n",
        " [ 3.  3.]]\n"
       ]
      }
     ],
     "prompt_number": 28
    },
    {
     "cell_type": "markdown",
     "metadata": {
      "cell_tags": []
     },
     "source": [
      "\ud558\uc9c0\ub9cc, \ub2e8\uc9c0 \ud558\ub098\uc758 \uc778\uc790\ub85c \ud568\uc218\ub97c \ud638\ucd9c\ud560 \uc218\ub3c4 \uc788\ub2e4. \uc774 \uacbd\uc6b0\uc5d0 `desired`\ub294 \uc790\ub3d9\uc801\uc73c\ub85c [\ucd08\uae30 \uc124\uc815\uac12(default value)](../../gloss.html#default-parameter-value) 0.0 \uc774 \ud560\ub2f9\ub41c\ub2e4."
     ]
    },
    {
     "cell_type": "code",
     "collapsed": false,
     "input": [
      "more_data = 5 + numpy.zeros((2, 2))\n",
      "print 'data before centering:', more_data\n",
      "print 'centered data:', center(more_data)"
     ],
     "language": "python",
     "metadata": {
      "cell_tags": []
     },
     "outputs": [
      {
       "output_type": "stream",
       "stream": "stdout",
       "text": [
        "data before centering: [[ 5.  5.]\n",
        " [ 5.  5.]]\n",
        "centered data: [[ 0.  0.]\n",
        " [ 0.  0.]]\n"
       ]
      }
     ],
     "prompt_number": 29
    },
    {
     "cell_type": "markdown",
     "metadata": {
      "cell_tags": []
     },
     "source": [
      "\ub9e4\uc6b0 \ud3b8\ub9ac\ud558\ub2e4. \ub9cc\uc57d \ud55c \ubc29\uc2dd\uc73c\ub85c \ub3d9\uc791\ud558\ub294 \ud568\uc218\ub97c \uc6d0\ud558\uc9c0\ub9cc \ub54c\ub54c\ub85c \ub2e4\ub974\uac8c \ub3d9\uc791\ud560 \ud544\uc694\uac00 \uc788\ub2e4\uba74, \ud544\uc694\ud560 \ub54c\ub9cc \ub9e4\uac1c\ubcc0\uc218\ub97c \ub118\uae30\uac8c \ud558\uace0 \uc815\uc0c1\uc801\uc778 \uacbd\uc6b0\ub294 \uc880\ub354 \uc27d\uac8c \ud558\ub824\uace0 \ucd08\uae30 \uc124\uc815\uac12\uc744 \ub123\ub294\ub2e4.\n",
      "\n",
      "\ub2e4\uc74c \uc608\uc81c\ub294 \uc5b4\ub5bb\uac8c \ud30c\uc774\uc36c\uc774 \uac12\uc744 \uc778\uc790\uc5d0 \ub9e4\uce6d\ud558\ub294\uc9c0 \ubcf4\uc5ec\uc900\ub2e4."
     ]
    },
    {
     "cell_type": "code",
     "collapsed": false,
     "input": [
      "def display(a=1, b=2, c=3):\n",
      "    print 'a:', a, 'b:', b, 'c:', c\n",
      "\n",
      "print 'no parameters:'\n",
      "display()\n",
      "print 'one parameter:'\n",
      "display(55)\n",
      "print 'two parameters:'\n",
      "display(55, 66)"
     ],
     "language": "python",
     "metadata": {
      "cell_tags": []
     },
     "outputs": [
      {
       "output_type": "stream",
       "stream": "stdout",
       "text": [
        "no parameters:\n",
        "a: 1 b: 2 c: 3\n",
        "one parameter:\n",
        "a: 55 b: 2 c: 3\n",
        "two parameters:\n",
        "a: 55 b: 66 c: 3\n"
       ]
      }
     ],
     "prompt_number": 30
    },
    {
     "cell_type": "markdown",
     "metadata": {
      "cell_tags": []
     },
     "source": [
      "\uc608\uc81c\uac00 \ubcf4\uc5ec\uc8fc\ub4ef\uc774, \uc778\uc790\ub294 \uc67c\ucabd\uc5d0\uc11c \uc624\ub978\ucabd\uc73c\ub85c \ub9e4\uce6d\ub41c\ub2e4. \uadf8\ub9ac\uace0 \uba85\uc2dc\uc801\uc73c\ub85c \uac12\uc774 \uc8fc\uc5b4\uc9c0\uc9c0 \uc54a\ub294 \uac83\uc740 \ucd08\uae30 \uc124\uc815\uac12\uc744 \uac16\ub294\ub2e4. \uc778\uc790\ub97c \ub118\uae38 \ub54c \uac12\uc5d0 \uc774\ub984\uc744 \uc90c\uc73c\ub85c\uc368 \uc774\ub7f0 \ud589\ub3d9\uc744 \uc624\ubc84\ub77c\uc774\ub4dc(override)\ud560 \uc218 \uc788\ub2e4."
     ]
    },
    {
     "cell_type": "code",
     "collapsed": false,
     "input": [
      "print 'only setting the value of c'\n",
      "display(c=77)"
     ],
     "language": "python",
     "metadata": {
      "cell_tags": []
     },
     "outputs": [
      {
       "output_type": "stream",
       "stream": "stdout",
       "text": [
        "only setting the value of c\n",
        "a: 1 b: 2 c: 77\n"
       ]
      }
     ],
     "prompt_number": 31
    },
    {
     "cell_type": "markdown",
     "metadata": {
      "cell_tags": []
     },
     "source": [
      "\uc0c1\uae30 \ub0b4\uc6a9\uc744 \uac00\uc9c0\uace0, `numpy.loadtxt` \ud568\uc218\uc758 \ub3c4\uc6c0\ub9d0\uc744 \uc0b4\ud3b4 \ubcf4\uc790."
     ]
    },
    {
     "cell_type": "code",
     "collapsed": false,
     "input": [
      "help(numpy.loadtxt)"
     ],
     "language": "python",
     "metadata": {
      "cell_tags": []
     },
     "outputs": [
      {
       "output_type": "stream",
       "stream": "stdout",
       "text": [
        "Help on function loadtxt in module numpy.lib.npyio:\n",
        "\n",
        "loadtxt(fname, dtype=<type 'float'>, comments='#', delimiter=None, converters=None, skiprows=0, usecols=None, unpack=False, ndmin=0)\n",
        "    Load data from a text file.\n",
        "    \n",
        "    Each row in the text file must have the same number of values.\n",
        "    \n",
        "    Parameters\n",
        "    ----------\n",
        "    fname : file or str\n",
        "        File, filename, or generator to read.  If the filename extension is\n",
        "        ``.gz`` or ``.bz2``, the file is first decompressed. Note that\n",
        "        generators should return byte strings for Python 3k.\n",
        "    dtype : data-type, optional\n",
        "        Data-type of the resulting array; default: float.  If this is a\n",
        "        record data-type, the resulting array will be 1-dimensional, and\n",
        "        each row will be interpreted as an element of the array.  In this\n",
        "        case, the number of columns used must match the number of fields in\n",
        "        the data-type.\n",
        "    comments : str, optional\n",
        "        The character used to indicate the start of a comment;\n",
        "        default: '#'.\n",
        "    delimiter : str, optional\n",
        "        The string used to separate values.  By default, this is any\n",
        "        whitespace.\n",
        "    converters : dict, optional\n",
        "        A dictionary mapping column number to a function that will convert\n",
        "        that column to a float.  E.g., if column 0 is a date string:\n",
        "        ``converters = {0: datestr2num}``.  Converters can also be used to\n",
        "        provide a default value for missing data (but see also `genfromtxt`):\n",
        "        ``converters = {3: lambda s: float(s.strip() or 0)}``.  Default: None.\n",
        "    skiprows : int, optional\n",
        "        Skip the first `skiprows` lines; default: 0.\n",
        "    usecols : sequence, optional\n",
        "        Which columns to read, with 0 being the first.  For example,\n",
        "        ``usecols = (1,4,5)`` will extract the 2nd, 5th and 6th columns.\n",
        "        The default, None, results in all columns being read.\n",
        "    unpack : bool, optional\n",
        "        If True, the returned array is transposed, so that arguments may be\n",
        "        unpacked using ``x, y, z = loadtxt(...)``.  When used with a record\n",
        "        data-type, arrays are returned for each field.  Default is False.\n",
        "    ndmin : int, optional\n",
        "        The returned array will have at least `ndmin` dimensions.\n",
        "        Otherwise mono-dimensional axes will be squeezed.\n",
        "        Legal values: 0 (default), 1 or 2.\n",
        "        .. versionadded:: 1.6.0\n",
        "    \n",
        "    Returns\n",
        "    -------\n",
        "    out : ndarray\n",
        "        Data read from the text file.\n",
        "    \n",
        "    See Also\n",
        "    --------\n",
        "    load, fromstring, fromregex\n",
        "    genfromtxt : Load data with missing values handled as specified.\n",
        "    scipy.io.loadmat : reads MATLAB data files\n",
        "    \n",
        "    Notes\n",
        "    -----\n",
        "    This function aims to be a fast reader for simply formatted files.  The\n",
        "    `genfromtxt` function provides more sophisticated handling of, e.g.,\n",
        "    lines with missing values.\n",
        "    \n",
        "    Examples\n",
        "    --------\n",
        "    >>> from StringIO import StringIO   # StringIO behaves like a file object\n",
        "    >>> c = StringIO(\"0 1\\n2 3\")\n",
        "    >>> np.loadtxt(c)\n",
        "    array([[ 0.,  1.],\n",
        "           [ 2.,  3.]])\n",
        "    \n",
        "    >>> d = StringIO(\"M 21 72\\nF 35 58\")\n",
        "    >>> np.loadtxt(d, dtype={'names': ('gender', 'age', 'weight'),\n",
        "    ...                      'formats': ('S1', 'i4', 'f4')})\n",
        "    array([('M', 21, 72.0), ('F', 35, 58.0)],\n",
        "          dtype=[('gender', '|S1'), ('age', '<i4'), ('weight', '<f4')])\n",
        "    \n",
        "    >>> c = StringIO(\"1,0,2\\n3,0,4\")\n",
        "    >>> x, y = np.loadtxt(c, delimiter=',', usecols=(0, 2), unpack=True)\n",
        "    >>> x\n",
        "    array([ 1.,  3.])\n",
        "    >>> y\n",
        "    array([ 2.,  4.])\n",
        "\n"
       ]
      }
     ],
     "prompt_number": 32
    },
    {
     "cell_type": "markdown",
     "metadata": {
      "cell_tags": []
     },
     "source": [
      "\ub9ce\uc740 \uc815\ubcf4\uac00 \uc788\uc9c0\ub9cc, \uac00\uc7a5 \uc911\uc694\ud558\ub294 \ubd80\ubd84\uc740 \ucc98\uc74c \uba87\uc904\uc774\ub2e4.\n",
      "\n",
      "~~~python\n",
      "loadtxt(fname, dtype=<type 'float'>, comments='#', delimiter=None, converters=None, skiprows=0, usecols=None,\n",
      "        unpack=False, ndmin=0)\n",
      "~~~\n",
      "\n",
      "`loadtxt`\ub294 \ud558\ub098\uc758 \ub9e4\uac1c\ubcc0\uc218 `fname`\ub9cc \ucd08\uae30 \uc124\uc815\uc744 \uac16\uc9c0 \uc54a\uace0, \ub2e4\ub978 6\uac1c\ub294 \ucd08\uae30 \uc124\uc815\uc744 \uac00\uc9c0\ub294 \uac83\uc744 \ubcf4\uc5ec\uc900\ub2e4. \ub9cc\uc57d \ud568\uc218\ub97c \ub2e4\uc74c\uacfc \uac19\uc774 \ud638\ucd9c\ud55c\ub2e4\uba74,\n",
      "\n",
      "~~~python\n",
      "numpy.loadtxt('inflammation-01.csv', ',')\n",
      "~~~\n",
      "\n",
      "\ud30c\uc77c \uc774\ub984\uc774 \uc0ac\uc6a9\uc790\uac00 \uc6d0\ud558\ub294 \uc704\uce58\uc778 `fname`\uc5d0 \ud560\ub2f9\ub418\uc9c0\ub9cc, \uad6c\ubd84\uc790 \ubb38\uc790\uc5f4 `','`\uc740 `delimiter` \ub300\uc2e0\uc5d0 `dtype`\uc5d0 \ud560\ub2f9\ub41c\ub2e4. \uc65c\ub0d0\ud558\uba74, `dtype`\uc774 \ub9e4\uac1c\ubcc0\uc218 \ub9ac\uc2a4\ud2b8\uc5d0 \ub450\ubc88\uc9f8 \uc704\uce58\uc5d0 \uc788\uae30 \ub54c\ubb38\uc774\ub2e4. \uc774\ub7ec\ud55c \uc774\uc720\ub85c \ud30c\uc77c\uc774\ub984\uc5d0 \ub300\ud574\uc11c `fname=`\uc744 \uba85\uae30\ud560 \ud544\uc694\ub294 \uc5c6\uc9c0\ub9cc, \ub450\ubc88\uc9f8 \ub9e4\uac1c\ubcc0\uc218\uc5d0 \ub300\ud574\uc11c\ub294 `delimiter=`\ub97c *\uba85\uae30\ud574\uc57c* \ud55c\ub2e4."
     ]
    },
    {
     "cell_type": "markdown",
     "metadata": {
      "cell_tags": [
       "challenges"
      ]
     },
     "source": [
      "#### \ub3c4\uc804 \uacfc\uc81c\n",
      "\n",
      "1.  `rescale` \ud568\uc218\ub97c \uc7ac\uc791\uc131\ud574\uc11c \ucd08\uae30 \uc124\uc815\uc73c\ub85c \ub370\uc774\ud130\uac00 0.0 \uc5d0\uc11c 1.0 \uc0ac\uc774\uc5d0 \ub193\uac8c \ud558\uc138\uc694. \n",
      "    \ud558\uc9c0\ub9cc \ud638\ucd9c\uc790\uac00 \uc6d0\ud55c\ub2e4\uba74, \ud558\ud55c\uacfc \uc0c1\ud55c\uc744 \uc9c0\uc815\ud560 \uc218 \uc788\uac8c \ud558\uc138\uc694. \n",
      "    \uc606 \uc0ac\ub78c\uacfc \uad6c\ud604\ud55c \uac83\uc744 \ube44\uad50\ud558\uc138\uc694. \ub450 \ud568\uc218\uac00 \ud56d\uc0c1 \uac19\uc740 \ubc29\uc2dd\uc73c\ub85c \ub3d9\uc791\ud558\ub098\uc694?"
     ]
    },
    {
     "cell_type": "markdown",
     "metadata": {
      "cell_tags": [
       "keypoints"
      ]
     },
     "source": [
      "#### \uc8fc\uc694\uc810\n",
      "\n",
      "*   `def name(...params...)`\uc744 \uc0ac\uc6a9\ud574\uc11c \ud568\uc218\ub97c \uc791\uc131\ud558\ub77c.\n",
      "*   \ud568\uc218\uc758 \ubab8\ud1b5\ubd80\ubd84\uc740 \ub4e4\uc5ec\uc4f0\uae30 \ud55c\ub2e4.\n",
      "*   `name(...values...)`\uc744 \uc0ac\uc6a9\ud574\uc11c \ud568\uc218\ub97c \ud638\ucd9c\ud558\ub77c.\n",
      "*   \uc22b\uc790\ub294 \uc815\uc218 \ud639\uc740 \ubd80\ub3d9 \uc18c\uc218\uc810\uc73c\ub85c \uc800\uc7a5\ub41c\ub2e4.\n",
      "*   \uc815\uc218 \ub098\ub217\uc148\uc740 \uacb0\uacfc\uac12\uc740 \ubaab\ub9cc \uc0b0\ucd9c\ud558\uace0 \uc2e4\uc218\uc758 \uc18c\uc218\ubd80\ub294 \uc0b0\ucd9c\ud558\uc9c0 \uc54a\ub294\ub2e4.\n",
      "*   \ud568\uc218\uac00 \ub9e4\ubc88 \ud638\ucd9c\ub420 \ub54c\ub9c8\ub2e4, \uc2e0\uaddc \uc2a4\ud0dd \ud504\ub808\uc784\uc774 [\ucf5c \uc2a4\ud0dd(call stack)](../../gloss.html#call-stack)\uc5d0 \uc0dd\uc131\ub418\uc5b4 \uc778\uc790\uc640 \ub85c\uceec \ubcc0\uc218\ub97c \uac00\uc9c4\ud55c\ub2e4.\n",
      "*   \ud30c\uc774\uc36c\uc740 \uc0c1\uc704 \uc218\uc900\uc5d0\uc11c \ubcc0\uc218\ub97c \ucc3e\uae30 \uc804\uc5d0 \ud604\uc7ac \uc2a4\ud0dd \ud504\ub808\uc784\uc5d0\uc11c \ubcc0\uc218\ub97c \ucc3e\ub294\ub2e4.\n",
      "*   \ubb34\uc5b8\uac00\uc758 \ub3c4\uc6c0\ub9d0\uc744 \ubcf4\uae30 \uc704\ud574\uc11c help(thing)\uc744 \uc0ac\uc6a9\ud55c\ub2e4.\n",
      "*   \ud568\uc218\uc5d0 \ub3c4\uc6c0\ub9d0\uc744 \uc81c\uacf5\ud558\ub824\uba74 \ud568\uc218\uc5d0 docstring\uc744 \ub123\uc5b4\ub77c.   \n",
      "*   \ub9e4\uac1c\ubcc0\uc218 \ubaa9\ub85d\uc5d0 `name = value`\uc744 \uc0ac\uc6a9\ud574\uc11c \ud568\uc218\ub97c \uc815\uc758\ud560 \ub54c, \uc778\uc790\uc5d0 \ub300\ud574\uc11c \ucd08\uae30 \uc124\uc815\uac12\uc744 \uba85\uae30\ud558\ub77c.    \n",
      "*   \ub9e4\uac1c\ubcc0\uc218\ub294 \uc774\ub984, \uc704\uce58, \ud639\uc740 \uc0dd\ub7b5\ud558\uace0 \ub118\uae38 \uc218 \uc788\ub2e4. \uc0dd\ub7b5\ud558\ub294 \uacbd\uc6b0 \ucd08\uae30\uc124\uc815\uac12\uc774 \uc0ac\uc6a9\ub41c\ub2e4."
     ]
    },
    {
     "cell_type": "markdown",
     "metadata": {
      "cell_tags": []
     },
     "source": [
      "#### \ub2e4\uc74c \ub2e8\uacc4\n",
      "\n",
      "`analyze` \ud568\uc218\ub97c \uac00\uc9c0\uace0 \ud558\ub098\uc758 \ub370\uc774\ud130\uc14b\uc744 \uc2dc\uac01\ud654\ud560 \uc218 \uc788\ub2e4. \ub2e4\uc74c\uacfc \uac19\uc774 12\uac1c \ub370\uc774\ud130\ub137 \ubaa8\ub450\ub97c \ud0d0\uc0c9\ud558\ub824\uace0 \uc0ac\uc6a9\ud560 \uc218 \uc788\ub2e4.\n",
      "\n",
      "~~~python\n",
      "analyze('inflammation-01.csv')\n",
      "analyze('inflammation-02.csv')\n",
      "...\n",
      "analyze('inflammation-12.csv')\n",
      "~~~\n",
      "\n",
      "\ud558\uc9c0\ub9cc, 12\uac1c \ud30c\uc77c\uc774\ub984\uc744 \ubaa8\ub450 \uc815\ud655\ud558\uac8c \ud0c0\uc774\ud551\ud560 \uac00\ub2a5\uc131\uc740 \ud06c\uc9c0 \uc54a\ub2e4. \uadf8\ub9ac\uace0 \ub9cc\uc57d \ubc31\uac1c \ud30c\uc77c\uc774 \ub354 \uc788\ub2e4\uba74 \ub354 \ub09c\uac10\ud558\uac8c \ub420 \uac83\uc774\ub2e4. \ud544\uc694\ud55c \uac83\uc740 \ud30c\uc774\uc36c\uc774 \uac01 \ud30c\uc77c\uc5d0 \ub300\ud574\uc11c \ud55c\ubc88\uc529 \ubb34\uc5c7\uc744 \uc218\ud589\ud558\uac8c \ud558\ub294 \uac83\uc774\ub2e4. \uc774\uac83\uc774 \ub2e4\uc74c \ud559\uc2b5\uc8fc\uc81c\ub2e4."
     ]
    },
    {
     "cell_type": "code",
     "collapsed": false,
     "input": [],
     "language": "python",
     "metadata": {},
     "outputs": []
    }
   ],
   "metadata": {}
  }
 ]
}