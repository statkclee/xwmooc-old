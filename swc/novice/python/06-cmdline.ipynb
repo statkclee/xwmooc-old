{
 "metadata": {
  "name": "06-cmdline.ipynb"
 },
 "nbformat": 3,
 "nbformat_minor": 0,
 "worksheets": [
  {
   "cells": [
    {
     "cell_type": "heading",
     "level": 2,
     "metadata": {
      "cell_tags": []
     },
     "source": [
      "\uba85\ub839-\ub77c\uc778 \ud504\ub85c\uadf8\ub7a8 (Command-Line Programs)"
     ]
    },
    {
     "cell_type": "markdown",
     "metadata": {
      "cell_tags": []
     },
     "source": [
      "IPython Notebook\uacfc \ub2e4\ub978 \uc778\ud130\ub799\ud2f0\ube0c \ub3c4\uad6c\ub294 \ub370\uc774\ud130\ub97c \ud0d0\uc0c9\ud558\uace0 \ud504\ub85c\ud1a0\ud0c0\uc785 \ucf54\ub4dc\ub97c \uc791\uc131\ud558\ub294\ub370\ub294 \ud6cc\ub96d\ud558\uc9c0\ub9cc \uc870\ub9cc\uac04 \ud30c\uc774\ud504\ub77c\uc778\uc5d0\uc11c \ud504\ub85c\uadf8\ub7a8\uc744 \uc0ac\uc6a9\ud558\uac70\ub098\n",
      "\uc218\ucc9c\uac1c\uc758 \ud30c\uc77c\uc744 \ucc98\ub9ac\ud558\ub294\ub370 \uc258 \uc2a4\ud06c\ub9bd\ud2b8\ub97c \uc2e4\ud589\ud560 \uac83\uc774\ub2e4.\n",
      "\uc774\ub97c \uc704\ud574\uc11c \uc791\uc131\ud55c \ud504\ub85c\uadf8\ub7a8\uc774 \ub2e4\ub978 \uc720\ub2c9\uc2a4 \uba85\ub839-\ub77c\uc778 \ub3c4\uad6c\uc640 \ud568\uaed8 \ub3d9\uc791\ud558\ub3c4\ub85d \ub9cc\ub4e4 \ud544\uc694\uac00 \uc788\ub2e4.\n",
      "\uc608\ub97c \ub4e4\uc5b4, \ub370\uc774\ud130 \uc14b\uc744 \uc77d\uace0 \ud658\uc790\ub2f9 \ud3c9\uade0 \uc5fc\uc99d\uac12\uc744 \ucd9c\ub825\ud558\ub294 \ud504\ub85c\uadf8\ub7a8\uc744 \ub9cc\ub4e4\uace0 \uc2f6\ub2e4.\n",
      "\n",
      "~~~\n",
      "$ python readings.py --mean inflammation-01.csv\n",
      "5.45\n",
      "5.425\n",
      "6.1\n",
      "...\n",
      "6.4\n",
      "7.05\n",
      "5.9\n",
      "~~~\n",
      "\n",
      "\ud558\uc9c0\ub9cc, \uccab 4\ubc88\uc9f8 \ub77c\uc778\uc758 \ucd5c\uc18c\uac12\uc744 \ubcf4\uace0\uc790 \ud560\uc9c0 \ubaa8\ub978\ub2e4.\n",
      "\n",
      "~~~\n",
      "$ head -4 inflammation-01.csv | python readings.py --min\n",
      "~~~\n",
      "\n",
      "\ud639\uc740 \uc5ec\ub7ec\uac1c \ud30c\uc77c\uc744 \uc21c\uc11c\ub300\ub85c \ud558\ub098\uc529 \ucd5c\ub300 \uc5fc\uc99d\uac12\uc744 \ubcf4\uace0\uc790 \ud560\uc9c0 \ubaa8\ub978\ub2e4.\n",
      "\n",
      "~~~\n",
      "$ python readings.py --max inflammation-*.csv\n",
      "~~~\n",
      "\n",
      "\uc804\ubc18\uc801\uc778 \uc694\uad6c\uc0ac\ud56d\uc740 \ub2e4\uc74c\uacfc \uac19\ub2e4.\n",
      "\n",
      "1. \ub9cc\uc57d \ud30c\uc77c \uc774\ub984\uc774 \uba85\ub839 \ub77c\uc778\uc5d0 \uc8fc\uc5b4\uc9c0\uc9c0 \uc54a\ub294\ub2e4\uba74, [\ud45c\uc900 \uc785\ub825(standard input)](../../gloss.html#standard-input)\uc5d0\uc11c \ub370\uc774\ud130\ub97c \uc77d\ub294\ub2e4.\n",
      "2. \ub9cc\uc57d \ud558\ub098 \ud639\uc740 \uadf8 \uc774\uc0c1\uc758 \ud30c\uc77c\uc774\ub984\uc774 \uc8fc\uc5b4\uc9c4\ub2e4\uba74, \ub370\uc774\ud130\ub97c \ud30c\uc77c\uc774\ub984\uc5d0\uc11c \uc77d\uace0 \uac01 \ud30c\uc77c\uc5d0 \ub300\ud574\uc11c \ubcc4\ub3c4\ub85c \ud1b5\uacc4\uc790\ub8cc\ub97c \ubcf4\uace0\ud55c\ub2e4.\n",
      "3. \ubb34\uc2a8 \ud1b5\uacc4\uce58\ub97c \ucd9c\ub825\ud560 \uac83\uc778\uc9c0 \uacb0\uc815\ud558\uae30 \uc704\ud574\uc11c `--min`, `--mean`, `--max` \uc635\uc158 \ud50c\ub798\uadf8\ub97c \uc0ac\uc6a9\ud55c\ub2e4.\n",
      "\n",
      "\uc0c1\uae30 \uc694\uad6c\uc0ac\ud56d\uc744 \ub9cc\uc871\ud558\ub294 \ud504\ub85c\uadf8\ub7a8\uc744 \uc791\uc131\ud558\uae30 \uc704\ud574\uc11c, \ud504\ub85c\uadf8\ub7a8\uc5d0\uc11c \uc5b4\ub5bb\uac8c \uba85\ub839-\ub77c\uc778 \uc778\uc790\ub97c \ub2e4\ub8e8\ub294\uc9c0 \uadf8\ub9ac\uace0 \uc5b4\ub5bb\uac8c \ud45c\uc900 \uc785\ub825\uc744 \ubc1b\ub294\uc9c0 \ud30c\uc545\ud560 \ud544\uc694\uac00 \uc788\ub2e4.\n",
      "\uc774\ub7ec\ud55c \uc9c8\ubb38\uc744 \ub2e4\uc74c\uc5d0\uc11c \uc21c\ucc28\uc801\uc73c\ub85c \ub2e4\ub8ec\ub2e4."
     ]
    },
    {
     "cell_type": "markdown",
     "metadata": {
      "cell_tags": [
       "objectives"
      ]
     },
     "source": [
      "#### \ubaa9\ud45c\n",
      "\n",
      "*   \uba85\ub839-\ub77c\uc778 \uc778\uc790 \uac12\uc744 \ud504\ub85c\uadf8\ub7a8\uc5d0 \uc0ac\uc6a9\ud55c\ub2e4.\n",
      "*   \uba85\ub839-\ub77c\uc778 \ud504\ub85c\uadf8\ub7a8\uc5d0 \uc635\uc158 \ud50c\ub798\uadf8\uc640 \ud30c\uc77c\uc744 \ubcc4\ub3c4\ub85c \ub2e4\ub8ec\ub2e4.\n",
      "*   \ud504\ub85c\uadf8\ub7a8\uc5d0\uc11c \ud45c\uc900 \uc785\ub825\uac12\uc744 \ub370\uc774\ud130\uc5d0\uc11c \uc77d\uc5b4\uc11c \ud30c\uc774\ud504\ub77c\uc778\uc5d0\uc11c \uc0ac\uc6a9\ub420 \uc218 \uc788\uac8c \ud55c\ub2e4."
     ]
    },
    {
     "cell_type": "heading",
     "level": 3,
     "metadata": {
      "cell_tags": []
     },
     "source": [
      "\uba85\ub839-\ub77c\uc778 \uc778\uc790 (Command-Line Arguments)"
     ]
    },
    {
     "cell_type": "markdown",
     "metadata": {
      "cell_tags": []
     },
     "source": [
      "\uc5ec\ub7ec\ubd84\uc774 \uc120\ud0dd\ud55c \ud14d\uc2a4\ud2b8 \ud3b8\uc9d1\uae30\ub97c \uc0ac\uc6a9\ud558\uc5ec, \ud14d\uc2a4\ud2b8 \ud30c\uc77c\uc5d0 \ub2e4\uc74c\uc744 \uc800\uc7a5\ud558\uc138\uc694."
     ]
    },
    {
     "cell_type": "code",
     "collapsed": false,
     "input": [
      "!cat sys-version.py"
     ],
     "language": "python",
     "metadata": {
      "cell_tags": []
     },
     "outputs": [
      {
       "output_type": "stream",
       "stream": "stdout",
       "text": [
        "import sys\r\n",
        "print 'version is', sys.version\r\n"
       ]
      }
     ],
     "prompt_number": 2
    },
    {
     "cell_type": "markdown",
     "metadata": {
      "cell_tags": []
     },
     "source": [
      "\uccab\ubc88\uc9f8 \ud589\uc740 \"system\"\uc744 \uac04\ub7b5\ud558\uac8c \uc904\uc778 `sys`\ub77c\ub294 \ub77c\uc774\ube0c\ub7ec\ub9ac\ub97c \uac00\uc838\uc628\ub2e4.\n",
      "\uac00\uc838\uc628 \ub77c\uc774\ube0c\ub7ec\ub9ac\ub294 `sys.version` \uac19\uc740 \uac12\uc744 \uc815\uc758\ud558\ub294\ub370 Pythong \ubc84\uc83c\uc774 \ubb34\uc5c7\uc778\uc9c0 \uae30\uc220\ud55c\ub2e4.\n",
      "IPython Notebook \ub0b4\ubd80\uc5d0\uc11c \ub2e4\uc74c\uacfc \uac19\uc774 \uc2a4\ud06c\ub9bd\ud2b8\ub97c \uc2e4\ud589\ud560 \uc218 \uc788\ub2e4."
     ]
    },
    {
     "cell_type": "code",
     "collapsed": false,
     "input": [
      "%run sys-version.py"
     ],
     "language": "python",
     "metadata": {
      "cell_tags": []
     },
     "outputs": [
      {
       "output_type": "stream",
       "stream": "stdout",
       "text": [
        "version is 2.7.5 |Anaconda 1.8.0 (x86_64)| (default, Oct 24 2013, 07:02:20) \n",
        "[GCC 4.0.1 (Apple Inc. build 5493)]\n"
       ]
      }
     ],
     "prompt_number": 3
    },
    {
     "cell_type": "markdown",
     "metadata": {
      "cell_tags": []
     },
     "source": [
      "\ud639\uc740 \ub2e4\uc74c\uacfc \uac19\uc774\ub3c4 \uac00\ub2a5\ud558\ub2e4."
     ]
    },
    {
     "cell_type": "code",
     "collapsed": false,
     "input": [
      "!ipython sys-version.py"
     ],
     "language": "python",
     "metadata": {
      "cell_tags": []
     },
     "outputs": [
      {
       "output_type": "stream",
       "stream": "stdout",
       "text": [
        "version is 2.7.5 |Anaconda 1.8.0 (x86_64)| (default, Oct 24 2013, 07:02:20) \r\n",
        "[GCC 4.0.1 (Apple Inc. build 5493)]\r\n"
       ]
      }
     ],
     "prompt_number": 4
    },
    {
     "cell_type": "markdown",
     "metadata": {
      "cell_tags": []
     },
     "source": [
      "\uccab\ubc88\uc9f8 \ubc29\ubc95(`%run`)\uc740 `.py` \ud30c\uc77c\uc5d0 \ub2f4\uae34 \ud504\ub85c\uadf8\ub7a8\uc744 \uc2e4\ud589\ud558\ub294\ub370 IPython Notebook\uc5d0 \uc788\ub294 \ud2b9\uc218 \uba85\ub839\uc5b4\ub97c \uc0ac\uc6a9\ud55c\ub2e4.\n",
      "\ub450\ubc88\uc9f8 \ubc29\ubc95\uc774 \uc880\ub354 \uc77c\ubc18\uc801\uc774\ub2e4. \ub290\ub08c\ud45c(`!`)\uac00 Notebook\uc5d0 \uc258 \uba85\ub839\uc5b4\ub97c \uc2e4\ud589\ud55c\ub2e4\uace0 \uc9c0\uc2dc\ud55c\ub2e4. \uadf8\ub798\uc11c \uc2e4\ud589\ud558\ub294 \uba85\ub839\uc5b4\ub294 \uc2a4\ud06c\ub9bd\ud2b8 \uc774\ub984\uacfc `ipython`\uc774 \ub41c\ub2e4."
     ]
    },
    {
     "cell_type": "markdown",
     "metadata": {
      "cell_tags": []
     },
     "source": [
      "\uc880\ub354 \ud765\ubbf8\ub85c\uc6b4 \uac83\uc744 \uc218\ud589\ud558\ub294 \ub610\ub2e4\ub978 \uc2a4\ud06c\ub9bd\ud2b8\uac00 \ub2e4\uc74c\uc5d0 \uc788\ub2e4."
     ]
    },
    {
     "cell_type": "code",
     "collapsed": false,
     "input": [
      "!cat argv-list.py"
     ],
     "language": "python",
     "metadata": {
      "cell_tags": []
     },
     "outputs": [
      {
       "output_type": "stream",
       "stream": "stdout",
       "text": [
        "import sys\r\n",
        "print 'sys.argv is', sys.argv\r\n"
       ]
      }
     ],
     "prompt_number": 5
    },
    {
     "cell_type": "markdown",
     "metadata": {
      "cell_tags": []
     },
     "source": [
      "\uc774\uc0c1\ud55c \uc774\ub984 `argv`\ub294 \"argument values\"(\uc778\uc790\uac12)\uc744 \uc904\uc5ec \ud45c\ud604\ud55c \uac83\uc774\ub2e4.\n",
      "\ud30c\uc774\uc36c\uc774 \ud504\ub85c\uadf8\ub7a8\uc744 \uc2e4\ud589\ud560 \ub54c\ub9c8\ub2e4, \uba85\ub839 \ub77c\uc778\uc5d0 \uc8fc\uc5b4\uc9c4 \ubaa8\ub4e0 \uac12\uc744 \ubc1b\uc544\uc11c \n",
      "`sys.argv` \ub9ac\uc2a4\ud2b8\uc5d0 \ub123\ub294\ub2e4. \uadf8\ub807\uac8c \ud574\uc11c \ud504\ub85c\uadf8\ub7a8\uc774 \uc778\uc790\uac12\uc774 \ubb34\uc5c7\uc778\uc9c0\ub97c \ud310\ub2e8\ud560 \uc218 \uc788\ub2e4.\n",
      "\ub9cc\uc57d \uc5b4\ub5a4 \uc778\uc790\ub3c4 \uc5c6\uc774 \ud504\ub85c\uadf8\ub7a8\uc744 \uc2e4\ud589\ud55c\ub2e4\uba74,"
     ]
    },
    {
     "cell_type": "code",
     "collapsed": false,
     "input": [
      "!ipython argv-list.py"
     ],
     "language": "python",
     "metadata": {
      "cell_tags": []
     },
     "outputs": [
      {
       "output_type": "stream",
       "stream": "stdout",
       "text": [
        "sys.argv is ['/Users/gwilson/s/bc/python/novice/argv-list.py']\r\n"
       ]
      }
     ],
     "prompt_number": 6
    },
    {
     "cell_type": "markdown",
     "metadata": {
      "cell_tags": []
     },
     "source": [
      "\ub9ac\uc2a4\ud2b8\uc758 \uc720\uc77c\ud55c \uac83\uc740 \uc2a4\ud2b8\ub9bd\ud2b8\uc758 \uc804\uccb4 \uacbd\ub85c\uc815\ubcf4\uac00 \ub418\uace0 \ud56d\uc0c1 `sys.argv[0]`\uc744 \ucc28\uc9c0\ud55c\ub2e4.\n",
      "\ud558\uc9c0\ub9cc, \ub9cc\uc57d \uba87\uac1c\uc758 \uc778\uc790\ub97c \ub123\uc5b4 \uc2e4\ud589\ud55c\ub2e4\uba74, "
     ]
    },
    {
     "cell_type": "code",
     "collapsed": false,
     "input": [
      "!ipython argv-list.py first second third"
     ],
     "language": "python",
     "metadata": {
      "cell_tags": []
     },
     "outputs": [
      {
       "output_type": "stream",
       "stream": "stdout",
       "text": [
        "sys.argv is ['/Users/gwilson/s/bc/python/novice/argv-list.py', 'first', 'second', 'third']\r\n"
       ]
      }
     ],
     "prompt_number": 7
    },
    {
     "cell_type": "markdown",
     "metadata": {
      "cell_tags": []
     },
     "source": [
      "\uadf8\ub7ec\uba74 \ud30c\uc774\uc36c\uc740 \uac01\uac01\uc758 \uc778\uc790\ub97c \ub9c8\uc220\uac19\uc740 \ub9ac\uc2a4\ud2b8\uc5d0 \ucd94\uac00\ud55c\ub2e4."
     ]
    },
    {
     "cell_type": "markdown",
     "metadata": {
      "cell_tags": []
     },
     "source": [
      "\uc9c0\uae08\uae4c\uc9c0 \ud559\uc2b5\ud55c \uac83\uc744 \uac00\uc9c0\uace0, \ub2e8\ub3c5 \ub370\uc774\ud130 \ud30c\uc77c\uc5d0 \ud658\uc790 \ub9c8\ub2e4 \ud3c9\uade0\uac12\uc744 \ucd9c\ub825\ud558\ub294 `readings.py`\ub97c \uc791\uc131\ud574 \ubcf4\uc790.\n",
      "\uccab\ubc88\uc9f8 \ub2e8\uacc4\ub294 \uad6c\ud604\uc5d0 \ub300\ud55c \uc724\uacfd\uc744 \uc7a1\ub294 \ud568\uc218\uc640 \uc2e4\uc81c \ub3d9\uc791\ud558\ub294 \ud568\uc218\uc5d0 \ub300\ud55c \uc790\ub9ac\ub97c \uc7a1\ub294 \ucf54\ub4dc\ub97c \uc791\uc131\ud55c\ub2e4.\n",
      "\ud568\uc218 \uc774\ub984\uc744 \uc6d0\ud558\ub294 \ubb34\uc5c7\uc774\ub4e0\uc9c0 \uc815\ud560 \uc218 \uc788\uc9c0\ub9cc, \uad00\ub840\ub85c \ud568\uc218\ub294 \ud1b5\uc0c1 `main`\uc73c\ub85c \ubd80\ub978\ub2e4."
     ]
    },
    {
     "cell_type": "code",
     "collapsed": false,
     "input": [
      "!cat readings-01.py"
     ],
     "language": "python",
     "metadata": {
      "cell_tags": []
     },
     "outputs": [
      {
       "output_type": "stream",
       "stream": "stdout",
       "text": [
        "import sys\r\n",
        "import numpy as np\r\n",
        "\r\n",
        "def main():\r\n",
        "    script = sys.argv[0]\r\n",
        "    filename = sys.argv[1]\r\n",
        "    data = np.loadtxt(filename, delimiter=',')\r\n",
        "    for m in data.mean(axis=1):\r\n",
        "        print m\r\n"
       ]
      }
     ],
     "prompt_number": 8
    },
    {
     "cell_type": "markdown",
     "metadata": {
      "cell_tags": []
     },
     "source": [
      "\uc774 \ud568\uc218\ub294 \uc2a4\ud06c\ub9bd\ud2b8 \uc774\ub984\uc744 `sys.argv[0]`\uc5d0\uc11c \uc5bb\ub294\ub370 \uc774\uc720\ub294 \uadf8\uacf3\uc774 \ud56d\uc0c1 \uc774\ub984\uc774 \ub193\uc5ec\uc9c0\ub294 \uc7a5\uc18c\uc774\uae30 \ub54c\ubb38\uc774\ub2e4.\n",
      "\ucc98\ub9ac\ud560 \ud30c\uc77c \uc774\ub984\uc740 `sys.argv[1]`\uc5d0\uc11c \uc5bb\ub294\ub2e4. \ub2e4\uc74c\uc5d0 \uac04\ub2e8\ud55c \ud14c\uc2a4\ud2b8\uac00 \uc788\ub2e4."
     ]
    },
    {
     "cell_type": "code",
     "collapsed": false,
     "input": [
      "%run readings-01.py inflammation-01.csv"
     ],
     "language": "python",
     "metadata": {
      "cell_tags": []
     },
     "outputs": [],
     "prompt_number": 9
    },
    {
     "cell_type": "markdown",
     "metadata": {
      "cell_tags": []
     },
     "source": [
      "\uc5b4\ub5a0\ud55c \ucd9c\ub825\ub3c4 \uc5c6\ub294\ub370 \uc774\uc720\ub294 \ud568\uc218\ub97c \uc815\uc758\ud588\uc9c0\ub9cc, \uc2e4\uc9c8\uc801\uc73c\ub85c \ud638\ucd9c\uc744 \ud558\uc9c0 \uc54a\uc558\uae30 \ub54c\ubb38\uc774\ub2e4. `main`\uc5d0 \ud638\ucd9c\uc744 \ucd94\uac00\ud558\uc790."
     ]
    },
    {
     "cell_type": "code",
     "collapsed": false,
     "input": [
      "!cat readings-02.py"
     ],
     "language": "python",
     "metadata": {
      "cell_tags": []
     },
     "outputs": [
      {
       "output_type": "stream",
       "stream": "stdout",
       "text": [
        "import sys\r\n",
        "import numpy as np\r\n",
        "\r\n",
        "def main():\r\n",
        "    script = sys.argv[0]\r\n",
        "    filename = sys.argv[1]\r\n",
        "    data = np.loadtxt(filename, delimiter=',')\r\n",
        "    for m in data.mean(axis=1):\r\n",
        "        print m\r\n",
        "\r\n",
        "main()\r\n"
       ]
      }
     ],
     "prompt_number": 10
    },
    {
     "cell_type": "markdown",
     "metadata": {
      "cell_tags": []
     },
     "source": [
      "\uadf8\ub9ac\uace0 \uc2e4\ud589\ud558\uc790."
     ]
    },
    {
     "cell_type": "code",
     "collapsed": false,
     "input": [
      "%run readings-02.py inflammation-01.csv"
     ],
     "language": "python",
     "metadata": {
      "cell_tags": []
     },
     "outputs": [
      {
       "output_type": "stream",
       "stream": "stdout",
       "text": [
        "5.45\n",
        "5.425\n",
        "6.1\n",
        "5.9\n",
        "5.55\n",
        "6.225\n",
        "5.975\n",
        "6.65\n",
        "6.625\n",
        "6.525\n",
        "6.775\n",
        "5.8\n",
        "6.225\n",
        "5.75\n",
        "5.225\n",
        "6.3\n",
        "6.55\n",
        "5.7\n",
        "5.85\n",
        "6.55\n",
        "5.775\n",
        "5.825\n",
        "6.175\n",
        "6.1\n",
        "5.8\n",
        "6.425\n",
        "6.05\n",
        "6.025\n",
        "6.175\n",
        "6.55\n",
        "6.175\n",
        "6.35\n",
        "6.725\n",
        "6.125\n",
        "7.075\n",
        "5.725\n",
        "5.925\n",
        "6.15\n",
        "6.075\n",
        "5.75\n",
        "5.975\n",
        "5.725\n",
        "6.3\n",
        "5.9\n",
        "6.75\n",
        "5.925\n",
        "7.225\n",
        "6.15\n",
        "5.95\n",
        "6.275\n",
        "5.7\n",
        "6.1\n",
        "6.825\n",
        "5.975\n",
        "6.725\n",
        "5.7\n",
        "6.25\n",
        "6.4\n",
        "7.05\n",
        "5.9\n"
       ]
      }
     ],
     "prompt_number": 11
    },
    {
     "cell_type": "markdown",
     "metadata": {},
     "source": [
      "> #### \uc62c\ubc14\ub978 \ubc29\ubc95\n",
      ">\n",
      "> \ub9cc\uc57d \uc791\uc131\uc911\uc778 \ud504\ub85c\uadf8\ub7a8\uc774 \ubcf5\uc7a1\ud55c \ub9e4\uac1c\ubcc0\uc218\ub098 \ubcf5\uc218\uc758 \ud30c\uc77c\uc774\ub984\uc744 \uac00\uc9c4\ub2e4\uba74, `sys.argv`\ub97c \uc9c1\uc811\uc801\uc73c\ub85c \ub2e4\ub8e8\uc9c0 \ub9d0\uc544\uc57c \ud55c\ub2e4.\n",
      "> \ub300\uc2e0\uc5d0 \ud30c\uc774\uc36c `argparse` \ub77c\uc774\ube0c\ub7ec\ub9ac\ub97c \uc0ac\uc6a9\ud55c\ub2e4.\n",
      "> `argparse` \ub77c\uc774\ube0c\ub7ec\ub9ac\ub294 \uccb4\uacc4\uc801\uc73c\ub85c \uc77c\ubc18\uc801\uc778 \uacbd\uc6b0\ub97c \ucc98\ub9ac\ud558\uace0, \ub610\ud55c \uc0ac\uc6a9\uc790\ub97c \uc704\ud574\uc11c \ud504\ub85c\uadf8\ub798\uba38\uac00 \uc2e4\uc6a9\uc801\uc778 \uc624\ub958 \uba54\uc2dc\uc9c0\ub97c \uc81c\uacf5\ud558\uae30 \uc27d\uac8c \ub9cc\ub4e4\uc5c8\ub2e4."
     ]
    },
    {
     "cell_type": "markdown",
     "metadata": {
      "cell_tags": [
       "challenges"
      ]
     },
     "source": [
      "#### \ub3c4\uc804 \uacfc\uc81c\n",
      "\n",
      "1.  \ub367\uc148\uacfc \ube84\uc148\uc744 \uc218\ud589\ud558\ub294 \uba85\ub839-\ub77c\uc778 \ud504\ub85c\uadf8\ub7a8\uc744 \uc791\uc131\ud558\uc138\uc694.\n",
      "\n",
      "    ~~~\n",
      "    $ python arith.py 1 + 2\n",
      "    3\n",
      "    $ python arith.py 3 - 4\n",
      "    -1\n",
      "    ~~~\n",
      "\n",
      "    \ub9cc\uc57d \ud504\ub85c\uadf8\ub7a8\uc5d0 `*`\uc744 \uc0ac\uc6a9\ud574\uc11c \uacf1\uc148\uc744 \ucd94\uac00\ud558\ub824\uace0 \ud55c\ub2e4\uba74 \ubb34\uc2a8 \uc798\ubabb\uc774 \uc788\uc744\uae4c\uc694?\n",
      "\n",
      "2.  [03-loop.ipynb](earlier)\uc5d0\uc11c \uc18c\uac1c\ub41c `glob` \ubaa8\ub4c8\uc744 \uc0ac\uc6a9\ud574\uc11c, \ud2b9\uc815 \ud655\uc7a5\uc790\ub97c \uac00\uc9c4 \ud30c\uc77c\uc744 \ud604\uc7ac \ub514\ub809\ud1a0\ub9ac\uc5d0\uc11c \ucd9c\ub825\ud558\ub294 `ls` \uc758 \uac04\ub2e8\ud55c \ubc84\uc83c\uc744 \uc791\uc131\ud558\uc138\uc694.\n",
      "    \n",
      "    ~~~\n",
      "    $ python my_ls.py py\n",
      "    left.py\n",
      "    right.py\n",
      "    zero.py\n",
      "    ~~~"
     ]
    },
    {
     "cell_type": "heading",
     "level": 3,
     "metadata": {
      "cell_tags": []
     },
     "source": [
      "\ub2e4\uc218 \ud30c\uc77c \ucc98\ub9ac\ud558\uae30"
     ]
    },
    {
     "cell_type": "markdown",
     "metadata": {
      "cell_tags": []
     },
     "source": [
      "\ub2e4\uc74c \ub2e8\uacc4\ub294 \ud504\ub85c\uadf8\ub7a8\uc5d0\uac8c \ud30c\uc77c \ub2e4\uc218\ub97c \uc5b4\ub5bb\uac8c \ucc98\ub9ac\ud558\ub294\uc9c0 \uac00\ub974\uce58\ub294 \uac83\uc774\ub2e4. \ud30c\uc77c\ub2f9 60\uc904\uc758 \ucd9c\ub825\uacb0\uacfc\ub294 \ud398\uc774\uc9c0\ub97c \ub118\uae30\uba70 \uc0b4\ud3b4\ubcf4\uae30\uc5d0\ub294 \ub9ce\uc740 \ubd88\ub7c9\uc774\uc5ec\uc11c 3\uac1c\uc758 \uc791\uc740 \ud30c\uc77c\ub85c \uc2dc\uc791\ud55c\ub2e4. \uc791\uc740 \ud30c\uc77c \uac01\uac01\uc740 \ub450 \ud658\uc790\uc5d0 \ub300\ud55c 3\uc77c\uce58 \ub370\uc774\ud130\uac00 \uc788\ub2e4"
     ]
    },
    {
     "cell_type": "code",
     "collapsed": false,
     "input": [
      "!ls small-*.csv"
     ],
     "language": "python",
     "metadata": {
      "cell_tags": []
     },
     "outputs": [
      {
       "output_type": "stream",
       "stream": "stdout",
       "text": [
        "small-01.csv small-02.csv small-03.csv\r\n"
       ]
      }
     ],
     "prompt_number": 12
    },
    {
     "cell_type": "code",
     "collapsed": false,
     "input": [
      "!cat small-01.csv"
     ],
     "language": "python",
     "metadata": {
      "cell_tags": []
     },
     "outputs": [
      {
       "output_type": "stream",
       "stream": "stdout",
       "text": [
        "0,0,1\r\n",
        "0,1,2\r\n"
       ]
      }
     ],
     "prompt_number": 13
    },
    {
     "cell_type": "code",
     "collapsed": false,
     "input": [
      "%run readings-02.py small-01.csv"
     ],
     "language": "python",
     "metadata": {
      "cell_tags": []
     },
     "outputs": [
      {
       "output_type": "stream",
       "stream": "stdout",
       "text": [
        "0.333333333333\n",
        "1.0\n"
       ]
      }
     ],
     "prompt_number": 14
    },
    {
     "cell_type": "markdown",
     "metadata": {
      "cell_tags": []
     },
     "source": [
      "\uc791\uc740 \ud30c\uc77c\uc744 \uc785\ub825\uac12\uc73c\ub85c \uc0ac\uc6a9\ud558\ub294 \uac83\uc740 \uc880\ub354 \uc27d\uac8c \uacb0\uacfc\ub97c \ud655\uc778\ud560 \uc218 \uc788\uac8c \ud55c\ub2e4. \uc608\ub97c \ub4e4\uc5b4, \ud504\ub85c\uadf8\ub7a8\uc774 \uac01 \ud589\ub9c8\ub2e4 \uc62c\ubc14\ub974\uac8c \ud3c9\uade0\uc744 \uacc4\uc0b0\ud558\ub294\uc9c0 \uc0b4\ud3b4\ubcfc \uc218 \uc788\ub2e4. \ubc18\uba74\uc5d0 \uc804\uc5d0\ub294 \uc815\ub9d0 \ubbff\uc74c\uc73c\ub85c\ub9cc \uac00\uc9c0\uace0 \uc788\uc5c8\ub2e4. \uc774\uac83\uc740 \ub610 \ub2e4\ub978 \ud504\ub85c\uadf8\ub798\ubc0d \uaddc\uce59\uc774\ub2e4.\n",
      "\"[\uac04\ub2e8\ud55c \uac83\uc744 \uba3c\uc800 \uc2dc\ud5d8\ud558\ub77c(test the simple things first)](../../rules.html#test-simple-first)\"\n",
      "\n",
      "\uc791\uc131\ud55c \ud504\ub85c\uadf8\ub7a8\uc774 \uac01\uac01\uc758 \ud30c\uc77c\uc744 \uac1c\ubcc4\ub85c \ucc98\ub9ac\ud558\uae38 \uc6d0\ud574\uc11c \uac01 \ud30c\uc77c \uc774\ub984\ub9c8\ub2e4 \ud55c\ubc88\uc529 \uc2e4\ud589\ub418\ub294 \ub8e8\ud504\uac00 \ud544\uc694\ud558\ub2e4.\n",
      "\uba85\ub839 \ub77c\uc778\uc5d0 \ud30c\uc77c \uc774\ub984\uc744 \uc9c0\uc815\ud55c\ub2e4\uba74, \ud30c\uc77c \uc774\ub984\uc740 `sys.argv`\uc5d0 \uc800\uc7a5\ub418\uc9c0\ub9cc, \uc8fc\uc758\uac00 \ud544\uc694\ud558\ub2e4.\n",
      "`sys.argv[0]`\ub294 \ud56d\uc0c1 \ud30c\uc77c\uc774\ub984\uc774 \uc544\ub2c8\uace0 \uc2a4\ud06c\ub9bd\ud2b8 \uc774\ub984\uc774\ub2e4.\n",
      "\uc791\uc131\ud55c \ud504\ub85c\uadf8\ub7a8\uc774 \uc784\uc758 \uac2f\uc218\uc758 \ud30c\uc77c\uc5d0 \ub300\ud574\uc11c \uc2e4\ud589\ub420 \uc218 \uc788\uae30 \ub54c\ubb38\uc5d0 \uc54c\uc218 \uc5c6\ub294 \uac2f\uc218\uc758 \ud30c\uc77c\uc774\ub984\uc744 \ucc98\ub9ac\ud560 \ud544\uc694\uac00 \uc788\ub2e4.\n",
      "\n",
      "\ud574\uacb0\ucc45\uc740 `sys.argv[1:]` \ub0b4\uc6a9\uc5d0 \ub8e8\ud504\ub97c \ub3cc\ub9ac\ub294 \uac83\uc774\ub2e4. \n",
      "'1'\uc740 \ud30c\uc774\uc36c\uc774 1\ubc88 \uc704\uce58\uc5d0\uc11c \uc2ac\ub77c\uc774\uc2a4\ub97c \uc2dc\uc791\ud574\uc11c \ud504\ub85c\uadf8\ub7a8 \uc774\ub984\uc774 \ud3ec\ud568\ub418\uc9c0 \uc54a\ub3c4\ub85d \ud55c\ub2e4.\n",
      "\uc0c1\ud55c\uc744 \ube44\uc6cc\ub450\uc5c8\uae30 \ub54c\ubb38\uc5d0 \uc2a4\ub77c\uc774\uc2a4 \uc778\ub371\uc2a4\uac00 \ub9ac\uc2a4\ud2b8\uc758 \ub05d\uae4c\uc9c0 \uac00\uc11c \ubaa8\ub4e0 \ud30c\uc77c \uc774\ub984\uc774 \ud3ec\ud568\ub41c\ub2e4.\n",
      "\ub2e4\uc74c\uc5d0 \uc218\uc815\ub41c \ud504\ub85c\uadf8\ub7a8\uc774 \uc788\ub2e4."
     ]
    },
    {
     "cell_type": "code",
     "collapsed": false,
     "input": [
      "!cat readings-03.py"
     ],
     "language": "python",
     "metadata": {
      "cell_tags": []
     },
     "outputs": [
      {
       "output_type": "stream",
       "stream": "stdout",
       "text": [
        "import sys\r\n",
        "import numpy as np\r\n",
        "\r\n",
        "def main():\r\n",
        "    script = sys.argv[0]\r\n",
        "    for filename in sys.argv[1:]:\r\n",
        "        data = np.loadtxt(filename, delimiter=',')\r\n",
        "        for m in data.mean(axis=1):\r\n",
        "            print m\r\n",
        "\r\n",
        "main()\r\n"
       ]
      }
     ],
     "prompt_number": 15
    },
    {
     "cell_type": "markdown",
     "metadata": {
      "cell_tags": []
     },
     "source": [
      "\uadf8\ub9ac\uace0 \uc2e4\ud589 \uacb0\uacfc\uac00 \ub2e4\uc74c\uc5d0 \uc788\ub2e4."
     ]
    },
    {
     "cell_type": "code",
     "collapsed": false,
     "input": [
      "%run readings-03.py small-01.csv small-02.csv"
     ],
     "language": "python",
     "metadata": {
      "cell_tags": []
     },
     "outputs": [
      {
       "output_type": "stream",
       "stream": "stdout",
       "text": [
        "0.333333333333\n",
        "1.0\n",
        "13.6666666667\n",
        "11.0\n"
       ]
      }
     ],
     "prompt_number": 16
    },
    {
     "cell_type": "markdown",
     "metadata": {
      "cell_tags": []
     },
     "source": [
      "Note:\n",
      "\uc774 \uc9c0\uc810\uc5d0\uc11c, \uc2a4\ud06c\ub9bd\ud2b8 \ubc84\uc83c 3\uac1c(`readings-01.py`, `readings-02.py`, `readings-03.py`)\ub97c \uc0dd\uc131\ud588\ub2e4. \uc2e4\ubb34\uc5d0\uc11c\ub294 \uc774\ub807\uac8c \ud558\uc9c0\ub294 \uc54a\uc744 \uac83\uc774\ub2e4. \ub300\uc2e0\uc5d0 readings.R \ud30c\uc77c\ub9cc \ubcf4\uad00\ud558\uace0 \uae30\ub2a5\ud5a5\uc0c1 \uc791\uc5c5\uc744 \ud560 \ub54c\ub9c8\ub2e4 \ubc84\uc83c \uad00\ub9ac \uc2dc\uc2a4\ud15c\uc5d0 \ucee4\ubc0b\ud55c\ub2e4. \ud558\uc9c0\ub9cc, \uad50\uc721 \ubaa9\uc801\uc73c\ub85c \ub098\ub780\ud788 \uc5f0\uc18d\ub41c \ubc84\uc83c\uc774"
     ]
    },
    {
     "cell_type": "markdown",
     "metadata": {
      "cell_tags": [
       "challenges"
      ]
     },
     "source": [
      "#### \ub3c4\uc804 \uacfc\uc81c\n",
      "\n",
      "1.  `check.R` \ud504\ub85c\uadf8\ub7a8\uc744 \uc791\uc131\ud574\uc11c \uc778\uc790\ub85c \ud558\ub098 \ud639\uc740 \uadf8 \uc774\uc0c1\uc758 \uc5fc\uc99d \ub370\uc774\ud130 \ud30c\uc77c \uc774\ub984\uc744 \uac00\uc9c0\uace0 \ubaa8\ub4e0 \ud30c\uc77c\uc774 \ub3d9\uc77c\ud55c \ud589\uacfc \uc5f4\uc744 \uac00\uc9c0\ub294\uc9c0 \uac80\uc99d\ud558\uac8c \ud558\uc138\uc694. \n",
      "\ud504\ub85c\uadf8\ub7a8\uc744 \uc2dc\ud5d8\ud558\ub294 \uac00\uc7a5 \ucd5c\uc120\uc758 \ubc29\ubc95\uc740 \ubb34\uc5c7\uc778\uac00\uc694?"
     ]
    },
    {
     "cell_type": "heading",
     "level": 3,
     "metadata": {
      "cell_tags": []
     },
     "source": [
      "\uba85\ub839\uc5b4-\ub77c\uc778 \ud50c\ub798\uadf8(Command-Line Flags) \ucc98\ub9ac\ud558\uae30"
     ]
    },
    {
     "cell_type": "markdown",
     "metadata": {
      "cell_tags": []
     },
     "source": [
      "\ub2e4\uc74c \ub2e8\uacc4\ub294 \ud504\ub85c\uadf8\ub7a8\uc774 `--min`, `--mean`, `--max` \uc635\uc158 \ud50c\ub798\uadf8\uc5d0 \uad00\uc2ec\uc744 \ub450\uac8c \ud55c\ub2e4. \n",
      "\ud50c\ub798\uadf8\ub294 \ud56d\uc0c1 \ud30c\uc77c \uc774\ub984 \uc55e\uc5d0 \uc704\uce58\ud574\uc11c \ub2e4\uc74c\uacfc \uac19\uc774 \uc218\ud589\ud560 \uc218 \uc788\ub2e4."
     ]
    },
    {
     "cell_type": "code",
     "collapsed": false,
     "input": [
      "!cat readings-04.py"
     ],
     "language": "python",
     "metadata": {
      "cell_tags": []
     },
     "outputs": [
      {
       "output_type": "stream",
       "stream": "stdout",
       "text": [
        "import sys\r\n",
        "import numpy as np\r\n",
        "\r\n",
        "def main():\r\n",
        "    script = sys.argv[0]\r\n",
        "    action = sys.argv[1]\r\n",
        "    filenames = sys.argv[2:]\r\n",
        "\r\n",
        "    for f in filenames:\r\n",
        "        data = np.loadtxt(f, delimiter=',')\r\n",
        "\r\n",
        "        if action == '--min':\r\n",
        "            values = data.min(axis=1)\r\n",
        "        elif action == '--mean':\r\n",
        "            values = data.mean(axis=1)\r\n",
        "        elif action == '--max':\r\n",
        "            values = data.max(axis=1)\r\n",
        "\r\n",
        "        for m in values:\r\n",
        "            print m\r\n",
        "\r\n",
        "main()\r\n"
       ]
      }
     ],
     "prompt_number": 17
    },
    {
     "cell_type": "markdown",
     "metadata": {
      "cell_tags": []
     },
     "source": [
      "\uc791\uc131\ud55c \uac83\uc774 \uc798 \ub3d9\uc791\ud55c\ub2e4."
     ]
    },
    {
     "cell_type": "code",
     "collapsed": false,
     "input": [
      "%run readings-04.py --max small-01.csv"
     ],
     "language": "python",
     "metadata": {
      "cell_tags": []
     },
     "outputs": [
      {
       "output_type": "stream",
       "stream": "stdout",
       "text": [
        "1.0\n",
        "2.0\n"
       ]
      }
     ],
     "prompt_number": 18
    },
    {
     "cell_type": "markdown",
     "metadata": {
      "cell_tags": []
     },
     "source": [
      "\ud558\uc9c0\ub9cc, \uba87\uac00\uc9c0 \uc798\ubabb\ub41c \uac83\uc774 \uc788\ub2e4.\n",
      "\n",
      "1.   main \ud568\uc218\uac00 \ub108\ubb34 \ucee4\uc11c \ud3b8\uc548\ud558\uac8c \uc77d\uae30\uac00 \uc27d\uc9c0 \uc54a\ub2e4.\n",
      "\n",
      "2.   `action` \uc778\uc790\uac00 \uc778\uc815\ub41c 3\uac1c\uc758 \ud50c\ub798\uadf8 \uc911\uc5d0 \ud558\ub098\uac00 \uc544\ub2c8\ub77c\uba74, \ud504\ub85c\uadf8\ub7a8\uc744 \uac01\uac01\uc758 \n",
      "     \ud30c\uc77c \ub85c\ub529(loading)\ud558\uc9c0\ub9cc \uc544\ubb34\uac83\ub3c4 \uc218\ud589\ud558\uae30 \uc54a\ub294\ub2e4. \n",
      "     \uc65c\ub0d0\ud558\uba74, \uc870\uac74\uc744 \ub9e4\uce6d\ud558\ub294 \uacf3\uc5d0\uc11c \uc5b4\ub290 \ubd84\uae30\uc5d0\ub3c4 \ud574\ub2f9\ub418\uc9c0 \uc54a\uae30 \ub54c\ubb38\uc774\ub2e4. \n",
      "     \uc774\uc640 \uac19\uc774 [\uce68\ubb35\ud558\ub294 \uc2e4\ud328(Silent failures)](../../gloss.html#silent-failure)\uac00 \ud56d\uc0c1 \ub514\ubc84\uadf8\ud558\uae30\uac00 \uc5b4\ub835\ub2e4.\n",
      "     \n",
      "\uc0c8\ub85c \uc791\uc131\ud55c \ubc84\uc83c\uc740 \uac01 \ud30c\uc77c\uc758 \ucc98\ub9ac\ub97c \ub8e8\ud504\uc5d0\uc11c \ube7c\ub0b4\uc11c \ucc98\ub9ac\ud558\ub294 \uc790\uc2e0\ub9cc\uc758 \ud568\uc218\ub97c \ub9cc\ub4e4\uc5c8\ub2e4. \ucc98\ub9ac\ub97c \uc218\ud589\ud558\uae30 \uc804\uc5d0 `action`\uc774 \uc0ac\uc804\uc5d0 \uc815\uc758\ub41c \ud50c\ub798\uadf8\uc911\uc758 \ud558\ub098\uc778\uc9c0\ub97c \uac80\uc0ac\ud574\uc11c \ud504\ub85c\uadf8\ub7a8\uc774 \ube68\ub9ac \uc885\ub8cc\ud55c\ub2e4."
     ]
    },
    {
     "cell_type": "code",
     "collapsed": false,
     "input": [
      "!cat readings-05.py"
     ],
     "language": "python",
     "metadata": {
      "cell_tags": []
     },
     "outputs": [
      {
       "output_type": "stream",
       "stream": "stdout",
       "text": [
        "import sys\r\n",
        "import numpy as np\r\n",
        "\r\n",
        "def main():\r\n",
        "    script = sys.argv[0]\r\n",
        "    action = sys.argv[1]\r\n",
        "    filenames = sys.argv[2:]\r\n",
        "    assert action in ['--min', '--mean', '--max'], \\\r\n",
        "           'Action is not one of --min, --mean, or --max: ' + action\r\n",
        "    for f in filenames:\r\n",
        "        process(f, action)\r\n",
        "\r\n",
        "def process(filename, action):\r\n",
        "    data = np.loadtxt(filename, delimiter=',')\r\n",
        "\r\n",
        "    if action == '--min':\r\n",
        "        values = data.min(axis=1)\r\n",
        "    elif action == '--mean':\r\n",
        "        values = data.mean(axis=1)\r\n",
        "    elif action == '--max':\r\n",
        "        values = data.max(axis=1)\r\n",
        "\r\n",
        "    for m in values:\r\n",
        "        print m\r\n",
        "\r\n",
        "main()\r\n"
       ]
      }
     ],
     "prompt_number": 19
    },
    {
     "cell_type": "markdown",
     "metadata": {
      "cell_tags": []
     },
     "source": [
      "\uc0c1\uae30 \ud504\ub85c\uadf8\ub7a8\uc740 \uc55e\uc11c \uc791\uc131\ud55c \ud504\ub85c\uadf8\ub7a8\ubcf4\ub2e4 \ub354 \uae38\ub2e4. \n",
      "\ud558\uc9c0\ub9cc, \uc880\ub354 \uc644\uc804\ud788 \uc774\ud574\ud558\uae30 \uc26c\uc6b4 8\uc904\uacfc 12\uc904 \ud504\ub85c\uadf8\ub7a8 \ub369\uc5b4\ub9ac\ub85c \ucabc\uac30\ub2e4."
     ]
    },
    {
     "cell_type": "markdown",
     "metadata": {},
     "source": [
      "\ud30c\uc774\uc36c\uc740 [argparse](http://docs.python.org/dev/library/argparse.html) \ub77c\uc774\ube0c\ub7ec\ub9ac\uac00 \uc788\uc5b4\uc11c\n",
      "\ubcf5\uc7a1\ud55c \uba85\ub839\uc5b4-\ub77c\uc778 \ud50c\ub798\uadf8\ub97c \ucc98\ub9ac\ud558\ub294\ub370 \ub3c4\uc6c0\uc774 \ub41c\ub2e4. \n",
      "\uc774\ubc88 \ud559\uc2b5\uc5d0\uc11c\ub294 [argparse](http://docs.python.org/dev/library/argparse.html) \ub77c\uc774\ube0c\ub7ec\ub9ac\ub97c \ub2e4\ub8e8\uc9c0 \uc54a\uc744 \uac83\uc774\ub2e4. \n",
      "\ud558\uc9c0\ub9cc, \uc880\ub354 \uc790\uc138\ud55c \uc0ac\ud56d\uc740 \ud30c\uc774\uc36c \uacf5\uc2dd \ubb38\uc11c\uc758 \uc77c\ubd80\uc778 Tshepang Lekhonkhobe \uc758 [Argparse tutorial](http://docs.python.org/dev/howto/argparse.html)\uc744 \ucc38\uace0\ubc14\ub780\ub2e4."
     ]
    },
    {
     "cell_type": "markdown",
     "metadata": {
      "cell_tags": [
       "challenges"
      ]
     },
     "source": [
      "#### \ub3c4\uc804 \uacfc\uc81c\n",
      "\n",
      "1. \uc0c1\uae30 \ud504\ub85c\uadf8\ub798\uc744 \ub2e4\uc2dc \uc791\uc131\ud574\uc11c `--min`, `--mean`, `--max` \ub300\uc2e0\uc5d0 `-n`, `-m`, `-x`\uc744 \uac01\uac01 \uc0ac\uc6a9\ud558\uac8c \ud558\uc138\uc694. \n",
      "    \ucf54\ub4dc\uac00 \uac00\ub3c5\uc131\uc774 \uc88b\uc2b5\ub2c8\uae4c? \n",
      "    \ud504\ub85c\uadf8\ub7a8\uc774 \ub354 \uc774\ud574\ud558\uae30 \uc88b\uc2b5\ub2c8\uae4c? \n",
      "\n",
      "2.  \uc774\uc640\ub294 \ubcc4\ub3c4\ub85c, \ud504\ub85c\uadf8\ub7a8\uc744 \ubcc0\uacbd\ud574\uc11c \ub9cc\uc57d \uc5b4\ub5a4 \ud589\ub3d9(action)\uc774 \uba85\uae30\ub418\uc9c0 \uc54a\uac70\ub098 \ud639\uc740 \uc798\ubabb\ub41c \ub3d9\uc791\uc774 \uc8fc\uc5b4\uc9c0\uba74, \uc5b4\ub5bb\uac8c \uc0ac\uc6a9\ub418\uc5b4\uc57c \ud558\ub294\uc9c0 \uc124\uba85\ud558\ub294 \uba54\uc2dc\uc9c0\ub97c \ucd9c\ub825\ud558\uac8c \ud558\uc138\uc694.\n",
      "\n",
      "3.  \uc774\uc640\ub294 \ubcc4\ub3c4\ub85c, \ud504\ub85c\uadf8\ub7a8\uc744 \uc218\uc815\ud574\uc11c \ub9cc\uc57d \uc5b4\ub5a4 \ud589\ub3d9(action)\ub3c4 \uba85\uae30\ub418\uc9c0 \uc54a\uc73c\uba74,\n",
      "    \ub370\uc774\ud130\uc758 \ud3c9\uade0\uc744 \ud654\uba74\uc5d0 \ucd9c\ub825\ud558\uac8c \ucf54\ub4dc\ub97c \uc791\uc131\ud558\uc138\uc694."
     ]
    },
    {
     "cell_type": "heading",
     "level": 3,
     "metadata": {
      "cell_tags": []
     },
     "source": [
      "\ud45c\uc900 \uc785\ub825 (Standard Input) \ucc98\ub9ac\ud558\uae30"
     ]
    },
    {
     "cell_type": "markdown",
     "metadata": {
      "cell_tags": []
     },
     "source": [
      "\ud504\ub85c\uadf8\ub7a8\uc774 \ub2e4\uc74c\uc73c\ub85c \ud560 \uc791\uc5c5\uc740 \ud30c\uc77c \uc774\ub984\uc774 \uc8fc\uc5b4\uc9c0\uc9c0 \uc54a\uc558\ub2e4\uba74 \ud45c\uc900 \uc785\ub825\uc5d0\uc11c \ub370\uc774\ud130\ub97c \uc77d\ub294 \uac83\uc774\ub2e4. \ud30c\uc77c\uc774\ub984\uc744 \ud30c\uc774\ud504\ub77c\uc778\uc5d0 \ub123\uace0 \uc785\ub825\uac12\uc73c\ub85c \ub418\ub3cc\ub824 \uc0ac\uc6a9\ud558\ub294 \uac83\uc774 \uc608\uc774\ub2e4.\n",
      "\ub610 \ub2e4\ub978 \uc2a4\ud06c\ub9bd\ud2b8\ub97c \uc791\uc131\ud574\uc11c \uc2e4\ud5d8\uc744 \ud574\ubcf4\uc790."
     ]
    },
    {
     "cell_type": "code",
     "collapsed": false,
     "input": [
      "!cat count-stdin.py"
     ],
     "language": "python",
     "metadata": {
      "cell_tags": []
     },
     "outputs": [
      {
       "output_type": "stream",
       "stream": "stdout",
       "text": [
        "import sys\r\n",
        "\r\n",
        "count = 0\r\n",
        "for line in sys.stdin:\r\n",
        "    count += 1\r\n",
        "\r\n",
        "print count, 'lines in standard input'\r\n"
       ]
      }
     ],
     "prompt_number": 20
    },
    {
     "cell_type": "markdown",
     "metadata": {
      "cell_tags": []
     },
     "source": [
      "\uc0c1\uae30 \uc791\uc740 \ud504\ub85c\uadf8\ub7a8\uc740 \uc790\ub3d9\uc73c\ub85c \ud504\ub85c\uadf8\ub7a8\uc758 \ud45c\uc900 \uc785\ub825\uc5d0 \uc5f0\uacb0\ub418\ub294 `sys.stdin`\uc73c\ub85c \ubd88\ub9ac\ub294 \n",
      "\ud2b9\uc218 \"\ud30c\uc77c\"\uc5d0\uc11c \ub77c\uc778(\ud589)\uc744 \uc77d\uc5b4\ub4e4\uc778\ub2e4.\n",
      "\ud30c\uc77c\uc744 \ubcc4\ub3c4\ub85c \uc5f4 \ud544\uc694\ub294 \uc5c6\ub2e4. \uc989, \ud504\ub85c\uadf8\ub7a8\uc774 \uc2dc\uc791\ud560 \ub54c \ud30c\uc774\uc36c\uacfc \uc6b4\uc601\uc2dc\uc2a4\ud15c\uc774 \ucc98\ub9ac\ud574\uc900\ub2e4.\n",
      "\ud558\uc9c0\ub9cc \uc815\uaddc \ud30c\uc77c\uc5d0\uc11c \ud560 \uc218 \uc788\uc5c8\ub358 \uac70\uc758 \ubaa8\ub4e0 \uac83\uc744 \ud560 \uc218 \uc788\uac8c \ud55c\ub2e4. \n",
      "\ub9c8\uce58 \uc815\uaddc \uba85\ub839\uc5b4-\ub77c\uc778 \ud504\ub85c\uadf8\ub7a8\uc778 \uac83\ucc98\ub7fc \uc720\ub2c9\uc2a4 \uc258\uc5d0\uc11c \uc2e4\ud589\uc744 \uc2dc\ub3c4\ud574 \ubcf4\uc790."
     ]
    },
    {
     "cell_type": "code",
     "collapsed": false,
     "input": [
      "!ipython count-stdin.py < small-01.csv"
     ],
     "language": "python",
     "metadata": {
      "cell_tags": []
     },
     "outputs": [
      {
       "output_type": "stream",
       "stream": "stdout",
       "text": [
        "2 lines in standard input\r\n"
       ]
      }
     ],
     "prompt_number": 21
    },
    {
     "cell_type": "markdown",
     "metadata": {
      "cell_tags": []
     },
     "source": [
      "`%run`\uc744 \uc0ac\uc6a9\ud574\uc11c \uc2e4\ud589\ud558\uba74 \uc5b4\ub5a8\uae4c\uc694?"
     ]
    },
    {
     "cell_type": "code",
     "collapsed": false,
     "input": [
      "%run count-stdin.py < small-01.csv"
     ],
     "language": "python",
     "metadata": {
      "cell_tags": []
     },
     "outputs": [
      {
       "output_type": "stream",
       "stream": "stdout",
       "text": [
        "0 lines in standard input\n"
       ]
      }
     ],
     "prompt_number": 22
    },
    {
     "cell_type": "markdown",
     "metadata": {
      "cell_tags": []
     },
     "source": [
      "\uacb0\uacfc\uc5d0\uc11c \uc54c \uc218 \uc788\ub4ef\uc774, `%run` \uba85\ub839\uc5b4\ub294 \ud30c\uc77c \ub418\ub3cc\ub9ac\uae30(redirection)\uc744 \uc774\ud574\ud558\uc9c0 \ubabb\ud55c\ub2e4. \ub2e8\uc9c0 \uc258\uc758 \ubb34\uc5c7\uc73c\ub85c \uc774\ud574\ud55c\ub2e4.\n",
      "\n",
      "\ud754\ud55c \uc2e4\uc218\ub294 \ub2e4\uc74c\uacfc \uac19\uc774 \ud45c\uc900\uc785\ub825\uc5d0\uc11c \uc77d\uc5b4\uc11c \ubb34\uc5b8\uac00 \uc2e4\ud589\ud558\ub824\uace0 \ud558\ub294 \uac83\uc774\ub2e4.\n",
      "\n",
      "~~~\n",
      "!ipython count_stdin.py small-01.csv\n",
      "~~~\n",
      "\n",
      "\uc989, \ud45c\uc900\uc785\ub825\uc5d0\uc11c \ud30c\uc77c\ub85c \ub418\ub3cc\ub9ac\ub294 \ubb38\uc790(`<`)\ub97c \uc0dd\ub7b5\ud55c \uac83\uc774\ub2e4. \n",
      "\uc774 \uacbd\uc6b0\uc5d0 \ud45c\uc900 \uc785\ub825\uc5d0\ub294 \uc544\ubb34 \uac83\ub3c4 \uc5c6\uc5b4\uc11c \ud504\ub85c\uadf8\ub7a8\uc740 \ub204\uad70\uac00 \ud0a4\ubcf4\ub4dc\ub85c \ubb34\uc5c7\uc778\uac00\ub97c \uc785\ub825\ud558\uae30\ub97c \ub8e8\ud504 \uc2dc\uc791\uc5d0\uc11c \uae30\ub2e4\ub9ac\uae30\ub9cc \ud55c\ub2e4.\n",
      "\uc0ac\ub78c\uc774 \ud560 \uc218 \uc788\ub294 \uac83\uc774 \uc544\ubb34\uac83\ub3c4 \uc5c6\uae30 \ub54c\ubb38\uc5d0 \uc791\uc131\ud55c \ud504\ub85c\uadf8\ub7a8\uc740 \uc218\ub801\uc5d0 \ube60\uc9c4 \ub4ef \ub3d9\uc791\ud560 \uc218 \uc5c6\uac8c \ub41c\ub2e4.\n",
      "\ub178\ud2b8\ubd81 `Kernel` \uba54\ub274\uc5d0\uc11c `Interrupt` \uc635\uc158\uc744 \uc0ac\uc6a9\ud574\uc11c \uc815\uc9c0\uc2dc\ucf1c\uc57c \ud55c\ub2e4.\n",
      "\n",
      "\ud504\ub85c\uadf8\ub7a8\uc744 \ub2e4\uc2dc \uc791\uc131\ud574\uc11c \ub9cc\uc57d \uc5b4\ub5a4 \ud30c\uc77c\uc774\ub984\ub3c4 \uc81c\uacf5\ub41c\uac8c \uc5c6\ub2e4\uba74 `sys.stdin`\uc5d0\uc11c \ub370\uc774\ud130\ub97c \ub85c\ub529\ud55c\ub2e4. \n",
      "\uc6b4\uc88b\uac8c\ub3c4, `numpy.loadtxt`\ub294 \ud30c\uc77c\uc774\ub984 \ud639\uc740 \uccab\ubc88\uc9f8 \ub9e4\uac1c\ubcc0\uc218\ub85c \uc5f4\ub9b0 \ud30c\uc77c\uc744 \ucc98\ub9ac\ud560 \uc218 \uc788\ub2e4. \n",
      "\uadf8\ub798\uc11c \uc2e4\uc9c8\uc801\uc73c\ub85c `process`\ub97c \ubcc0\uacbd\ud560 \ud544\uc694\ub294 \uc5c6\ub2e4. `main`\uc744 \uc57d\uac04 \uc218\uc815\ud55c\ub2e4."
     ]
    },
    {
     "cell_type": "markdown",
     "metadata": {
      "cell_tags": []
     },
     "source": [
      "~~~\n",
      "def main():\n",
      "    script = sys.argv[0]\n",
      "    action = sys.argv[1]\n",
      "    filenames = sys.argv[2:]\n",
      "    assert action in ['--min', '--mean', '--max'], \\\n",
      "           'Action is not one of --min, --mean, or --max: ' + action\n",
      "    if len(filenames) == 0:\n",
      "        process(sys.stdin, action)\n",
      "    else:\n",
      "        for f in filenames:\n",
      "            process(f, action)\n",
      "~~~"
     ]
    },
    {
     "cell_type": "markdown",
     "metadata": {
      "cell_tags": []
     },
     "source": [
      "\uc791\uc131\ud55c \ud504\ub85c\uadf8\ub7a8\uc744 \uc2dc\ub3c4\ud574 \ubcf4\uc790. (\uc7a0\uc2dc \ud6c4\uc5d0 \uc65c `head`\ub85c \ucd9c\ub825\uacb0\uacfc\ub97c \ubcf4\ub0c8\ub294\uc9c0 \ud30c\uc545\ud558\uac8c \ub41c\ub2e4.)"
     ]
    },
    {
     "cell_type": "code",
     "collapsed": false,
     "input": [
      "!ipython readings-06.py --mean < small-01.csv | head -10"
     ],
     "language": "python",
     "metadata": {
      "cell_tags": []
     },
     "outputs": [
      {
       "output_type": "stream",
       "stream": "stdout",
       "text": [
        "[TerminalIPythonApp] CRITICAL | Bad config encountered during initialization:\r\n",
        "[TerminalIPythonApp] CRITICAL | Unrecognized flag: '--mean'\r\n",
        "=========\r\n",
        " IPython\r\n",
        "=========\r\n",
        "\r\n",
        "Tools for Interactive Computing in Python\r\n",
        "=========================================\r\n",
        "\r\n",
        "    A Python shell with automatic history (input and output), dynamic object\r\n",
        "    introspection, easier configuration, command completion, access to the\r\n",
        "    system shell and more.  IPython can also be embedded in running programs.\r\n"
       ]
      }
     ],
     "prompt_number": 23
    },
    {
     "cell_type": "markdown",
     "metadata": {
      "cell_tags": []
     },
     "source": [
      "\uc774\ub7f4 \uc218\uac00 \uc788\ub098:\n",
      "\ub370\uc774\ud130\uc758 \ud589\ubcc4\ub85c \ud3c9\uade0\uac12 \ub300\uc2e0\uc5d0 IPython \ub3c4\uc6c0\ub9d0\uc774 \uc65c \ub098\uc654\uc744\uae4c?\n",
      "IPython\uc774 \uc2e4\ud589\ud558\ub294 \ud504\ub85c\uadf8\ub7a8\uc5d0 \ub300\ud55c \uac83\uacfc \uba85\ub839-\ub77c\uc778 \uc778\uc790\uc5d0 \ub300\ud55c \uac83\uc744 \ubd84\uac04\uc774 \uc5b4\ub835\ub2e4.\n",
      "\uc758\ubbf8\ub97c \uba85\ud655\ud788 \ud558\uae30 \uc704\ud558\uace0 \ub458\uc744 \uad6c\ubd84\ud558\uae30 \uc704\ud574\uc11c `--`(\uc774\uc911 \ub300\ud718)\ub97c \uc0ac\uc6a9\ud55c\ub2e4."
     ]
    },
    {
     "cell_type": "code",
     "collapsed": false,
     "input": [
      "!ipython readings-06.py -- --mean < small-01.csv"
     ],
     "language": "python",
     "metadata": {
      "cell_tags": []
     },
     "outputs": [
      {
       "output_type": "stream",
       "stream": "stdout",
       "text": [
        "0.333333333333\r\n",
        "1.0\r\n"
       ]
      }
     ],
     "prompt_number": 24
    },
    {
     "cell_type": "markdown",
     "metadata": {
      "cell_tags": []
     },
     "source": [
      "\ub354 \ub098\uc544\uc84c\ub2e4. \uc774\uc81c \uc644\ub8cc\ud588\ub2e4. \ud504\ub85c\uadf8\ub7a8\uc774 \ucc98\uc74c \uae30\ud68d\ud588\ub358 \ubaa8\ub4e0 \uac83\uc744 \uc218\ud589\ud55c\ub2e4."
     ]
    },
    {
     "cell_type": "markdown",
     "metadata": {
      "cell_tags": [
       "challenges"
      ]
     },
     "source": [
      "#### \ub3c4\uc804 \uacfc\uc81c\n",
      "\n",
      "1.  `line-count.py` \ud504\ub85c\uadf8\ub7a8\uc744 \uc791\uc131\ud574\uc11c \uc720\ub2c9\uc2a4 `wc` \uba85\ub839\uc5b4\ucc98\ub7fc \ub3d9\uc791\ud558\uac8c \ud558\uc138\uc694.\n",
      "    *   \ub9cc\uc57d \uc5b4\ub5a4 \ud30c\uc77c\uc774\ub984\ub3c4 \uc8fc\uc5b4\uc9c0\uc9c0 \uc54a\ub294\ub2e4\uba74, \ud45c\uc900 \uc785\ub825\uc5d0 \ud589 \uc22b\uc790\ub9cc\uc744 \ubcf4\uace0\ud55c\ub2e4.\n",
      "    *   \ub9cc\uc57d \ud558\ub098 \ud639\uc740 \uadf8 \uc774\uc0c1\uc758 \ud30c\uc77c\uc774\ub984\uc774 \uc8fc\uc5b4\uc9c0\uba74, \uac01 \ud30c\uc77c\uc758 \ud589 \uc22b\uc790\uc640 \uc804\uccb4 \ud589 \uc22b\uc790\ub97c \ubcf4\uace0\ud55c\ub2e4."
     ]
    },
    {
     "cell_type": "markdown",
     "metadata": {
      "cell_tags": [
       "keypoints"
      ]
     },
     "source": [
      "#### \uc8fc\uc694\uc810\n",
      "\n",
      "*   `sys` \ub77c\uc774\ube0c\ub7ec\ub9ac\ub294 \ud30c\uc774\uc36c \ud504\ub85c\uadf8\ub7a8\uacfc \ud504\ub85c\uadf8\ub7a8\uc774 \uc2e4\ud589\ub418\ub294 \uc2dc\uc2a4\ud15c\uc744 \uc5f0\uacb0\ud55c\ub2e4.\n",
      "*   `sys.argv` \ub9ac\uc2a4\ud2b8\ub294 \ud504\ub85c\uadf8\ub7a8\uc774 \uc2e4\ud589\ub418\ub294\ub370 \ud544\uc694\ud55c \uba85\ub839-\ub77c\uc778 \uc778\uc790\ub97c \ub2f4\uace0 \uc788\ub2e4.\n",
      "*   \uce68\ubb35\ud558\ub294 \uc2e4\ud328(Silent failures)\ub97c \ud53c\ud55c\ub2e4.\n",
      "*   \"\ud30c\uc77c\" `sys.stdin`\uc744 \uc0ac\uc6a9\ud574\uc11c \ud504\ub85c\uadf8\ub7a8\uc758 \ud45c\uc900 \uc785\ub825\uc5d0 \uc5f0\uacb0\ud55c\ub2e4.\n",
      "*   \"\ud30c\uc77c\" `sys.stdout`\uc744 \uc0ac\uc6a9\ud574\uc11c \ud504\ub85c\uadf8\ub7a8\uc758 \ud45c\uc900 \ucd9c\ub825\uc5d0 \uc5f0\uacb0\ud55c\ub2e4."
     ]
    },
    {
     "cell_type": "code",
     "collapsed": false,
     "input": [],
     "language": "python",
     "metadata": {},
     "outputs": []
    }
   ],
   "metadata": {}
  }
 ]
}