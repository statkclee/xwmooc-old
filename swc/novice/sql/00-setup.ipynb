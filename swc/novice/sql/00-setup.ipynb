{
 "metadata": {
  "name": "00-setup.ipynb",
  "signature": "sha256:2f9342f7149e3d0db32ddfbf8d5eeaa1747817530517ec6bcf297cea6beb1899"
 },
 "nbformat": 3,
 "nbformat_minor": 0,
 "worksheets": [
  {
   "cells": [
    {
     "cell_type": "heading",
     "level": 1,
     "metadata": {},
     "source": [
      "SQLite \uc124\uce58"
     ]
    },
    {
     "cell_type": "markdown",
     "metadata": {},
     "source": [
      "\uc774\ubc88 \ud559\uc2b5\uc740 \ub2e4\uc74c \uc7a5\uc5d0\uc11c \uc0ac\uc6a9\ub418\ub294 \uc608\uc81c \ub370\uc774\ud130\ubca0\uc774\uc2a4\ub97c \uc5b4\ub5bb\uac8c \uc124\uce58\ud558\ub294\uc9c0 \uc124\uba85\ud55c\ub2e4.\n",
      "\ub2e4\uc74c\uc758 \uc9c0\ub3c4\uc0ac\ud56d\uc744 \ub530\ub974\uae30 \uc704\ud574\uc11c\ub294 \uba85\ub839-\ub77c\uc778\uc744 \uc0ac\uc6a9\ud558\uc5ec \uc5b4\ub5bb\uac8c \ub514\ub809\ud1a0\ub9ac\ub97c \uc5ec\uae30\uc800\uae30 \uc774\ub3d9\ud558\ub294\uc9c0\uc640 \uba85\ub839-\ub77c\uc778\uc5d0\uc11c \uba85\ub839\ubb38\uc744 \uc5b4\ub5bb\uac8c \uc2e4\ud589\ud558\ub294\uc9c0 \uc219\uc9c0\ud560 \ud544\uc694\uac00 \uc788\ub2e4.\n",
      "\uc774\ub7f0 \uc8fc\uc81c\uc640 \uce5c\uc219\ud558\uc9c0 \uc54a\ub2e4\uba74, [\uc720\ub2c9\uc2a4 \uc258(Unix Shell)](http://software-carpentry.org/v5/novice/shell/index.html) \ud559\uc2b5\uc744 \ucc38\uc870\ud558\uc138\uc694.\n",
      "\uc774\ud6c4\uc758 \uc7a5\uc5d0\uc11c \ub370\uc774\ud130\ubca0\uc774\uc2a4\ub97c \uc5b4\ub5bb\uac8c \uc0dd\uc131\ud558\uace0 \ub370\uc774\ud130\ub97c \ucc44\uc6b0\ub294\uc9c0 \ubc30\uc6b8 \uac83\uc774\uc9c0\ub9cc, \uba3c\uc800 SQLite \ub370\uc774\ud130\ubca0\uc774\uc2a4\uac00 \uc5b4\ub5bb\uac8c \ub3d9\uc791\ud558\ub294\uc9c0 \uc124\uba85\uc744 \ud560 \ud544\uc694\uac00 \uc788\uc5b4\uc11c\n",
      "\ub370\uc774\ud130\ubca0\uc774\uc2a4\ub97c \uc120\ud589\ud558\uc5ec \uc81c\uacf5\ud55c\ub2e4."
     ]
    },
    {
     "cell_type": "markdown",
     "metadata": {},
     "source": [
      "#### \ubaa9\ud45c\n",
      "\n",
      "*   \ub2e4\uc74c \uc7a5\uc5d0\uc11c \uc0ac\uc6a9\ub420 \uc608\uc81c \ub370\uc774\ud130\ubca0\uc774\uc2a4\ub97c \uad6c\ucd95\ud55c\ub2e4.\n",
      "*   \ub370\uc774\ud130\ubca0\uc774\uc2a4\uac00 \uc774\uc6a9\uac00\ub2a5\ud55c\uc9c0\ub97c \uc810\uac80\ud558\uace0 \uc5b4\ub290 \ud14c\uc774\ube14\uc774 \uc788\ub294\uc9c0\ub3c4 \ud655\uc778\ud55c\ub2e4."
     ]
    },
    {
     "cell_type": "markdown",
     "metadata": {},
     "source": [
      "## \uc124\uce58"
     ]
    },
    {
     "cell_type": "markdown",
     "metadata": {},
     "source": [
      "\uc778\ud130\ub799\ud2f0\ube0c\ud558\uac8c \ub2e4\uc74c \ud559\uc2b5\uc744 \uc218\ud589\ud558\uae30 \uc704\ud574\uc11c\ub294 [\uc124\uce58 \ubc29\ubc95](http://software-carpentry.org/v5/setup.html)\uc5d0 \uc5b8\uae09\ub41c SQLite \ub97c \ucc38\uc870\ud558\uc5ec \uc124\uce58\ud558\uc138\uc694.\n",
      "\n",
      "\uadf8\ub9ac\uace0 , \uc5ec\ub7ec\ubd84\uc774 \uc120\ud0dd\ud55c \uc704\uce58\uc5d0 \"software_carpentry_sql\" \ub514\ub809\ud1a0\ub9ac\ub97c \uc0dd\uc131\ud558\uc138\uc694.\uc608\ub97c \ub4e4\uc5b4"
     ]
    },
    {
     "cell_type": "markdown",
     "metadata": {},
     "source": [
      "1) \uba85\ub839 \ub77c\uc778 \ud130\ubbf8\ub110 \uc708\ub3c4\uc6b0\ub97c \uc5ec\uc138\uc694.\n",
      "\n",
      "2) \ub2e4\uc74c\uacfc \uac19\uc774 \ud0c0\uc774\ud551\ud55c\ub2e4."
     ]
    },
    {
     "cell_type": "code",
     "collapsed": false,
     "input": [
      "mkdir ~/swc/sql"
     ],
     "language": "python",
     "metadata": {},
     "outputs": []
    },
    {
     "cell_type": "markdown",
     "metadata": {},
     "source": [
      "3) \uc0dd\uc131\ud55c \ub514\ub809\ud1a0\ub9ac\ub85c \ud604\uc7ac \uc791\uc5c5 \ub514\ub809\ud1a0\ub9ac\ub97c \ubcc0\uacbd\ud55c\ub2e4."
     ]
    },
    {
     "cell_type": "code",
     "collapsed": false,
     "input": [
      "cd ~/swc/sql"
     ],
     "language": "python",
     "metadata": {},
     "outputs": []
    },
    {
     "cell_type": "markdown",
     "metadata": {},
     "source": [
      "### github\uc5d0\uc11c \"gen-survey-database.sql\" \ud30c\uc77c\uc744 \uc5b4\ub5bb\uac8c \ub2e4\uc6b4\ub85c\ub4dc \ubc1b\uc744\uae4c\uc694?"
     ]
    },
    {
     "cell_type": "markdown",
     "metadata": {},
     "source": [
      "\"~/swc/sql\" \ub514\ub809\ud1a0\ub9ac\ub85c \uc774\ub3d9\ud55c \ud6c4\uc5d0 \uadf8 \ub514\ub809\ud1a0\ub9ac\uc5d0\uc11c  github \uc0ac\uc774\ud2b8 (https://github.com/swcarpentry/bc/blob/master/novice/sql/gen-survey-database.sqlSQL) \uc5d0 \uc704\uce58\ud55c SQL \ud30c\uc77c(\"gen-survey-database.sql\")\uc744 \ub2e4\uc6b4\ub85c\ub4dc\ud55c\ub2e4.\n",
      "\n",
      "\ud30c\uc77c\uc774 github \uc800\uc7a5\uc18c \ub0b4\uc5d0 \uc704\uce58\ud558\uace0 \uc788\uc5b4\uc11c, \uc804\uccb4 git \uc800\uc7a5\uc18c(git repo)\ub97c \ubcf5\uc81c(cloning)\ud558\uc9c0 \uc54a\uace0 \ub2e8\uc77c \ud30c\uc77c\ub9cc \ub85c\uceec\ub85c \uac00\uc838\uc628\ub2e4. \uc774 \ubaa9\uc801\uc744 \ub2ec\uc131\ud558\uae30 \uc704\ud574\uc11c,\n",
      "HTTP, HTTPS, FTP \ud504\ub85c\ud1a0\ucf5c\uc744 \uc9c0\uc6d0\ud558\ub294 \uba85\ub839-\ub77c\uc778 \uc6f9\ud06c\ub864\ub7ec(web-crawler) \uc18c\ud504\ud2b8\uc6e8\uc5b4 [GNU Wget](http://en.wikipedia.org/wiki/Wget) \ud639\uc740,\n",
      "\ub2e4\uc591\ud55c \ud504\ub85c\ud1a0\ucf5c\uc744 \uc0ac\uc6a9\ud558\uc5ec \ub370\uc774\ud130\ub97c \uc804\uc1a1\ud558\ub294\ub370 \uc0ac\uc6a9\ub418\ub294 \ub77c\uc774\ube0c\ub7ec\ub9ac\uc774\uba70 \uba85\ub839-\ub77c\uc778 \ub3c4\uad6c\uc778 [cURL](http://en.wikipedia.org/wiki/CURL)\uc744 \uc0ac\uc6a9\ud55c\ub2e4.\n",
      "\ub450\uac00\uc9c0 \ub3c4\uad6c \ubaa8\ub450 \ud06c\ub85c\uc2a4 \ud50c\ub7ab\ud3fc(cross platform)\uc73c\ub85c \ub2e4\uc591\ud55c \uc6b4\uc601\uccb4\uc81c\ub97c \uc9c0\uc6d0\ud55c\ub2e4.\n",
      "\n",
      "Wget \ud639\uc740 cURL\uc744 \ub85c\uceec\uc5d0 \uc124\uce58\ud55c \ud6c4\uc5d0, \ud130\ubbf8\ub110\uc5d0\uc11c \ub2e4\uc74c \uba85\ub839\uc5b4\ub97c \uc2e4\ud589\ud55c\ub2e4.\n",
      "\n",
      "<i>[Tip: \ub9cc\uc57d cURL\uc744 \uc120\ud638\ud55c\ub2e4\uba74, \ub2e4\uc74c \uba85\ub839\ubb38\uc5d0\uc11c \"wget\"\uc744 \"curl -O\"\ub85c \ub300\uccb4\ud558\uc138\uc694.]</i>"
     ]
    },
    {
     "cell_type": "code",
     "collapsed": false,
     "input": [
      "mom@durga:~/swc/sql$ wget https://raw.githubusercontent.com/swcarpentry/bc/master/novice/sql/gen-survey-database.sql"
     ],
     "language": "python",
     "metadata": {},
     "outputs": []
    },
    {
     "cell_type": "markdown",
     "metadata": {},
     "source": [
      "\uc0c1\uae30 \uba85\ub839\ubb38\uc73c\ub85c Wget\uc740 HTTP \uc694\uccad\uc744 \uc0dd\uc131\ud574\uc11c github \uc800\uc7a5\uc18c\uc758 \"gen-survey-database.sql\" \uc6d0 \ud30c\uc77c\ub9cc \ud604\uc7ac \uc791\uc5c5 \ub514\ub809\ud1a0\ub9ac\ub85c \uac00\uc838\uc628\ub2e4.\n",
      "\uc131\uacf5\uc801\uc73c\ub85c \uc644\ub8cc\ub418\uba74 \ud130\ubbf8\ub110\uc740 \ub2e4\uc74c \ucd9c\ub825\uacb0\uacfc\ub97c \ud654\uba74\uc5d0 \ud45c\uc2dc\ud55c\ub2e4."
     ]
    },
    {
     "cell_type": "code",
     "collapsed": false,
     "input": [
      "--2014-09-02 18:31:43--  https://raw.githubusercontent.com/swcarpentry/bc/master/novice/sql/gen-survey-database.sql\n",
      "Resolving raw.githubusercontent.com (raw.githubusercontent.com)... 103.245.222.133\n",
      "Connecting to raw.githubusercontent.com (raw.githubusercontent.com)|103.245.222.133|:443... connected.\n",
      "HTTP request sent, awaiting response... 200 OK\n",
      "Length: 3297 (3.2K) [text/plain]\n",
      "Saving to: \u2018gen-survey-database.sql\u2019\n",
      "\n",
      "100%[=========================================================================================================================>] 3,297       --.-K/s   in 0.01s   \n",
      "\n",
      "2014-09-02 18:31:45 (264 KB/s) - \u2018gen-survey-database.sql\u2019 saved [3297/3297]"
     ],
     "language": "python",
     "metadata": {},
     "outputs": []
    },
    {
     "cell_type": "markdown",
     "metadata": {},
     "source": [
      "\uc774\uc81c \uc131\uacf5\uc801\uc73c\ub85c \ub2e8\uc77c SQL \ud30c\uc77c\uc744 \uac00\uc838\uc640\uc11c, \"survey.db\" \ub370\uc774\ud130\ubca0\uc774\uc2a4\ub97c \uc0dd\uc131\ud558\uace0 \"gen-survey-database.sql\" \uc5d0 \uc800\uc7a5\ub41c \uc9c0\uc2dc\ubc29\ubc95\uc5d0 \ub530\ub77c\uc11c \ub370\uc774\ud130\ub97c \ucc44\uc6cc\ub123\ub294\ub2e4.\n",
      "\uba85\ub839-\ub77c\uc778 \ud130\ubbf8\ub110\uc5d0\uc11c SQLite3 \ud504\ub85c\uadf8\ub7a8\uc744 \ud638\ucd9c\ud558\uae30 \uc704\ud574\uc11c, \ub2e4\uc74c \uba85\ub839\ubb38\uc744 \uc2e4\ud589\ud55c\ub2e4."
     ]
    },
    {
     "cell_type": "code",
     "collapsed": false,
     "input": [
      "sqlite3 survey.db < gen-survey-database.sql"
     ],
     "language": "python",
     "metadata": {},
     "outputs": []
    },
    {
     "cell_type": "markdown",
     "metadata": {},
     "source": [
      "### SQLite DB \uc5f0\uacb0 \ubc0f \uc124\uce58 \ud14c\uc2a4\ud2b8"
     ]
    },
    {
     "cell_type": "markdown",
     "metadata": {},
     "source": [
      "\uc0dd\uc131\ub41c \ub370\uc774\ud130\ubca0\uc774\uc2a4\uc5d0 \uc5f0\uacb0\ud558\uae30 \uc704\ud574\uc11c, \ub370\uc774\ud130\ubca0\uc774\uc2a4\ub97c \uc0dd\uc131\ud55c \ub514\ub809\ud1a0\ub9ac \uc548\uc5d0\uc11c SQLite\ub97c \uc2dc\uc791\ud55c\ub2e4. \uadf8\ub798\uc11c \"~/swc/sql\" \ub514\ub809\ud1a0\ub9ac\uc5d0\uc11c \ub2e4\uc74c\uacfc \uac19\uc774 \ud0c0\uc774\ud551\ud55c\ub2e4."
     ]
    },
    {
     "cell_type": "code",
     "collapsed": false,
     "input": [
      "sqlite3 survey.db"
     ],
     "language": "python",
     "metadata": {},
     "outputs": []
    },
    {
     "cell_type": "markdown",
     "metadata": {},
     "source": [
      "\"sqlite3 survey.db\" \uba85\ub839\ubb38\uc774 \ub370\uc774\ud130\ubca0\uc774\uc2a4\ub97c \uc5f4\uace0 \ub370\uc774\ud130\ubca0\uc774\uc2a4 \uba85\ub839-\ub77c\uc778 \ud504\ub86c\ud504\ud2b8\ub85c \uc548\ub0b4\ud55c\ub2e4. SQLite\uc5d0\uc11c \ub370\uc774\ud130\ubca0\uc774\uc2a4\ub294 \ud50c\ub7ab \ud30c\uc77c(flat file)\ub85c \uba85\uc2dc\uc801\uc73c\ub85c \uc5f4 \ud544\uc694\uac00 \uc788\ub2e4. \uadf8\ub9ac\uace0 \ub098\uc11c SQLite \uc2dc\uc791\ub418\uace0 \"sqlite\"\ub85c \uba85\ub839-\ub77c\uc778 \ud504\ub86c\ud504\ud2b8\ub85c \ub2e4\uc74c\uacfc \uac19\uc774 \ubcc0\uacbd\ub418\uc5b4 \ud45c\uc2dc\ub41c\ub2e4."
     ]
    },
    {
     "cell_type": "code",
     "collapsed": false,
     "input": [
      "/novice/sql$ sqlite3 survey.db \n",
      "SQLite version 3.7.15.2 2013-01-09 11:53:05\n",
      "Enter \".help\" for instructions\n",
      "Enter SQL statements terminated with a \";\"\n",
      "sqlite>  "
     ],
     "language": "python",
     "metadata": {},
     "outputs": []
    },
    {
     "cell_type": "markdown",
     "metadata": {},
     "source": [
      "\ub2e4\uc74c \ucd9c\ub825\uacb0\uacfc\uac00 \ubcf4\uc5ec\uc8fc\ub4ef\uc774 \".databases\" \uba85\ub839\ubb38\uc73c\ub85c \uc18c\uc18d\ub41c \ub370\uc774\ud130\ubca0\uc774\uc2a4 \uc774\ub984\uacfc \ud30c\uc77c \ubaa9\ub85d\uc744 \ud655\uc778\ud55c\ub2e4."
     ]
    },
    {
     "cell_type": "code",
     "collapsed": false,
     "input": [
      "sqlite> .databases\n",
      "seq  name             file                                                      \n",
      "---  ---------------  ----------------------------------------------------------\n",
      "0    main             ~/novice/sql/survey.db "
     ],
     "language": "python",
     "metadata": {},
     "outputs": []
    },
    {
     "cell_type": "markdown",
     "metadata": {},
     "source": [
      "\ub2e4\uc74c\uacfc \uac19\uc774 \ud0c0\uc774\ud551\ud574\uc11c \ud544\uc694\ud55c \"Person\", \"Survey\", \"Site\" \"Visited\" \ud14c\uc774\ube14\uc774 \uc874\uc7ac\ud558\ub294 \uac83\uc744 \ud655\uc778\ud55c\ub2e4."
     ]
    },
    {
     "cell_type": "code",
     "collapsed": false,
     "input": [
      ".tables"
     ],
     "language": "python",
     "metadata": {},
     "outputs": []
    },
    {
     "cell_type": "markdown",
     "metadata": {},
     "source": [
      "\uadf8\ub9ac\uace0 \".table\"\uc758 \ucd9c\ub825\uacb0\uacfc\ub294 \ub2e4\uc74c\uacfc \uac19\ub2e4."
     ]
    },
    {
     "cell_type": "code",
     "collapsed": false,
     "input": [
      "sqlite> .tables\n",
      "Person   Site     Survey   Visited"
     ],
     "language": "python",
     "metadata": {},
     "outputs": []
    },
    {
     "cell_type": "markdown",
     "metadata": {},
     "source": [
      "\uc774\uc81c, \uc124\uce58\ub97c \uc644\ub8cc\ud574\uc11c \ub2e4\uc74c \ud559\uc2b5\uc73c\ub85c \uc9c4\ud589\ud560 \uc218 \uc788\ub2e4. \n",
      "\ud604\uc7ac \uba85\ub839-\ub77c\uc778 SQLite \uc138\uc158\uc5d0\uc11c \ub2e4\uc74c \uc5f0\uc2b5\uc744 \uc218\ud589\ud560 \uc218 \uc788\ub2e4.\n",
      "IPython\uc758 \ub9c8\uc220\uac19\uc740 \ubc29\ubc95 (%\ub85c \uc2dc\uc791\ud558\ub294 \uac01 \uba85\ub839\ubb38\uc758 \uccab \ud589)\uc740 IPython notebook\uc5d0\uc11c\ub9cc \ub3d9\uc791\ud558\uae30 \ub54c\ubb38\uc5d0,\n",
      "\ud130\ubbf8\ub110\uc5d0\uc11c SQLite\ub97c \uc0ac\uc6a9\ud558\ub294 \ub3d9\uc548 \uc0dd\ub7b5\ud560 \uc218 \uc788\ub2e4.\n",
      "\ub9cc\uc57d IPython notebook \uc0ac\uc6a9\uc744 \uc120\ud638\ud558\uba74 SQLite\ub97c \ub05d\ub0bc \uc218 \uc788\ub2e4."
     ]
    },
    {
     "cell_type": "markdown",
     "metadata": {},
     "source": [
      "### SQLite3 DB \uba85\ub839-\ub77c\uc778 \uc778\ud130\ud398\uc774\uc2a4(CLI)\ub97c \uc5b4\ub5bb\uac8c \ube60\uc838\ub098\uc62c\uae4c\uc694?"
     ]
    },
    {
     "cell_type": "markdown",
     "metadata": {},
     "source": [
      "SQLite3\ub97c \ube60\uc838\ub098\uc624\uae30 \uc704\ud574\uc11c, \ub2e4\uc74c\uacfc \uac19\uc774 \ud0c0\uc774\ud551\ud55c\ub2e4."
     ]
    },
    {
     "cell_type": "code",
     "collapsed": false,
     "input": [
      "sqlite> .quit"
     ],
     "language": "python",
     "metadata": {},
     "outputs": []
    },
    {
     "cell_type": "markdown",
     "metadata": {},
     "source": [
      "### SQLite3 CLI \ub300\uc2e0\uc5d0 IPython notebook\uc744 \uc5b4\ub5bb\uac8c \uc0ac\uc6a9\ud560\uae4c\uc694?"
     ]
    },
    {
     "cell_type": "markdown",
     "metadata": {},
     "source": [
      "\ub9cc\uc57d \uc608\uc81c\ub97c \ub530\ub77c\uac00\ub294\ub370 IPython notebook \uc0ac\uc6a9\uc744 \uc120\ud638\ud55c\ub2e4\uba74, IPython\uc774 \ub85c\uceec \ucef4\ud4e8\ud130\uc5d0 \uc124\uce58\ub418\uc5c8\ub294\uc9c0 \uc810\uac80\ud558\ub77c. \ub9cc\uc57d \uc124\uce58\ub418\uc5b4 \uc788\uc9c0 \uc54a\ub2e4\uba74, \n",
      "[\uc124\uce58 \ubc29\ubc95](http://ipython.org/install.html)\uc744 \ub530\ub974\uc138\uc694.\n",
      "\ub9cc\uc57d IPython\uc774 \uc774\ubbf8 \ub85c\uceec \ucef4\ud4e8\ud130\uc5d0 \uc124\uce58\ub418\uc5b4 \uc788\ub2e4\uba74 notebook\uc744 \uc5f4\uae30 \uc704\ud574\uc11c \uc791\uc5c5 \ud3f4\ub354 \"~/swc/sql\" \ub0b4\ubd80\uc5d0\uc11c \"ipython notebook\"\uc744 \ud0c0\uc774\ud551\ud558\uc138\uc694."
     ]
    },
    {
     "cell_type": "code",
     "collapsed": false,
     "input": [
      "~/swc/sql$ ipython notebook"
     ],
     "language": "python",
     "metadata": {},
     "outputs": []
    },
    {
     "cell_type": "markdown",
     "metadata": {},
     "source": [
      "\uc0c1\uae30 \uba85\ub839\uc5b4\uac00 IPython \ucee4\ub110\uc744 \uad6c\ub3d9\ud574\uc11c \ub514\ud3f4\ud2b8 \ube0c\ub77c\uc6b0\uc838\uc5d0 \uc778\ud130\ub799\ud2f0\ube0c \ub178\ud2b8\ubd81\uc744 \ud654\uba74\uc5d0 \ud45c\uc2dc\ud574\uc11c \ud559\uc2b5\ud558\uba74\uc11c \ud3b8\uc9d1\ud560 \uc218 \uc788\uac8c \ud55c\ub2e4.\n",
      "\ub2e4\uc74c \ud559\uc2b5\uc5d0 \ubcf4\uc5ec\uc9c0\ub294 \uba85\ub839\ubb38\uc744 IPython notebook\uc5d0\uc11c \uc218\ud589\ud560 \uc218 \uc788\ub2e4. \ud6c8\ub828\uc774 \uc885\ub8cc\ub418\uba74 \ubcc0\uacbd\uc0ac\ud56d\uc744 \uac04\uc9c1\ud558\uae30 \uc704\ud574\uc11c \ub178\ud2b8\ubd81 \uc800\uc7a5\uc744 \uae30\uc5b5\ud558\uc138\uc694."
     ]
    },
    {
     "cell_type": "code",
     "collapsed": false,
     "input": [],
     "language": "python",
     "metadata": {},
     "outputs": []
    }
   ],
   "metadata": {}
  }
 ]
}