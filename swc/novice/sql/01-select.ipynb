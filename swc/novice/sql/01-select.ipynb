{
 "metadata": {
  "name": "01-select.ipynb"
 },
 "nbformat": 3,
 "nbformat_minor": 0,
 "worksheets": [
  {
   "cells": [
    {
     "cell_type": "heading",
     "level": 2,
     "metadata": {},
     "source": [
      "\ub370\uc774\ud130 \uc120\ud0dd\ud558\uae30"
     ]
    },
    {
     "cell_type": "markdown",
     "metadata": {},
     "source": [
      "1920\ub144 \ud6c4\ubc18, 1930\ub144 \ucd08\ubc18 William Dyer, Frank Pabodie,Valentina Roerich\ub294 \ub0a8\ud0dc\ud3c9\uc591 [\ub3c4\ub2ec\ubd88\uac00\ub2a5\ud55c \uadf9(Pole of Inaccessibility)](http://en.wikipedia.org/wiki/Pole_of_inaccessibility)\uacfc \uc774\uc5b4\uc11c \ub0a8\uadf9 \ub300\ub959\uc744 \ud0d0\ud5d8\ud588\ub2e4.\n",
      "2\ub144 \uc804\uc5d0 \uc774\ub4e4\uc758 \ud0d0\ud5d8 \uae30\ub85d\uc774 Miskatonic \ub300\ud559 \ucc3d\uace0 \uc0ac\ubb3c\ud568\uc5d0\uc11c \ubc1c\uacac\ub410\ub2e4. \n",
      "\uae30\ub85d\uc744 \uc2a4\uce94\ud574\uc11c OCR\ub85c \uc800\uc7a5\ud588\uace0, \uc774\uc81c\ub294 \uac80\uc0c9\uac00\ub2a5\ud558\uace0 \ubd84\uc11d\uc774 \uc6a9\ud788\ud55c \ubc29\uc2dd\uc73c\ub85c \uc815\ubcf4\ub97c \uc800\uc7a5\ud558\uace0\uc790 \ud55c\ub2e4.\n",
      "\n",
      "\uae30\ubcf8\uc801\uc73c\ub85c 3\uac00\uc9c0 \uc120\ud0dd \uc635\uc158(\ud14d\uc2a4\ud2b8 \ud30c\uc77c, \uc2a4\ud504\ub808\ub4dc\uc26c\ud2b8, \ub370\uc774\ud130\ubca0\uc774\uc2a4)\uc774 \uc788\ub2e4. \n",
      "\ud14d\uc2a4\ud2b8 \ud30c\uc77c\uc740 \uc0dd\uc131\ud558\uae30 \uac00\uc7a5 \uc27d\uace0 \ubc84\uc83c \uc81c\uc5b4\uc640 \uad81\ud569\uc774 \ub9de\uc9c0\ub9cc, \uac80\uc0c9\uacfc \ubd84\uc11d \ub3c4\uad6c\ub97c \ubcc4\ub3c4\ub85c \uad6c\ucd95\ud574\uc57c\ud55c\ub2e4.\n",
      "\uc2a4\ud504\ub808\ub4dc\uc26c\ud2b8\ub294 \ub2e8\uc21c\ud55c \ubd84\uc11d\uc5d0\ub294 \uc801\ud569\ud558\uc9c0\ub9cc, \ud06c\uace0 \ubcf5\uc7a1\ud55c \ub370\uc774\ud130\uc14b\uc744 \ub9e4\uc6b0 \uc798 \ub2e4\ub8e8\uc9c0\ub294 \ubabb\ud55c\ub2e4.\n",
      "\uadf8\ub798\uc11c \ub370\uc774\ud130\ub97c \ub370\uc774\ud130\ubca0\uc774\uc2a4\uc5d0 \ub123\uc5b4\uc11c \uc5b4\ub5bb\uac8c \uac80\uc0c9\uacfc \ubd84\uc11d\uc744 \ud558\ub294\uc9c0 \uc774\ubc88 \ud559\uc2b5\uc5d0\uc11c \ubc30\uc6b8 \uac83\uc774\ub2e4."
     ]
    },
    {
     "cell_type": "markdown",
     "metadata": {
      "cell_tags": [
       "objectives"
      ]
     },
     "source": [
      "#### \ubaa9\ud45c\n",
      "\n",
      "*   \ud14c\uc774\ube14, \ub808\ucf54\ub4dc, \ud544\ub4dc\uc758 \ucc28\uc774\uc810\uc744 \uc124\uba85\ud55c\ub2e4.\n",
      "*   \ub370\uc774\ud130\ubca0\uc774\uc2a4\uc640 \ub370\uc774\ud130\ubca0\uc774\uc2a4 \uad00\ub9ac\uc790\uc758 \ucc28\uc774\ub97c \uc124\uba85\ud55c\ub2e4.\n",
      "*   \ub2e8\ub3c5 \ud14c\uc774\ube14\uc5d0\uc11c \ud2b9\uc815 \ud544\ub4dc\uc5d0 \uc788\ub294 \ubaa8\ub4e0 \uac12\uc744 \uc120\ud0dd\ud558\ub294 \uc9c8\uc758\ubb38(\ucffc\ub9ac, query)\ub97c \uc791\uc131\ud55c\ub2e4."
     ]
    },
    {
     "cell_type": "heading",
     "level": 3,
     "metadata": {},
     "source": [
      "\uc815\uc758 \uba87\uac00\uc9c0"
     ]
    },
    {
     "cell_type": "markdown",
     "metadata": {},
     "source": [
      "[\uad00\uacc4\ud615 \ub370\uc774\ud130\ubca0\uc774\uc2a4(relational database)](../../gloss.html#relational-database)\ub294 \n",
      "[\ud14c\uc774\ube14(tables)](../../gloss.html#table)\ub85c \uc815\ub82c\ub41c \uc815\ubcf4\ub97c \uc800\uc7a5\ud558\uace0 \ub2e4\ub8e8\ub294 \ubc29\uc2dd\uc774\ub2e4.\n",
      "\uac01 \ud14c\uc774\ube14\uc740 \ub370\uc774\ud130\ub97c \uae30\uc220\ud558\ub294 [\ud544\ub4dc(fields)](../../gloss.html#field)\ub85c\ub3c4 \uc54c\ub824\uc9c4 \uc5f4(column)\uacfc\n",
      "\ub370\uc774\ud130\ub97c \ub2f4\uace0 \uc788\ub294 [\ub808\ucf54\ub4dc(records)](../../gloss.html#record)\ub85c \uc54c\ub824\uc9c4 \ud589(row)\uc73c\ub85c \uad6c\uc131\ub41c\ub2e4.\n",
      "\n",
      "\uc2a4\ud504\ub808\ub4dc\uc26c\ud2b8\ub97c \uc0ac\uc6a9\ud560 \ub54c, \uc774\uc804 \uac12\uc5d0 \uae30\ucd08\ud558\uc5ec \uc0c8\ub85c\uc6b4 \uac12\uc744 \uacc4\uc0b0\ud560 \ub54c \uacf5\uc2dd\uc744 \uc140(cell)\uc5d0 \ub123\uc5b4\uc11c \uad6c\ud55c\ub2e4.\n",
      "\ub370\uc774\ud130\ubca0\uc774\uc2a4\ub97c \uc0ac\uc6a9\ud560 \ub54c\ub294 [\ucffc\ub9ac(queries, \uc9c8\uc758)](../../gloss.html#query)\ub85c \ubd88\ub9ac\ub294 \uba85\ub839\ubb38\uc744 \n",
      "[\ub370\uc774\ud130\ubca0\uc774\uc2a4 \uad00\ub9ac\uc790(database manager)](../../gloss.html#database-manager)\uc5d0\uac8c \ubcf4\ub0b8\ub2e4.\n",
      "\ub370\uc774\ud130\ubca0\uc774\uc2a4 \uad00\ub9ac\uc790\ub294 \uc0ac\uc6a9\uc790\ub97c \ub300\uc2e0\ud574\uc11c \ub370\uc774\ud130\ubca0\uc774\uc2a4\ub97c \ub2e4\ub8e8\ub294 \ud504\ub85c\uadf8\ub7a8\uc774\ub2e4.\n",
      "\ub370\uc774\ud130\ubca0\uc774\uc2a4 \uad00\ub9ac\uc790\ub294 \ucffc\ub9ac\uac00 \uba85\uae30\ud558\ub294 \uc784\uc758\uc758 \uc870\ud68c\uc640 \uacc4\uc0b0\uc744 \uc218\ud589\ud558\uace0 \ub2e4\uc74c \ucffc\ub9ac\uc758 \uc2dc\uc791\uc810\uc73c\ub85c \uc0ac\uc6a9\ub420 \uc218 \uc788\ub294\n",
      "\ud14c\uc774\ube14 \ud615\uc2dd\uc73c\ub85c \uacb0\uacfc\uac12\uc744 \ubc18\ud658\ud55c\ub2e4.\n",
      "\n",
      "> \ubaa8\ub4e0 \ub370\uc774\ud130\ubca0\uc774\uc2a4 \uad00\ub9ac\uc790(IBM DB2, PostgreSQL, MySQL, Microsoft Access, SQLite)\ub294\n",
      "> \uc11c\ub85c \ub2e4\ub978 \uace0\uc720\ud55c \ubc29\uc2dd\uc73c\ub85c \ub370\uc774\ud130\ub97c \uc800\uc7a5\ud574\uc11c \ud55c\uacf3\uc5d0\uc11c \uc0dd\uc131\ub41c \ub370\uc774\ud130\ubca0\uc774\uc2a4\ub294 \ub2e4\ub978 \uacf3\uc758 \ub370\uc774\ud130\ubca0\uc774\uc2a4\uc5d0\uc11c\n",
      "> \uc9c1\uc811\uc801\uc73c\ub85c \uc0ac\uc6a9\ub420 \uc218 \uc5c6\ub2e4. \ud558\uc9c0\ub9cc, \ubaa8\ub4e0 \ub370\uc774\ud130\ubca0\uc774\uc2a4 \uad00\ub9ac\uc790\ub294 \ub370\uc774\ud130\ub97c \ub2e4\uc591\ud55c \ud615\uc2dd\uc73c\ub85c \uac00\uc838\uc624\uae30(import)\uc640 \ub0b4\ubcf4\ub0b4\uae30(export)\ub97c \uc9c0\uc6d0\ud55c\ub2e4.\n",
      "> \uadf8\ub798\uc11c \ud55c \uacf3\uc5d0\uc11c \ub2e4\ub978 \uacf3\uc73c\ub85c \uc815\ubcf4\ub97c \uc774\ub3d9\ud558\ub294 \uac83\uc774 *\uac00\ub2a5\ud558\ub2e4*.\n",
      "\n",
      "\ucffc\ub9ac\ub294 [SQL](../../gloss.html#sql)\ub85c \ubd88\ub9ac\ub294 \uc5b8\uc5b4\ub85c \uc791\uc131\ub41c\ub2e4.\n",
      "SQL \uc740 \"Structured Query Language\"(\uad6c\uc870\uc801 \uc9c8\uc758 \uc5b8\uc5b4)\uc758 \uc57d\uc790\ub2e4.\n",
      "SQL\uc740 \ub370\uc774\ud130\ub97c \ubd84\uc11d\ud558\uace0 \ub2e4\uc2dc \uc870\ud569\ud560 \uc218 \uc788\ub294 \uc218\ubc31\uac1c\uc758 \ub2e4\ub978 \ubc29\uc2dd\uc744 \uc81c\uacf5\ud55c\ub2e4.\n",
      "\ud559\uc2b5\uc5d0\uc11c \uc77c\ubd80\ub97c \uc0b4\ud3b4\ubcfc \uac83\uc774\uc9c0\ub9cc, \uc774 \uc77c\ubd80\uac00 \uacfc\ud559\uc790\uac00 \uc218\ud589\ud558\ub294 \uc77c\uc758 \ub300\ubd80\ubd84\uc744 \ucc98\ub9ac\ud560 \uac83\uc774\ub2e4.\n",
      "\n",
      "\ub2e4\uc74c \ud14c\uc774\ube14\uc740 \uc608\uc81c\ub85c \uc0ac\uc6a9\ud560 \ub370\uc774\ud130\ubca0\uc774\uc2a4\ub97c \ubcf4\uc5ec\uc900\ub2e4."
     ]
    },
    {
     "cell_type": "markdown",
     "metadata": {},
     "source": [
      "<table>\n",
      "<tr>\n",
      "<td valign=\"top\">\n",
      "<strong>Person</strong>: \ud310\ub3c5\ud55c \uc0ac\ub78c.\n",
      "\n",
      "<table>\n",
      "  <tr> <th>ident</th> <th>personal</th> <th>family</th> </tr>\n",
      "  <tr> <td>dyer</td> <td>William</td> <td>Dyer</td> </tr>\n",
      "  <tr> <td>pb</td> <td>Frank</td> <td>Pabodie</td> </tr>\n",
      "  <tr> <td>lake</td> <td>Anderson</td> <td>Lake</td> </tr>\n",
      "  <tr> <td>roe</td> <td>Valentina</td> <td>Roerich</td> </tr>\n",
      "  <tr> <td>danforth</td> <td>Frank</td> <td>Danforth</td> </tr>\n",
      "</table>\n",
      "\n",
      "<strong>Site</strong>: \ud310\ub3c5\ud55c \uc7a5\uc18c.\n",
      "\n",
      "<table>\n",
      "  <tr> <th>name</th> <th>lat</th> <th>long</th> </tr>\n",
      "  <tr> <td>DR-1</td> <td>-49.85</td> <td>-128.57</td> </tr>\n",
      "  <tr> <td>DR-3</td> <td>-47.15</td> <td>-126.72</td> </tr>\n",
      "  <tr> <td>MSK-4</td> <td>-48.87</td> <td>-123.4</td> </tr>\n",
      "</table>\n",
      "\n",
      "<strong>Visited</strong>: \ud2b9\uc815 \uc0ac\uc774\ud2b8\uc5d0\uc11c \ud310\ub3c5\ud55c \uc2dc\uc810.\n",
      "\n",
      "<table>\n",
      "  <tr> <th>ident</th> <th>site</th> <th>dated</th> </tr>\n",
      "  <tr> <td>619</td> <td>DR-1</td> <td>1927-02-08</td> </tr>\n",
      "  <tr> <td>622</td> <td>DR-1</td> <td>1927-02-10</td> </tr>\n",
      "  <tr> <td>734</td> <td>DR-3</td> <td>1939-01-07</td> </tr>\n",
      "  <tr> <td>735</td> <td>DR-3</td> <td>1930-01-12</td> </tr>\n",
      "  <tr> <td>751</td> <td>DR-3</td> <td>1930-02-26</td> </tr>\n",
      "  <tr> <td>752</td> <td>DR-3</td> <td bgcolor=\"red\">&nbsp;</td> </tr>\n",
      "  <tr> <td>837</td> <td>MSK-4</td> <td>1932-01-14</td> </tr>\n",
      "  <tr> <td>844</td> <td>DR-1</td> <td>1932-03-22</td> </tr>\n",
      "</table>\n",
      "</td>\n",
      "<td valign=\"top\">\n",
      "<strong>Survey</strong>: \uc2e4\uc81c \ud310\ub3c5.\n",
      "\n",
      "<table>\n",
      "  <tr> <th>taken</th> <th>person</th> <th>quant</th> <th>reading</th> </tr>\n",
      "  <tr> <td>619</td> <td>dyer</td> <td>rad</td> <td>9.82</td> </tr>\n",
      "  <tr> <td>619</td> <td>dyer</td> <td>sal</td> <td>0.13</td> </tr>\n",
      "  <tr> <td>622</td> <td>dyer</td> <td>rad</td> <td>7.8</td> </tr>\n",
      "  <tr> <td>622</td> <td>dyer</td> <td>sal</td> <td>0.09</td> </tr>\n",
      "  <tr> <td>734</td> <td>pb</td> <td>rad</td> <td>8.41</td> </tr>\n",
      "  <tr> <td>734</td> <td>lake</td> <td>sal</td> <td>0.05</td> </tr>\n",
      "  <tr> <td>734</td> <td>pb</td> <td>temp</td> <td>-21.5</td> </tr>\n",
      "  <tr> <td>735</td> <td>pb</td> <td>rad</td> <td>7.22</td> </tr>\n",
      "  <tr> <td>735</td> <td bgcolor=\"red\">&nbsp;</td> <td>sal</td> <td>0.06</td> </tr>\n",
      "  <tr> <td>735</td> <td bgcolor=\"red\">&nbsp;</td> <td>temp</td> <td>-26.0</td> </tr>\n",
      "  <tr> <td>751</td> <td>pb</td> <td>rad</td> <td>4.35</td> </tr>\n",
      "  <tr> <td>751</td> <td>pb</td> <td>temp</td> <td>-18.5</td> </tr>\n",
      "  <tr> <td>751</td> <td>lake</td> <td>sal</td> <td>0.1</td> </tr>\n",
      "  <tr> <td>752</td> <td>lake</td> <td>rad</td> <td>2.19</td> </tr>\n",
      "  <tr> <td>752</td> <td>lake</td> <td>sal</td> <td>0.09</td> </tr>\n",
      "  <tr> <td>752</td> <td>lake</td> <td>temp</td> <td>-16.0</td> </tr>\n",
      "  <tr> <td>752</td> <td>roe</td> <td>sal</td> <td>41.6</td> </tr>\n",
      "  <tr> <td>837</td> <td>lake</td> <td>rad</td> <td>1.46</td> </tr>\n",
      "  <tr> <td>837</td> <td>lake</td> <td>sal</td> <td>0.21</td> </tr>\n",
      "  <tr> <td>837</td> <td>roe</td> <td>sal</td> <td>22.5</td> </tr>\n",
      "  <tr> <td>844</td> <td>roe</td> <td>rad</td> <td>11.25</td> </tr>\n",
      "</table>\n",
      "</td>\n",
      "</tr>\n",
      "</table>"
     ]
    },
    {
     "cell_type": "markdown",
     "metadata": {},
     "source": [
      "3\uac1c \ud56d\ubaa9 (`Visited` \ud14c\uc774\ube14\uc5d0\uc11c 1\uac1c, `Survey` \ud14c\uc774\ube14\uc5d0\uc11c 2\uac1c) \uc740 \ubd89\uc740\uc0c9\uc73c\ub85c \ud45c\uae30\ud55c \uac83\uc744 \uc8fc\ubaa9\ud558\ub77c.\n",
      "\uc65c\ub0d0\ud558\uba74 \uc5b4\ub5a0\ud55c \uac12\ub3c4 \ub2f4\uace0 \uc788\uc9c0 \uc54a\uc544\uc11c \uadf8\ub807\ub2e4. [\ub4a4\uc5d0](#s:null) \uacb0\uce21\uac12(missing)\uc744 \ub2e4\uc2dc \ub2e4\ub8f0 \uac83\uc774\ub2e4.\n",
      "\uc9c0\uae08\uc73c\ub85c\uc11c\ub294 \uacfc\ud559\uc790\uc758 \uc774\ub984\uc744 \ud654\uba74\uc5d0 \ud45c\uc2dc\ud558\ub294 SQL\uc744 \uc791\uc131\ud558\uc790. \n",
      "SQL `select` \ubb38\uc744 \uc0ac\uc6a9\ud574\uc11c \uc6d0\ud558\ub294 \uce7c\ub7fc\uc774\ub984\uacfc \uc6d0\ud558\ub294 \ud14c\uc774\ube14\uc774\ub984\uc744 \uc900\ub2e4.\n",
      "\ucffc\ub9ac\uc640 \uacb0\uacfc\ub294 \ub2e4\uc74c\uacfc \uac19\ub2e4."
     ]
    },
    {
     "cell_type": "code",
     "collapsed": false,
     "input": [
      "%load_ext sqlitemagic"
     ],
     "language": "python",
     "metadata": {},
     "outputs": [],
     "prompt_number": 1
    },
    {
     "cell_type": "code",
     "collapsed": false,
     "input": [
      "%%sqlite survey.db\n",
      "select family, personal from Person;"
     ],
     "language": "python",
     "metadata": {},
     "outputs": [
      {
       "html": [
        "<table>\n",
        "<tr><td>Dyer</td><td>William</td></tr>\n",
        "<tr><td>Pabodie</td><td>Frank</td></tr>\n",
        "<tr><td>Lake</td><td>Anderson</td></tr>\n",
        "<tr><td>Roerich</td><td>Valentina</td></tr>\n",
        "<tr><td>Danforth</td><td>Frank</td></tr>\n",
        "</table>"
       ],
       "metadata": {},
       "output_type": "display_data",
       "text": [
        "<IPython.core.display.HTML at 0x102353a10>"
       ]
      }
     ],
     "prompt_number": 2
    },
    {
     "cell_type": "markdown",
     "metadata": {},
     "source": [
      "\ucffc\ub9ac \ub05d\uc5d0 \uc138\ubbf8\ucf5c\ub860(`;`)\uc740 \ucffc\ub9ac\uac00 \uc644\ub8cc\ub418\uc5b4 \uc2e4\ud589\uc900\ube44 \ub418\uc5c8\ub2e4\uace0 \ub370\uc774\ud130\ubca0\uc774\uc2a4 \uad00\ub9ac\uc790\uc5d0\uac8c \uc54c\ub824\uc900\ub2e4.\n",
      "\uba85\ub839\ubb38\uacfc \uce7c\ub7fc \uc774\ub984\uc744 \ubaa8\ub450 \uc18c\ubb38\uc790\ub85c \uc791\uc131\ud588\uace0, \ud14c\uc774\ube14 \uc774\ub984\uc740 \ud0c0\uc774\ud2c0 \ucf00\uc774\uc2a4(Title Case, \ub2e8\uc5b4\uc758 \uccab \ubb38\uc790\ub97c \ub300\ubb38\uc790\ub85c \ud45c\uae30)\ub85c \uc791\uc131\ud588\ub2e4.\n",
      "\ud558\uc9c0\ub9cc \uadf8\ub807\uac8c \ubc18\ub4ef\uc774 \ud560 \ud544\uc694\ub294 \uc5c6\ub2e4. \uc544\ub798 \uc608\uc81c\uac00 \ubcf4\uc5ec\uc8fc\ub4ef\uc774, SQL\uc740 [\ub300\uc18c\ubb38\uc790 \uad6c\ubd84\ud558\uc9c0 \uc54a\ub294\ub2e4. (case insensitive)](../../gloss.html#case-insensitive)"
     ]
    },
    {
     "cell_type": "code",
     "collapsed": false,
     "input": [
      "%%sqlite survey.db\n",
      "SeLeCt FaMiLy, PeRsOnAl FrOm PeRsOn;"
     ],
     "language": "python",
     "metadata": {},
     "outputs": [
      {
       "html": [
        "<table>\n",
        "<tr><td>Dyer</td><td>William</td></tr>\n",
        "<tr><td>Pabodie</td><td>Frank</td></tr>\n",
        "<tr><td>Lake</td><td>Anderson</td></tr>\n",
        "<tr><td>Roerich</td><td>Valentina</td></tr>\n",
        "<tr><td>Danforth</td><td>Frank</td></tr>\n",
        "</table>"
       ],
       "metadata": {},
       "output_type": "display_data",
       "text": [
        "<IPython.core.display.HTML at 0x102353c90>"
       ]
      }
     ],
     "prompt_number": 3
    },
    {
     "cell_type": "markdown",
     "metadata": {},
     "source": [
      "\ubaa8\ub450 \uc18c\ubb38\uc790, \ud0c0\uc774\ud2c0 \ucf00\uc774\uc2a4, \uc18c\ubb38\uc790 \ub099\ud0c0 \ub300\ubb38\uc790(Lower Camel Case)\ub97c \uc120\ud0dd\ud558\ub4e0\uc9c0 \uad00\uacc4\uc5c6\uc774 \uc77c\uad00\uc131\uc744 \uac00\uc838\ub77c.\n",
      "\ub79c\ub364 \ub300\ubb38\uc790\ub97c \ucd94\uac00\uc801\uc73c\ub85c \uc778\uc9c0\ud558\uc9c0 \uc54a\ub354\ub77c\uace0 \ubcf5\uc7a1\ud55c \ucffc\ub9ac\ub294 \ucda9\ubd84\ud788 \uadf8 \uc790\uccb4\ub85c \uc774\ud574\ud558\uae30 \uc5b4\ub835\ub2e4."
     ]
    },
    {
     "cell_type": "markdown",
     "metadata": {},
     "source": [
      "\ucffc\ub9ac\ub85c \ub3cc\uc544\uac00\uc11c, \ub370\uc774\ud130\ubca0\uc774\uc2a4 \ud14c\uc774\ube14\uc758 \ud589\uacfc \uc5f4\uc774 \ud2b9\uc815\ud55c \uc21c\uc11c\ub85c \uc800\uc7a5\ub418\uc9c0 \uc54a\ub294\ub2e4\ub294 \uac83\uc744 \uc774\ud574\ud558\ub294 \uac83\uc774 \uc911\uc694\ud558\ub2e4.\n",
      "\uc5b4\ub5a4 \uc21c\uc11c\ub85c \ud56d\uc0c1 *\ud45c\uc2dc\ub418\uc9c0\ub9cc*, \ub2e4\uc591\ud55c \ubc29\uc2dd\uc73c\ub85c \uc81c\uc5b4\ud560 \uc218 \uc788\ub2e4.\n",
      "\uc608\ub97c \ub4e4\uc5b4, \ucffc\ub9ac\ub97c \ub2e4\uc74c\uacfc \uac19\uc774 \uc791\uc131\ud574\uc11c \uce7c\ub7fc\uc744 \uad50\ud658\ud560 \uc218 \uc788\ub2e4."
     ]
    },
    {
     "cell_type": "code",
     "collapsed": false,
     "input": [
      "%%sqlite survey.db\n",
      "select personal, family from Person;"
     ],
     "language": "python",
     "metadata": {},
     "outputs": [
      {
       "html": [
        "<table>\n",
        "<tr><td>William</td><td>Dyer</td></tr>\n",
        "<tr><td>Frank</td><td>Pabodie</td></tr>\n",
        "<tr><td>Anderson</td><td>Lake</td></tr>\n",
        "<tr><td>Valentina</td><td>Roerich</td></tr>\n",
        "<tr><td>Frank</td><td>Danforth</td></tr>\n",
        "</table>"
       ],
       "metadata": {},
       "output_type": "display_data",
       "text": [
        "<IPython.core.display.HTML at 0x102353a10>"
       ]
      }
     ],
     "prompt_number": 4
    },
    {
     "cell_type": "markdown",
     "metadata": {},
     "source": [
      "\ud639\uc740 \uc2ec\uc9c0\uc5b4 \uce7c\ub7fc\uc744 \ubc18\ubcf5\ud560 \uc218\ub3c4 \uc788\ub2e4."
     ]
    },
    {
     "cell_type": "code",
     "collapsed": false,
     "input": [
      "%%sqlite survey.db\n",
      "select ident, ident, ident from Person;"
     ],
     "language": "python",
     "metadata": {},
     "outputs": [
      {
       "html": [
        "<table>\n",
        "<tr><td>dyer</td><td>dyer</td><td>dyer</td></tr>\n",
        "<tr><td>pb</td><td>pb</td><td>pb</td></tr>\n",
        "<tr><td>lake</td><td>lake</td><td>lake</td></tr>\n",
        "<tr><td>roe</td><td>roe</td><td>roe</td></tr>\n",
        "<tr><td>danforth</td><td>danforth</td><td>danforth</td></tr>\n",
        "</table>"
       ],
       "metadata": {},
       "output_type": "display_data",
       "text": [
        "<IPython.core.display.HTML at 0x102353b10>"
       ]
      }
     ],
     "prompt_number": 5
    },
    {
     "cell_type": "markdown",
     "metadata": {},
     "source": [
      "\uc190\uc26c\uc6b4 \ubc29\ubc95\uc73c\ub85c, `*`\uc744 \uc0ac\uc6a9\ud574\uc11c \ud14c\uc774\ube14\uc758 \ubaa8\ub4e0 \uce7c\ub7fc\uc744 \uc120\ud0dd\ud560 \uc218\ub3c4 \uc788\ub2e4."
     ]
    },
    {
     "cell_type": "code",
     "collapsed": false,
     "input": [
      "%%sqlite survey.db\n",
      "select * from Person;"
     ],
     "language": "python",
     "metadata": {},
     "outputs": [
      {
       "html": [
        "<table>\n",
        "<tr><td>dyer</td><td>William</td><td>Dyer</td></tr>\n",
        "<tr><td>pb</td><td>Frank</td><td>Pabodie</td></tr>\n",
        "<tr><td>lake</td><td>Anderson</td><td>Lake</td></tr>\n",
        "<tr><td>roe</td><td>Valentina</td><td>Roerich</td></tr>\n",
        "<tr><td>danforth</td><td>Frank</td><td>Danforth</td></tr>\n",
        "</table>"
       ],
       "metadata": {},
       "output_type": "display_data",
       "text": [
        "<IPython.core.display.HTML at 0x102353bd0>"
       ]
      }
     ],
     "prompt_number": 6
    },
    {
     "cell_type": "markdown",
     "metadata": {},
     "source": [
      "#### \ub3c4\uc804 \uacfc\uc81c\n",
      "\n",
      "1.  `Site` \ud14c\uc774\ube14\uc5d0\uc11c \uc0ac\uc774\ud2b8 \uc774\ub984\ub9cc \uc120\ud0dd\ud558\ub294 \ucffc\ub9ac\ub97c \uc791\uc131\ud558\uc138\uc694.\n",
      "\n",
      "2.  \ub9ce\uc740 \uc0ac\ub78c\ub4e4\uc774 \ucffc\ub9ac\ub97c \ub2e4\uc74c\uacfc \uac19\uc740 \ud615\uc2dd\uc73c\ub85c \uc791\uc131\ud55c\ub2e4.\n",
      "\n",
      "    ~~~\n",
      "    SELECT personal, family FROM person;\n",
      "    ~~~\n",
      "\n",
      "    \ud639\uc740 \ub2e4\uc74c\uacfc \uac19\uc774\ub3c4 \uc791\uc131\ud55c\ub2e4.\n",
      "\n",
      "    ~~~\n",
      "    select Personal, Family from PERSON;\n",
      "    ~~~\n",
      "\n",
      "    \uc77d\uae30 \uc27d\uae30 \uc26c\uc6b4 \uc2a4\ud0c0\uc77c\uc740 \uc5b4\ub290 \uac83\uc778\uac00\uc694? \uc774\uc720\ub294 \ubb34\uc5c7\uc77c\uae4c\uc694?"
     ]
    },
    {
     "cell_type": "markdown",
     "metadata": {
      "cell_tags": [
       "keypoints"
      ]
     },
     "source": [
      "#### \uc8fc\uc694\uc810\n",
      "\n",
      "*   \uad00\uacc4\ud615 \ub370\uc774\ud130\ubca0\uc774\uc2a4\ub294 \uc815\ubcf4\ub97c \ud14c\uc774\ube14\ub85c \uc800\uc7a5\ud55c\ub2e4. \uace0\uc815\ub41c \uc22b\uc790\uc758 \uce7c\ub7fc\uacfc \ubcc0\ud558\uae30 \uc26c\uc6b4 \uc22b\uc790\uc758 \ub808\ucf54\ub4dc\ub85c \uad6c\uc131\ub41c\ub2e4.    \n",
      "*   \ub370\uc774\ud130\ubca0\uc774\uc2a4 \uad00\ub9ac\uc790\ub294 \ub370\uc774\ud130\ubca0\uc774\uc2a4\uc5d0 \uc800\uc7a5\ub41c \uc815\ubcf4\ub97c \ub2e4\ub8e8\ub294 \ud504\ub85c\uadf8\ub7a8\uc774\ub2e4.\n",
      "*   \ub370\uc774\ud130\ubca0\uc774\uc2a4\uc5d0\uc11c \uc815\ubcf4\ub97c \ucd94\ucd9c\ud558\ub294\ub370 SQL\uc774\ub77c\uace0 \ubd88\ub9ac\ub294 \ud2b9\ud654\ub41c \uc5b8\uc5b4\ub85c \ucffc\ub9ac\ub97c \uc791\uc131\ud55c\ub2e4.\n",
      "*   SQL\uc740 \ub300\uc18c\ubb38\uc790\ub97c \uad6c\ubcc4\ud558\uc9c0 \uc54a\ub294\ub2e4."
     ]
    },
    {
     "cell_type": "code",
     "collapsed": false,
     "input": [],
     "language": "python",
     "metadata": {},
     "outputs": []
    }
   ],
   "metadata": {}
  }
 ]
}