{
 "metadata": {
  "name": "02-sort-dup.ipynb"
 },
 "nbformat": 3,
 "nbformat_minor": 0,
 "worksheets": [
  {
   "cells": [
    {
     "cell_type": "heading",
     "level": 2,
     "metadata": {},
     "source": [
      "\uc815\ub82c\ud558\uace0 \uc911\ubcf5 \uc81c\uac70\ud558\uae30"
     ]
    },
    {
     "cell_type": "markdown",
     "metadata": {
      "cell_tags": [
       "objectives"
      ]
     },
     "source": [
      "#### \ubaa9\ud45c\n",
      "\n",
      "*   \ud2b9\uc815 \uc21c\uc11c\ub85c \uacb0\uacfc\ub97c \ud45c\uc2dc\ud558\ub294 \ucffc\ub9ac\ub97c \uc791\uc131\ud55c\ub2e4.\n",
      "*   \ub370\uc774\ud130\uc5d0\uc11c \uc911\ubcf5\uac12\uc744 \uc81c\uac70\ud558\ub294 \ucffc\ub9ac\ub97c \uc791\uc131\ud55c\ub2e4."
     ]
    },
    {
     "cell_type": "markdown",
     "metadata": {},
     "source": [
      "\ub370\uc774\ud130\ub294 \uc885\uc885 \uc789\uc5ec\uac00 \uc788\uc5b4\uc11c, \ucffc\ub9ac\ub3c4 \uc885\uc885 \uacfc\uc789 \uc815\ubcf4\ub97c \ubc18\ud658\ud55c\ub2e4.\n",
      "\uc608\ub97c \ub4e4\uc5b4, `survey` \ud14c\uc774\ube14\uc5d0\uc11c \uce21\uc815\ub41c \uc218\ub7c9 \uc815\ubcf4\ub97c \uc120\ud0dd\ud558\uba74, \ub2e4\uc74c\uc744 \uc5bb\uac8c\ub41c\ub2e4."
     ]
    },
    {
     "cell_type": "code",
     "collapsed": false,
     "input": [
      "%load_ext sqlitemagic"
     ],
     "language": "python",
     "metadata": {},
     "outputs": [],
     "prompt_number": 1
    },
    {
     "cell_type": "code",
     "collapsed": false,
     "input": [
      "%%sqlite survey.db\n",
      "select quant from Survey;"
     ],
     "language": "python",
     "metadata": {},
     "outputs": [
      {
       "html": [
        "<table>\n",
        "<tr><td>rad</td></tr>\n",
        "<tr><td>sal</td></tr>\n",
        "<tr><td>rad</td></tr>\n",
        "<tr><td>sal</td></tr>\n",
        "<tr><td>rad</td></tr>\n",
        "<tr><td>sal</td></tr>\n",
        "<tr><td>temp</td></tr>\n",
        "<tr><td>rad</td></tr>\n",
        "<tr><td>sal</td></tr>\n",
        "<tr><td>temp</td></tr>\n",
        "<tr><td>rad</td></tr>\n",
        "<tr><td>temp</td></tr>\n",
        "<tr><td>sal</td></tr>\n",
        "<tr><td>rad</td></tr>\n",
        "<tr><td>sal</td></tr>\n",
        "<tr><td>temp</td></tr>\n",
        "<tr><td>sal</td></tr>\n",
        "<tr><td>rad</td></tr>\n",
        "<tr><td>sal</td></tr>\n",
        "<tr><td>sal</td></tr>\n",
        "<tr><td>rad</td></tr>\n",
        "</table>"
       ],
       "metadata": {},
       "output_type": "display_data",
       "text": [
        "<IPython.core.display.HTML at 0x102358c90>"
       ]
      }
     ],
     "prompt_number": 2
    },
    {
     "cell_type": "markdown",
     "metadata": {},
     "source": [
      "\uacb0\uacfc\ub97c \uc880\ub354 \uc77d\uc744 \uc218 \uc788\uac8c \ub9cc\ub4e4\uae30 \uc704\ud574\uc11c \ucffc\ub9ac\uc5d0 `distinct` \ud0a4\uc6cc\ub4dc\ub97c \ucd94\uac00\ud574\uc11c \uc911\ubcf5\ub41c \ucd9c\ub825\uc744 \uc81c\uac70\ud55c\ub2e4."
     ]
    },
    {
     "cell_type": "code",
     "collapsed": false,
     "input": [
      "%%sqlite survey.db\n",
      "select distinct quant from Survey;"
     ],
     "language": "python",
     "metadata": {},
     "outputs": [
      {
       "html": [
        "<table>\n",
        "<tr><td>rad</td></tr>\n",
        "<tr><td>sal</td></tr>\n",
        "<tr><td>temp</td></tr>\n",
        "</table>"
       ],
       "metadata": {},
       "output_type": "display_data",
       "text": [
        "<IPython.core.display.HTML at 0x102358d90>"
       ]
      }
     ],
     "prompt_number": 3
    },
    {
     "cell_type": "markdown",
     "metadata": {},
     "source": [
      "\ud558\ub098 \uc774\uc0c1\uc758 \uce7c\ub7fc(\uc608\ub97c \ub4e4\uc5b4 survey \uc0ac\uc774\ud2b8 ID\uc640 \uce21\uc815\ub41c \uc218\ub7c9)\uc744 \uc120\ud0dd\ud55c\ub2e4\uba74, \ubcc4\uac1c\ub85c \uad6c\ubcc4\ub41c \uac12\uc758 \uc30d\uc774 \ubc18\ud658\ub41c\ub2e4."
     ]
    },
    {
     "cell_type": "code",
     "collapsed": false,
     "input": [
      "%%sqlite survey.db\n",
      "select distinct taken, quant from Survey;"
     ],
     "language": "python",
     "metadata": {},
     "outputs": [
      {
       "html": [
        "<table>\n",
        "<tr><td>619</td><td>rad</td></tr>\n",
        "<tr><td>619</td><td>sal</td></tr>\n",
        "<tr><td>622</td><td>rad</td></tr>\n",
        "<tr><td>622</td><td>sal</td></tr>\n",
        "<tr><td>734</td><td>rad</td></tr>\n",
        "<tr><td>734</td><td>sal</td></tr>\n",
        "<tr><td>734</td><td>temp</td></tr>\n",
        "<tr><td>735</td><td>rad</td></tr>\n",
        "<tr><td>735</td><td>sal</td></tr>\n",
        "<tr><td>735</td><td>temp</td></tr>\n",
        "<tr><td>751</td><td>rad</td></tr>\n",
        "<tr><td>751</td><td>temp</td></tr>\n",
        "<tr><td>751</td><td>sal</td></tr>\n",
        "<tr><td>752</td><td>rad</td></tr>\n",
        "<tr><td>752</td><td>sal</td></tr>\n",
        "<tr><td>752</td><td>temp</td></tr>\n",
        "<tr><td>837</td><td>rad</td></tr>\n",
        "<tr><td>837</td><td>sal</td></tr>\n",
        "<tr><td>844</td><td>rad</td></tr>\n",
        "</table>"
       ],
       "metadata": {},
       "output_type": "display_data",
       "text": [
        "<IPython.core.display.HTML at 0x102353c90>"
       ]
      }
     ],
     "prompt_number": 4
    },
    {
     "cell_type": "markdown",
     "metadata": {},
     "source": [
      "\uc591\ucabd \uacbd\uc6b0\uc5d0 \uc124\uc0ac \ub370\uc774\ud130\ubca0\uc774\uc2a4 \ub0b4\uc5d0\uc11c \uc11c\ub85c \uc778\uc811\ud558\uc9c0 \uc54a\ub354\ub77c\ub3c4 \ubaa8\ub450 \uc911\ubcf5\uc774 \uc81c\uac70\ub41c \uac83\uc744 \uc8fc\ubaa9\ud558\uc138\uc694.\n",
      "\ub2e4\uc2dc \ud55c\ubc88, \ud589\uc740 \uc2e4\uc81c\ub85c \uc815\ub82c\ub418\uc9c0\ub294 \uc54a\uc558\ub2e4\ub294 \uac83\uc744 \uae30\uc5b5\ud558\uc138\uc694. \ub2e8\uc9c0 \uc815\ub82c\ub41c \uac83\uc73c\ub85c \ud654\uba74\uc5d0 \ucd9c\ub825\ub41c\ub2e4."
     ]
    },
    {
     "cell_type": "markdown",
     "metadata": {},
     "source": [
      "#### \ub3c4\uc804 \uacfc\uc81c\n",
      "\n",
      "1.  `Site` \ud14c\uc774\ube14\uc5d0\uc11c \ubcc4\uac1c\ub85c \uad6c\ubcc4\ub418\ub294 \ub0a0\uc9dc\ub97c \uc120\ud0dd\ud558\ub294 \ucffc\ub9ac\ub97c \uc791\uc131\ud558\uc138\uc694."
     ]
    },
    {
     "cell_type": "markdown",
     "metadata": {},
     "source": [
      "\uc55e\uc11c \uc5b8\uae09\ud588\ub4ef\uc774, \ub370\uc774\ud130\ubca0\uc774\uc2a4 \ub808\ucf54\ub4dc\ub294 \ud2b9\ubcc4\ud55c \uc21c\uc11c\ub85c \uc800\uc7a5\ub418\uc9c0 \uc54a\ub294\ub2e4. \uc774\uac83\uc774 \uc758\ubbf8\ud558\ub294 \ubc14\ub294 \ucffc\ub9ac \uacb0\uacfc\uac00 \ubc18\ub4dc\uc2dc \uc815\ub82c\ub418\uc5b4 \uc788\uc9c0 \uc54a\ub2e4\ub294 \uac83\uc774\ub2e4.\n",
      "\uc124\uc0ac \uc815\ub82c\uc774 \ub418\uc5b4 \uc788\ub354\ub77c\ub3c4, \uc885\uc885 \ub2e4\ub978 \ubc29\uc2dd\uc73c\ub85c \uc815\ub82c\ud558\uace0 \uc2f6\uc744 \uac83\uc774\ub2e4.\n",
      "\uc608\ub97c \ub4e4\uc5b4 \uacfc\ud559\uc790\uc758 \uc774\ub984 \ub300\uc2e0\uc5d0 \ud504\ub85c\uc81d\ud2b8 \uc774\ub984\uc73c\ub85c \uc815\ub82c\ud560 \uc218\ub3c4 \uc788\ub2e4. SQL\uc5d0\uc11c \ucffc\ub9ac\uc5d0 `order by` \uc808\uc744 \ucd94\uac00\ud574\uc11c \uac04\ub2e8\ud558\uac8c \uad6c\ud604\ud560 \uc218 \uc788\ub2e4."
     ]
    },
    {
     "cell_type": "code",
     "collapsed": false,
     "input": [
      "%%sqlite survey.db\n",
      "select * from Person order by ident;"
     ],
     "language": "python",
     "metadata": {},
     "outputs": [
      {
       "html": [
        "<table>\n",
        "<tr><td>danforth</td><td>Frank</td><td>Danforth</td></tr>\n",
        "<tr><td>dyer</td><td>William</td><td>Dyer</td></tr>\n",
        "<tr><td>lake</td><td>Anderson</td><td>Lake</td></tr>\n",
        "<tr><td>pb</td><td>Frank</td><td>Pabodie</td></tr>\n",
        "<tr><td>roe</td><td>Valentina</td><td>Roerich</td></tr>\n",
        "</table>"
       ],
       "metadata": {},
       "output_type": "display_data",
       "text": [
        "<IPython.core.display.HTML at 0x102353b10>"
       ]
      }
     ],
     "prompt_number": 5
    },
    {
     "cell_type": "markdown",
     "metadata": {},
     "source": [
      "\ub514\ud3f4\ud2b8\ub85c, \uacb0\uacfc\ub294 \uc624\ub984\ucc28\uc21c\uc73c\ub85c \uc815\ub82c\ub418\uc5b4\uc57c \ud55c\ub2e4. (\uc989, \uac00\uc7a5 \uc801\uc740 \uac12\uc5d0\uc11c \uac00\uc7a5 \ud070 \uac12 \uc21c\uc73c\ub85c \uc815\ub82c\ub41c\ub2e4.) \n",
      "`desc` (\"descending\")\ub97c \uc0ac\uc6a9\ud574\uc11c \uc5ed\uc21c\uc73c\ub85c\ub3c4 \uc815\ub82c\ud560 \uc218 \uc788\ub2e4."
     ]
    },
    {
     "cell_type": "code",
     "collapsed": false,
     "input": [
      "%%sqlite survey.db\n",
      "select * from person order by ident desc;"
     ],
     "language": "python",
     "metadata": {},
     "outputs": [
      {
       "html": [
        "<table>\n",
        "<tr><td>roe</td><td>Valentina</td><td>Roerich</td></tr>\n",
        "<tr><td>pb</td><td>Frank</td><td>Pabodie</td></tr>\n",
        "<tr><td>lake</td><td>Anderson</td><td>Lake</td></tr>\n",
        "<tr><td>dyer</td><td>William</td><td>Dyer</td></tr>\n",
        "<tr><td>danforth</td><td>Frank</td><td>Danforth</td></tr>\n",
        "</table>"
       ],
       "metadata": {},
       "output_type": "display_data",
       "text": [
        "<IPython.core.display.HTML at 0x102353c50>"
       ]
      }
     ],
     "prompt_number": 6
    },
    {
     "cell_type": "markdown",
     "metadata": {},
     "source": [
      "(\uadf8\ub9ac\uace0, `desc` \ub300\uc2e0\uc5d0 `asc`\ub97c \uc0ac\uc6a9\ud574\uc11c \uc624\ub984\ucc28\uc21c\uc73c\ub85c \uc815\ub82c\ud558\uace0 \uc788\ub2e4\ub294 \uac83\uc744 \uba85\uc2dc\uc801\uc73c\ub85c \ud45c\ud604\ud560 \uc218\ub3c4 \uc788\ub2e4.)\n",
      "\n",
      "\ud55c\ubc88\uc5d0 \uc5ec\ub7ec \ud544\ub4dc\ub97c \uc815\ub82c\ud560 \uc218\ub3c4 \uc788\ub2e4. \uc608\ub97c \ub4e4\uc5b4, \ub2e4\uc74c \ucffc\ub9ac\ub294 `taken` \ud544\ub4dc\ub97c \uc624\ub984\ucc28\uc21c\uc73c\ub85c \uadf8\ub9ac\uace0 \ub3d9\uc77c \uadf8\ub8f9\uc758 `taken` \uac12 \ub0b4\uc5d0\uc11c\ub294 \n",
      "`person`\uc73c\ub85c \ub0b4\ub9bc\ucc28\uc21c\uc73c\ub85c \uacb0\uacfc\ub97c \uc815\ub82c\ud55c\ub2e4."
     ]
    },
    {
     "cell_type": "code",
     "collapsed": false,
     "input": [
      "%%sqlite survey.db\n",
      "select taken, person from Survey order by taken asc, person desc;"
     ],
     "language": "python",
     "metadata": {},
     "outputs": [
      {
       "html": [
        "<table>\n",
        "<tr><td>619</td><td>dyer</td></tr>\n",
        "<tr><td>619</td><td>dyer</td></tr>\n",
        "<tr><td>622</td><td>dyer</td></tr>\n",
        "<tr><td>622</td><td>dyer</td></tr>\n",
        "<tr><td>734</td><td>pb</td></tr>\n",
        "<tr><td>734</td><td>pb</td></tr>\n",
        "<tr><td>734</td><td>lake</td></tr>\n",
        "<tr><td>735</td><td>pb</td></tr>\n",
        "<tr><td>735</td><td>None</td></tr>\n",
        "<tr><td>735</td><td>None</td></tr>\n",
        "<tr><td>751</td><td>pb</td></tr>\n",
        "<tr><td>751</td><td>pb</td></tr>\n",
        "<tr><td>751</td><td>lake</td></tr>\n",
        "<tr><td>752</td><td>roe</td></tr>\n",
        "<tr><td>752</td><td>lake</td></tr>\n",
        "<tr><td>752</td><td>lake</td></tr>\n",
        "<tr><td>752</td><td>lake</td></tr>\n",
        "<tr><td>837</td><td>roe</td></tr>\n",
        "<tr><td>837</td><td>lake</td></tr>\n",
        "<tr><td>837</td><td>lake</td></tr>\n",
        "<tr><td>844</td><td>roe</td></tr>\n",
        "</table>"
       ],
       "metadata": {},
       "output_type": "display_data",
       "text": [
        "<IPython.core.display.HTML at 0x1023557d0>"
       ]
      }
     ],
     "prompt_number": 7
    },
    {
     "cell_type": "markdown",
     "metadata": {},
     "source": [
      "\ub9cc\uc57d \uc911\ubcf5\uc744 \uc81c\uac70\ud55c\ub2e4\uba74 \uc774\ud574\ud558\uae30\uac00 \ub354 \uc27d\ub2e4."
     ]
    },
    {
     "cell_type": "code",
     "collapsed": false,
     "input": [
      "%%sqlite survey.db\n",
      "select distinct taken, person from Survey order by taken asc, person desc;"
     ],
     "language": "python",
     "metadata": {},
     "outputs": [
      {
       "html": [
        "<table>\n",
        "<tr><td>619</td><td>dyer</td></tr>\n",
        "<tr><td>622</td><td>dyer</td></tr>\n",
        "<tr><td>734</td><td>pb</td></tr>\n",
        "<tr><td>734</td><td>lake</td></tr>\n",
        "<tr><td>735</td><td>pb</td></tr>\n",
        "<tr><td>735</td><td>None</td></tr>\n",
        "<tr><td>751</td><td>pb</td></tr>\n",
        "<tr><td>751</td><td>lake</td></tr>\n",
        "<tr><td>752</td><td>roe</td></tr>\n",
        "<tr><td>752</td><td>lake</td></tr>\n",
        "<tr><td>837</td><td>roe</td></tr>\n",
        "<tr><td>837</td><td>lake</td></tr>\n",
        "<tr><td>844</td><td>roe</td></tr>\n",
        "</table>"
       ],
       "metadata": {},
       "output_type": "display_data",
       "text": [
        "<IPython.core.display.HTML at 0x102353b10>"
       ]
      }
     ],
     "prompt_number": 8
    },
    {
     "cell_type": "markdown",
     "metadata": {},
     "source": [
      "#### \ub3c4\uc804 \uacfc\uc81c\n",
      "\n",
      "1.  `Visited` \ud14c\uc774\ube14\uc5d0\uc11c \ubcc4\uac1c\ub85c \uad6c\ubcc4\ub418\ub294 \ub0a0\uc9dc\ub97c \ubc18\ud658\ud558\ub294 \ucffc\ub9ac\ub97c \uc791\uc131\ud558\uc138\uc694.\n",
      "\n",
      "2.  \uc131(family name)\uc73c\ub85c \uc815\ub82c\ub41c `Person` \ud14c\uc774\ube14\uc5d0 \uacfc\ud559\uc790\uc758 \uc131\uba85 \uc804\ubd80\ub97c \ud654\uba74\uc5d0 \ucd9c\ub825\ud558\ub294 \ucffc\ub9ac\ub97c \uc791\uc131\ud558\uc138\uc694."
     ]
    },
    {
     "cell_type": "markdown",
     "metadata": {
      "cell_tags": [
       "keypoints"
      ]
     },
     "source": [
      "#### \uc8fc\uc694\uc810\n",
      "\n",
      "*   \ub370\uc774\ud130\ubca0\uc774\uc2a4 \ud14c\uc774\ube14\uc758 \ub808\ucf54\ub4dc\ub294 \ubcf8\uc9c8\uc801\uc73c\ub85c \uc815\ub82c\ub418\uc9c0 \uc54a\ub294\ub2e4.\n",
      "    \ub9cc\uc57d \ud2b9\uc815 \uc21c\uc11c\ub85c \uc815\ub82c\ud558\uc5ec \ud45c\uc2dc\ud558\ub824\uba74, \uba85\uc2dc\uc801\uc73c\ub85c \uc815\ub82c\uc744 \uba85\uae30\ud558\uc5ec\uc57c \ud55c\ub2e4.\n",
      "*   \ub370\uc774\ud130\ubca0\uc774\uc2a4\uc758 \uac12\uc774 \uc720\uc77c(unique)\ud568\uc744 \ubcf4\uc7a5\ud558\uc9c0\ub294 \uc54a\ub294\ub2e4. \n",
      "    \ub9cc\uc57d \uc911\ubcf5\uc744 \uc81c\uac70\ud558\uace0\uc790 \ud55c\ub2e4\uba74, \uba85\uc2dc\uc801\uc73c\ub85c \uc720\uc77c\ud568\uc744 \uba85\uae30\ud558\uc5ec\uc57c \ud55c\ub2e4."
     ]
    },
    {
     "cell_type": "code",
     "collapsed": false,
     "input": [],
     "language": "python",
     "metadata": {},
     "outputs": []
    }
   ],
   "metadata": {}
  }
 ]
}