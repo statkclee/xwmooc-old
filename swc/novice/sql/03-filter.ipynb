{
 "metadata": {
  "name": "03-filter.ipynb"
 },
 "nbformat": 3,
 "nbformat_minor": 0,
 "worksheets": [
  {
   "cells": [
    {
     "cell_type": "heading",
     "level": 2,
     "metadata": {},
     "source": [
      "\ud544\ud130\ub9c1 (Filtering)"
     ]
    },
    {
     "cell_type": "markdown",
     "metadata": {
      "cell_tags": [
       "objectives"
      ]
     },
     "source": [
      "#### \ubaa9\ud45c\n",
      "\n",
      "*   \uc0ac\uc6a9\uc790\uac00 \uc815\uc758\ud55c \uc870\uac74\uc744 \ub9cc\uc871\ud558\ub294 \ub808\ucf54\ub4dc\ub97c \uc120\ud0dd\ud558\ub294 \ucffc\ub9ac\ub97c \uc791\uc131\ud55c\ub2e4.\n",
      "*   \ucffc\ub9ac \uc808\uc774 \uc2e4\ud589\ub418\ub294 \uc21c\uc11c\ub97c \uc124\uba85\ud55c\ub2e4."
     ]
    },
    {
     "cell_type": "markdown",
     "metadata": {},
     "source": [
      "\ub370\uc774\ud130\ubca0\uc774\uc2a4\uc758 \uac00\uc7a5 \uac15\ub825\ud55c \uae30\ub2a5\uc911 \ud558\ub098\ub294 \ub370\uc774\ud130\ub97c [\ud544\ud130(filter)](../../gloss.html#filter)\ud558\ub294 \ub2a5\ub825\uc774\ub2e4.\n",
      "\uc989, \ud2b9\uc815 \uae30\uc900\uc5d0 \ub9de\ub294 \ub808\ucf54\ub4dc\ub9cc \uc120\ud0dd\ud55c\ub2e4. \uc608\ub97c \ub4e4\uc5b4, \ud2b9\uc815 \uc0ac\uc774\ud2b8\ub97c \uc5b8\uc81c \ubc29\ubb38\ud588\ub294\uc9c0 \ud655\uc778\ud55c\ub2e4\uace0 \uac00\uc815\ud558\uc790.\n",
      "\ucffc\ub9ac\uc5d0 `where` \uc808\uc744 \uc0ac\uc6a9\ud574\uc11c `Visited` \ud14c\uc774\ube14\ub85c\ubd80\ud130 \ub808\ucf54\ub4dc\ub97c \ubf51\uc544\ub0bc \uc218 \uc788\ub2e4."
     ]
    },
    {
     "cell_type": "code",
     "collapsed": false,
     "input": [
      "%load_ext sqlitemagic"
     ],
     "language": "python",
     "metadata": {},
     "outputs": [],
     "prompt_number": 1
    },
    {
     "cell_type": "code",
     "collapsed": false,
     "input": [
      "%%sqlite survey.db\n",
      "select * from Visited where site='DR-1';"
     ],
     "language": "python",
     "metadata": {},
     "outputs": [
      {
       "html": [
        "<table>\n",
        "<tr><td>619</td><td>DR-1</td><td>1927-02-08</td></tr>\n",
        "<tr><td>622</td><td>DR-1</td><td>1927-02-10</td></tr>\n",
        "<tr><td>844</td><td>DR-1</td><td>1932-03-22</td></tr>\n",
        "</table>"
       ],
       "metadata": {},
       "output_type": "display_data",
       "text": [
        "<IPython.core.display.HTML at 0x1023c9050>"
       ]
      }
     ],
     "prompt_number": 2
    },
    {
     "cell_type": "markdown",
     "metadata": {},
     "source": [
      "\ub370\uc774\ud130\ubca0\uc774\uc2a4 \uad00\ub9ac\uc790\ub294 \ub450 \ub2e8\uacc4\ub85c \ub098\ub204\uc5b4 \ucffc\ub9ac\ub97c \uc2e4\ud589\ud55c\ub2e4.\n",
      "\uccab\ubc88\uc9f8\ub85c, `where` \uc808\uc744 \ub9cc\uc871\ud558\ub294 \uac83\uc774 \uc788\ub294\uc9c0 \ud655\uc778\ud558\uae30 \uc704\ud574\uc11c \n",
      "`Visited` \ud14c\uc774\ube14\uc758 \uac01 \ud589\uc744 \uc810\uac80\ud55c\ub2e4.\n",
      "\uadf8\ub9ac\uace0 \ub098\uc11c \ubb34\uc2a8 \uce7c\ub7fc\uc744 \ud45c\uc2dc\ud560\uc9c0 \uacb0\uc815\ud558\uae30 \uc704\ud574\uc11c `select` \ud0a4\uc6cc\ub4dc \ub2e4\uc74c\uc5d0 \uc788\ub294 \uce7c\ub7fc \uc774\ub984\uc744 \uc0ac\uc6a9\ud55c\ub2e4."
     ]
    },
    {
     "cell_type": "markdown",
     "metadata": {},
     "source": [
      "\uc774\ub7ec\ud55c \ucc98\ub9ac \uc21c\uc11c\uac00 \uc758\ubbf8\ud558\ub294 \ubc14\ub294 \ud654\uba74\uc5d0 \ud45c\uc2dc\ub418\uc9c0 \uc54a\ub294 \uce7c\ub7fc \uac12\uc5d0 \uae30\ubc18\ud574\uc11c\ub3c4 `where` \uc808\uc744 \uc0ac\uc6a9\ud574\uc11c \ub808\ucf54\ub4dc\ub97c \ud544\ud130\ub9c1\ud560 \uc218 \uc788\ub2e4\ub294 \uac83\uc774\ub2e4."
     ]
    },
    {
     "cell_type": "code",
     "collapsed": false,
     "input": [
      "%%sqlite survey.db\n",
      "select ident from Visited where site='DR-1';"
     ],
     "language": "python",
     "metadata": {},
     "outputs": [
      {
       "html": [
        "<table>\n",
        "<tr><td>619</td></tr>\n",
        "<tr><td>622</td></tr>\n",
        "<tr><td>844</td></tr>\n",
        "</table>"
       ],
       "metadata": {},
       "output_type": "display_data",
       "text": [
        "<IPython.core.display.HTML at 0x1023c3890>"
       ]
      }
     ],
     "prompt_number": 3
    },
    {
     "cell_type": "markdown",
     "metadata": {},
     "source": [
      "<img src=\"files/img/sql-filter.svg\" alt=\"SQL Filtering in Action\" />"
     ]
    },
    {
     "cell_type": "markdown",
     "metadata": {},
     "source": [
      "\ub370\uc774\ud130\ub97c \ud544\ud130\ub9c1\ud558\ub294\ub370 \ubd88 \uc5f0\uc0b0\uc790(Boolean Operators)\ub97c \uc0ac\uc6a9\ud560 \uc218 \uc788\ub2e4. \uc608\ub97c \ub4e4\uc5b4, 1930\ub144 \uc774\ud6c4\ub85c DR-1 \uc0ac\uc774\ud2b8\uc5d0\uc11c \uc218\uc9d1\ub41c \ubaa8\ub4e0 \uc815\ubcf4\ub97c \uc694\uccad\ud560 \uc218\ub3c4 \uc788\ub2e4."
     ]
    },
    {
     "cell_type": "code",
     "collapsed": false,
     "input": [
      "%%sqlite survey.db\n",
      "select * from Visited where (site='DR-1') and (dated>='1930-00-00');"
     ],
     "language": "python",
     "metadata": {},
     "outputs": [
      {
       "html": [
        "<table>\n",
        "<tr><td>844</td><td>DR-1</td><td>1932-03-22</td></tr>\n",
        "</table>"
       ],
       "metadata": {},
       "output_type": "display_data",
       "text": [
        "<IPython.core.display.HTML at 0x1023c4790>"
       ]
      }
     ],
     "prompt_number": 4
    },
    {
     "cell_type": "markdown",
     "metadata": {},
     "source": [
      "(\uac01 \ud14c\uc2a4\ud2b8 \uc8fc\uc704\uc758 \uad04\ud638\ub294 \uc5c4\ubc00\ud788 \ub9d0\ud574 \ud544\uc694\ud558\uc9c0\ub294 \uc54a\uc9c0\ub9cc \ucffc\ub9ac\ub97c \uc880\ub354 \uc77d\uae30 \uc27d\uac8c \ud55c\ub2e4.)\n",
      "\n",
      "> \ub300\ubd80\ubd84\uc758 \ub370\uc774\ud130\ubca0\uc774\uc2a4 \uad00\ub9ac\uc790\ub294 \ub0a0\uc9dc\uc5d0 \ub300\ud55c \ud2b9\ubcc4\ud55c \ub370\uc774\ud130 \ud615\uc2dd\uc744 \uac00\uc9c4\ub2e4.\n",
      "> \uc0ac\uc2e4 \ub9ce\uc774 \uc788\uc9c0\ub9cc \ub450\uac00\uc9c0 \ud615\uc2dd\uc73c\ub85c \ubcfc \uc218 \uc788\ub2e4. \ub0a0\uc9dc \ub370\uc774\ud130 \ud615\uc2dd\uc758 \ud558\ub098\ub294 \"May 31, 1971\"\uc640 \uac19\uc740 \uac83\uc774\uace0,\n",
      "> \ub2e4\ub978 \ud558\ub098\ub294 \"31 days\" \uac19\uc740 \uae30\uac04\uc5d0 \ub300\ud55c \uac83\uc774\ub2e4.\n",
      "> SQLite\ub294 \uad6c\ubd84\ud558\uc9c0\ub294 \uc54a\ub294\ub2e4. \ub300\uc2e0\uc5d0 SQLite\ub294 \ub0a0\uc9dc\ub97c \ud14d\uc2a4\ud2b8 (ISO-8601 \ud45c\uc900 \ud615\uc2dd \"YYYY-MM-DD HH:MM:SS.SSSS\"), \ud639\uc740 \n",
      "> \uc2e4\uc218 (November 24, 4714 BCE \uc774\ud6c4 \uc9c0\ub098\uac04 \uc77c\uc218), \ud639\uc740 \uc815\uc218 (1970\ub144 1\uc6d4 1\uc77c \uc790\uc815 \uc774\ud6c4 \ucd08)\ub85c\ub9cc \uc800\uc7a5\ud55c\ub2e4.\n",
      "> \ub9cc\uc57d \ubcf5\uc7a1\ud558\uac8c \ub4e4\ub9b0\ub2e4\uba74, \uadf8\ub7f4\uc218\ub3c4 \uc788\ub2e4 \ud558\uc9c0\ub9cc [\uc2a4\uc6e8\ub374\uc758 \uc5ed\uc0ac\uc801\uc778 \ub0a0\uc9dc(historical dates in Sweden)](http://en.wikipedia.org/wiki/Swedish_calendar)\ub97c\n",
      "> \uc774\ud574\ud558\ub294 \uac83\ub9cc\ud07c \ubcf5\uc7a1\ud558\ub294\uc9c0\ub294 \uc54a\ub2e4."
     ]
    },
    {
     "cell_type": "markdown",
     "metadata": {},
     "source": [
      "Lake \ud639\uc740 Roerich\uac00 \ubb34\uc2a8 \uce21\uc815\uc744 \ud588\ub294\uc9c0 \uc54c\uc544\ub0b4\uace0\uc790 \ud55c\ub2e4\uba74, `or`\ub97c \uc0ac\uc6a9\ud558\uc5ec \uc774\ub984\uc5d0 \ud14c\uc2a4\ud2b8\ub97c \uc870\ud569\ud560 \uc218 \uc788\ub2e4."
     ]
    },
    {
     "cell_type": "code",
     "collapsed": false,
     "input": [
      "%%sqlite survey.db\n",
      "select * from Survey where person='lake' or person='roe';"
     ],
     "language": "python",
     "metadata": {},
     "outputs": [
      {
       "html": [
        "<table>\n",
        "<tr><td>734</td><td>lake</td><td>sal</td><td>0.05</td></tr>\n",
        "<tr><td>751</td><td>lake</td><td>sal</td><td>0.1</td></tr>\n",
        "<tr><td>752</td><td>lake</td><td>rad</td><td>2.19</td></tr>\n",
        "<tr><td>752</td><td>lake</td><td>sal</td><td>0.09</td></tr>\n",
        "<tr><td>752</td><td>lake</td><td>temp</td><td>-16.0</td></tr>\n",
        "<tr><td>752</td><td>roe</td><td>sal</td><td>41.6</td></tr>\n",
        "<tr><td>837</td><td>lake</td><td>rad</td><td>1.46</td></tr>\n",
        "<tr><td>837</td><td>lake</td><td>sal</td><td>0.21</td></tr>\n",
        "<tr><td>837</td><td>roe</td><td>sal</td><td>22.5</td></tr>\n",
        "<tr><td>844</td><td>roe</td><td>rad</td><td>11.25</td></tr>\n",
        "</table>"
       ],
       "metadata": {},
       "output_type": "display_data",
       "text": [
        "<IPython.core.display.HTML at 0x1023c4850>"
       ]
      }
     ],
     "prompt_number": 5
    },
    {
     "cell_type": "markdown",
     "metadata": {},
     "source": [
      "\ub2e4\ub978 \ubc29\uc2dd\uc73c\ub85c, `in`\uc744 \uc0ac\uc6a9\ud558\uc5ec \ud2b9\uc815 \uc9d1\ud569\uc5d0 \uac12\uc774 \uc788\ub294\uc9c0 \ud655\uc778\ud560 \uc218 \uc788\ub2e4."
     ]
    },
    {
     "cell_type": "code",
     "collapsed": false,
     "input": [
      "%%sqlite survey.db\n",
      "select * from Survey where person in ('lake', 'roe');"
     ],
     "language": "python",
     "metadata": {},
     "outputs": [
      {
       "html": [
        "<table>\n",
        "<tr><td>734</td><td>lake</td><td>sal</td><td>0.05</td></tr>\n",
        "<tr><td>751</td><td>lake</td><td>sal</td><td>0.1</td></tr>\n",
        "<tr><td>752</td><td>lake</td><td>rad</td><td>2.19</td></tr>\n",
        "<tr><td>752</td><td>lake</td><td>sal</td><td>0.09</td></tr>\n",
        "<tr><td>752</td><td>lake</td><td>temp</td><td>-16.0</td></tr>\n",
        "<tr><td>752</td><td>roe</td><td>sal</td><td>41.6</td></tr>\n",
        "<tr><td>837</td><td>lake</td><td>rad</td><td>1.46</td></tr>\n",
        "<tr><td>837</td><td>lake</td><td>sal</td><td>0.21</td></tr>\n",
        "<tr><td>837</td><td>roe</td><td>sal</td><td>22.5</td></tr>\n",
        "<tr><td>844</td><td>roe</td><td>rad</td><td>11.25</td></tr>\n",
        "</table>"
       ],
       "metadata": {},
       "output_type": "display_data",
       "text": [
        "<IPython.core.display.HTML at 0x1023c4790>"
       ]
      }
     ],
     "prompt_number": 6
    },
    {
     "cell_type": "markdown",
     "metadata": {},
     "source": [
      "`and`\uc640 `or`\ub97c \uc870\ud569\ud560 \uc218\ub294 \uc788\uc9c0\ub9cc, \uc5b4\ub290 \uc5f0\uc0b0\uc790\uac00 \uba3c\uc800 \uc218\ud589\ub418\ub294\uc9c0 \uc8fc\uc758\ud560 \ud544\uc694\uac00 \uc788\ub2e4.\n",
      "\ub9cc\uc57d \uad04\ud638\ub97c \uc0ac\uc6a9\ud558\uc9c0 *\uc54a\ub294\ub2e4\uba74*, \ub2e4\uc74c\uc744 \uc5bb\uac8c \ub41c\ub2e4."
     ]
    },
    {
     "cell_type": "code",
     "collapsed": false,
     "input": [
      "%%sqlite survey.db\n",
      "select * from Survey where quant='sal' and person='lake' or person='roe';"
     ],
     "language": "python",
     "metadata": {},
     "outputs": [
      {
       "html": [
        "<table>\n",
        "<tr><td>734</td><td>lake</td><td>sal</td><td>0.05</td></tr>\n",
        "<tr><td>751</td><td>lake</td><td>sal</td><td>0.1</td></tr>\n",
        "<tr><td>752</td><td>lake</td><td>sal</td><td>0.09</td></tr>\n",
        "<tr><td>752</td><td>roe</td><td>sal</td><td>41.6</td></tr>\n",
        "<tr><td>837</td><td>lake</td><td>sal</td><td>0.21</td></tr>\n",
        "<tr><td>837</td><td>roe</td><td>sal</td><td>22.5</td></tr>\n",
        "<tr><td>844</td><td>roe</td><td>rad</td><td>11.25</td></tr>\n",
        "</table>"
       ],
       "metadata": {},
       "output_type": "display_data",
       "text": [
        "<IPython.core.display.HTML at 0x1023c4850>"
       ]
      }
     ],
     "prompt_number": 7
    },
    {
     "cell_type": "markdown",
     "metadata": {},
     "source": [
      "\uc0c1\uae30 \uacb0\uacfc\ub294 Lake\uac00 \uce21\uc815\ud55c \uc5fc\ubd84\ub7c9\uacfc Roerich\uac00 \uce21\uc815\ud55c *\uc784\uc758* \uce21\uc815\uac12\uc774\ub2e4.\n",
      "\ub300\uc2e0\uc5d0 \uc544\ub9c8\ub3c4 \ub2e4\uc74c\uacfc \uac19\uc740 \uacb0\uacfc\ub97c \uc5bb\uace0\uc790 \ud588\uc744 \uac83\uc774\ub2e4."
     ]
    },
    {
     "cell_type": "code",
     "collapsed": false,
     "input": [
      "%%sqlite survey.db\n",
      "select * from Survey where quant='sal' and (person='lake' or person='roe');"
     ],
     "language": "python",
     "metadata": {},
     "outputs": [
      {
       "html": [
        "<table>\n",
        "<tr><td>734</td><td>lake</td><td>sal</td><td>0.05</td></tr>\n",
        "<tr><td>751</td><td>lake</td><td>sal</td><td>0.1</td></tr>\n",
        "<tr><td>752</td><td>lake</td><td>sal</td><td>0.09</td></tr>\n",
        "<tr><td>752</td><td>roe</td><td>sal</td><td>41.6</td></tr>\n",
        "<tr><td>837</td><td>lake</td><td>sal</td><td>0.21</td></tr>\n",
        "<tr><td>837</td><td>roe</td><td>sal</td><td>22.5</td></tr>\n",
        "</table>"
       ],
       "metadata": {},
       "output_type": "display_data",
       "text": [
        "<IPython.core.display.HTML at 0x1023c3850>"
       ]
      }
     ],
     "prompt_number": 8
    },
    {
     "cell_type": "markdown",
     "metadata": {},
     "source": [
      "\ub9c8\uc9c0\ub9c9\uc73c\ub85c `distinct`\uc640 `where`\ub97c \uc0ac\uc6a9\ud558\uc5ec  \ub450\ubc88\uc9f8 \uc218\uc900\uc758 \ud544\ud130\ub9c1\uc744 \ud55c\ub2e4."
     ]
    },
    {
     "cell_type": "code",
     "collapsed": false,
     "input": [
      "%%sqlite survey.db\n",
      "select distinct person, quant from Survey where person='lake' or person='roe';"
     ],
     "language": "python",
     "metadata": {},
     "outputs": [
      {
       "html": [
        "<table>\n",
        "<tr><td>lake</td><td>sal</td></tr>\n",
        "<tr><td>lake</td><td>rad</td></tr>\n",
        "<tr><td>lake</td><td>temp</td></tr>\n",
        "<tr><td>roe</td><td>sal</td></tr>\n",
        "<tr><td>roe</td><td>rad</td></tr>\n",
        "</table>"
       ],
       "metadata": {},
       "output_type": "display_data",
       "text": [
        "<IPython.core.display.HTML at 0x1023c3890>"
       ]
      }
     ],
     "prompt_number": 9
    },
    {
     "cell_type": "markdown",
     "metadata": {},
     "source": [
      "\ud558\uc9c0\ub9cc, \uae30\uc5b5\ud558\ub77c. `distinct`\ub294 \ucc98\ub9ac\ub420 \ub54c \uc120\ud0dd\ub41c \uce7c\ub7fc\uc5d0 \ud45c\uc2dc\ub418\ub294 \uac12\uc5d0\ub9cc \uc801\uc6a9\ub418\uace0 \uc804\uccb4 \ud589\uc5d0\ub294 \uc801\uc6a9\ub418\uc9c0 \uc54a\ub294\ub2e4.\n",
      "\n",
      "> \ubc29\uae08\uc804\uae4c\uc9c0 \uc218\ud589\ud558\ub294 \uac83\uc740 \ub300\ubd80\ubd84\uc758 \uc0ac\ub78c\ub4e4\uc774 \uc5b4\ub5bb\uac8c SQL \ucffc\ub9ac\ub97c *\uc99d\uac00*\uc2dc\ud0a4\ub294\uc9c0 \uc0b4\ud3b4\ubd24\ub2e4.\n",
      "> \uc758\ub3c4\ud55c \uac83\uc758 \uc77c\ubd80\ub97c \uc218\ud589\ud558\ub294 \ub2e8\uc21c\ud55c \uac83\uc5d0\uc11c\ubd80\ud130 \uc2dc\uc791\ud588\ub2e4.\n",
      "> \uadf8\ub9ac\uace0 \uc808\uc744 \ud558\ub098\uc529 \ud558\ub098\uc529 \ucd94\uac00\ud558\uba74\uc11c \ud6a8\uacfc\ub97c \ud14c\uc2a4\ud2b8\ud588\ub2e4. \uc88b\uc740 \uc804\ub7b5\uc774\ub2e4. \uc0ac\uc2e4 \ubcf5\uc7a1\ud55c \ucffc\ub9ac\ub97c \uc791\uc131\ud560 \ub54c, \uc885\uc885 *\uc720\uc77c\ud55c* \uc804\ub7b5\uc774\ub2e4.\n",
      "> \ud558\uc9c0\ub9cc \uc774 \uc804\ub7b5\uc740 \ube60\ub978 \ud68c\uc804(turnaround)\uc2dc\uac04\uc5d0 \ub2ec\ub824\uc788\uace0 \uc0ac\uc6a9\uc790\uc5d0\uac8c\ub294 \uc815\ub2f5\uc744 \uc5bb\uac8c\ub418\uba74 \uc778\uc9c0\ud558\ub294 \uac83\uc5d0 \ub2ec\ub824\uc788\ub2e4.\n",
      "> \ube60\ub978 \ud68c\uc804\uc2dc\uac04\uc744 \ub2ec\uc131\ud558\ub294 \ucd5c\uc120\uc758 \ubc29\ubc95\uc740 \uc784\uc2dc \ub370\uc774\ud130\ubca0\uc774\uc2a4\uc5d0 \ub370\uc774\ud130\uc758 \uc77c\ubd80\ub97c \uc800\uc7a5\ud558\uace0 \ucffc\ub9ac\ub97c \uc2e4\ud589\ud558\uac70\ub098 \ud639\uc740 \n",
      "> \ud569\uc131\ub41c \ub808\ucf54\ub4dc\ub85c \uc791\uc740 \ub370\uc774\ud130\ubca0\uc774\uc2a4\ub97c \ucc44\uc6cc\ub193\uace0 \uc791\uc5c5\uc744 \ud558\ub294 \uac83\uc774\ub2e4.\n",
      "> \uc608\ub97c \ub4e4\uc5b4, 2\ucc9c\ub9cc \ud638\uc8fc\uc0ac\ub78c\uc758 \uc2e4\uc81c \ub370\uc774\ud130\ubca0\uc774\uc2a4\uc5d0 \ucffc\ub9ac\ub97c \uc791\uc5c5\ud558\uc9c0 \ub9d0\uace0,\n",
      "> 1\ub9cc\uba85 \uc0d8\ud50c\uc744 \ubf51\uc544 \ucffc\ub9ac\ub97c \ub3cc\ub9ac\uac70\ub098 \uc791\uc740 \ud504\ub85c\uadf8\ub7a8\uc744 \uc791\uc131\ud574\uc11c \ub79c\ub364\uc73c\ub85c \ud639\uc740 \uadf8\ub7f4\ub4ef\ud55c 1\ub9cc\uba85 \ub808\ucf54\ub4dc\ub97c \uc0dd\uc131\ud574\uc11c \uc0ac\uc6a9\ud55c\ub2e4."
     ]
    },
    {
     "cell_type": "markdown",
     "metadata": {},
     "source": [
      "#### \ub3c4\uc804 \uacfc\uc81c\n",
      "\n",
      "1.  \uadf9\uc5d0\uc11c 30&deg\ubcf4\ub2e4 \uace0\uc704\ub3c4\uc5d0 \uc704\uce58\ud55c \ubaa8\ub4e0 \uc0ac\uc774\ud2b8\ub97c \uc120\ud0dd\ud558\uace0\uc790 \ud55c\ub2e4\uace0 \uac00\uc815\ud558\uc790.\n",
      "    \uc791\uc131\ud55c \uccab\ubc88\uc9f8 \ucffc\ub9ac\ub294 \ub2e4\uc74c\uacfc \uac19\ub2e4.\n",
      "\n",
      "    ~~~\n",
      "    select * from Site where (lat > -60) or (lat < 60);\n",
      "    ~~~\n",
      "\n",
      "    \uc65c \uc774 \ucffc\ub9ac\uac00 \uc798\ubabb\ub41c \uac83\uc778\uc9c0 \uc124\uba85\ud558\uc138\uc694.\n",
      "    \uadf8\ub9ac\uace0 \ucffc\ub9ac\ub97c \ub2e4\uc2dc \uc791\uc131\ud574\uc11c \uc62c\ubc14\ub974\uac8c \ub3d9\uc791\ud558\uac8c \ub9cc\ub4dc\uc138\uc694.\n",
      "\n",
      "2.  \uc815\uaddc\ud654\ub41c \uc5fc\ubd84 \uc218\uce58\ub294 0.0\uc5d0\uc11c 1.0 \uc0ac\uc774\uc5d0 \uc788\uc5b4\uc57c \ud55c\ub2e4.\n",
      "    \uc0c1\uae30 \ubc94\uc704 \ubc16\uc5d0 \uc788\ub294 \uc5fc\ubd84\uc218\uce58\ub97c \uac00\uc9c4 \ubaa8\ub4e0 \ub808\ucf54\ub4dc\ub97c `Survey` \ud14c\uc774\ube14\uc5d0\uc11c \uc120\ud0dd\ud558\ub294 \ucffc\ub9ac\ub97c \uc791\uc131\ud558\uc138\uc694.\n",
      "\n",
      "3.  \ub9cc\uc57d \uba85\uba85\ub41c \uce7c\ub7fc\uc758 \uac12\uc774 \uc8fc\uc5b4\uc9c4 \ud328\ud134\uacfc \uc77c\uce58\ud55c\ub2e4\uba74 SQL \ud14c\uc2a4\ud2b8 `*column-name* like *pattern*`\uc740 \ucc38\uc774\ub2e4.\n",
      "    \"0 \ud639\uc740 \uadf8 \uc774\uc0c1\uc758 \ubb38\uc790\uc640 \ub9e4\uce6d\"\ub41c\ub2e4\ub294 \uac83\uc744 \uc758\ubbf8\ud558\uae30 \uc704\ud574\uc11c '%'\ubb38\uc790\ub97c \ud328\ud134\uc5d0 \uc784\uc758 \uc22b\uc790 \ud69f\uc218\uc5d0 \uc0ac\uc6a9\ud55c\ub2e4.\n",
      "\n",
      "    <table>\n",
      "      <tr> <th>\ud45c\ud604\uc2dd</th> <th>\uac12</th> </tr>\n",
      "      <tr> <td><code>'a' like 'a'</code></td> <td>True</td> </tr>\n",
      "      <tr> <td><code>'a' like '%a'</code></td> <td>True</td> </tr>\n",
      "      <tr> <td><code>'b' like '%a'</code></td> <td>False</td> </tr>\n",
      "      <tr> <td><code>'alpha' like 'a%'</code></td> <td>True</td> </tr>\n",
      "      <tr> <td><code>'alpha' like 'a%p%'</code></td> <td>True</td> </tr>\n",
      "    </table>\n",
      "    \n",
      "    \ud45c\ud604\uc2dd `*column-name* not like *pattern*`\uc740 \ud14c\uc2a4\ud2b8\ub97c \uac70\uafb8\ub85c \ud55c\ub2e4.\n",
      "    `like`\ub97c \uc0ac\uc6a9\ud558\uc5ec \uc0ac\uc774\ud2b8\uc5d0\uc11c 'DR-something'\uc73c\ub85c \ub77c\ubca8\uc774 \ubd99\uc9c0 *\uc54a\uc740* \ubaa8\ub4e0 \ub808\ucf54\ub4dc\ub97c `Visited`\uc5d0\uc11c \ucc3e\ub294 \ucffc\ub9ac\ub97c \uc791\uc131\ud558\uc138\uc694."
     ]
    },
    {
     "cell_type": "markdown",
     "metadata": {
      "cell_tags": [
       "keypoints"
      ]
     },
     "source": [
      "#### \uc8fc\uc694\uc810\n",
      "\n",
      "*   `where`\ub97c \uc0ac\uc6a9\ud574\uc11c \ubd88 \uc870\uac74(Boolean conditions)\uc5d0 \ub530\ub77c \ub808\ucf54\ub4dc\ub97c \ud544\ud130\ub9c1\ud55c\ub2e4.\n",
      "*   \ud544\ud130\ub9c1\uc774 \uc804\uccb4 \ub808\ucf54\ub4dc\uc5d0 \uc801\uc6a9\ub418\uc5b4\uc11c, \uc870\uac74\uc744 \uc2e4\uc81c\ub85c \ud45c\uc2dc\ub418\uc9c0 \uc54a\ub294 \ud544\ub4dc\uc5d0 \uc0ac\uc6a9\ud560 \uc218 \uc788\ub2e4."
     ]
    },
    {
     "cell_type": "code",
     "collapsed": false,
     "input": [],
     "language": "python",
     "metadata": {},
     "outputs": []
    }
   ],
   "metadata": {}
  }
 ]
}