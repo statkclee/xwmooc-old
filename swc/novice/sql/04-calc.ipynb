{
 "metadata": {
  "name": "04-calc.ipynb"
 },
 "nbformat": 3,
 "nbformat_minor": 0,
 "worksheets": [
  {
   "cells": [
    {
     "cell_type": "heading",
     "level": 2,
     "metadata": {},
     "source": [
      "\uc0c8\ub85c\uc6b4 \uac12 \uacc4\uc0b0\ud558\uae30"
     ]
    },
    {
     "cell_type": "markdown",
     "metadata": {
      "cell_tags": [
       "objectives"
      ]
     },
     "source": [
      "#### \ubaa9\ud45c\n",
      "\n",
      "*   \uac01 \uc120\ud0dd\ub41c \ub808\ucf54\ub4dc\uc5d0 \ub300\ud574 \uc0c8\ub85c\uc6b4 \uac12\uc744 \uacc4\uc0b0\ud558\ub294 \ucffc\ub9ac\ub97c \uc791\uc131\ud55c\ub2e4."
     ]
    },
    {
     "cell_type": "markdown",
     "metadata": {},
     "source": [
      "\uc8fc\uc758\uae4a\uc774 \ud0d0\ud5d8 \uae30\ub85d\uc744 \ub2e4\uc2dc \uc815\ub3c5\ud55c \ub4a4\uc5d0, \ud0d0\ud5d8\ub300\uac00 \ubcf4\uace0\ud55c \ubc29\uc0ac\uc120 \uce21\uc815\uce58\uac00 5%\ub9cc\ud07c \uc0c1\ud5a5\ub418\uc5b4 \uc218\uc815\ub420 \ud544\uc694\uac00 \uc788\ub2e4\ub294 \uac83\uc744 \uae68\ub2ec\uc558\ub2e4.\n",
      "\uc800\uc7a5\ub41c \ub370\uc774\ud130\ub97c \ubcc0\ud615\ud558\uae30 \ubcf4\ub2e4\ub294 \ucffc\ub9ac\uc758 \uc77c\ubd80\ubd84\uc73c\ub85c\uc11c \uc989\uc11d\uc5d0\uc11c \uacc4\uc0b0\uc744 \uc218\ud589\ud560 \uc218 \uc788\ub2e4."
     ]
    },
    {
     "cell_type": "code",
     "collapsed": false,
     "input": [
      "%load_ext sqlitemagic"
     ],
     "language": "python",
     "metadata": {},
     "outputs": [],
     "prompt_number": 1
    },
    {
     "cell_type": "code",
     "collapsed": false,
     "input": [
      "%%sqlite survey.db\n",
      "select 1.05 * reading from Survey where quant='rad';"
     ],
     "language": "python",
     "metadata": {},
     "outputs": [
      {
       "html": [
        "<table>\n",
        "<tr><td>10.311</td></tr>\n",
        "<tr><td>8.19</td></tr>\n",
        "<tr><td>8.8305</td></tr>\n",
        "<tr><td>7.581</td></tr>\n",
        "<tr><td>4.5675</td></tr>\n",
        "<tr><td>2.2995</td></tr>\n",
        "<tr><td>1.533</td></tr>\n",
        "<tr><td>11.8125</td></tr>\n",
        "</table>"
       ],
       "metadata": {},
       "output_type": "display_data",
       "text": [
        "<IPython.core.display.HTML at 0x1023c4e50>"
       ]
      }
     ],
     "prompt_number": 2
    },
    {
     "cell_type": "markdown",
     "metadata": {},
     "source": [
      "\ucffc\ub9ac\ub97c \uc2e4\ud589\ud558\uba74, \ud45c\ud604\uc2dd `1.05 * reading`\uc774 \uac01 \ud589\ub9c8\ub2e4 \ud3c9\uac00\ub41c\ub2e4.\n",
      "\ud45c\ud604\uc2dd\uc5d0\ub294 \uc784\uc758\uc758 \ud544\ub4dc, \ud1b5\uc0c1 \ub9ce\uc774 \uc0ac\uc6a9\ub418\ub294 \uc5f0\uc0b0\uc790, \uadf8\ub9ac\uace0 \ub2e4\uc591\ud55c \ud568\uc218\ub97c \uc0ac\uc6a9\ud55c\ub2e4.\n",
      "(\uc815\ud655\ud558\uac8c\ub294 \uc5b4\ub290 \ub370\uc774\ud130\ubca0\uc774\uc2a4 \uad00\ub9ac\uc790\ub97c \uc0ac\uc6a9\ub418\ub290\ub0d0\uc5d0 \ub530\ub77c \uc758\uc874\uc131\uc744 \ub744\uac8c\ub41c\ub2e4.)\n",
      "\uc608\ub97c \ub4e4\uc5b4, \uc628\ub3c4 \uce21\uc815\uce58\ub97c \ud654\uc528\uc5d0\uc11c \uc12d\uc528\ub85c \uc18c\uc218\uc810 \uc544\ub798 \ub450\uc790\ub9ac\uc5d0\uc11c \ubc18\uc62c\ub9bc\ud558\uc5ec \ubcc0\ud658\ud560 \uc218 \uc788\ub2e4."
     ]
    },
    {
     "cell_type": "code",
     "collapsed": false,
     "input": [
      "%%sqlite survey.db\n",
      "select taken, round(5*(reading-32)/9, 2) from Survey where quant='temp';"
     ],
     "language": "python",
     "metadata": {},
     "outputs": [
      {
       "html": [
        "<table>\n",
        "<tr><td>734</td><td>-29.72</td></tr>\n",
        "<tr><td>735</td><td>-32.22</td></tr>\n",
        "<tr><td>751</td><td>-28.06</td></tr>\n",
        "<tr><td>752</td><td>-26.67</td></tr>\n",
        "</table>"
       ],
       "metadata": {},
       "output_type": "display_data",
       "text": [
        "<IPython.core.display.HTML at 0x1023cbd90>"
       ]
      }
     ],
     "prompt_number": 4
    },
    {
     "cell_type": "markdown",
     "metadata": {},
     "source": [
      "\ub2e4\ub978 \ud544\ub4dc\uc758 \uac12\uc744 \uc870\ud569\ud560 \uc218\ub3c4 \uc788\ub2e4. \uc608\ub97c \ub4e4\uc5b4, \ubb38\uc790\uc5f4 \uc811\ud569 \uc5f0\uc0b0\uc790 (string concatenation operator, `||`)\ub97c \uc0ac\uc6a9\ud55c\ub2e4. "
     ]
    },
    {
     "cell_type": "code",
     "collapsed": false,
     "input": [
      "%%sqlite survey.db\n",
      "select personal || ' ' || family from Person;"
     ],
     "language": "python",
     "metadata": {},
     "outputs": [
      {
       "html": [
        "<table>\n",
        "<tr><td>William Dyer</td></tr>\n",
        "<tr><td>Frank Pabodie</td></tr>\n",
        "<tr><td>Anderson Lake</td></tr>\n",
        "<tr><td>Valentina Roerich</td></tr>\n",
        "<tr><td>Frank Danforth</td></tr>\n",
        "</table>"
       ],
       "metadata": {},
       "output_type": "display_data",
       "text": [
        "<IPython.core.display.HTML at 0x1023c46d0>"
       ]
      }
     ],
     "prompt_number": 5
    },
    {
     "cell_type": "markdown",
     "metadata": {},
     "source": [
      "> `first`\uc640 `last` \ub300\uc2e0\uc5d0 \ud544\ub4dc \uc774\ub984\uc73c\ub85c `personal`\uacfc `family`\ub97c \uc0ac\uc6a9\ud558\ub294 \uac83\uc774 \uc774\uc0c1\ud574 \ubcf4\uc77c\uc9c0 \ubaa8\ub978\ub2e4.\n",
      "> \ud558\uc9c0\ub9cc, \ubb38\ud654\uc801 \ucc28\uc774\ub97c \ub2e4\ub8e8\uae30 \uc704\ud55c \ud544\uc694\ud55c \uccab\ubc88\uc9f8 \ub2e8\uacc4\ub2e4. \uc608\ub97c \ub4e4\uc5b4, \ub2e4\uc74c \uaddc\uce59\uc744 \uace0\ub824\ud574\ubcf4\uc790.\n",
      "\n",
      "<table>\n",
      "  <tr> <th>\uc131\uba85 \uc804\ubd80(Full Name)</th> <th>\uc54c\ud30c\ubcb3 \uc21c\uc11c</th> <th>\uc774\uc720</th> </tr>\n",
      "  <tr> <td>Liu Xiaobo</td> <td>Liu</td> <td>\uc911\uad6d \uc131\uc774 \uc774\ub984\ubcf4\ub2e4 \uba3c\uc800 \uc628\ub2e4.</td> </tr>\n",
      "  <tr> <td> Leonardo da Vinci</td> <td>Leonardo</td> <td>\"da Vinci\" \ub294 \"from Vinci\"\ub97c \ub73b\ud55c\ub2e4.</td> </tr>\n",
      "  <tr> <td> Catherine de Medici</td> <td>Medici</td> <td>\uc131(family name)</td> </tr>\n",
      "  <tr> <td> Jean de La Fontaine</td> <td>La Fontaine</td> <td>\uc131(family name)\uc774 \"La Fontaine\"\uc774\ub2e4.</td> </tr>\n",
      "  <tr> <td> Juan Ponce de Leon</td> <td>Ponce de Leon</td> <td>\uc804\uccb4 \uc131(full family name)\uc774 \"Ponce de Leon\"\uc774\ub2e4.</td> </tr>\n",
      "  <tr> <td> Gabriel Garcia Marquez</td> <td>Garcia Marquez</td> <td>\uc774\uc911\uc73c\ub85c \ub41c \uc2a4\ud398\uc778 \uc131(surnames)</td> </tr>\n",
      "  <tr> <td> Wernher von Braun</td> <td>von <em>or</em> Braun</td> <td>\ub3c5\uc77c \ud639\uc740 \ubbf8\uad6d\uc5d0 \uc788\ub294\ub0d0\uc5d0 \ub530\ub77c \ub2ec\ub77c\uc9d0</td> </tr>\n",
      "  <tr> <td> Elizabeth Alexandra May Windsor</td> <td>Elizabeth</td> <td>\uad70\uc8fc\uac00 \ud1b5\uce58\ud558\ub294 \uc774\ub984\uc5d0 \ub530\ub77c \uc54c\ud30c\ubcb3\uc21c\uc73c\ub85c \uc815\ub82c</td> </tr>\n",
      "  <tr> <td> Thomas a Beckett</td> <td>Thomas</td> <td>\uc2dc\uc131\ub41c(canonized) \uc774\ub984\uc5d0 \ub530\ub77c \uc131\uc778\uc774\ub984 \uc0ac\uc6a9</td> </tr>\n",
      "</table>\n",
      "\n",
      "> \ubd84\uba85\ud558\uac8c, \uc2ec\uc9c0\uc5b4 \ub450\ubd80\ubd84 \"personal\"\uacfc \"family\"\uc73c\ub85c \ub098\ub204\ub294 \uac83\ub3c4 \ucda9\ubd84\ud558\uc9c0 \uc54a\ub2e4."
     ]
    },
    {
     "cell_type": "markdown",
     "metadata": {},
     "source": [
      "#### \ub3c4\uc804 \uacfc\uc81c\n",
      "\n",
      "1.  \uc880\ub354 \uc870\uc0ac\ud55c \ub4a4\uc5d0, Valentina Roerich\ub294 \uc5fc\ub3c4\ub97c \ud37c\uc13c\ud2f0\uc9c0(%)\ub85c \uc791\uc131\ud55c \uac83\uc744 \uc54c\uac8c\ub418\uc5c8\ub2e4.\n",
      "    `Survey` \ud14c\uc774\ube14\uc5d0\uc11c \uac12\uc744 100\uc73c\ub85c \ub098\ub204\uc5b4\uc11c \ubaa8\ub4e0 \uc5fc\ub3c4 \uce21\uc815\uce58\ub97c \ubc18\ud658\ud558\ub294 \ucffc\ub9ac\ub97c \uc791\uc131\ud558\uc138\uc694.\n",
      "\n",
      "2.  `union` \uc5f0\uc0b0\uc790\ub294 \ub450 \ucffc\ub9ac\uc758 \uacb0\uacfc\ub97c \uc870\ud569\ud55c\ub2e4."
     ]
    },
    {
     "cell_type": "code",
     "collapsed": false,
     "input": [
      "%%sqlite survey.db\n",
      "select * from Person where ident='dyer' union select * from Person where ident='roe';"
     ],
     "language": "python",
     "metadata": {},
     "outputs": [
      {
       "html": [
        "<table>\n",
        "<tr><td>dyer</td><td>William</td><td>Dyer</td></tr>\n",
        "<tr><td>roe</td><td>Valentina</td><td>Roerich</td></tr>\n",
        "</table>"
       ],
       "metadata": {},
       "output_type": "display_data",
       "text": [
        "<IPython.core.display.HTML at 0x1023cbd50>"
       ]
      }
     ],
     "prompt_number": 6
    },
    {
     "cell_type": "markdown",
     "metadata": {},
     "source": [
      "`union`\uc744 \uc0ac\uc6a9\ud558\uc5ec \uc55e\uc120 \ub3c4\uc804\uacfc\uc81c\uc5d0\uc11c \uae30\uc220\ub418\uc5b4 \uc218\uc815\ub41c Roerich\uac00 \uce21\uc815\ud55c, Roerich\ub9cc \uce21\uc815\ud55c \uc5fc\ub3c4 \uce21\uc815\uce58\uc758 \ud1b5\ud569 \ub9ac\uc2a4\ud2b8\ub97c \uc0dd\uc131\ud558\uc138\uc694.\n",
      "\ucd9c\ub825\uacb0\uacfc\ub294 \ub2e4\uc74c\uacfc \uac19\uc544\uc57c \ud55c\ub2e4.\n",
      "\n",
      "<table>\n",
      "  <tr> <td>619</td> <td>0.13</td> </tr>\n",
      "  <tr> <td>622</td> <td>0.09</td> </tr>\n",
      "  <tr> <td>734</td> <td>0.05</td> </tr>\n",
      "  <tr> <td>751</td> <td>0.1</td> </tr>\n",
      "  <tr> <td>752</td> <td>0.09</td> </tr>\n",
      "  <tr> <td>752</td> <td>0.416</td> </tr>\n",
      "  <tr> <td>837</td> <td>0.21</td> </tr>\n",
      "  <tr> <td>837</td> <td>0.225</td> </tr>\n",
      "</table>"
     ]
    },
    {
     "cell_type": "markdown",
     "metadata": {},
     "source": [
      "3.  `Visited` \ud14c\uc774\ube14\uc5d0 \uc0ac\uc774\ud2b8 \uc2dd\ubcc4\uc790\ub294 '-'\uc73c\ub85c \uad6c\ubd84\ub418\ub294 \ub450 \ubd80\ubd84\uc73c\ub85c \uad6c\uc131\ub418\uc5b4 \uc788\ub2e4."
     ]
    },
    {
     "cell_type": "code",
     "collapsed": false,
     "input": [
      "%%sqlite survey.db\n",
      "select distinct site from Visited;"
     ],
     "language": "python",
     "metadata": {},
     "outputs": [
      {
       "html": [
        "<table>\n",
        "<tr><td>DR-1</td></tr>\n",
        "<tr><td>DR-3</td></tr>\n",
        "<tr><td>MSK-4</td></tr>\n",
        "</table>"
       ],
       "metadata": {},
       "output_type": "display_data",
       "text": [
        "<IPython.core.display.HTML at 0x1023c4e50>"
       ]
      }
     ],
     "prompt_number": 7
    },
    {
     "cell_type": "markdown",
     "metadata": {},
     "source": [
      "\uba87\uba87 \uc8fc\uc694 \uc0ac\uc774\ud2b8 \uc2dd\ubcc4\uc790\ub294 \ub450 \ubb38\uc790\uae38\uc774\ub97c \uac00\uc9c0\uace0 \uba87\uba87\uc740 3\ubb38\uc790\uae38\uc774\ub97c \uac00\uc9c4\ub2e4.\n",
      "\"in string\" \ud568\uc218 `instr(X, Y)`\uc740 X \ubb38\uc790\uc5f4\uc5d0 \ubb38\uc790\uc5f4 Y\uac00 \uccab\ubc88\uc9f8 \ucd9c\ud604\uc758 1-\uae30\ubc18 \uc778\ub371\uc2a4\ub97c \ubc18\ud658\ud558\uac70\ub098 \n",
      "Y\uac00 X\uc5d0 \uc874\uc7ac\ud558\uc9c0 \uc54a\uc73c\uba74 0 \uc744 \ubc18\ud658\ud55c\ub2e4.\n",
      "\ubd80\ubd84 \ubb38\uc790\uc5f4 \ud568\uc218 `substr(X, I)`\uc740 \uc778\ub371\uc2a4 I\uc5d0\uc11c \uc2dc\uc791\ud558\ub294 \ubb38\uc790\uc5f4 X\uc758 \ubd80\ubd84\ubb38\uc790\uc5f4\uc744 \ubc18\ud658\ud55c\ub2e4.\n",
      "\uc0c1\uae30 \ub450 \ud568\uc218\ub97c \uc0ac\uc6a9\ud574\uc11c \uc720\uc77c\ud55c \uc8fc\uc694 \uc0ac\uc774\ud2b8 \uc2dd\ubcc4\uc790\ub97c \uc0dd\uc131\ud558\uc138\uc694. (\uc774 \ub370\uc774\ud130\uc5d0 \ub300\ud574\uc11c \uc791\uc5c5\ub41c \ub9ac\uc2a4\ud2b8\ub294 \n",
      "\"DR\"\uacfc \"MSK\"\ub9cc \ud3ec\ud568\ud574\uc57c \ud55c\ub2e4.)"
     ]
    },
    {
     "cell_type": "markdown",
     "metadata": {
      "cell_tags": [
       "keypoints"
      ]
     },
     "source": [
      "#### \uc8fc\uc694\uc810\n",
      "\n",
      "*   SQL\uc740 \ucffc\ub9ac\uc758 \uc77c\ubd80\ub85c\uc11c \ub808\ucf54\ub4dc\uc758 \uac12\uc744 \uc0ac\uc6a9\ud55c \uacc4\uc0b0\uc744 \uc218\ud589\ud55c\ub2e4."
     ]
    },
    {
     "cell_type": "code",
     "collapsed": false,
     "input": [],
     "language": "python",
     "metadata": {},
     "outputs": []
    }
   ],
   "metadata": {}
  }
 ]
}