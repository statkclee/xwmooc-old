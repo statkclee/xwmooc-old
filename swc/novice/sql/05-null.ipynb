{
 "metadata": {
  "name": "05-null.ipynb"
 },
 "nbformat": 3,
 "nbformat_minor": 0,
 "worksheets": [
  {
   "cells": [
    {
     "cell_type": "heading",
     "level": 2,
     "metadata": {},
     "source": [
      "\uacb0\uce21 \ub370\uc774\ud130 (Missing Data)"
     ]
    },
    {
     "cell_type": "markdown",
     "metadata": {
      "cell_tags": [
       "objectives"
      ]
     },
     "source": [
      "#### \ubaa9\ud45c\n",
      "\n",
      "*   \ub370\uc774\ud130\ubca0\uc774\uc2a4\uac00 \uc5b4\ub5bb\uac8c \uacb0\uce21 \uc815\ubcf4\ub97c \ud45c\ud604\ud558\ub294\uc9c0 \uc124\uba85\ud55c\ub2e4.\n",
      "*   \uacb0\uce21 \uc815\ubcf4\ub97c \ub2e4\ub8f0 \ub54c, 3\uac1c \uac12\uc744 \uac00\uc9c4 \ub85c\uc9c1(three-valued logic) \ub370\uc774\ud130\ubca0\uc774\uc2a4 \uc0ac\uc6a9\uc744 \uc124\uba85\ud55c\ub2e4.\n",
      "*   \uacb0\uce21 \uc815\ubcf4\ub97c \uc62c\ubc14\ub974\uac8c \ucc98\ub9ac\ud558\ub294 \ucffc\ub9ac\ub97c \uc791\uc131\ud55c\ub2e4."
     ]
    },
    {
     "cell_type": "markdown",
     "metadata": {},
     "source": [
      "\ud604\uc2e4 \uc138\uacc4 \ub370\uc774\ud130\ub294 \uacb0\ucf54 \uc644\uc804\ud558\uc9c0 \uc54a\uace0 \uad6c\uba4d\uc740 \ud56d\uc0c1 \uc788\ub2e4.\n",
      "`null`\ub85c \ubd88\ub9ac\ub294 \ud2b9\ubcc4\ud55c \uac12\uc744 \uc0ac\uc6a9\ud558\uc5ec \ub370\uc774\ud130\ubca0\uc774\uc2a4\ub294 \uad6c\uba4d\uc744 \ud45c\ud604\ud55c\ub2e4.\n",
      "`null`\ub294 0, `False`, \ud639\uc740 \ube48 \ubb38\uc790\uc5f4\ub3c4 \uc544\ub2c8\ub2e4.\"\uc544\ubb34\uac83\ub3c4 \uc5c6\uc74c(nothing here)\"\uc744 \uc758\ubbf8\ud558\ub294 \ud2b9\ubcc4\ud55c \uac12\uc774\ub2e4.\n",
      "`null`\uc744 \ub2e4\ub8e8\ub294 \uac83\uc740 \uc57d\uac04 \ud2b9\ubcc4\ud55c \uae30\uad50\uc640 \uc2e0\uc911\ud55c \uc0dd\uac01\uc744 \uc694\uad6c\ud55c\ub2e4.\n",
      "\n",
      "\uc2dc\uc791\uc73c\ub85c `Visited` \ud14c\uc774\ube14\uc744 \uc0b4\ud3b4\ubcf4\uc790. \ub808\ucf54\ub4dc\uac00 8\uac1c \uc788\uc9c0\ub9cc #752\uc740 \ub0a0\uc9dc\uac00 \uc5c6\ub2e4. \ud639\uc740 \ub354 \uc815\ud655\ud788 \ub9d0\ud558\uba74 \ub0a0\uc9dc\uac00 `null`\uc774\ub2e4."
     ]
    },
    {
     "cell_type": "code",
     "collapsed": false,
     "input": [
      "%load_ext sqlitemagic"
     ],
     "language": "python",
     "metadata": {},
     "outputs": [],
     "prompt_number": 1
    },
    {
     "cell_type": "code",
     "collapsed": false,
     "input": [
      "%%sqlite survey.db\n",
      "select * from Visited;"
     ],
     "language": "python",
     "metadata": {},
     "outputs": [
      {
       "html": [
        "<table>\n",
        "<tr><td>619</td><td>DR-1</td><td>1927-02-08</td></tr>\n",
        "<tr><td>622</td><td>DR-1</td><td>1927-02-10</td></tr>\n",
        "<tr><td>734</td><td>DR-3</td><td>1939-01-07</td></tr>\n",
        "<tr><td>735</td><td>DR-3</td><td>1930-01-12</td></tr>\n",
        "<tr><td>751</td><td>DR-3</td><td>1930-02-26</td></tr>\n",
        "<tr><td>752</td><td>DR-3</td><td>None</td></tr>\n",
        "<tr><td>837</td><td>MSK-4</td><td>1932-01-14</td></tr>\n",
        "<tr><td>844</td><td>DR-1</td><td>1932-03-22</td></tr>\n",
        "</table>"
       ],
       "metadata": {},
       "output_type": "display_data",
       "text": [
        "<IPython.core.display.HTML at 0x1023c4550>"
       ]
      }
     ],
     "prompt_number": 2
    },
    {
     "cell_type": "markdown",
     "metadata": {},
     "source": [
      "`Null` \ub2e4\ub978 \uac12\uacfc\ub294 \ub2e4\ub974\uac8c \ub3d9\uc791\ud55c\ub2e4.\n",
      "\ub9cc\uc57d 1930\ub144 \uc774\uc804 \ub808\ucf54\ub4dc\ub97c \uc120\ud0dd\ud55c\ub2e4\uba74, "
     ]
    },
    {
     "cell_type": "code",
     "collapsed": false,
     "input": [
      "%%sqlite survey.db\n",
      "select * from Visited where dated<'1930-00-00';"
     ],
     "language": "python",
     "metadata": {},
     "outputs": [
      {
       "html": [
        "<table>\n",
        "<tr><td>619</td><td>DR-1</td><td>1927-02-08</td></tr>\n",
        "<tr><td>622</td><td>DR-1</td><td>1927-02-10</td></tr>\n",
        "</table>"
       ],
       "metadata": {},
       "output_type": "display_data",
       "text": [
        "<IPython.core.display.HTML at 0x1023c46d0>"
       ]
      }
     ],
     "prompt_number": 3
    },
    {
     "cell_type": "markdown",
     "metadata": {},
     "source": [
      "\uacb0\uacfc 2\uac1c\ub97c \uc5bb\uac8c \ub418\uace0, \ub9cc\uc57d 1930\ub144 \ub3d9\uc548 \ud639\uc740 \uc774\ud6c4 \ub808\ucf54\ub4dc\ub97c \uc120\ud0dd\ud55c\ub2e4\uba74,"
     ]
    },
    {
     "cell_type": "code",
     "collapsed": false,
     "input": [
      "%%sqlite survey.db\n",
      "select * from Visited where dated>='1930-00-00';"
     ],
     "language": "python",
     "metadata": {},
     "outputs": [
      {
       "html": [
        "<table>\n",
        "<tr><td>734</td><td>DR-3</td><td>1939-01-07</td></tr>\n",
        "<tr><td>735</td><td>DR-3</td><td>1930-01-12</td></tr>\n",
        "<tr><td>751</td><td>DR-3</td><td>1930-02-26</td></tr>\n",
        "<tr><td>837</td><td>MSK-4</td><td>1932-01-14</td></tr>\n",
        "<tr><td>844</td><td>DR-1</td><td>1932-03-22</td></tr>\n",
        "</table>"
       ],
       "metadata": {},
       "output_type": "display_data",
       "text": [
        "<IPython.core.display.HTML at 0x1023c4550>"
       ]
      }
     ],
     "prompt_number": 4
    },
    {
     "cell_type": "markdown",
     "metadata": {},
     "source": [
      "\uacb0\uacfc\ub97c 5\uac1c \uc5bb\uac8c\ub418\uc9c0\ub9cc, \ub808\ucf54\ub4dc #752\uc740 \uacb0\uacfc\uac12 \uc5b4\ub514\uc5d0\ub3c4 \uc874\uc7ac\ud558\uc9c0 \uc54a\ub294\ub2e4.\n",
      "\uc774\uc720\ub294 `null<'1930-00-00'` \ud3c9\uac00\uacb0\uacfc\uac00 \ucc38\ub3c4 \uac70\uc9d3\ub3c4 \uc544\ub2c8\uae30 \ub54c\ubb38\uc774\ub2e4.\n",
      "`null` \uc774 \uc758\ubbf8\ud558\ub294 \uac83\uc740 \"\uc54c\uc218\uac00 \uc5c6\ub2e4\"\ub294 \uac83\uc774\ub2e4.\n",
      "\uadf8\ub9ac\uace0 \ub9cc\uc57d \ube44\uad50 \ud3c9\uac00\uc2dd\uc758 \uc67c\ucabd\ud3b8 \uac12\uc744 \uc54c\uc9c0 \ubabb\ud55c\ub2e4\uba74, \ube44\uad50\ub3c4 \ucc38\uc778\uc9c0 \uac70\uc9d3\uc778\uc9c0 \uc54c\uc218\uac00 \uc5c6\ub2e4.\n",
      "\ub370\uc774\ud130\ubca0\uc774\uc2a4\ub294 \"\uc54c \uc218 \uc5c6\uc74c\"\uc744 `null`\ub85c \ud45c\ud604\ud558\uae30 \ub54c\ubb38\uc5d0, `null<'1930-00-00'`\uc758 \uac12\ub3c4 \uc0ac\uc2e4 `null`\uc774\ub2e4.\n",
      "`null>='1930-00-00'`\ub3c4 \ub610\ud55c `null`\uc778\ub370 \uc65c\ub0d0\ud558\uba74 \uc9c8\ubb38\uc5d0 \ub2f5\uc744 \ud560 \uc218 \uc5c6\uae30 \ub54c\ubb38\uc774\ub2e4.\n",
      "\uadf8\ub9ac\uace0, `where`\uc808\uc5d0 \ub808\ucf54\ub4dc\ub294 \ud14c\uc2a4\ud2b8\uac00 \ucc38\uc778 \uac83\ub9cc \uc788\uae30 \ub54c\ubb38\uc5d0 \ub808\ucf54\ub4dc #752\uc740 \uc5b4\ub290 \uacb0\uacfc\uac12\uc5d0\ub3c4 \ud3ec\ud568\ub418\uc9c0 \uc54a\uac8c \ub41c\ub2e4.\n",
      "\n",
      "\ud3c9\uac00\uc2dd\ub9cc `null`\uac12\uc744 \uc774\uc640 \uac19\uc740 \ubc29\uc2dd\uc73c\ub85c \ub2e4\ub8e8\ub294 \uc5f0\uc0b0\uc790\ub294 \uc544\ub2c8\ub2e4. \n",
      "`1+null`\ub3c4 `null`\uc774\uace0,\n",
      "`5*null`\ub3c4 `null`\uc774\uace0,\n",
      "`log(null)`\ub3c4 `null`\uc774 \ub41c\ub2e4.\n",
      "\ud2b9\ud788, \ubb34\uc5b8\uac00\ub97c = \uacfc != \uc73c\ub85c `null`\uacfc \ube44\uad50\ud558\ub294 \uac83\ub3c4 `null`\uc774 \ub41c\ub2e4."
     ]
    },
    {
     "cell_type": "code",
     "collapsed": false,
     "input": [
      "%%sqlite survey.db\n",
      "select * from Visited where dated=NULL;"
     ],
     "language": "python",
     "metadata": {},
     "outputs": [
      {
       "html": [
        "<table>\n",
        "\n",
        "</table>"
       ],
       "metadata": {},
       "output_type": "display_data",
       "text": [
        "<IPython.core.display.HTML at 0x1023c46d0>"
       ]
      }
     ],
     "prompt_number": 5
    },
    {
     "cell_type": "code",
     "collapsed": false,
     "input": [
      "%%sqlite survey.db\n",
      "select * from Visited where dated!=NULL;"
     ],
     "language": "python",
     "metadata": {},
     "outputs": [
      {
       "html": [
        "<table>\n",
        "\n",
        "</table>"
       ],
       "metadata": {},
       "output_type": "display_data",
       "text": [
        "<IPython.core.display.HTML at 0x1023c4550>"
       ]
      }
     ],
     "prompt_number": 6
    },
    {
     "cell_type": "markdown",
     "metadata": {},
     "source": [
      "`null` \uc778\uc9c0 \uc544\ub2cc\uc9c0\ub97c \uc810\uac80\ud558\uae30 \uc704\ud574\uc11c, \ud2b9\ubcc4\ud55c \ud14c\uc2a4\ud2b8 `is null`\uc744 \uc0ac\uc6a9\ud574\uc57c \ud55c\ub2e4."
     ]
    },
    {
     "cell_type": "code",
     "collapsed": false,
     "input": [
      "%%sqlite survey.db\n",
      "select * from Visited where dated is NULL;"
     ],
     "language": "python",
     "metadata": {},
     "outputs": [
      {
       "html": [
        "<table>\n",
        "<tr><td>752</td><td>DR-3</td><td>None</td></tr>\n",
        "</table>"
       ],
       "metadata": {},
       "output_type": "display_data",
       "text": [
        "<IPython.core.display.HTML at 0x1023c46d0>"
       ]
      }
     ],
     "prompt_number": 7
    },
    {
     "cell_type": "markdown",
     "metadata": {},
     "source": [
      "\ud639\uc740, \uc5ed\uc73c\ub85c\ub294 `is not null`\uc744 \uc0ac\uc6a9\ud55c\ub2e4."
     ]
    },
    {
     "cell_type": "code",
     "collapsed": false,
     "input": [
      "%%sqlite survey.db\n",
      "select * from Visited where dated is not NULL;"
     ],
     "language": "python",
     "metadata": {},
     "outputs": [
      {
       "html": [
        "<table>\n",
        "<tr><td>619</td><td>DR-1</td><td>1927-02-08</td></tr>\n",
        "<tr><td>622</td><td>DR-1</td><td>1927-02-10</td></tr>\n",
        "<tr><td>734</td><td>DR-3</td><td>1939-01-07</td></tr>\n",
        "<tr><td>735</td><td>DR-3</td><td>1930-01-12</td></tr>\n",
        "<tr><td>751</td><td>DR-3</td><td>1930-02-26</td></tr>\n",
        "<tr><td>837</td><td>MSK-4</td><td>1932-01-14</td></tr>\n",
        "<tr><td>844</td><td>DR-1</td><td>1932-03-22</td></tr>\n",
        "</table>"
       ],
       "metadata": {},
       "output_type": "display_data",
       "text": [
        "<IPython.core.display.HTML at 0x1023c4550>"
       ]
      }
     ],
     "prompt_number": 8
    },
    {
     "cell_type": "markdown",
     "metadata": {},
     "source": [
      "`null` \uac12\uc740 \ub098\ud0c0\ub098\ub294 \uacf3\ub9c8\ub2e4 \ub450\ud1b5\uc744 \uc77c\uc73c\ud0a8\ub2e4.\n",
      "\uc608\ub97c \ub4e4\uc5b4, Dyer\uac00 \uce21\uc815\ud558\uc9c0 \uc54a\uc740 \ubaa8\ub4e0 \uc5fc\ubd84 \uc815\ubcf4\ub97c \ucc3e\ub294\ub2e4\uace0 \uac00\uc815\ud558\uc790.\n",
      "\ub2e4\uc74c\uacfc \uac19\uc774 \ucffc\ub9ac\ub97c \uc791\uc131\ud558\ub294 \uac83\uc740 \ub2f9\uc5f0\ud558\ub2e4."
     ]
    },
    {
     "cell_type": "code",
     "collapsed": false,
     "input": [
      "%%sqlite survey.db\n",
      "select * from Survey where quant='sal' and person!='lake';"
     ],
     "language": "python",
     "metadata": {},
     "outputs": [
      {
       "html": [
        "<table>\n",
        "<tr><td>619</td><td>dyer</td><td>sal</td><td>0.13</td></tr>\n",
        "<tr><td>622</td><td>dyer</td><td>sal</td><td>0.09</td></tr>\n",
        "<tr><td>752</td><td>roe</td><td>sal</td><td>41.6</td></tr>\n",
        "<tr><td>837</td><td>roe</td><td>sal</td><td>22.5</td></tr>\n",
        "</table>"
       ],
       "metadata": {},
       "output_type": "display_data",
       "text": [
        "<IPython.core.display.HTML at 0x1023c46d0>"
       ]
      }
     ],
     "prompt_number": 9
    },
    {
     "cell_type": "markdown",
     "metadata": {},
     "source": [
      "\ud558\uc9c0\ub9cc, \uc0c1\uae30 \ucffc\ub9ac \ud544\ud130\ub294 \ub204\uac00 \uce21\uc815\uc744 \ud588\ub294\uc9c0 \ubaa8\ub974\ub294 \ub808\ucf54\ub4dc\ub294 \ube60\ub728\ub9b0\ub2e4.\n",
      "\ub2e4\uc2dc \ud55c\ubc88, \uc774\uc720\ub294 `person`\uc774 `null`\uc77c \ub54c, `!=`\ube44\uad50\ub294 `null`\uac12\uc744 \ub9cc\ub4e4\uc5b4\uc11c\n",
      "\ub808\ucf54\ub4dc\uac00 \uacb0\uacfc\uac12\uc5d0 \uc788\uc9c0 \uc54a\uac8c \ub41c\ub2e4. \ub9cc\uc57d \uc774\ub7f0 \ub808\ucf54\ub4dc\ub3c4 \uc720\uc9c0\ud558\ub824\uace0 \ud55c\ub2e4\uba74, \n",
      "\uba85\uc2dc\uc801\uc73c\ub85c \uac80\uc0ac\ub97c \ucd94\uac00\ud560 \ud544\uc694\uac00 \uc788\ub2e4."
     ]
    },
    {
     "cell_type": "code",
     "collapsed": false,
     "input": [
      "%%sqlite survey.db\n",
      "select * from Survey where quant='sal' and (person!='lake' or person is null);"
     ],
     "language": "python",
     "metadata": {},
     "outputs": [
      {
       "html": [
        "<table>\n",
        "<tr><td>619</td><td>dyer</td><td>sal</td><td>0.13</td></tr>\n",
        "<tr><td>622</td><td>dyer</td><td>sal</td><td>0.09</td></tr>\n",
        "<tr><td>735</td><td>None</td><td>sal</td><td>0.06</td></tr>\n",
        "<tr><td>752</td><td>roe</td><td>sal</td><td>41.6</td></tr>\n",
        "<tr><td>837</td><td>roe</td><td>sal</td><td>22.5</td></tr>\n",
        "</table>"
       ],
       "metadata": {},
       "output_type": "display_data",
       "text": [
        "<IPython.core.display.HTML at 0x1023c4550>"
       ]
      }
     ],
     "prompt_number": 10
    },
    {
     "cell_type": "markdown",
     "metadata": {},
     "source": [
      "\uc5ec\uc804\ud788 \uc774\ub7ec\ud55c \uc811\uadfc\ubc95\uc774 \ub9de\ub294 \uac83\uc778\uc9c0 \uc544\ub2cc \uac83\uc778\uc9c0 \ud310\ub2e8\ud560 \ud544\uc694\uac00 \uc788\ub2e4.\n",
      "\ub9cc\uc57d \uc808\ub300\uc801\uc73c\ub85c \uacb0\uacfc\uc5d0 Lake\uac00 \uce21\uc815\ud55c \uc5b4\ub5a0\ud55c \uac12\ub3c4 \ud3ec\ud568\ud558\uc9c0 \uc54a\ub294\ub2e4\uace0 \ud655\uc2e0\ud55c\ub2e4\uba74,\n",
      "\ub204\uac00 \uc791\uc5c5\uc744 \ud55c \uac83\uc778\uc9c0 \ubaa8\ub974\ub294 \ubaa8\ub4e0 \ub808\ucf54\ub4dc\ub97c \uc81c\uc678\ud560 \ud544\uc694\uac00 \uc788\ub2e4."
     ]
    },
    {
     "cell_type": "markdown",
     "metadata": {},
     "source": [
      "#### \ub3c4\uc804 \uacfc\uc81c\n",
      "\n",
      "1.  \ub0a0\uc9dc\uac00 \uc54c\ub824\uc9c0\uc9c0 \uc54a\uc740 (\uc989 `null`) \ud56d\ubaa9\uc740 \ube7c\uace0, \ub0a0\uc9dc \uc21c\uc73c\ub85c `Visited` \ud14c\uc774\ube14\uc5d0 \uc788\ub294 \ub808\ucf54\ub4dc\ub97c \uc815\ub82c\ud55c \ucffc\ub9ac\ub97c \uc791\uc131\ud558\uc138\uc694.\n",
      "\n",
      "1.  \ub2e4\uc74c \ucffc\ub9ac\uac00 \ubb34\uc2a8 \uacb0\uacfc\ub97c \ud560\uae4c\uc694?\n",
      "\n",
      "    ~~~\n",
      "    select * from Visited where dated in ('1927-02-08', null);\n",
      "    ~~~\n",
      "\n",
      "    \uc0c1\uae30 \ucffc\ub9ac\uac00 \uc2e4\uc9c8\uc801\uc73c\ub85c \ubb34\uc5c7\uc744 \uc0dd\uae30\uac8c \ud560\uae4c\uc694?\n",
      "\n",
      "1.  \uba87\uba87 \ub370\uc774\ud130\ubca0\uc774\uc2a4 \ub514\uc790\uc774\ub108\ub294 `null` \ubcf4\ub2e4 \uacb0\uce21 \ub370\uc774\ud130\ub97c \ud45c\uae30\ud558\uae30 \uc704\ud574\uc11c [\ubcf4\ucd08\uac12(sentinel value)](../../gloss.html#sentinel-value)\ub97c \uc0ac\uc6a9\ud55c\ub2e4.\n",
      "    \uc608\ub97c \ub4e4\uc5b4, \uacb0\uce21 \ub0a0\uc9dc\ub97c \ud45c\uae30\ud558\uae30 \uc704\ud574\uc11c \"0000-00-00\" \ub0a0\uc9dc\ub97c \uc0ac\uc6a9\ud558\uac70\ub098 \uacb0\uce21 \uc5fc\ubd84\uce58 \ud639\uc740 \uacb0\uce21 \ubc29\uc0ac\uc120 \uce21\uc815\uac12\uc744 \ud45c\uae30\ud558\uae30 \uc704\ud574\uc11c -1.0\uc744 \uc0ac\uc6a9\ud55c\ub2e4.\n",
      "    (\uc65c\ub0d0\ud558\uba74 \uc2e4\uc81c \uce21\uc815\uac12\uc774 \uc74c\uc218\uac00 \ub420 \uc218 \uc5c6\uae30 \ub54c\ubb38\uc774\ub2e4.)\n",
      "    \uc774\ub7ec\ud55c \uc811\uadfc\ubc95\uc740 \ubb34\uc5c7\uc744 \ub2e8\uc21c\ud654\ud560\uae4c\uc694? \uc774\ub7ec\ud55c \uc811\uadfc\ubc95\uc774 \uc5b4\ub5a4 \ubd80\ub2f4\uacfc \uc704\ud5d8\uc744 \uac00\uc838\uc62c\uae4c\uc694?"
     ]
    },
    {
     "cell_type": "markdown",
     "metadata": {
      "cell_tags": [
       "keypoints"
      ]
     },
     "source": [
      "#### \uc8fc\uc694\uc810\n",
      "\n",
      "*   \ub370\uc774\ud130\ubca0\uc774\uc2a4\ub294 \uacb0\uce21 \uc815\ubcf4\ub97c \ud45c\ud604\ud558\uae30 \uc704\ud574\uc11c `null`\uc744 \uc0ac\uc6a9\ud55c\ub2e4.\n",
      "*   `null`\uc774 \uad00\uacc4\ub418\ub294 \uc0b0\uc220 \ud639\uc740 \ubd88 \uc5f0\uc0b0 \uacb0\uacfc\ub3c4 `null`\uc774\ub2e4.\n",
      "*   `null`\uacfc \ud568\uaed8 \uc548\uc804\ud558\uc138 \uc0ac\uc6a9\ub420 \uc218 \uc788\ub294 \uc720\uc77c\ud55c \uc5f0\uc0b0\uc790\ub294 `is null`\uacfc `is not null`\uc774\ub2e4."
     ]
    }
   ],
   "metadata": {}
  }
 ]
}