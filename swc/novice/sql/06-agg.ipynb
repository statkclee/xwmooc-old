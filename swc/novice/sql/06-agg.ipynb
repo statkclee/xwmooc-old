{
 "metadata": {
  "name": "06-agg.ipynb"
 },
 "nbformat": 3,
 "nbformat_minor": 0,
 "worksheets": [
  {
   "cells": [
    {
     "cell_type": "heading",
     "level": 2,
     "metadata": {},
     "source": [
      "\uc9d1\ud569(Aggregation)"
     ]
    },
    {
     "cell_type": "markdown",
     "metadata": {
      "cell_tags": [
       "objectives"
      ]
     },
     "source": [
      "#### \ubaa9\ud45c\n",
      "\n",
      "*   \"\uc9d1\ud569(aggregation)\uc744 \uc815\uc758\ud558\uace0 \uc0ac\uc6a9\uc608\ub97c \uc81c\uc2dc\ud55c\ub2e4.\n",
      "*   \uc9d1\ud569\ud558\ub294 \uac12\uc744 \uacc4\uc0b0\ud558\ub294 \ucffc\ub9ac\ub97c \uc791\uc131\ud55c\ub2e4.\n",
      "*   \uc9d1\ud569\uc744 \uc218\ud589\ud558\ub294 \ucffc\ub9ac\uc758 \uc2e4\ud589\uc744 \ucd94\uc801\ud55c\ub2e4.\n",
      "*   \uacb0\uce21 \ub370\uc774\ud130\uac00 \uc5b4\ub5bb\uac8c \uc9d1\ud569\ub418\ub294 \ub3d9\uc548\uc5d0 \ub2e4\ub904\uc9c0\ub294\uc9c0 \uc124\uba85\ud55c\ub2e4."
     ]
    },
    {
     "cell_type": "markdown",
     "metadata": {},
     "source": [
      "\uc774\uc81c \ub370\uc774\ud130\uc758 \ud3c9\uade0\uacfc \ubc94\uc704\ub97c \uacc4\uc0b0\ud558\uace0\uc790 \ud55c\ub2e4. `Visited` \ud14c\uc774\ube14\uc5d0\uc11c \ubaa8\ub4e0 \ub0a0\uc9dc \uc815\ubcf4\ub97c \uc5b4\ub5bb\uac8c \uc120\ud0dd\ud558\ub294\uc9c0 \uc54c\uace0 \uc788\ub2e4."
     ]
    },
    {
     "cell_type": "code",
     "collapsed": false,
     "input": [
      "%load_ext sqlitemagic"
     ],
     "language": "python",
     "metadata": {},
     "outputs": [],
     "prompt_number": 1
    },
    {
     "cell_type": "code",
     "collapsed": false,
     "input": [
      "%%sqlite survey.db\n",
      "select dated from Visited;"
     ],
     "language": "python",
     "metadata": {},
     "outputs": [
      {
       "html": [
        "<table>\n",
        "<tr><td>1927-02-08</td></tr>\n",
        "<tr><td>1927-02-10</td></tr>\n",
        "<tr><td>1939-01-07</td></tr>\n",
        "<tr><td>1930-01-12</td></tr>\n",
        "<tr><td>1930-02-26</td></tr>\n",
        "<tr><td>None</td></tr>\n",
        "<tr><td>1932-01-14</td></tr>\n",
        "<tr><td>1932-03-22</td></tr>\n",
        "</table>"
       ],
       "metadata": {},
       "output_type": "display_data",
       "text": [
        "<IPython.core.display.HTML at 0x1023c4110>"
       ]
      }
     ],
     "prompt_number": 2
    },
    {
     "cell_type": "markdown",
     "metadata": {},
     "source": [
      "\ud558\uc9c0\ub9cc \uc870\ud569\ud558\uae30 \uc704\ud574\uc11c\ub294 `min` \ud639\uc740 `max` \uac19\uc740 [\uc9d1\ud569 \ud568\uc218(aggregation function)](../../gloss.html#aggregation-function)\ub97c \uc0ac\uc6a9\ud574\uc57c\ub9cc \ud55c\ub2e4.\n",
      "\uac01 \ud568\uc218\ub294 \uc785\ub825\uc73c\ub85c \ub808\ucf54\ub4dc \uc9d1\ud569\uc744 \ubc1b\uace0 \ucd9c\ub825\uc73c\ub85c \ub2e8\uc77c \ub808\ucf54\ub4dc\ub97c \ub9cc\ub4e0\ub2e4."
     ]
    },
    {
     "cell_type": "code",
     "collapsed": false,
     "input": [
      "%%sqlite survey.db\n",
      "select min(dated) from Visited;"
     ],
     "language": "python",
     "metadata": {},
     "outputs": [
      {
       "html": [
        "<table>\n",
        "<tr><td>1927-02-08</td></tr>\n",
        "</table>"
       ],
       "metadata": {},
       "output_type": "display_data",
       "text": [
        "<IPython.core.display.HTML at 0x1023c4110>"
       ]
      }
     ],
     "prompt_number": 3
    },
    {
     "cell_type": "markdown",
     "metadata": {},
     "source": [
      "<img src=\"files/img/sql-aggregation.svg\" alt=\"SQL Aggregation\" />"
     ]
    },
    {
     "cell_type": "code",
     "collapsed": false,
     "input": [
      "%%sqlite survey.db\n",
      "select max(dated) from Visited;"
     ],
     "language": "python",
     "metadata": {},
     "outputs": [
      {
       "html": [
        "<table>\n",
        "<tr><td>1939-01-07</td></tr>\n",
        "</table>"
       ],
       "metadata": {},
       "output_type": "display_data",
       "text": [
        "<IPython.core.display.HTML at 0x1023c4190>"
       ]
      }
     ],
     "prompt_number": 4
    },
    {
     "cell_type": "markdown",
     "metadata": {},
     "source": [
      "`min`\uacfc `max`\ub294 SQL\uc5d0 \ub0b4\uc7a5\ub41c \ub2e8\uc9c0 \ub450\uac1c\uc758 \uc9d1\ud569 \ud568\uc218\ub2e4.\n",
      "\ub2e4\ub978 \uc138\uac1c\ub294 `avg`, `count`, `sum`\uc774 \uc788\ub2e4."
     ]
    },
    {
     "cell_type": "code",
     "collapsed": false,
     "input": [
      "%%sqlite survey.db\n",
      "select avg(reading) from Survey where quant='sal';"
     ],
     "language": "python",
     "metadata": {},
     "outputs": [
      {
       "html": [
        "<table>\n",
        "<tr><td>7.20333333333</td></tr>\n",
        "</table>"
       ],
       "metadata": {},
       "output_type": "display_data",
       "text": [
        "<IPython.core.display.HTML at 0x1023c37d0>"
       ]
      }
     ],
     "prompt_number": 5
    },
    {
     "cell_type": "code",
     "collapsed": false,
     "input": [
      "%%sqlite survey.db\n",
      "select count(reading) from Survey where quant='sal';"
     ],
     "language": "python",
     "metadata": {},
     "outputs": [
      {
       "html": [
        "<table>\n",
        "<tr><td>9</td></tr>\n",
        "</table>"
       ],
       "metadata": {},
       "output_type": "display_data",
       "text": [
        "<IPython.core.display.HTML at 0x1023c37d0>"
       ]
      }
     ],
     "prompt_number": 6
    },
    {
     "cell_type": "code",
     "collapsed": false,
     "input": [
      "%%sqlite survey.db\n",
      "select sum(reading) from Survey where quant='sal';"
     ],
     "language": "python",
     "metadata": {},
     "outputs": [
      {
       "html": [
        "<table>\n",
        "<tr><td>64.83</td></tr>\n",
        "</table>"
       ],
       "metadata": {},
       "output_type": "display_data",
       "text": [
        "<IPython.core.display.HTML at 0x1023c37d0>"
       ]
      }
     ],
     "prompt_number": 7
    },
    {
     "cell_type": "markdown",
     "metadata": {},
     "source": [
      "\uc5ec\uae30\uc11c `count(reading)`\uc744 \uc0ac\uc6a9\ud588\ub2e4. \ud558\uc9c0\ub9cc `quant`\ub97c \ub2e8\uc21c\ud788 \uc27d\uac8c \uc138\uac70\ub098 \ud14c\uc774\ube14\uc758 \ub2e4\ub978 \uc5b4\ub5a4 \ud544\ub4dc\ub3c4 \uc140 \uc218 \uc788\uace0 \uc2ec\uc9c0\uc5b4 `count(*)`\uc744 \uc0ac\uc6a9\ud558\uae30\ub3c4 \ud55c\ub2e4.\n",
      "\uc65c\ub0d0\ud558\uba74 `count()`\ud568\uc218\uac00 \uac12 \uc790\uccb4\ubcf4\ub2e4\ub294 \uc5bc\ub9c8\ub098 \ub9ce\uc740 \uac12\uc774 \uc788\ub294\uc9c0\uc5d0\ub9cc \uad00\uc2ec\uc744 \ub450\uae30 \ub54c\ubb38\uc774\ub2e4.\n",
      "\n",
      "SQL\uc774 \uc5ec\ub7ec\uac1c\uc758 \uc9d1\ud569\uc5f0\uc0b0\ub3c4 \ud55c\ubc88\uc5d0 \uc218\ud589\ud55c\ub2e4. \uc608\ub97c \ub4e4\uc5b4, \uc5fc\ubd84\uce21\uc815\uce58\uc758 \ubc94\uc704\ub3c4 \uc54c \uc218 \uc788\ub2e4."
     ]
    },
    {
     "cell_type": "code",
     "collapsed": false,
     "input": [
      "%%sqlite survey.db\n",
      "select min(reading), max(reading) from Survey where quant='sal' and reading<=1.0;"
     ],
     "language": "python",
     "metadata": {},
     "outputs": [
      {
       "html": [
        "<table>\n",
        "<tr><td>0.05</td><td>0.21</td></tr>\n",
        "</table>"
       ],
       "metadata": {},
       "output_type": "display_data",
       "text": [
        "<IPython.core.display.HTML at 0x1023c37d0>"
       ]
      }
     ],
     "prompt_number": 8
    },
    {
     "cell_type": "markdown",
     "metadata": {},
     "source": [
      "\ucd9c\ub825\uacb0\uacfc\uac00 \ub180\ub77c\uc6c0\uc744 \uc904 \uc218\ub3c4 \uc788\uc9c0\ub9cc, \uc6d0 \uacb0\uacfc\uac12\uacfc \uc9d1\ud569 \uacb0\uacfc\ub97c \uc870\ud569\ud560 \uc218\ub3c4 \uc788\ub2e4."
     ]
    },
    {
     "cell_type": "code",
     "collapsed": false,
     "input": [
      "%%sqlite survey.db\n",
      "select person, count(*) from Survey where quant='sal' and reading<=1.0;"
     ],
     "language": "python",
     "metadata": {},
     "outputs": [
      {
       "html": [
        "<table>\n",
        "<tr><td>lake</td><td>7</td></tr>\n",
        "</table>"
       ],
       "metadata": {},
       "output_type": "display_data",
       "text": [
        "<IPython.core.display.HTML at 0x1023c37d0>"
       ]
      }
     ],
     "prompt_number": 9
    },
    {
     "cell_type": "markdown",
     "metadata": {},
     "source": [
      "\uc65c Roerich \ud639\uc740 Dyer\uac00 \uc544\ub2cc Lake\uc758 \uc774\ub984\uc774 \ub098\ud0c0\ub0a0\uae4c\uc694?\n",
      "\ub2f5\uc740 \ud544\ub4dc\ub97c \uc9d1\ud569\ud558\uc9c0\ub9cc \uc5b4\ub5bb\uac8c \uc9d1\ud569\ud558\ub294\uc9c0 \ub9d0\uc744 \ud558\uc9c0 \uc54a\uae30 \ub54c\ubb38\uc5d0 \ub370\uc774\ud130\ubca0\uc774\uc2a4 \uad00\ub9ac\uc790\uac00 \uc785\ub825\uc5d0\uc11c \uc2e4\uc81c \uac12\uc744 \uace0\ub978\ub2e4.\n",
      "\ucc98\uc74c \ucc98\ub9ac\ub41c \uac83, \ub9c8\uc9c0\ub9c9\uc5d0 \ucc98\ub9ac\ub41c \uac83, \ud639\uc740 \uc644\uc804\ud788 \ub2e4\ub978 \ubb34\uc5b8\uac00\ub97c \uc0ac\uc6a9\ud560 \uc218\ub3c4 \uc788\ub2e4.\n",
      "\n",
      "\ub610\ub2e4\ub978 \uc911\uc694\ud55c \uc0ac\uc2e4\uc740 \uc9d1\ud569\ud560 \uc5b4\ub5a0\ud55c \uac12\ub3c4 \uc5c6\uc744 \ub54c, \uc9d1\ud569 \uacb0\uacfc\ub294 0 \ud639\uc740 \ub2e4\ub978 \uc784\uc758\uc758 \uac12 \ubcf4\ub2e4 \"\uc54c\uc9c0 \ubabb\ud55c\ub2e4(don't know)\"\uac00 \ub41c\ub2e4."
     ]
    },
    {
     "cell_type": "code",
     "collapsed": false,
     "input": [
      "%%sqlite survey.db\n",
      "select person, max(reading), sum(reading) from Survey where quant='missing';"
     ],
     "language": "python",
     "metadata": {},
     "outputs": [
      {
       "html": [
        "<table>\n",
        "<tr><td>None</td><td>None</td><td>None</td></tr>\n",
        "</table>"
       ],
       "metadata": {},
       "output_type": "display_data",
       "text": [
        "<IPython.core.display.HTML at 0x1023c37d0>"
       ]
      }
     ],
     "prompt_number": 10
    },
    {
     "cell_type": "markdown",
     "metadata": {},
     "source": [
      "\uc9d1\ud569 \ud568\uc218\uc758 \ub9c8\uc9c0\ub9c9 \uc911\uc694\ud55c \ud55c\uac00\uc9c0 \uae30\ub2a5\uc740 \ub9e4\uc6b0 \uc720\uc6a9\ud55c \ubc29\uc2dd\uc73c\ub85c \ub098\uba38\uc9c0 SQL\uacfc\ub294 \uc77c\uad00\ub418\uc9c0 \uc54a\ub2e4\ub294 \uac83\uc774\ub2e4.\n",
      "\ub9cc\uc57d \ub450 \uac12\uc744 \ub354\ud558\ub294\ub370 \uadf8\uc911 \ud558\ub098\uac00 `null`\uc774\uba74 \uacb0\uacfc\ub294 `null`\uc774\ub2e4.\n",
      "\ud655\uc7a5\ud574\uc11c, \ub9cc\uc57d \ud55c \uc9d1\ud569\uc758 \ubaa8\ub4e0 \uac12\uc744 \ub354\ud558\uae30 \uc704\ud574\uc11c `sum`\uc744 \uc0ac\uc6a9\ud558\uace0 \uc774\ub4e4 \uc911 \uc784\uc758\uc758 \uac12\uc774 `null`\uc774\uba74,\n",
      "\uacb0\uacfc\ub3c4 \ub610\ud55c `null`\uc774\uc5b4\uc57c \ud55c\ub2e4. \ud558\uc9c0\ub9cc \uc9d1\ud569\ud568\uc218\uac00 `null` \uac12\uc744 \ubb34\uc2dc\ud558\uace0 \ub2e8\uc9c0 `non-null` \uac12\ub9cc\uc744 \uc870\ud569\ud55c\ub2e4\uba74 \ud6e8\uc52c \ub354 \uc720\uc6a9\ud558\ub2e4.\n",
      "\uba85\uc2dc\uc801\uc73c\ub85c \ud56d\uc0c1 \ud544\ud130\ud574\uc57c\ud558\ub294 \ub300\uc2e0\uc5d0 \uc774\uac83\uc758 \uacb0\uacfc \ucffc\ub9ac\ub97c \ub2e4\uc74c\uacfc \uac19\uc774 \uc791\uc131\ud560 \uc218 \uc788\uac8c \ud55c\ub2e4."
     ]
    },
    {
     "cell_type": "code",
     "collapsed": false,
     "input": [
      "%%sqlite survey.db\n",
      "select min(dated) from Visited;"
     ],
     "language": "python",
     "metadata": {},
     "outputs": [
      {
       "html": [
        "<table>\n",
        "<tr><td>1927-02-08</td></tr>\n",
        "</table>"
       ],
       "metadata": {},
       "output_type": "display_data",
       "text": [
        "<IPython.core.display.HTML at 0x1023cbe90>"
       ]
      }
     ],
     "prompt_number": 11
    },
    {
     "cell_type": "markdown",
     "metadata": {},
     "source": [
      "\uba85\uc2dc\uc801\uc73c\ub85c \ud56d\uc0c1 \ub2e4\uc74c\uacfc \uac19\uc774 \ud544\ud130\ud558\ub294 \ucffc\ub9ac\ub97c \uc791\uc131\ud560 \ud544\uc694\uac00 \uc5c6\ub2e4."
     ]
    },
    {
     "cell_type": "code",
     "collapsed": false,
     "input": [
      "%%sqlite survey.db\n",
      "select min(dated) from Visited where dated is not null;"
     ],
     "language": "python",
     "metadata": {},
     "outputs": [
      {
       "html": [
        "<table>\n",
        "<tr><td>1927-02-08</td></tr>\n",
        "</table>"
       ],
       "metadata": {},
       "output_type": "display_data",
       "text": [
        "<IPython.core.display.HTML at 0x1023c9650>"
       ]
      }
     ],
     "prompt_number": 12
    },
    {
     "cell_type": "markdown",
     "metadata": {},
     "source": [
      "\ud55c\ubc88\uc5d0 \ubaa8\ub4e0 \ub808\ucf54\ub4dc\ub97c \uc9d1\ud569\ud558\ub294 \uac83\uc774 \ud56d\uc0c1 \ud0c0\ub2f9\ud558\uc9c0\ub294 \uc54a\ub2e4.\n",
      "\uc608\ub97c \ub4e4\uc5b4, Gina\uac00 \ub370\uc774\ud130\uc5d0 \uccb4\uacc4\uc801\uc778 \ud3b8\uc758(bias)\uac00 \uc788\uc5b4\uc11c \ub2e4\ub978 \uacfc\ud559\uc790\uc758 \ubc29\uc0ac\uc120 \uce21\uc815\uce58\uac00 \ub2e4\ub978 \uc0ac\ub78c\uc758 \uac83\uacfc \ube44\uad50\ud558\uc5ec \ub192\ub2e4\uace0 \uc758\uc2ec\ud55c\ub2e4\uace0 \uac00\uc815\ud558\uc790.\n",
      "\ub2e4\uc74c \ucffc\ub9ac\uac00 \uc758\ub3c4\ub97c \ubc18\uc601\ud558\uc5ec \ub3d9\uc791\ud558\uc9c0 \uc54a\ub294\ub2e4\ub294 \uac83\uc740 \uc54c\uace0 \uc788\ub2e4."
     ]
    },
    {
     "cell_type": "code",
     "collapsed": false,
     "input": [
      "%%sqlite survey.db\n",
      "select person, count(reading), round(avg(reading), 2)\n",
      "from  Survey\n",
      "where quant='rad';"
     ],
     "language": "python",
     "metadata": {},
     "outputs": [
      {
       "html": [
        "<table>\n",
        "<tr><td>roe</td><td>8</td><td>6.56</td></tr>\n",
        "</table>"
       ],
       "metadata": {},
       "output_type": "display_data",
       "text": [
        "<IPython.core.display.HTML at 0x1023c45d0>"
       ]
      }
     ],
     "prompt_number": 13
    },
    {
     "cell_type": "markdown",
     "metadata": {},
     "source": [
      "\uc65c\ub0d0\ud558\uba74 \ub370\uc774\ud130\ubca0\uc774\uc2a4 \uad00\ub9ac\uc790\uac00 \uac01 \uacfc\ud559\uc790\ubcc4\ub85c \uad6c\ubd84\ub41c \uc9d1\ud569\ud558\uae30 \ubcf4\ub2e4\ub294 \uc784\uc758\uc758 \ud55c\uba85\uc758 \uacfc\ud559\uc790 \uc774\ub984\ub9cc \uc120\ud0dd\ud558\uae30 \ub54c\ubb38\uc774\ub2e4.\n",
      "\ub2e8\uc9c0 5\uba85\uc758 \uacfc\ud559\uc790\ub9cc \uc788\uae30 \ub54c\ubb38\uc5d0, \ub2e4\uc74c\uacfc \uac19\uc740 \ud615\uc2dd\uc758 5\uac1c \ucffc\ub9ac\ub97c \uc791\uc131\ud560 \uc218 \uc788\ub2e4."
     ]
    },
    {
     "cell_type": "code",
     "collapsed": false,
     "input": [
      "%%sqlite survey.db\n",
      "select person, count(reading), round(avg(reading), 2)\n",
      "from  Survey\n",
      "where quant='rad'\n",
      "and   person='dyer';"
     ],
     "language": "python",
     "metadata": {},
     "outputs": [
      {
       "html": [
        "<table>\n",
        "<tr><td>dyer</td><td>2</td><td>8.81</td></tr>\n",
        "</table>"
       ],
       "metadata": {},
       "output_type": "display_data",
       "text": [
        "<IPython.core.display.HTML at 0x1023c4790>"
       ]
      }
     ],
     "prompt_number": 14
    },
    {
     "cell_type": "markdown",
     "metadata": {},
     "source": [
      "\ud558\uc9c0\ub9cc, \uc774\ub7ec\ud55c \uc811\uadfc\ubc95\uc740 \uc131\uac00\uc2dc\uace0, \ub9cc\uc57d 50\uba85 \ud639\uc740 500\uba85\uc758 \uacfc\ud559\uc790\ub97c \uac00\uc9c4 \ub370\uc774\ud130\uc14b\uc744 \ubd84\uc11d\ud55c\ub2e4\uba74,\n",
      "\ubaa8\ub4e0 \ucffc\ub9ac\ub97c \uc62c\ubc14\ub974\uac8c \uc791\uc131\ud560 \uac00\ub2a5\uc131\uc740 \uc791\ub2e4.\n",
      "\n",
      "\ud544\uc694\ud55c \uac83\uc740 \ub370\uc774\ud130\ubca0\uc774\uc2a4 \uad00\ub9ac\uc790\uac00 `group by`\uc808\uc744 \uc0ac\uc6a9\ud574\uc11c \uac01 \uacfc\ud559\uc790\ubcc4\ub85c \uc2dc\uac04\uc744 \uc9d1\ud569\ud558\ub3c4\ub85d \uc9c0\uc2dc\ud558\ub294 \uac83\uc774\ub2e4."
     ]
    },
    {
     "cell_type": "code",
     "collapsed": false,
     "input": [
      "%%sqlite survey.db\n",
      "select   person, count(reading), round(avg(reading), 2)\n",
      "from     Survey\n",
      "where    quant='rad'\n",
      "group by person;"
     ],
     "language": "python",
     "metadata": {},
     "outputs": [
      {
       "html": [
        "<table>\n",
        "<tr><td>dyer</td><td>2</td><td>8.81</td></tr>\n",
        "<tr><td>lake</td><td>2</td><td>1.82</td></tr>\n",
        "<tr><td>pb</td><td>3</td><td>6.66</td></tr>\n",
        "<tr><td>roe</td><td>1</td><td>11.25</td></tr>\n",
        "</table>"
       ],
       "metadata": {},
       "output_type": "display_data",
       "text": [
        "<IPython.core.display.HTML at 0x1023c4110>"
       ]
      }
     ],
     "prompt_number": 15
    },
    {
     "cell_type": "markdown",
     "metadata": {},
     "source": [
      "`group by`\ub294 \uc774\ub984\uc774 \uc758\ubbf8\ud558\ub294 \uac83\uacfc \ub3d9\uc77c\ud55c \uac83\uc744 \uc815\ud655\ud558\uac8c \uc218\ud589\ud55c\ub2e4.\n",
      "\uc9c0\uc815\ub41c \ud544\ub4dc\uc5d0 \ub3d9\uc77c\ud55c \uac12\uc744 \uac00\uc9c4 \ubaa8\ub4e0 \ub808\ucf54\ub4dc\ub97c \uadf8\ub8f9\uc73c\ub85c \ubb36\uc5b4\uc11c \uc9d1\ud569\uc744 \uac01 \ubc30\uce58\ubcc4\ub85c \ucc98\ub9ac\ud55c\ub2e4.\n",
      "\uac01 \ubc30\uce58\uc5d0 \ubaa8\ub4e0 \ub808\ucf54\ub4dc\ub294 `person`\uc5d0 \ub3d9\uc77c\ud55c \uac12\uc744 \uac00\uc9c0\uace0 \uc788\uae30 \ub54c\ubb38\uc5d0, \n",
      "\ub370\uc774\ud130\ubca0\uc774\uc2a4 \uad00\ub9ac\uc790\uac00 \uc784\uc758\uc758 \uac12\uc744 \uc7a1\uc544\uc11c \uc9d1\ud569\ub41c `reading` \uac12\uacfc \ud568\uaed8 \ud45c\uc2dc\ud558\ub294\uc9c0\ub294 \ub354 \uc774\uc0c1 \ubb38\uc81c\uac00 \ub418\uc9c0 \uc54a\ub294\ub2e4."
     ]
    },
    {
     "cell_type": "markdown",
     "metadata": {},
     "source": [
      "\ud55c\ubc88\uc5d0 \ub2e4\uc911 \uae30\uc900\uc73c\ub85c \uc815\ub82c\ud558\ub4ef\uc774 \ub2e4\uc911 \uae30\uc900\uc73c\ub85c \ubb36\uc5b4 \uadf8\ub8f9\ud654\ud560 \uc218 \uc788\ub2e4. \n",
      "\uc608\ub97c \ub4e4\uc5b4 \uacfc\ud559\uc790\uc640 \uce21\uc815 \uc218\ub7c9\uc5d0 \ub530\ub77c \ud3c9\uade0 \uce21\uc815\uac12\uc744 \uc5bb\uae30 \uc704\ud574\uc11c, \n",
      "`group by` \uc808\uc5d0 \ub610\ub2e4\ub978 \ud544\ub4dc\ub9cc \ucd94\uac00\ud55c\ub2e4."
     ]
    },
    {
     "cell_type": "code",
     "collapsed": false,
     "input": [
      "%%sqlite survey.db\n",
      "select   person, quant, count(reading), round(avg(reading), 2)\n",
      "from     Survey\n",
      "group by person, quant;"
     ],
     "language": "python",
     "metadata": {},
     "outputs": [
      {
       "html": [
        "<table>\n",
        "<tr><td>None</td><td>sal</td><td>1</td><td>0.06</td></tr>\n",
        "<tr><td>None</td><td>temp</td><td>1</td><td>-26.0</td></tr>\n",
        "<tr><td>dyer</td><td>rad</td><td>2</td><td>8.81</td></tr>\n",
        "<tr><td>dyer</td><td>sal</td><td>2</td><td>0.11</td></tr>\n",
        "<tr><td>lake</td><td>rad</td><td>2</td><td>1.82</td></tr>\n",
        "<tr><td>lake</td><td>sal</td><td>4</td><td>0.11</td></tr>\n",
        "<tr><td>lake</td><td>temp</td><td>1</td><td>-16.0</td></tr>\n",
        "<tr><td>pb</td><td>rad</td><td>3</td><td>6.66</td></tr>\n",
        "<tr><td>pb</td><td>temp</td><td>2</td><td>-20.0</td></tr>\n",
        "<tr><td>roe</td><td>rad</td><td>1</td><td>11.25</td></tr>\n",
        "<tr><td>roe</td><td>sal</td><td>2</td><td>32.05</td></tr>\n",
        "</table>"
       ],
       "metadata": {},
       "output_type": "display_data",
       "text": [
        "<IPython.core.display.HTML at 0x1023c45d0>"
       ]
      }
     ],
     "prompt_number": 16
    },
    {
     "cell_type": "markdown",
     "metadata": {},
     "source": [
      "\uadf8\ub807\uc9c0 \uc54a\uc73c\uba74 \uacb0\uacfc\uac00 \uc758\ubbf8\uac00 \uc5c6\uae30 \ub54c\ubb38\uc5d0, `person`\uc744 \ud45c\uc2dc\ub418\ub294 \ud544\ub4dc \ub9ac\uc2a4\ud2b8\uc5d0 \ucd94\uac00\ud55c \uac83\uc744 \uc8fc\ubaa9\ud558\ub77c.\n",
      "\n",
      "\ud55c\ub2e8\uacc4 \ub354\ub098\uc544\uac00 \ub204\uac00 \uce21\uc815\uc744 \ud588\ub294\uc9c0 \uc54c\uc9c0 \ubabb\ud558\ub294 \ubaa8\ub4e0 \ud56d\ubaa9\uc744 \uc81c\uac70\ud558\uc790."
     ]
    },
    {
     "cell_type": "code",
     "collapsed": false,
     "input": [
      "%%sqlite survey.db\n",
      "select   person, quant, count(reading), round(avg(reading), 2)\n",
      "from     Survey\n",
      "where    person is not null\n",
      "group by person, quant\n",
      "order by person, quant;"
     ],
     "language": "python",
     "metadata": {},
     "outputs": [
      {
       "html": [
        "<table>\n",
        "<tr><td>dyer</td><td>rad</td><td>2</td><td>8.81</td></tr>\n",
        "<tr><td>dyer</td><td>sal</td><td>2</td><td>0.11</td></tr>\n",
        "<tr><td>lake</td><td>rad</td><td>2</td><td>1.82</td></tr>\n",
        "<tr><td>lake</td><td>sal</td><td>4</td><td>0.11</td></tr>\n",
        "<tr><td>lake</td><td>temp</td><td>1</td><td>-16.0</td></tr>\n",
        "<tr><td>pb</td><td>rad</td><td>3</td><td>6.66</td></tr>\n",
        "<tr><td>pb</td><td>temp</td><td>2</td><td>-20.0</td></tr>\n",
        "<tr><td>roe</td><td>rad</td><td>1</td><td>11.25</td></tr>\n",
        "<tr><td>roe</td><td>sal</td><td>2</td><td>32.05</td></tr>\n",
        "</table>"
       ],
       "metadata": {},
       "output_type": "display_data",
       "text": [
        "<IPython.core.display.HTML at 0x1023c4790>"
       ]
      }
     ],
     "prompt_number": 17
    },
    {
     "cell_type": "markdown",
     "metadata": {},
     "source": [
      "\uc880\ub354 \uba74\ubc00\ud558\uac8c \uc0b4\ud3b4\ubcf4\uba74, \uc774 \ucffc\ub9ac\ub294,\n",
      "\n",
      "1.  `Survey`\ud14c\uc774\ube14\uc5d0\uc11c `person` \ud544\ub4dc\uac00 `null`\uc774 \uc544\ub2cc \ub808\ucf54\ub4dc\ub97c \uc120\ud0dd\ud55c\ub2e4.\n",
      "\n",
      "2.  \uc0c1\uae30 \ub808\ucf54\ub4dc\ub97c \ubd80\ubd84\uc9d1\ud569\uc73c\ub85c \uadf8\ub8f9\uc9c0\uc5b4\uc11c \uac01 \ubd80\ubd84\uc9d1\ud569\uc758 `person`\uacfc `quant`\uc758 \uac12\uc740 \uac19\ub2e4.\n",
      "    \n",
      "3.  \uba3c\uc800 `person`\uc73c\ub85c \ubd80\ubd84\uc9d1\ud569\uc744 \uc815\ub82c\ud558\uace0\ub098\uc11c `quant`\ub85c \uac01 \ud558\uc704 \uadf8\ub8f9\ub0b4\uc5d0\uc11c\ub3c4 \uc815\ub82c\ud55c\ub2e4.\n",
      "\n",
      "4.  \uac01 \ubd80\ubd84\uc9d1\ud569\uc758 \ub808\ucf54\ub4dc \uc22b\uc790\ub97c \uc138\uace0, \uac01\uac01 `reading` \ud3c9\uade0\uc744 \uacc4\uc0b0\ud558\uace0, \uac01\uac01 `person`\uacfc `quant` \uac12\uc744 \uc120\ud0dd\ud55c\ub2e4.\n",
      "    (\ubaa8\ub450 \ub3d9\ub4f1\ud558\uae30 \ub54c\ubb38\uc5d0 \uc5b4\ub290 \uac83\uc778\uc9c0\ub294 \ubb38\uc81c\uac00 \ub418\uc9c0 \uc54a\ub294\ub2e4.)"
     ]
    },
    {
     "cell_type": "markdown",
     "metadata": {},
     "source": [
      "#### \ub3c4\uc804 \uacfc\uc81c\n",
      "\n",
      "1.  Frank Pabodie\ub294 \uc5bc\ub9c8 \ub9ce\uc774 \uc628\ub3c4 \uce21\uc815\uce58\ub97c \uae30\ub85d\ud588\uace0 \ud3c9\uade0 \uac12\uc740 \uc5bc\ub9c8\uc778\uac00\uc694?\n",
      "\n",
      "2.  \uc9d1\ud569 \uac12\uc758 \ud3c9\uade0\uc740 \uac12\uc744 \ud569\ud55c \uac83\uc744 \uac12\uc758 \uac2f\uc218\ub85c \ub098\ub208 \uac83\uc774\ub2e4.\n",
      "    \uac12\uc774 1.0, `null`, 5.0 \uc73c\ub85c \uc8fc\uc5b4\uc84c\uc744 \ub54c, `avg` \ud568\uc218\ub294 2.0 \ud639\uc740 3.0\uc744 \ubc18\ud658\ud558\ub294 \uac83\uc744 \uc758\ubbf8\ud558\ub098\uc694?\n",
      "\n",
      "3.  \uac01 \uac1c\ubcc4 \ubc29\uc0ac\uc120 \uce21\uc815\uac12\uacfc \ud3c9\uade0\uac12 \uc0ac\uc774\uc758 \ucc28\uc774\ub97c \uacc4\uc0b0\ud558\uace0\uc790 \ud55c\ub2e4. \ucffc\ub9ac\ub97c \ub2e4\uc74c\uacfc \uac19\uc774 \uc791\uc131\ud55c\ub2e4.\n",
      "\n",
      "    ~~~\n",
      "    select reading - avg(reading) from Survey where quant='rad';\n",
      "    ~~~\n",
      "\n",
      "    \uc0c1\uae30 \ucffc\ub9ac\uac00 \ubb34\uc5c7\uc744 \ub9cc\ub4dc\ub098\uc694? \uadf8\ub9ac\uace0 \uc65c \uadf8\ub7f0\uac00\uc694?\n",
      "\n",
      "4.  `group_concat(field, separator)` \ud568\uc218\ub294 \uc9c0\uc815\ub41c \uad6c\ubd84 \ubb38\uc790(\ud639\uc740 \ub9cc\uc57d \uad6c\ubd84\uc790\uac00 \uc9c0\uc815\ub418\uc9c0 \uc54a\ub294\ub2e4\uba74 ',')\ub97c \uc0ac\uc6a9\ud558\uc5ec \ud544\ub4dc\uc758 \ubaa8\ub4e0 \uac12\uc744 \uacb0\ud569\ud55c\ub2e4.\n",
      "    \uc774 \ud568\uc218\ub974 \uc0ac\uc6a9\ud574\uc11c \uacfc\ud559\uc790\uc758 \uc774\ub984\uc744 \ud55c\uc904 \ub9ac\uc2a4\ud2b8\ub85c \ub2e4\uc74c\uacfc \uac19\uc774 \ub9cc\ub4dc\uc138\uc694.\n",
      "\n",
      "    ~~~\n",
      "    William Dyer, Frank Pabodie, Anderson Lake, Valentina Roerich, Frank Danforth\n",
      "    ~~~\n",
      "\n",
      "    \uc131\uc528(surname)\uc73c\ub85c \ub9ac\uc2a4\ud2b8\ub97c \uc815\ub82c\ud558\ub294 \ubc29\ubc95\uc744 \uc81c\uc2dc\ud560 \uc218 \uc788\ub098\uc694?"
     ]
    },
    {
     "cell_type": "markdown",
     "metadata": {
      "cell_tags": [
       "keypoints"
      ]
     },
     "source": [
      "#### \uc8fc\uc694\uc810\n",
      "\n",
      "*   \uc9d1\ud569 \ud568\uc218\ub294 \ub9ce\uc740 \uac12\uc744 \uc870\ud569\ud574\uc11c \ud558\ub098\uc758 \uc0c8\ub85c\uc6b4 \uac12\uc744 \ub9cc\ub4e0\ub2e4.\n",
      "*   \uc9d1\ud569 \ud568\uc218\ub294 `null` \uac12\uc744 \ubb34\uc2dc\ud55c\ub2e4.\n",
      "*   \ud544\ud130\ub9c1 \ub2e4\uc74c\uc5d0 \uc9d1\ud569\uc774 \uc77c\uc5b4\ub09c\ub2e4."
     ]
    },
    {
     "cell_type": "code",
     "collapsed": false,
     "input": [],
     "language": "python",
     "metadata": {},
     "outputs": []
    }
   ],
   "metadata": {}
  }
 ]
}