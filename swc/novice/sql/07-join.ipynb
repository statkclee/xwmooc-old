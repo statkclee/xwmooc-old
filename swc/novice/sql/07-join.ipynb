{
 "metadata": {
  "name": "07-join.ipynb"
 },
 "nbformat": 3,
 "nbformat_minor": 0,
 "worksheets": [
  {
   "cells": [
    {
     "cell_type": "heading",
     "level": 2,
     "metadata": {},
     "source": [
      "\ub370\uc774\ud130 \uc870\ud569\ud558\uae30 (Combining Data)"
     ]
    },
    {
     "cell_type": "markdown",
     "metadata": {
      "cell_tags": [
       "objectives"
      ]
     },
     "source": [
      "#### \ubaa9\ud45c\n",
      "\n",
      "*   \ub450 \ud14c\uc774\ube14\uc744 \uc870\uc778(join)\ud558\ub294 \ucffc\ub9ac \uc5f0\uc0b0\uc744 \uc124\uba85\ud55c\ub2e4.\n",
      "*   \uc758\ubbf8\uc788\ub294 \uac12\uc758 \uc870\ud569\ub9cc \ud3ec\ud568\ud558\uae30 \uc704\ud574\uc11c \uc870\uc778\ubb38\uc744 \ud3ec\ud568\ud558\ub294 \ucffc\ub9ac \uacb0\uacfc\ub97c \uc5b4\ub5bb\uac8c \uc81c\ud55c\ud558\ub294\uc9c0 \uc124\uba85\ud55c\ub2e4.\n",
      "*   \ub3d9\uc77c\ud55c \ud0a4\ub97c \uac16\ub294 \ud14c\uc774\ube14\uc744  \uc870\uc778\ud558\ub294 \ucffc\ub9ac\ub97c \uc791\uc131\ud55c\ub2e4.\n",
      "*   \uae30\ubcf8\ud0a4(primary key)\uc640 \uc678\ub798\ud0a4(foreign key)\uac00 \ubb34\uc5c7\uc778\uc9c0 \uadf8\ub9ac\uace0 \uc65c \uc720\uc6a9\ud55c\uc9c0 \uc124\uba85\ud55c\ub2e4.\n",
      "*   \uc6d0\uc790\uac12(atomic value)\uc774 \ubb34\uc5c7\uc774\uace0, \uc65c \ub370\uc774\ud130\ubca0\uc774\uc2a4 \ud544\ub4dc\ub294 \uc6d0\uc790\uac12\ub9cc \ud3ec\ud568\ud574\uc57c\ud558\ub294\uc9c0 \uc124\uba85\ud55c\ub2e4."
     ]
    },
    {
     "cell_type": "markdown",
     "metadata": {},
     "source": [
      "\uacfc\uac70 \uae30\uc0c1 \uc790\ub8cc\ub97c \uc9d1\uacc4\ud558\ub294 \uc6f9\uc0ac\uc774\ud2b8\uc5d0 \ub370\uc774\ud130\ub97c \uc81c\ucd9c\ud574\uc57c \ub418\uc5b4\uc11c, \n",
      "Gina\ub294 \uc704\ub3c4, \uacbd\ub3c4, \ub0a0\uc9dc, \uc218\ub7c9, \uce21\uc815\uac12 \ud615\uc2dd\uc73c\ub85c \uc790\ub8cc\ub97c \uccb4\uacc4\uc801\uc73c\ub85c \ub9cc\ub4e4 \ud544\uc694\uac00 \uc788\ub2e4.\n",
      "\ud558\uc9c0\ub9cc, \uc704\ub3c4\uc640 \uacbd\ub3c4 \uc815\ubcf4\ub294 `Site` \ud14c\uc774\ube14\uc5d0 \uc788\ub294 \ubc18\uba74\uc5d0 \uce21\uc815 \ub0a0\uc9dc \uc815\ubcf4\ub294 `Visited` \ud14c\uc774\ube14\uc5d0 \uc788\uace0,\n",
      "\uce21\uc815\uac12 \uc790\uccb4\ub294 `Survey` \ud14c\uc774\ube14\uc5d0 \uc788\ub2e4.\n",
      "\uc5b4\ub5a4 \ubc29\uc2dd\uc774\ub4e0\uc9c0 \uc0c1\uae30 \ud14c\uc774\ube14\uc744 \uc870\ud569\ud560 \ud544\uc694\uac00 \uc788\ub2e4.\n",
      "\n",
      "\uc774\ub7ec\ud55c \uc791\uc5c5\uc744 \ud558\ub294 SQL \uba85\ub839\uc5b4\uac00 `join`\uc774\ub2e4. \uc5b4\ub5bb\uac8c \ub3d9\uc791\ud558\ub294\uc9c0 \ud655\uc778\ud558\uae30 \uc704\ud574\uc11c,\n",
      "`Site`\uc640 `Visited` \ud14c\uc774\ube14\uc744 \uc870\uc778\ud558\uba74\uc11c \ucd9c\ubc1c\ud574\ubcf4\uc790."
     ]
    },
    {
     "cell_type": "code",
     "collapsed": false,
     "input": [
      "%load_ext sqlitemagic"
     ],
     "language": "python",
     "metadata": {},
     "outputs": [],
     "prompt_number": 1
    },
    {
     "cell_type": "code",
     "collapsed": false,
     "input": [
      "%%sqlite survey.db\n",
      "select * from Site join Visited;"
     ],
     "language": "python",
     "metadata": {},
     "outputs": [
      {
       "html": [
        "<table>\n",
        "<tr><td>DR-1</td><td>-49.85</td><td>-128.57</td><td>619</td><td>DR-1</td><td>1927-02-08</td></tr>\n",
        "<tr><td>DR-1</td><td>-49.85</td><td>-128.57</td><td>622</td><td>DR-1</td><td>1927-02-10</td></tr>\n",
        "<tr><td>DR-1</td><td>-49.85</td><td>-128.57</td><td>734</td><td>DR-3</td><td>1939-01-07</td></tr>\n",
        "<tr><td>DR-1</td><td>-49.85</td><td>-128.57</td><td>735</td><td>DR-3</td><td>1930-01-12</td></tr>\n",
        "<tr><td>DR-1</td><td>-49.85</td><td>-128.57</td><td>751</td><td>DR-3</td><td>1930-02-26</td></tr>\n",
        "<tr><td>DR-1</td><td>-49.85</td><td>-128.57</td><td>752</td><td>DR-3</td><td>None</td></tr>\n",
        "<tr><td>DR-1</td><td>-49.85</td><td>-128.57</td><td>837</td><td>MSK-4</td><td>1932-01-14</td></tr>\n",
        "<tr><td>DR-1</td><td>-49.85</td><td>-128.57</td><td>844</td><td>DR-1</td><td>1932-03-22</td></tr>\n",
        "<tr><td>DR-3</td><td>-47.15</td><td>-126.72</td><td>619</td><td>DR-1</td><td>1927-02-08</td></tr>\n",
        "<tr><td>DR-3</td><td>-47.15</td><td>-126.72</td><td>622</td><td>DR-1</td><td>1927-02-10</td></tr>\n",
        "<tr><td>DR-3</td><td>-47.15</td><td>-126.72</td><td>734</td><td>DR-3</td><td>1939-01-07</td></tr>\n",
        "<tr><td>DR-3</td><td>-47.15</td><td>-126.72</td><td>735</td><td>DR-3</td><td>1930-01-12</td></tr>\n",
        "<tr><td>DR-3</td><td>-47.15</td><td>-126.72</td><td>751</td><td>DR-3</td><td>1930-02-26</td></tr>\n",
        "<tr><td>DR-3</td><td>-47.15</td><td>-126.72</td><td>752</td><td>DR-3</td><td>None</td></tr>\n",
        "<tr><td>DR-3</td><td>-47.15</td><td>-126.72</td><td>837</td><td>MSK-4</td><td>1932-01-14</td></tr>\n",
        "<tr><td>DR-3</td><td>-47.15</td><td>-126.72</td><td>844</td><td>DR-1</td><td>1932-03-22</td></tr>\n",
        "<tr><td>MSK-4</td><td>-48.87</td><td>-123.4</td><td>619</td><td>DR-1</td><td>1927-02-08</td></tr>\n",
        "<tr><td>MSK-4</td><td>-48.87</td><td>-123.4</td><td>622</td><td>DR-1</td><td>1927-02-10</td></tr>\n",
        "<tr><td>MSK-4</td><td>-48.87</td><td>-123.4</td><td>734</td><td>DR-3</td><td>1939-01-07</td></tr>\n",
        "<tr><td>MSK-4</td><td>-48.87</td><td>-123.4</td><td>735</td><td>DR-3</td><td>1930-01-12</td></tr>\n",
        "<tr><td>MSK-4</td><td>-48.87</td><td>-123.4</td><td>751</td><td>DR-3</td><td>1930-02-26</td></tr>\n",
        "<tr><td>MSK-4</td><td>-48.87</td><td>-123.4</td><td>752</td><td>DR-3</td><td>None</td></tr>\n",
        "<tr><td>MSK-4</td><td>-48.87</td><td>-123.4</td><td>837</td><td>MSK-4</td><td>1932-01-14</td></tr>\n",
        "<tr><td>MSK-4</td><td>-48.87</td><td>-123.4</td><td>844</td><td>DR-1</td><td>1932-03-22</td></tr>\n",
        "</table>"
       ],
       "metadata": {},
       "output_type": "display_data",
       "text": [
        "<IPython.core.display.HTML at 0x1023c4550>"
       ]
      }
     ],
     "prompt_number": 2
    },
    {
     "cell_type": "markdown",
     "metadata": {},
     "source": [
      "`join`\uc740 \ub450 \ud14c\uc774\ube14\uc744 [\uc678\uc801(cross product)](../../gloss.html#cross-product)\ud55c\ub2e4.\n",
      "\uc989, \ubaa8\ub4e0 \uac00\ub2a5\ud55c \uc870\ud569\uc744 \ud45c\ud604\ud558\ub824\uace0 \ud55c \ud14c\uc774\ube14\uc758 \ub808\ucf54\ub4dc \uac01\uac01\ub9c8\ub2e4 \ub2e4\ub978 \ud14c\uc774\ube14\uc758 \uac01 \ub808\ucf54\ub4dc\uc640 \uc870\uc778\ud55c\ub2e4.\n",
      "`Site` \ud14c\uc774\ube14\uc5d0 3\uac1c \ub808\ucf54\ub4dc\uac00 \uc788\uace0, `Visited` \ud14c\uc774\ube14\uc5d0 8\uac1c \ub808\ucf54\ub4dc\uac00 \uc788\uc5b4\uc11c,\n",
      "\uc870\uc778\ub41c \uacb0\uacfc\ub294 24\uac1c \ub808\ucf54\ub4dc\uac00 \ub41c\ub2e4. \uadf8\ub9ac\uace0, \uac01 \ud14c\uc774\ube14\uc774 3\uac1c \ud544\ub4dc\uac00 \uc788\uc5b4\uc11c \ucd9c\ub825\uc740 6\uac1c\uc758 \ud544\ub4dc\uac00 \ub41c\ub2e4.\n",
      "\n",
      "\uc870\uc778\uc774 \uc218\ud589\ud558\uc9c0 *\uc54a\uc740* \uac83\uc740 \uc870\uc778\ub418\ub294 \ub808\ucf54\ub4dc\uac00 \uc11c\ub85c \uad00\uacc4\uac00 \uc788\ub294\uc9c0\ub97c \ud30c\uc545\ud558\ub294 \uac83\uc774\ub2e4.\n",
      "\uc5b4\ub5bb\uac8c \uc870\uc778\ud560\uc9c0 \uba85\uc2dc\ud560 \ub54c\uae4c\uc9c0 \ub808\ucf54\ub4dc\uac00 \uc11c\ub85c \uad00\uacc4\uac00 \uc788\ub294\uc9c0 \uc5c6\ub294\uc9c0 \uc54c \uc218 \uc788\ub294 \ubc29\ubc95\uc740 \uc5c6\ub2e4.\n",
      "\uc774\ub97c \uc704\ud574\uc11c \ub3d9\uc77c\ud55c \uc0ac\uc774\ud2b8 \uc774\ub984\uc744 \uac00\uc9c4 \uc870\ud569\uc5d0\ub9cc \uad00\uc2ec\uc788\ub2e4\ub294 \uac83\uc744 \uba85\uc2dc\ud558\ub294 \uc808(clause)\uc744 \ucd94\uac00\ud55c\ub2e4."
     ]
    },
    {
     "cell_type": "code",
     "collapsed": false,
     "input": [
      "%%sqlite survey.db\n",
      "select * from Site join Visited on Site.name=Visited.site;"
     ],
     "language": "python",
     "metadata": {},
     "outputs": [
      {
       "html": [
        "<table>\n",
        "<tr><td>DR-1</td><td>-49.85</td><td>-128.57</td><td>619</td><td>DR-1</td><td>1927-02-08</td></tr>\n",
        "<tr><td>DR-1</td><td>-49.85</td><td>-128.57</td><td>622</td><td>DR-1</td><td>1927-02-10</td></tr>\n",
        "<tr><td>DR-1</td><td>-49.85</td><td>-128.57</td><td>844</td><td>DR-1</td><td>1932-03-22</td></tr>\n",
        "<tr><td>DR-3</td><td>-47.15</td><td>-126.72</td><td>734</td><td>DR-3</td><td>1939-01-07</td></tr>\n",
        "<tr><td>DR-3</td><td>-47.15</td><td>-126.72</td><td>735</td><td>DR-3</td><td>1930-01-12</td></tr>\n",
        "<tr><td>DR-3</td><td>-47.15</td><td>-126.72</td><td>751</td><td>DR-3</td><td>1930-02-26</td></tr>\n",
        "<tr><td>DR-3</td><td>-47.15</td><td>-126.72</td><td>752</td><td>DR-3</td><td>None</td></tr>\n",
        "<tr><td>MSK-4</td><td>-48.87</td><td>-123.4</td><td>837</td><td>MSK-4</td><td>1932-01-14</td></tr>\n",
        "</table>"
       ],
       "metadata": {},
       "output_type": "display_data",
       "text": [
        "<IPython.core.display.HTML at 0x1023c4090>"
       ]
      }
     ],
     "prompt_number": 3
    },
    {
     "cell_type": "markdown",
     "metadata": {},
     "source": [
      "`on` \uc740  `where`\uc640 \uac19\uc740 \uc5ed\ud560\uc744 \ud55c\ub2e4. \ud2b9\uc815 \ud14c\uc2a4\ud2b8\ub97c \ud1b5\uacfc\ud55c \ub808\ucf54\ub4dc\ub9cc \uac04\uc9c1\ud55c\ub2e4.\n",
      "(`on`\uacfc `where`\uc758 \ucc28\uc774\uc810\uc740 `on`\uc740 \ub808\ucf54\ub4dc\uac00 \uc0dd\uc131\ub420 \ub54c \ub808\ucf54\ub4dc\ub97c \ud544\ud130\ub9c1\ud558\ub294 \ubc18\uba74\uc5d0, `where`\ub294 \uc870\uc778\uc791\uc5c5\uc774 \uc644\ub8cc\ub420 \ub54c\uae4c\uc9c0 \uae30\ub2e4\ub9ac\uace0 \ub09c \ub4a4\uc5d0 \ud544\ud130\ub9c1\uc744 \ud55c\ub2e4.)\n",
      "\ucffc\ub9ac\uc5d0 \ub808\ucf54\ub4dc\ub97c \ucd94\uac00\ud558\uc790 \ub9c8\uc790 \ub370\uc774\ud130\ubca0\uc774\uc2a4 \uad00\ub9ac\uc790\ub294 \ub450 \ub2e4\ub978 \uc0ac\uc774\ud2b8\uc5d0 \uad00\ud55c \uc870\ud569\ub41c \uc815\ubcf4\ub294 \uc0ac\uc6a9\ud55c \ub4a4\uc5d0 \ubc84\ub824\ubc84\ub9ac\uace0, \uc6d0\ud558\ub294 \ub808\ucf54\ub4dc\ub9cc \ub0a8\uaca8\ub454\ub2e4.\n",
      "\n",
      "\uc870\uc778 \uacb0\uacfc\uc5d0 \ud544\ub4dc\uc774\ub984\uc744 \uba85\uae30\ud558\uae30 \uc704\ud574\uc11c `table.field`\ub97c \uc0ac\uc6a9\ud55c \uac83\uc5d0 \uc8fc\ubaa9\ud558\uc138\uc694.\n",
      "\uc774\ub807\uac8c \ud558\ub294 \uc774\uc720\ub294 \ud14c\uc774\ube14\uc774 \ub3d9\uc77c\ud55c \uc774\ub984\uc744 \uac00\uc9c8 \uc218 \uc788\uace0 \uc5b4\ub290 \ud544\ub4dc\ub97c \uc5b8\uae09\ud558\ub294\uc9c0 \uc880\ub354 \uad6c\uccb4\uc131\uc744 \ub74c \ud544\uc694\uac00 \uc788\ub2e4.\n",
      "\uc608\ub97c \ub4e4\uc5b4, `person`\uacfc `visited` \ud14c\uc774\ube14\uc744 \uc870\uc778\ud55c\ub2e4\uba74, \uacb0\uacfc\ub294 \uac01\uac01\uc758 \uc6d0\ub798 \ud14c\uc774\ube14\uc5d0\uc11c `ident`\ub85c \ubd88\ub9ac\ub294 \ud544\ub4dc\ub97c \uc0c1\uc18d\ud55c\ub2e4.\n",
      "\n",
      "\uc774\uc81c\ub294 \uc870\uc778\uc5d0\uc11c \uc6d0\ud558\ub294 3\uac1c\uc758 \uce7c\ub7fc\uc744 \uc120\ud0dd\ud558\ub824\uace0 \uc810 \ud45c\uae30\ubc95(dotted notation)\uc744 \uc0ac\uc6a9\ud560 \uc218 \uc788\ub2e4."
     ]
    },
    {
     "cell_type": "code",
     "collapsed": false,
     "input": [
      "%%sqlite survey.db\n",
      "select Site.lat, Site.long, Visited.dated\n",
      "from   Site join Visited\n",
      "on     Site.name=Visited.site;"
     ],
     "language": "python",
     "metadata": {},
     "outputs": [
      {
       "html": [
        "<table>\n",
        "<tr><td>-49.85</td><td>-128.57</td><td>1927-02-08</td></tr>\n",
        "<tr><td>-49.85</td><td>-128.57</td><td>1927-02-10</td></tr>\n",
        "<tr><td>-49.85</td><td>-128.57</td><td>1932-03-22</td></tr>\n",
        "<tr><td>-47.15</td><td>-126.72</td><td>None</td></tr>\n",
        "<tr><td>-47.15</td><td>-126.72</td><td>1930-01-12</td></tr>\n",
        "<tr><td>-47.15</td><td>-126.72</td><td>1930-02-26</td></tr>\n",
        "<tr><td>-47.15</td><td>-126.72</td><td>1939-01-07</td></tr>\n",
        "<tr><td>-48.87</td><td>-123.4</td><td>1932-01-14</td></tr>\n",
        "</table>"
       ],
       "metadata": {},
       "output_type": "display_data",
       "text": [
        "<IPython.core.display.HTML at 0x1023c3890>"
       ]
      }
     ],
     "prompt_number": 4
    },
    {
     "cell_type": "markdown",
     "metadata": {},
     "source": [
      "\ub9cc\uc57d \ub450\uac1c\uc758 \ud14c\uc774\ube14\uc744 \uc870\uc778\ud558\ub294 \uac83\uc774 \uc88b\uc740 \uacbd\uc6b0\uc5d0, \ub9ce\uc740 \ub370\uc774\ube14\uc744 \uc870\uc778\ud558\ub294 \uac83\uc740 \ub354 \uc88b\uc544\uc57c\ud55c\ub2e4.\n",
      "\ub354 \ub9ce\uc740 `join` \uc808\uacfc \uc758\ubbf8\uc5c6\ub294 \ub808\ucf54\ub4dc \uc870\ud569\uc744 \ud544\ud130\ub9c1\ud574\uc11c \uc81c\uac70\ud558\ub294 \ub354 \ub9ce\uc740 `on` \ud14c\uc2a4\ud2b8\ub97c \ub2e8\uc21c\ud788 \ucd94\uac00\ud574\uc11c \uc0ac\uc2e4 \ucffc\ub9ac\uc5d0 \uc784\uc758 \uac2f\uc218\uc758 \ud14c\uc774\ube14\uc744 \uc870\uc778\ud560 \uc218 \uc788\ub2e4."
     ]
    },
    {
     "cell_type": "code",
     "collapsed": false,
     "input": [
      "%%sqlite survey.db\n",
      "select Site.lat, Site.long, Visited.dated, Survey.quant, Survey.reading\n",
      "from   Site join Visited join Survey\n",
      "on     Site.name=Visited.site\n",
      "and    Visited.ident=Survey.taken\n",
      "and    Visited.dated is not null;"
     ],
     "language": "python",
     "metadata": {},
     "outputs": [
      {
       "html": [
        "<table>\n",
        "<tr><td>-49.85</td><td>-128.57</td><td>1927-02-08</td><td>rad</td><td>9.82</td></tr>\n",
        "<tr><td>-49.85</td><td>-128.57</td><td>1927-02-08</td><td>sal</td><td>0.13</td></tr>\n",
        "<tr><td>-49.85</td><td>-128.57</td><td>1927-02-10</td><td>rad</td><td>7.8</td></tr>\n",
        "<tr><td>-49.85</td><td>-128.57</td><td>1927-02-10</td><td>sal</td><td>0.09</td></tr>\n",
        "<tr><td>-47.15</td><td>-126.72</td><td>1939-01-07</td><td>rad</td><td>8.41</td></tr>\n",
        "<tr><td>-47.15</td><td>-126.72</td><td>1939-01-07</td><td>sal</td><td>0.05</td></tr>\n",
        "<tr><td>-47.15</td><td>-126.72</td><td>1939-01-07</td><td>temp</td><td>-21.5</td></tr>\n",
        "<tr><td>-47.15</td><td>-126.72</td><td>1930-01-12</td><td>rad</td><td>7.22</td></tr>\n",
        "<tr><td>-47.15</td><td>-126.72</td><td>1930-01-12</td><td>sal</td><td>0.06</td></tr>\n",
        "<tr><td>-47.15</td><td>-126.72</td><td>1930-01-12</td><td>temp</td><td>-26.0</td></tr>\n",
        "<tr><td>-47.15</td><td>-126.72</td><td>1930-02-26</td><td>rad</td><td>4.35</td></tr>\n",
        "<tr><td>-47.15</td><td>-126.72</td><td>1930-02-26</td><td>sal</td><td>0.1</td></tr>\n",
        "<tr><td>-47.15</td><td>-126.72</td><td>1930-02-26</td><td>temp</td><td>-18.5</td></tr>\n",
        "<tr><td>-48.87</td><td>-123.4</td><td>1932-01-14</td><td>rad</td><td>1.46</td></tr>\n",
        "<tr><td>-48.87</td><td>-123.4</td><td>1932-01-14</td><td>sal</td><td>0.21</td></tr>\n",
        "<tr><td>-48.87</td><td>-123.4</td><td>1932-01-14</td><td>sal</td><td>22.5</td></tr>\n",
        "<tr><td>-49.85</td><td>-128.57</td><td>1932-03-22</td><td>rad</td><td>11.25</td></tr>\n",
        "</table>"
       ],
       "metadata": {},
       "output_type": "display_data",
       "text": [
        "<IPython.core.display.HTML at 0x1023c4550>"
       ]
      }
     ],
     "prompt_number": 5
    },
    {
     "cell_type": "markdown",
     "metadata": {},
     "source": [
      "`Site`, `Visited`, `Survey` \ud14c\uc774\ube14\uc758 \uc5b4\ub290 \ub808\ucf54\ub4dc\uac00 \uc11c\ub85c \ub300\uc751\ub418\uc9c0\ub294 \ubd84\uac04\ud560 \uc218 \uc788\ub294\ub370 \uc774\uc720\ub294 \uac01 \ud14c\uc774\ube14\uc774 \n",
      "[\uae30\ubcf8\ud0a4(primary keys)](../../gloss.html#primary-key)\uc640 [\uc678\ub798\ud0a4(foreign keys)](../../gloss.html#foreign-key)\ub97c \uac00\uc9c0\uace0 \uc788\uae30 \ub54c\ubb38\uc774\ub2e4..\n",
      "\uae30\ubcf8\ud0a4\ub294 \ud558\ub098\uc758 \uac12 \ud639\uc740 \uc5ec\ub7ec \uac12\uc758 \uc870\ud569\uc73c\ub85c \ud14c\uc774\ube14\uc758 \uac01 \ub808\ucf54\ub4dc\ub97c \uc720\uc77c\ud558\uac8c \uc2dd\ubcc4\ud55c\ub2e4.\n",
      "\uc678\ub798\ud0a4\ub294 \ub610 \ub2e4\ub978 \ud14c\uc774\ube14\uc5d0 \uc788\ub294 \uc720\uc77c\ud558\uac8c \ub808\ucf54\ub4dc\ub97c \uc2dd\ubcc4\ud558\ub294 \ud558\ub098\uc758 \uac12(\ud639\uc740 \uc5ec\ub7ec \uac12\uc758 \uc870\ud569)\uc774\ub2e4.\n",
      "\ub2e4\ub974\uac8c \ud45c\ud604\ud558\uba74, \uc678\ub798\uce90\ub294 \ub2e4\ub978 \ud14c\uc774\ube14\uc5d0 \uc874\uc7ac\ud558\ub294 \ud14c\uc774\ube14\uc758 \uae30\ubcf8\ud0a4\ub2e4.\n",
      "\uc608\uc81c \ub370\uc774\ud130\ubca0\uc774\uc2a4\uc5d0\uc11c `Person.ident`\ub294 `Person` \ud14c\uc774\ube14\uc758 \uae30\ubcf8\ud0a4\uc778 \ubc18\uba74\uc5d0,\n",
      "`Survey.person`\uc740 \uc678\ub798\ud0a4\ub85c `Survey` \ud14c\uc774\ube14\uc758 \ud56d\ubaa9\uacfc `Person` \ud14c\uc774\ube14\uc758 \ud56d\ubaa9\uc744 \uc5f0\uacb0\ud55c\ub2e4.\n",
      "\n",
      "\ub300\ubd80\ubd84\uc758 \ub370\uc774\ud130\ubca0\uc774\uc2a4 \ub514\uc790\uc774\ub108\ub294 \ubaa8\ub4e0 \ud14c\uc774\ube14\uc740 \uc798 \uc815\uc758\ub41c \uae30\ubcf8\ud0a4\uac00 \uc788\uc5b4\uc57c\ub41c\ub2e4\uace0 \ubbff\ub294\ub2e4.\n",
      "\ub610\ud55c \uc774 \ud0a4\ub294 \ub370\uc774\ud130\uc640 \ub5a8\uc5b4\uc838\uc11c \ub9cc\uc57d \ub370\uc774\ud130\ub97c \ubcc0\uacbd\ud560 \ud544\uc694\uac00 \uc788\ub2e4\uba74, \ud55c \uacf3\uc758 \ubcc0\uacbd\uc774 \ud55c \uacf3\uc5d0\ub9cc \ubcc0\uacbd\uc744 \ub9cc\ub4e4\uc5b4\uc57c\ub9cc \ud55c\ub2e4.\n",
      "\uc774\ub97c \uc704\ud55c \uc26c\uc6b4 \ubc29\ubc95\uc740 \ub370\uc774\ud130\ubca0\uc774\uc2a4\uc5d0 \ub808\ucf54\ub4dc\ub97c \ucd94\uac00\ud560 \ub54c \uc784\uc758\uc758 \uc720\uc77c\ud55c ID\ub97c \uac01 \ub808\ucf54\ub4dc\ub9c8\ub2e4 \ucd94\uac00\ud558\ub294 \uac83\uc774\ub2e4.\n",
      "\uc2e4\uc81c\ub85c \uc774\ubc29\ubc95\uc740 \ub9e4\uc6b0 \ud754\ud558\uac8c \uc0ac\uc6a9\ub41c\ub2e4. \"student numbers\", \"patient numbers\" \uac19\uc740 \uc774\ub984\uc744 ID\ub85c \uc0ac\uc6a9\ud558\uace0,\n",
      "\uba87\uba87 \ub370\uc774\ud130\ubca0\uc774\uc2a4 \uc2dc\uc2a4\ud15c \ud639\uc740 \ub2e4\ub978 \uacf3\uc5d0\uc11c \uc6d0\ub798 \uace0\uc720 \ub808\ucf54\ub4dc \uc2dd\ubcc4\uc790\ub85c \uac70\uc758 \ud56d\uc0c1 \ud310\uba85\ub41c\ub2e4.\n",
      "\ub2e4\uc74c \ucffc\ub9ac\uac00 \uc2dc\ubc94\uc73c\ub85c \ubcf4\uc5ec\uc8fc\ub4ef\uc774, \ud14c\uc774\ube14\uc5d0 \ub808\ucf54\ub4dc\uac00 \ucd94\uac00\ub428\uc5d0 \ub530\ub77c SQLite\ub294 \uc790\ub3d9\uc73c\ub85c \ub808\ucf54\ub4dc\uc5d0 \uc22b\uc790\ub97c \ubd99\uc774\uace0, \ucffc\ub9ac\uc5d0\uc11c \uc774\ub807\uac8c \ubd99\uc5ec\uc9c4 \ub808\ucf54\ub4dc \uc22b\uc790\ub97c \uc0ac\uc6a9\ud55c\ub2e4."
     ]
    },
    {
     "cell_type": "code",
     "collapsed": false,
     "input": [
      "%%sqlite survey.db\n",
      "select rowid, * from Person;"
     ],
     "language": "python",
     "metadata": {},
     "outputs": [
      {
       "html": [
        "<table>\n",
        "<tr><td>1</td><td>dyer</td><td>William</td><td>Dyer</td></tr>\n",
        "<tr><td>2</td><td>pb</td><td>Frank</td><td>Pabodie</td></tr>\n",
        "<tr><td>3</td><td>lake</td><td>Anderson</td><td>Lake</td></tr>\n",
        "<tr><td>4</td><td>roe</td><td>Valentina</td><td>Roerich</td></tr>\n",
        "<tr><td>5</td><td>danforth</td><td>Frank</td><td>Danforth</td></tr>\n",
        "</table>"
       ],
       "metadata": {},
       "output_type": "display_data",
       "text": [
        "<IPython.core.display.HTML at 0x1023c4550>"
       ]
      }
     ],
     "prompt_number": 6
    },
    {
     "cell_type": "heading",
     "level": 3,
     "metadata": {},
     "source": [
      "\ub370\uc774\ud130 \uc704\uc0dd (Data Hygiene)"
     ]
    },
    {
     "cell_type": "markdown",
     "metadata": {},
     "source": [
      "\uc9c0\uae08\uae4c\uc9c0 \uc870\uc778\uc774 \uc5b4\ub5bb\uac8c \ub3d9\uc791\ud558\ub294\uc9c0 \uc0b4\ud3b4\ubd24\uc73c\ub2c8, \uc65c \uad00\uacc4\ud615 \ubaa8\ub378\uc774 \uadf8\ub807\uac8c \uc720\uc6a9\ud55c\uc9c0 \uadf8\ub9ac\uace0 \uc5b4\ub5bb\uac8c \uac00\uc7a5 \uc798 \uc0ac\uc6a9\ud560 \uc218 \uc788\ub294\uc9c0 \uc0b4\ud3b4\ubcf4\uc790.\n",
      "\uccab\ubc88\uc9f8 \uaddc\uce59\uc740 \ubaa8\ub4e0 \uac12\uc740 \ub3c5\ub9bd \uc694\uc18c\ub85c \ubd84\ud574\ub420 \uc218 \uc5c6\ub294 [\uc6d0\uc790(atomic)](../../gloss.html#atomic-value)\uc801 \uc18d\uc131\uc744 \uc9c0\ub140\uc57c \ud55c\ub2e4.\n",
      "\uc989, \uad6c\ubcc4\ud574\uc11c \uc791\uc5c5\ud558\uace0\uc790 \ud558\ub294 \ubd80\ubd84\uc744 \ud3ec\ud568\ud574\uc11c\ub294 \uc548\ub41c\ub2e4. \ud558\ub098\uc758 \uce7c\ub7fc\uc5d0 \uc804\uccb4 \uc774\ub984\uc744 \ub123\ub294 \ub300\uc2e0\uc5d0\n",
      "\ubcc4\ub3c4\ub85c \uad6c\ubcc4\ub418\ub294 \uce7c\ub7fc\uc5d0 \uc774\ub984\uacfc \uc131\uc744 \uc800\uc7a5\ud574\uc11c \uc774\ub984 \ucef4\ud3ec\ub10c\ud2b8\ub97c \ubf51\uc544\ub0b4\ub294 \ubd80\ubd84 \ubb38\uc790\uc5f4 \uc5f0\uc0b0(substring operation)\uc744 \uc0ac\uc6a9\ud560 \ud544\uc694\uac00 \uc5c6\ub2e4.\n",
      "\uc880\ub354 \uc911\uc694\ud558\uac8c\ub294, \ubcc4\ub3c4\ub85c \uc774\ub984\uc744 \ub450 \ubd80\ubd84\uc73c\ub85c \uc800\uc7a5\ud55c\ub2e4. \uc65c\ub0d0\ud558\uba74, \uacf5\ubc31\uc73c\ub85c \ucabc\uac1c\ub294 \uac83\uc740 \uc2e0\ub8b0\uc131\uc774 \uc57d\ud558\ub2e4.\n",
      "\"Eloise St. Cyr\" \ud639\uc740 \"Jan Mikkel Steubart\" \uac19\uc740 \uc774\ub984\uc744 \uc0dd\uac01\ud558\uba74 \uc27d\uac8c \uc54c \uc218 \uc788\ub2e4.\n",
      "\n",
      "\ub450\ubc88\uc9f8 \uaddc\uce59\uc740 \ubaa8\ub4e0 \ub808\ucf54\ub4dc\ub294 \uc720\uc77c\ud55c \uae30\ubcf8\ud0a4\ub97c \uac00\uc838\uc57c\ud55c\ub2e4. \ub0b4\uc7ac\uc801\uc778 \uc758\ubbf8\uac00 \uc804\ud600\uc5c6\ub294 \uc77c\ub828\ubc88\ud638\uac00 \ub420 \uc218 \uc788\uace0, \ub808\ucf54\ub4dc\uc758 \uac12\uc911\uc758 \ud558\ub098 \n",
      "(`Person` \ud14c\uc774\ube14\uc758 `ident` \ud544\ub4dc), \ud639\uc740 `Survey` \ud14c\uc774\ube14\uc5d0\uc11c \uc2ec\uc9c0\uc5b4 \ubaa8\ub4e0 \uce21\uc815\uac12\uc744 \uc720\uc77c\ud558\uac8c \uc2dd\ubcc4\ud558\ub294 `(taken, person, quant)` \uc0bc\uc911\uac12\uc758 \uc870\ud569\ub3c4 \ub420 \uc218 \uc788\ub2e4. \n",
      "\n",
      "\uc138\ubc88\uc9f8 \uaddc\uce59\uc740 \ubd88\ud544\uc694\ud55c \uc815\ubcf4\uac00 \uc5c6\uc5b4\uc57c \ud55c\ub2e4. \uc608\ub97c \ub4e4\uc5b4, `Site`\ud14c\uc774\ube14\uc744 \uc81c\uac70\ud558\uace0 \ub2e4\uc74c\uacfc \uac19\uc774 `Visited` \ud14c\uc774\ube14\uc744 \ub2e4\uc2dc \uc791\uc131\ud560 \uc218 \uc788\ub2e4.\n",
      "\n",
      "<table>\n",
      "  <tr> <td>619</td> <td>-49.85</td> <td>-128.57</td> <td>1927-02-08</td> </tr>\n",
      "  <tr> <td>622</td> <td>-49.85</td> <td>-128.57</td> <td>1927-02-10</td> </tr>\n",
      "  <tr> <td>734</td> <td>-47.15</td> <td>-126.72</td> <td>1939-01-07</td> </tr>\n",
      "  <tr> <td>735</td> <td>-47.15</td> <td>-126.72</td> <td>1930-01-12</td> </tr>\n",
      "  <tr> <td>751</td> <td>-47.15</td> <td>-126.72</td> <td>1930-02-26</td> </tr>\n",
      "  <tr> <td>752</td> <td>-47.15</td> <td>-126.72</td> <td>null</td> </tr>\n",
      "  <tr> <td>837</td> <td>-48.87</td> <td>-123.40</td> <td>1932-01-14</td> </tr>\n",
      "  <tr> <td>844</td> <td>-49.85</td> <td>-128.57</td> <td>1932-03-22</td> </tr>\n",
      "</table>\n",
      "\n",
      "\uc0ac\uc2e4, \uc2a4\ud504\ub808\ub4dc\uc26c\ud2b8\uc640 \ub9c8\ucc2c\uac00\uc9c0\ub85c \uac01 \ud589\uc5d0 \uac01 \uce21\uc815\uac12\uc5d0 \uad00\ud55c \ubaa8\ub4e0 \uc815\ubcf4\ub97c \uae30\ub85d\ud558\ub294 \ud558\ub098\uc758 \ud14c\uc774\ube14\uc744 \uc0ac\uc6a9\ud560 \uc218\ub3c4 \uc788\ub2e4.\n",
      "\ubb38\uc81c\ub294 \uc774\uc640 \uac19\uc740 \ubc29\uc2dd\uc73c\ub85c \uc870\uc9c1\ub41c \ub370\uc774\ud130\ub97c \uc77c\uad00\uc131\uc788\uac8c \uad00\ub9ac\ud558\ub294 \uac83\uc740 \ub9e4\uc6b0 \uc5b4\ub835\ub2e4.\n",
      "\ub9cc\uc57d \ud2b9\uc815\ud55c \uc0ac\uc774\ud2b8\uc758 \ud2b9\uc815\ud55c \ubc29\ubb38 \ub0a0\uc9dc\uac00 \uc798\ubabb\ub41c\ub2e4\uba74, \ub370\uc774\ud130\ubca0\uc774\uc2a4\uc5d0 \ub2e4\uc218\uc758 \ub808\ucf54\ub4dc\ub97c \ubcc0\uacbd\ud574\uc57c\ud55c\ub2e4.\n",
      "\ub354 \uc548\uc88b\uc740 \uac83\uc740 \ub2e4\ub978 \uc0ac\uc774\ud2b8\ub3c4 \uadf8 \ub0a0\uc9dc\uc5d0 \ubc29\ubb38\ub418\uc5c8\uae30 \ub54c\ubb38\uc5d0 \uc5b4\ub290 \ub808\ucf54\ub4dc\ub97c \ubcc0\uacbd\ud560\uc9c0 \ucd94\uc815\ud574\uc57c\ud558\ub294 \uac83\uc774\ub2e4.\n",
      "\n",
      "\ub124\ubc88\uc9f8 \uaddc\uce59\uc740 \ubaa8\ub4e0 \uac12\uc758 \ub2e8\uc704\ub294 \uba85\uc2dc\uc801\uc73c\ub85c \uc800\uc7a5\ub418\uc5b4\uc57c\ud55c\ub2e4. \uc608\uc81c \ub370\uc774\ud130\ubca0\uc774\uc2a4\ub294 \uadf8\ub807\uc9c0 \ubabb\ud574\uc11c \ubb38\uc81c\ub2e4.\n",
      "\n",
      "Roerich\uc758 \uc5fc\ubd84\uce58\ub294 \ub2e4\ub978 \uc0ac\ub78c\uc758 \uce21\uc815\uce58\ubcf4\ub2e4 \uc218\ucc9c\ubc30 \ud06c\ub2e4. \ud558\uc9c0\ub9cc, \ucc9c\ub2e8\uc704 \ub300\uc2e0\uc5d0 \ubc31\ub9cc \ub2e8\uc704\ub97c \uc0ac\uc6a9\ud558\uace0 \uc788\ub294\uc9c0 \ud639\uc740 1932\ub144\n",
      "\uadf8 \uc0ac\uc774\ud2b8\uc5d0 \uc5fc\ubd84\uc5d0 \uc774\uc0c1 \uc2e4\uc81c\ub85c \uc788\uc5c8\ub294\uc9c0 \uc54c\uc9c0\ubabb\ud55c\ub2e4.\n",
      "\n",
      "\ud55c\uac78\uc74c \ubb3c\ub7ec\ub098\uc11c \uc0dd\uac01\ud558\uc790, \ub370\uc774\ud130\uc640 \uc800\uc7a5\ud558\ub294\ub370 \uc0ac\uc6a9\ub418\ub294 \ub3c4\uad6c\ub294 \uacf5\uc0dd\uad00\uacc4\ub2e4. \ud14c\uc774\ube14\uacfc \uc870\uc778\uc740 \ub370\uc774\ud130\uac00 \ud2b9\uc815 \ubc29\uc2dd\uc73c\ub85c \uc798 \uc870\uc9c1\ub418\uc5c8\ub2e4\uba74 \ub9e4\uc6b0 \ud6a8\uacfc\uc801\uc774\ub2e4.\n",
      "\ud558\uc9c0\ub9cc, \ub9cc\uc57d \ud2b9\uc815 \ud615\ud0dc\ub85c \ub418\uc5b4 \uc788\ub2e4\uba74 \ud6a8\uacfc\uc801\uc73c\ub85c \ub2e4\ub8f0 \uc218 \uc788\ub294 \ub3c4\uad6c\uac00 \uc788\uae30 \ub54c\ubb38\uc5d0 \ub370\uc774\ud130\ub97c \uadf8\uc640 \uac19\uc740 \ubc29\uc2dd\uc73c\ub85c \uc870\uc9c1\ud558\uae30\ub3c4 \ud55c\ub2e4.\n",
      "\uc778\ub958\ud559\uc790\uac00 \ub9d0\ud588\ub4ef\uc774, \ub3c4\uad6c\ub294 \ub3c4\uad6c\ub97c \ub9cc\ub4dc\ub294 \uc190\uc744 \ub9cc\ub4e0\ub2e4. (the tool shapes the hand that shapes the tool)"
     ]
    },
    {
     "cell_type": "markdown",
     "metadata": {},
     "source": [
      "#### \ub3c4\uc804 \uacfc\uc81c\n",
      "\n",
      "1.  DR-1 \uc0ac\uc774\ud2b8\uc758 \ubaa8\ub4e0 \ubc29\uc0ac\uc120 \uce21\uc815\uce58\ub97c \ucd9c\ub825\ud558\ub294 \ucffc\ub9ac\ub97c \uc791\uc131\ud558\uc138\uc694.\n",
      "\n",
      "2.  \"Frank\" \uac00 \ubc29\ubb38\ud55c \ubaa8\ub4e0 \uc0ac\uc774\ud2b8\ub97c \ucd9c\ub825\ud558\ub294 \ucffc\ub9ac\ub97c \uc791\uc131\ud558\uc138\uc694.\n",
      "\n",
      "3.  \ub2e4\uc74c \ucffc\ub9ac\uac00 \ubb34\uc2a8 \uacb0\uacfc\ub97c \uc0b0\ucd9c\ud558\ub294\uc9c0 \ub9d0\ub85c \uae30\uc220\ud558\uc138\uc694.\n",
      "\n",
      "    ~~~\n",
      "    select Site.name from Site join Visited\n",
      "    on Site.lat<-49.0 and Site.name=Visited.site and Visited.dated>='1932-00-00';\n",
      "    ~~~"
     ]
    },
    {
     "cell_type": "markdown",
     "metadata": {
      "cell_tags": [
       "keypoints"
      ]
     },
     "source": [
      "#### \uc8fc\uc694\uc810\n",
      "\n",
      "*   \ubaa8\ub4e0 \uc0ac\uc2e4\uc740 \ub370\uc774\ud130\ubca0\uc774\uc2a4\uc5d0\uc11c \uc815\ud655\ud558\uac8c \ud55c\ubc88\ub9cc \ud45c\ud604\ub418\uc5b4\uc57c \ud55c\ub2e4.\n",
      "*   \uc870\uc778\uc740 \ud55c \ud14c\uc774\ube14\uc758 \ub808\ucf54\ub4dc\uc640 \ub2e4\ub978 \ud14c\uc774\ube14\uc758 \ub808\ucf54\ub4dc\ub97c \ubaa8\ub450 \uc870\ud569\ud55c \uacb0\uacfc\ub97c \ucd9c\ub825\ud55c\ub2e4.\n",
      "*   \uae30\ubcf8\ud0a4\ub294 \ud14c\uc774\ube14\uc758 \ub808\ucf54\ub4dc\ub97c \uc720\uc77c\ud558\uac8c \uc2dd\ubcc4\ud558\ub294 \ud544\ub4dc\uac12(\ud639\uc740 \ud544\ub4dc\uc758 \uc9d1\ud569)\uc774\ub2e4.\n",
      "*   \uc678\ub798\ud0a4\ub294 \ub610 \ub2e4\ub978 \ud14c\uc774\ube14\uc758 \uae30\ubcf8\ud0a4\uac00\ub418\ub294 \ud544\ub4dc\uac12(\ud639\uc740 \ud544\ub4dc\uc758 \uc9d1\ud569)\uc774\ub2e4.\n",
      "*   \ud14c\uc774\ube14\uc0ac\uc774\uc5d0 \uae30\ubcf8\ud0a4\uc640 \uc678\ub798\ud0a4\ub97c \ub9e4\uce6d\ud574\uc11c \uc758\ubbf8\uc5c6\ub294 \ub808\ucf54\ub4dc\uc758 \uc870\ud569\uc744 \uc81c\uac70\ud560 \uc218 \uc788\ub2e4.\n",
      "*   \uc870\uc778\uc744 \uc880\ub354 \ub2e8\uc21c\ud558\uace0 \ud6a8\uc728\uc801\uc73c\ub85c \ub9cc\ub4e4\uae30 \uc704\ud574\uc11c \ud0a4(key)\ub294 \uc6d0\uc790\uac12(atomic value)\uc774 \ub418\uc5b4\uc57c \ud55c\ub2e4."
     ]
    },
    {
     "cell_type": "code",
     "collapsed": false,
     "input": [],
     "language": "python",
     "metadata": {},
     "outputs": []
    }
   ],
   "metadata": {}
  }
 ]
}